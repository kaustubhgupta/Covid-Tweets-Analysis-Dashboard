{
 "cells": [
  {
   "cell_type": "code",
   "execution_count": 1,
   "metadata": {},
   "outputs": [],
   "source": [
    "from ipywidgets import interact, fixed\n",
    "from textblob import TextBlob\n",
    "from wordcloud import WordCloud\n",
    "from PIL import Image\n",
    "from nltk.corpus import stopwords\n",
    "from nltk.tokenize import word_tokenize\n",
    "import numpy as np\n",
    "import pandas as pd\n",
    "import itertools\n",
    "import ipywidgets as widgets\n",
    "import matplotlib.pyplot as plt\n",
    "import plotly.express as px\n",
    "import plotly.graph_objects as go\n",
    "import string"
   ]
  },
  {
   "cell_type": "code",
   "execution_count": 2,
   "metadata": {},
   "outputs": [],
   "source": [
    "df = pd.read_csv('cleaned_data.csv', parse_dates=True, index_col='created_at')"
   ]
  },
  {
   "cell_type": "markdown",
   "metadata": {},
   "source": [
    "<center>\n",
    "<div style = 'background-color: #504e4e; padding: 30px '>\n",
    "    <span style='font-size:18px;'>\n",
    "    This is a detailed analysis of Tweets made during the 25th March, 2020 and 7th May, 2020 on Twitter that are related to Coronavirus, contain the hashtag or text containing covid keywords. The dataset is provided by <a href=\"https://www.linkedin.com/company/spotleai/\">Spotle</a>, which is a leading career platform for students and recent grads. The dataset is available on their protal and can be accessed via <a href=\"https://spotle.ai/project/COVID19-Twitter-Data-Analysis/5592/10079\">this link.</a> Kaustubh's <a href=\"https://github.com/kaustubhgupta\">GitHub</a> and <a href=\"https://www.linkedin.com/in/kaustubh-gupta\">Linkedin</a>.\n",
    "    </span>\n",
    "    </div>\n",
    "    </center>"
   ]
  },
  {
   "cell_type": "markdown",
   "metadata": {},
   "source": [
    "<img src=\"./image/banner.png\" width=100%>"
   ]
  },
  {
   "cell_type": "markdown",
   "metadata": {},
   "source": [
    "# Table of Contents"
   ]
  },
  {
   "cell_type": "markdown",
   "metadata": {},
   "source": [
    "<div style = 'background-color: #504e4e; padding: 30px'>\n",
    "    <span style='font-size:18px;'>\n",
    "        <ol>\n",
    "            <li><a href=\"#Overview-of-Dataset\">Overview of Dataset</a></li>\n",
    "            <li><a href=\"#Preprocessing-Steps\">Preprocessing Steps</a></li>\n",
    "                <ol>\n",
    "                    <li><a href=\"#Dropping-Non-useful-columns\">Dropping Non-useful columns</a></li>\n",
    "                    <li><a href=\"#Time-Zone-Conversion\">Time Zone Conversion</a></li>\n",
    "                    <li><a href=\"#Cleaning-the-Tweet-Text-and-User-Description\">Cleaning the Tweet Text and User Description</a></li>\n",
    "                    <li><a href=\"#Tweet-Sentiment-Detection\">Tweet Sentiment Detection</a></li>\n",
    "                </ol>\n",
    "            <li><a href=\"#Different-Analysis/Results\">Different Analysis/Results</a></li>\n",
    "                <ol>\n",
    "                    <li><a href=\"#Overall-WeekDays-Distribution\">Overall WeekDays Distribution</a></li>\n",
    "                    <li><a href=\"#Monthly-Distribution\">Monthly Distribution</a></li>\n",
    "                        <ol>\n",
    "                            <li><a href=\"#March-Day-Distribution\">March Day Distribution</a></li>\n",
    "                            <li><a href=\"#April-Day-Distribution\">April Day Distribution</a></li>\n",
    "                            <li><a href=\"#May-Day-Distribution\">May Day Distribution</a></li>                   \n",
    "                        </ol>\n",
    "                    <li><a href=\"#Hourly-Distribution\">Hourly Distribution</a></li>\n",
    "                    <li><a href=\"#Top-Hashtags-in-Tweets\">Top Hashtags in Tweets</a></li>\n",
    "                    <li><a href=\"#Top-Places-From-Where-Tweets-were-made\">Top Places From Where Tweets were made</a></li>\n",
    "                    <li><a href=\"#Places-on-Map-of-India\">Places on Map of India</a></li>\n",
    "                    <li><a href=\"#Most-Tagged-Person-in-Tweets\">Most Tagged Person in Tweets</a></li>\n",
    "                    <li><a href=\"#Trending-Hashtags-of-Every-Place\">Trending Hashtags of Every Place</a></li>\n",
    "                    <li><a href=\"#Most-Engaged-User-on-Twitter\">Most Engaged User on Twitter</a></li>\n",
    "                    <li><a href=\"#Word-Cloud\">Word Cloud</a></li>\n",
    "                    <li><a href=\"#Sentiments-Over-Weeks-and-Days\">Sentiments Over Weeks and Days</a></li>\n",
    "                    <li><a href=\"#Tweets-Made-by-Huge-Follower-Handles\">Tweets Made by Huge Follower Handles</a></li>\n",
    "                </ol>\n",
    "            <li><a href=\"#Concluding-Points-(Summary)\">Concluding Points (Summary)</a></li>\n",
    "        </ol>\n",
    "    </span>\n",
    "</div>"
   ]
  },
  {
   "cell_type": "markdown",
   "metadata": {},
   "source": [
    "<div style = 'background-color: #504e4e; padding: 30px '>\n",
    "    <span style='font-size:18px;'>\n",
    "    (You can directly skip to results/analysis part by going through the <a href=\"#Table-of-Contents\">table of contents</a> or click <a href=\"#Different-Analysis/Results\">here</a> to jump to analysis section.)\n",
    "    </span>\n",
    "    </div>"
   ]
  },
  {
   "cell_type": "markdown",
   "metadata": {},
   "source": [
    "# Overview of Dataset"
   ]
  },
  {
   "cell_type": "markdown",
   "metadata": {},
   "source": [
    "<div style = 'background-color: #504e4e; padding: 30px '>\n",
    "    <span style='font-size:18px;'>\n",
    "    Every time you log in to Twitter, it is likely that you are checking the trends list to see what is trending right then. From Shahrukh Khan to Beyonce, from #COVID to #Lockdown everything and everyone worth talking about have trended on Twitter. Twitter follows a sophisticated mechanism to uncover trends. This dataset contains meta data of 44,179 Tweets made during lockdown period. This metadata includes: hastags, id, lang, place, retweet_count, text, user_screen_name, user_description, user_location and other features too. Here is the output of df.info():\n",
    "    </span>\n",
    "    </div>"
   ]
  },
  {
   "cell_type": "markdown",
   "metadata": {},
   "source": [
    "<img src='./image/infoFunc.png'>"
   ]
  },
  {
   "cell_type": "markdown",
   "metadata": {},
   "source": [
    "# Preprocessing Steps"
   ]
  },
  {
   "cell_type": "markdown",
   "metadata": {},
   "source": [
    "## Dropping Non-useful columns"
   ]
  },
  {
   "cell_type": "markdown",
   "metadata": {},
   "source": [
    "<div style = 'background-color: #504e4e; padding: 30px '>\n",
    "    <span style='font-size:18px;'>\n",
    "    The Id column is of no use to our analysis and therfore can be dropped without any second thought. The lang feature contains only one value 'en' and therefore it is of no use. 'tweet_url' is also useless as the data about the tweets is already available to us. The 'user_screen_name.1' and 'user_screen_name' are the same columns, therefore we can drop one of them. At the end of my analysis, I also dropped these columns as they were of no use to my results: 'retweet_count', 'user_favourites_count', 'user_friends_count', 'user_listed_count', 'user_location', 'user_statuses_count'. \n",
    "    </span>\n",
    "    </div>"
   ]
  },
  {
   "cell_type": "markdown",
   "metadata": {},
   "source": [
    "<img src='./image/drop.png'>"
   ]
  },
  {
   "cell_type": "markdown",
   "metadata": {},
   "source": [
    "## Time Zone Conversion"
   ]
  },
  {
   "cell_type": "markdown",
   "metadata": {},
   "source": [
    "<div style = 'background-color: #504e4e; padding: 30px '>\n",
    "    <span style='font-size:18px;'>\n",
    "    The first column 'created_at' contains the time zone in UTC and it can be  differentiating factor while doing analysis based on time. To convert this UTC to my IST time zone, following steps were followed:\n",
    "        <ol>\n",
    "            <li> Creating a IST zone object using pytz.timezone </li>\n",
    "            <li> Make the 'created_at' feature as index because this conversion reequires index to be pandas date-time index. </li>\n",
    "            <li> Apply .tz_convert(ist) function where ist is the object created using pytz.timezone('Asia/Kolkata') </li>\n",
    "        </ol>\n",
    "    </span>\n",
    "    </div>"
   ]
  },
  {
   "cell_type": "markdown",
   "metadata": {},
   "source": [
    "<img src=\"./image/timezone.png\">"
   ]
  },
  {
   "cell_type": "markdown",
   "metadata": {},
   "source": [
    "## Cleaning the Tweet Text and User Description"
   ]
  },
  {
   "cell_type": "markdown",
   "metadata": {},
   "source": [
    "<div style = 'background-color: #504e4e; padding: 30px '>\n",
    "    <span style='font-size:18px;'>\n",
    "       Every textual data has a lot of noise and it's removal is important to obtain good quality results and beautiful charts, figures. This textul data contains links, hashtag, stop words and other punctuations that need to be removed. This is done via these custom functions:   \n",
    "    </span>\n",
    "    </div>"
   ]
  },
  {
   "cell_type": "markdown",
   "metadata": {},
   "source": [
    "<img src='./image/textcleaning.png'>"
   ]
  },
  {
   "cell_type": "markdown",
   "metadata": {},
   "source": [
    "## Tweet Sentiment Detection"
   ]
  },
  {
   "cell_type": "markdown",
   "metadata": {},
   "source": [
    "<div style = 'background-color: #504e4e; padding: 30px '>\n",
    "    <span style='font-size:18px;'>\n",
    "       For every tweet made by the users, we can detect whether it was a positive, negative or neutral sentiment. It helps in determining the impact on the crowd of an event and what was the outcome of certain events. To do this, I used TextBlob that returns polarity and subjectivity. For this usecase, I only considered polarity. This is how the sentiments were predicted:\n",
    "    </span>\n",
    "    </div>"
   ]
  },
  {
   "cell_type": "markdown",
   "metadata": {},
   "source": [
    "<img src=\"./image/sentimentFunc.png\">"
   ]
  },
  {
   "cell_type": "markdown",
   "metadata": {},
   "source": [
    "<div style = 'background-color: #504e4e; padding: 30px '>\n",
    "    <span style='font-size:18px;'>\n",
    "    For the detailed steps that were followed in processing the data and getting more than the provided one, head over to this notebook for full <a href=\"https://github.com/kaustubhgupta/Covid-Tweets-Analysis-Dashboard/tree/main/\">Data Cleaning and Preprocessing</a>.\n",
    "    </span>\n",
    "    </div>"
   ]
  },
  {
   "cell_type": "markdown",
   "metadata": {},
   "source": [
    "# Different Analysis/Results"
   ]
  },
  {
   "cell_type": "markdown",
   "metadata": {},
   "source": [
    "<div style = 'background-color: #504e4e; padding: 30px '>\n",
    "    <span style='font-size:18px;'>\n",
    "       (All the plots, charts, figures are interactive therefore, give it a try :-D )\n",
    "    </span>\n",
    "    </div>"
   ]
  },
  {
   "cell_type": "markdown",
   "metadata": {},
   "source": [
    "## Overall WeekDays Distribution"
   ]
  },
  {
   "cell_type": "code",
   "execution_count": 63,
   "metadata": {},
   "outputs": [
    {
     "data": {
      "application/vnd.plotly.v1+json": {
       "config": {
        "plotlyServerURL": "https://plot.ly"
       },
       "data": [
        {
         "alignmentgroup": "True",
         "hovertemplate": "Day of Week=%{x}<br>y=%{y}<br>text=%{text}<br>Number of Tweets=%{marker.color}<extra></extra>",
         "legendgroup": "",
         "marker": {
          "color": [
           5343,
           6576,
           7309,
           5840,
           5415,
           7466,
           6230
          ],
          "coloraxis": "coloraxis"
         },
         "name": "",
         "offsetgroup": "",
         "orientation": "v",
         "showlegend": false,
         "text": [
          5343,
          6576,
          7309,
          5840,
          5415,
          7466,
          6230
         ],
         "textposition": "auto",
         "type": "bar",
         "x": [
          "Monday",
          "Tuesday",
          "Wednesday",
          "Thursday",
          "Friday",
          "Saturday",
          "Sunday"
         ],
         "xaxis": "x",
         "y": [
          5343,
          6576,
          7309,
          5840,
          5415,
          7466,
          6230
         ],
         "yaxis": "y"
        }
       ],
       "layout": {
        "barmode": "relative",
        "coloraxis": {
         "colorbar": {
          "title": {
           "text": "Number of Tweets"
          }
         },
         "colorscale": [
          [
           0,
           "rgb(150,0,90)"
          ],
          [
           0.125,
           "rgb(0,0,200)"
          ],
          [
           0.25,
           "rgb(0,25,255)"
          ],
          [
           0.375,
           "rgb(0,152,255)"
          ],
          [
           0.5,
           "rgb(44,255,150)"
          ],
          [
           0.625,
           "rgb(151,255,0)"
          ],
          [
           0.75,
           "rgb(255,234,0)"
          ],
          [
           0.875,
           "rgb(255,111,0)"
          ],
          [
           1,
           "rgb(255,0,0)"
          ]
         ]
        },
        "font": {
         "size": 15
        },
        "legend": {
         "tracegroupgap": 0
        },
        "margin": {
         "t": 60
        },
        "template": {
         "data": {
          "bar": [
           {
            "error_x": {
             "color": "#f2f5fa"
            },
            "error_y": {
             "color": "#f2f5fa"
            },
            "marker": {
             "line": {
              "color": "rgb(17,17,17)",
              "width": 0.5
             }
            },
            "type": "bar"
           }
          ],
          "barpolar": [
           {
            "marker": {
             "line": {
              "color": "rgb(17,17,17)",
              "width": 0.5
             }
            },
            "type": "barpolar"
           }
          ],
          "carpet": [
           {
            "aaxis": {
             "endlinecolor": "#A2B1C6",
             "gridcolor": "#506784",
             "linecolor": "#506784",
             "minorgridcolor": "#506784",
             "startlinecolor": "#A2B1C6"
            },
            "baxis": {
             "endlinecolor": "#A2B1C6",
             "gridcolor": "#506784",
             "linecolor": "#506784",
             "minorgridcolor": "#506784",
             "startlinecolor": "#A2B1C6"
            },
            "type": "carpet"
           }
          ],
          "choropleth": [
           {
            "colorbar": {
             "outlinewidth": 0,
             "ticks": ""
            },
            "type": "choropleth"
           }
          ],
          "contour": [
           {
            "colorbar": {
             "outlinewidth": 0,
             "ticks": ""
            },
            "colorscale": [
             [
              0,
              "#0d0887"
             ],
             [
              0.1111111111111111,
              "#46039f"
             ],
             [
              0.2222222222222222,
              "#7201a8"
             ],
             [
              0.3333333333333333,
              "#9c179e"
             ],
             [
              0.4444444444444444,
              "#bd3786"
             ],
             [
              0.5555555555555556,
              "#d8576b"
             ],
             [
              0.6666666666666666,
              "#ed7953"
             ],
             [
              0.7777777777777778,
              "#fb9f3a"
             ],
             [
              0.8888888888888888,
              "#fdca26"
             ],
             [
              1,
              "#f0f921"
             ]
            ],
            "type": "contour"
           }
          ],
          "contourcarpet": [
           {
            "colorbar": {
             "outlinewidth": 0,
             "ticks": ""
            },
            "type": "contourcarpet"
           }
          ],
          "heatmap": [
           {
            "colorbar": {
             "outlinewidth": 0,
             "ticks": ""
            },
            "colorscale": [
             [
              0,
              "#0d0887"
             ],
             [
              0.1111111111111111,
              "#46039f"
             ],
             [
              0.2222222222222222,
              "#7201a8"
             ],
             [
              0.3333333333333333,
              "#9c179e"
             ],
             [
              0.4444444444444444,
              "#bd3786"
             ],
             [
              0.5555555555555556,
              "#d8576b"
             ],
             [
              0.6666666666666666,
              "#ed7953"
             ],
             [
              0.7777777777777778,
              "#fb9f3a"
             ],
             [
              0.8888888888888888,
              "#fdca26"
             ],
             [
              1,
              "#f0f921"
             ]
            ],
            "type": "heatmap"
           }
          ],
          "heatmapgl": [
           {
            "colorbar": {
             "outlinewidth": 0,
             "ticks": ""
            },
            "colorscale": [
             [
              0,
              "#0d0887"
             ],
             [
              0.1111111111111111,
              "#46039f"
             ],
             [
              0.2222222222222222,
              "#7201a8"
             ],
             [
              0.3333333333333333,
              "#9c179e"
             ],
             [
              0.4444444444444444,
              "#bd3786"
             ],
             [
              0.5555555555555556,
              "#d8576b"
             ],
             [
              0.6666666666666666,
              "#ed7953"
             ],
             [
              0.7777777777777778,
              "#fb9f3a"
             ],
             [
              0.8888888888888888,
              "#fdca26"
             ],
             [
              1,
              "#f0f921"
             ]
            ],
            "type": "heatmapgl"
           }
          ],
          "histogram": [
           {
            "marker": {
             "colorbar": {
              "outlinewidth": 0,
              "ticks": ""
             }
            },
            "type": "histogram"
           }
          ],
          "histogram2d": [
           {
            "colorbar": {
             "outlinewidth": 0,
             "ticks": ""
            },
            "colorscale": [
             [
              0,
              "#0d0887"
             ],
             [
              0.1111111111111111,
              "#46039f"
             ],
             [
              0.2222222222222222,
              "#7201a8"
             ],
             [
              0.3333333333333333,
              "#9c179e"
             ],
             [
              0.4444444444444444,
              "#bd3786"
             ],
             [
              0.5555555555555556,
              "#d8576b"
             ],
             [
              0.6666666666666666,
              "#ed7953"
             ],
             [
              0.7777777777777778,
              "#fb9f3a"
             ],
             [
              0.8888888888888888,
              "#fdca26"
             ],
             [
              1,
              "#f0f921"
             ]
            ],
            "type": "histogram2d"
           }
          ],
          "histogram2dcontour": [
           {
            "colorbar": {
             "outlinewidth": 0,
             "ticks": ""
            },
            "colorscale": [
             [
              0,
              "#0d0887"
             ],
             [
              0.1111111111111111,
              "#46039f"
             ],
             [
              0.2222222222222222,
              "#7201a8"
             ],
             [
              0.3333333333333333,
              "#9c179e"
             ],
             [
              0.4444444444444444,
              "#bd3786"
             ],
             [
              0.5555555555555556,
              "#d8576b"
             ],
             [
              0.6666666666666666,
              "#ed7953"
             ],
             [
              0.7777777777777778,
              "#fb9f3a"
             ],
             [
              0.8888888888888888,
              "#fdca26"
             ],
             [
              1,
              "#f0f921"
             ]
            ],
            "type": "histogram2dcontour"
           }
          ],
          "mesh3d": [
           {
            "colorbar": {
             "outlinewidth": 0,
             "ticks": ""
            },
            "type": "mesh3d"
           }
          ],
          "parcoords": [
           {
            "line": {
             "colorbar": {
              "outlinewidth": 0,
              "ticks": ""
             }
            },
            "type": "parcoords"
           }
          ],
          "pie": [
           {
            "automargin": true,
            "type": "pie"
           }
          ],
          "scatter": [
           {
            "marker": {
             "line": {
              "color": "#283442"
             }
            },
            "type": "scatter"
           }
          ],
          "scatter3d": [
           {
            "line": {
             "colorbar": {
              "outlinewidth": 0,
              "ticks": ""
             }
            },
            "marker": {
             "colorbar": {
              "outlinewidth": 0,
              "ticks": ""
             }
            },
            "type": "scatter3d"
           }
          ],
          "scattercarpet": [
           {
            "marker": {
             "colorbar": {
              "outlinewidth": 0,
              "ticks": ""
             }
            },
            "type": "scattercarpet"
           }
          ],
          "scattergeo": [
           {
            "marker": {
             "colorbar": {
              "outlinewidth": 0,
              "ticks": ""
             }
            },
            "type": "scattergeo"
           }
          ],
          "scattergl": [
           {
            "marker": {
             "line": {
              "color": "#283442"
             }
            },
            "type": "scattergl"
           }
          ],
          "scattermapbox": [
           {
            "marker": {
             "colorbar": {
              "outlinewidth": 0,
              "ticks": ""
             }
            },
            "type": "scattermapbox"
           }
          ],
          "scatterpolar": [
           {
            "marker": {
             "colorbar": {
              "outlinewidth": 0,
              "ticks": ""
             }
            },
            "type": "scatterpolar"
           }
          ],
          "scatterpolargl": [
           {
            "marker": {
             "colorbar": {
              "outlinewidth": 0,
              "ticks": ""
             }
            },
            "type": "scatterpolargl"
           }
          ],
          "scatterternary": [
           {
            "marker": {
             "colorbar": {
              "outlinewidth": 0,
              "ticks": ""
             }
            },
            "type": "scatterternary"
           }
          ],
          "surface": [
           {
            "colorbar": {
             "outlinewidth": 0,
             "ticks": ""
            },
            "colorscale": [
             [
              0,
              "#0d0887"
             ],
             [
              0.1111111111111111,
              "#46039f"
             ],
             [
              0.2222222222222222,
              "#7201a8"
             ],
             [
              0.3333333333333333,
              "#9c179e"
             ],
             [
              0.4444444444444444,
              "#bd3786"
             ],
             [
              0.5555555555555556,
              "#d8576b"
             ],
             [
              0.6666666666666666,
              "#ed7953"
             ],
             [
              0.7777777777777778,
              "#fb9f3a"
             ],
             [
              0.8888888888888888,
              "#fdca26"
             ],
             [
              1,
              "#f0f921"
             ]
            ],
            "type": "surface"
           }
          ],
          "table": [
           {
            "cells": {
             "fill": {
              "color": "#506784"
             },
             "line": {
              "color": "rgb(17,17,17)"
             }
            },
            "header": {
             "fill": {
              "color": "#2a3f5f"
             },
             "line": {
              "color": "rgb(17,17,17)"
             }
            },
            "type": "table"
           }
          ]
         },
         "layout": {
          "annotationdefaults": {
           "arrowcolor": "#f2f5fa",
           "arrowhead": 0,
           "arrowwidth": 1
          },
          "autotypenumbers": "strict",
          "coloraxis": {
           "colorbar": {
            "outlinewidth": 0,
            "ticks": ""
           }
          },
          "colorscale": {
           "diverging": [
            [
             0,
             "#8e0152"
            ],
            [
             0.1,
             "#c51b7d"
            ],
            [
             0.2,
             "#de77ae"
            ],
            [
             0.3,
             "#f1b6da"
            ],
            [
             0.4,
             "#fde0ef"
            ],
            [
             0.5,
             "#f7f7f7"
            ],
            [
             0.6,
             "#e6f5d0"
            ],
            [
             0.7,
             "#b8e186"
            ],
            [
             0.8,
             "#7fbc41"
            ],
            [
             0.9,
             "#4d9221"
            ],
            [
             1,
             "#276419"
            ]
           ],
           "sequential": [
            [
             0,
             "#0d0887"
            ],
            [
             0.1111111111111111,
             "#46039f"
            ],
            [
             0.2222222222222222,
             "#7201a8"
            ],
            [
             0.3333333333333333,
             "#9c179e"
            ],
            [
             0.4444444444444444,
             "#bd3786"
            ],
            [
             0.5555555555555556,
             "#d8576b"
            ],
            [
             0.6666666666666666,
             "#ed7953"
            ],
            [
             0.7777777777777778,
             "#fb9f3a"
            ],
            [
             0.8888888888888888,
             "#fdca26"
            ],
            [
             1,
             "#f0f921"
            ]
           ],
           "sequentialminus": [
            [
             0,
             "#0d0887"
            ],
            [
             0.1111111111111111,
             "#46039f"
            ],
            [
             0.2222222222222222,
             "#7201a8"
            ],
            [
             0.3333333333333333,
             "#9c179e"
            ],
            [
             0.4444444444444444,
             "#bd3786"
            ],
            [
             0.5555555555555556,
             "#d8576b"
            ],
            [
             0.6666666666666666,
             "#ed7953"
            ],
            [
             0.7777777777777778,
             "#fb9f3a"
            ],
            [
             0.8888888888888888,
             "#fdca26"
            ],
            [
             1,
             "#f0f921"
            ]
           ]
          },
          "colorway": [
           "#636efa",
           "#EF553B",
           "#00cc96",
           "#ab63fa",
           "#FFA15A",
           "#19d3f3",
           "#FF6692",
           "#B6E880",
           "#FF97FF",
           "#FECB52"
          ],
          "font": {
           "color": "#f2f5fa"
          },
          "geo": {
           "bgcolor": "rgb(17,17,17)",
           "lakecolor": "rgb(17,17,17)",
           "landcolor": "rgb(17,17,17)",
           "showlakes": true,
           "showland": true,
           "subunitcolor": "#506784"
          },
          "hoverlabel": {
           "align": "left"
          },
          "hovermode": "closest",
          "mapbox": {
           "style": "dark"
          },
          "paper_bgcolor": "rgb(17,17,17)",
          "plot_bgcolor": "rgb(17,17,17)",
          "polar": {
           "angularaxis": {
            "gridcolor": "#506784",
            "linecolor": "#506784",
            "ticks": ""
           },
           "bgcolor": "rgb(17,17,17)",
           "radialaxis": {
            "gridcolor": "#506784",
            "linecolor": "#506784",
            "ticks": ""
           }
          },
          "scene": {
           "xaxis": {
            "backgroundcolor": "rgb(17,17,17)",
            "gridcolor": "#506784",
            "gridwidth": 2,
            "linecolor": "#506784",
            "showbackground": true,
            "ticks": "",
            "zerolinecolor": "#C8D4E3"
           },
           "yaxis": {
            "backgroundcolor": "rgb(17,17,17)",
            "gridcolor": "#506784",
            "gridwidth": 2,
            "linecolor": "#506784",
            "showbackground": true,
            "ticks": "",
            "zerolinecolor": "#C8D4E3"
           },
           "zaxis": {
            "backgroundcolor": "rgb(17,17,17)",
            "gridcolor": "#506784",
            "gridwidth": 2,
            "linecolor": "#506784",
            "showbackground": true,
            "ticks": "",
            "zerolinecolor": "#C8D4E3"
           }
          },
          "shapedefaults": {
           "line": {
            "color": "#f2f5fa"
           }
          },
          "sliderdefaults": {
           "bgcolor": "#C8D4E3",
           "bordercolor": "rgb(17,17,17)",
           "borderwidth": 1,
           "tickwidth": 0
          },
          "ternary": {
           "aaxis": {
            "gridcolor": "#506784",
            "linecolor": "#506784",
            "ticks": ""
           },
           "baxis": {
            "gridcolor": "#506784",
            "linecolor": "#506784",
            "ticks": ""
           },
           "bgcolor": "rgb(17,17,17)",
           "caxis": {
            "gridcolor": "#506784",
            "linecolor": "#506784",
            "ticks": ""
           }
          },
          "title": {
           "x": 0.05
          },
          "updatemenudefaults": {
           "bgcolor": "#506784",
           "borderwidth": 0
          },
          "xaxis": {
           "automargin": true,
           "gridcolor": "#283442",
           "linecolor": "#506784",
           "ticks": "",
           "title": {
            "standoff": 15
           },
           "zerolinecolor": "#283442",
           "zerolinewidth": 2
          },
          "yaxis": {
           "automargin": true,
           "gridcolor": "#283442",
           "linecolor": "#506784",
           "ticks": "",
           "title": {
            "standoff": 15
           },
           "zerolinecolor": "#283442",
           "zerolinewidth": 2
          }
         }
        },
        "xaxis": {
         "anchor": "y",
         "domain": [
          0,
          1
         ],
         "tickangle": -45,
         "title": {
          "text": "Day of Week"
         }
        },
        "yaxis": {
         "anchor": "x",
         "domain": [
          0,
          1
         ],
         "showticklabels": false,
         "title": {
          "text": "y"
         },
         "visible": false
        }
       }
      },
      "text/html": [
       "<div>                            <div id=\"d70babb4-539d-4d34-a02f-ff6a2857be6b\" class=\"plotly-graph-div\" style=\"height:525px; width:100%;\"></div>            <script type=\"text/javascript\">                require([\"plotly\"], function(Plotly) {                    window.PLOTLYENV=window.PLOTLYENV || {};                                    if (document.getElementById(\"d70babb4-539d-4d34-a02f-ff6a2857be6b\")) {                    Plotly.newPlot(                        \"d70babb4-539d-4d34-a02f-ff6a2857be6b\",                        [{\"alignmentgroup\": \"True\", \"hovertemplate\": \"Day of Week=%{x}<br>y=%{y}<br>text=%{text}<br>Number of Tweets=%{marker.color}<extra></extra>\", \"legendgroup\": \"\", \"marker\": {\"color\": [5343, 6576, 7309, 5840, 5415, 7466, 6230], \"coloraxis\": \"coloraxis\"}, \"name\": \"\", \"offsetgroup\": \"\", \"orientation\": \"v\", \"showlegend\": false, \"text\": [5343.0, 6576.0, 7309.0, 5840.0, 5415.0, 7466.0, 6230.0], \"textposition\": \"auto\", \"type\": \"bar\", \"x\": [\"Monday\", \"Tuesday\", \"Wednesday\", \"Thursday\", \"Friday\", \"Saturday\", \"Sunday\"], \"xaxis\": \"x\", \"y\": [5343, 6576, 7309, 5840, 5415, 7466, 6230], \"yaxis\": \"y\"}],                        {\"barmode\": \"relative\", \"coloraxis\": {\"colorbar\": {\"title\": {\"text\": \"Number of Tweets\"}}, \"colorscale\": [[0.0, \"rgb(150,0,90)\"], [0.125, \"rgb(0,0,200)\"], [0.25, \"rgb(0,25,255)\"], [0.375, \"rgb(0,152,255)\"], [0.5, \"rgb(44,255,150)\"], [0.625, \"rgb(151,255,0)\"], [0.75, \"rgb(255,234,0)\"], [0.875, \"rgb(255,111,0)\"], [1.0, \"rgb(255,0,0)\"]]}, \"font\": {\"size\": 15}, \"legend\": {\"tracegroupgap\": 0}, \"margin\": {\"t\": 60}, \"template\": {\"data\": {\"bar\": [{\"error_x\": {\"color\": \"#f2f5fa\"}, \"error_y\": {\"color\": \"#f2f5fa\"}, \"marker\": {\"line\": {\"color\": \"rgb(17,17,17)\", \"width\": 0.5}}, \"type\": \"bar\"}], \"barpolar\": [{\"marker\": {\"line\": {\"color\": \"rgb(17,17,17)\", \"width\": 0.5}}, \"type\": \"barpolar\"}], \"carpet\": [{\"aaxis\": {\"endlinecolor\": \"#A2B1C6\", \"gridcolor\": \"#506784\", \"linecolor\": \"#506784\", \"minorgridcolor\": \"#506784\", \"startlinecolor\": \"#A2B1C6\"}, \"baxis\": {\"endlinecolor\": \"#A2B1C6\", \"gridcolor\": \"#506784\", \"linecolor\": \"#506784\", \"minorgridcolor\": \"#506784\", \"startlinecolor\": \"#A2B1C6\"}, \"type\": \"carpet\"}], \"choropleth\": [{\"colorbar\": {\"outlinewidth\": 0, \"ticks\": \"\"}, \"type\": \"choropleth\"}], \"contour\": [{\"colorbar\": {\"outlinewidth\": 0, \"ticks\": \"\"}, \"colorscale\": [[0.0, \"#0d0887\"], [0.1111111111111111, \"#46039f\"], [0.2222222222222222, \"#7201a8\"], [0.3333333333333333, \"#9c179e\"], [0.4444444444444444, \"#bd3786\"], [0.5555555555555556, \"#d8576b\"], [0.6666666666666666, \"#ed7953\"], [0.7777777777777778, \"#fb9f3a\"], [0.8888888888888888, \"#fdca26\"], [1.0, \"#f0f921\"]], \"type\": \"contour\"}], \"contourcarpet\": [{\"colorbar\": {\"outlinewidth\": 0, \"ticks\": \"\"}, \"type\": \"contourcarpet\"}], \"heatmap\": [{\"colorbar\": {\"outlinewidth\": 0, \"ticks\": \"\"}, \"colorscale\": [[0.0, \"#0d0887\"], [0.1111111111111111, \"#46039f\"], [0.2222222222222222, \"#7201a8\"], [0.3333333333333333, \"#9c179e\"], [0.4444444444444444, \"#bd3786\"], [0.5555555555555556, \"#d8576b\"], [0.6666666666666666, \"#ed7953\"], [0.7777777777777778, \"#fb9f3a\"], [0.8888888888888888, \"#fdca26\"], [1.0, \"#f0f921\"]], \"type\": \"heatmap\"}], \"heatmapgl\": [{\"colorbar\": {\"outlinewidth\": 0, \"ticks\": \"\"}, \"colorscale\": [[0.0, \"#0d0887\"], [0.1111111111111111, \"#46039f\"], [0.2222222222222222, \"#7201a8\"], [0.3333333333333333, \"#9c179e\"], [0.4444444444444444, \"#bd3786\"], [0.5555555555555556, \"#d8576b\"], [0.6666666666666666, \"#ed7953\"], [0.7777777777777778, \"#fb9f3a\"], [0.8888888888888888, \"#fdca26\"], [1.0, \"#f0f921\"]], \"type\": \"heatmapgl\"}], \"histogram\": [{\"marker\": {\"colorbar\": {\"outlinewidth\": 0, \"ticks\": \"\"}}, \"type\": \"histogram\"}], \"histogram2d\": [{\"colorbar\": {\"outlinewidth\": 0, \"ticks\": \"\"}, \"colorscale\": [[0.0, \"#0d0887\"], [0.1111111111111111, \"#46039f\"], [0.2222222222222222, \"#7201a8\"], [0.3333333333333333, \"#9c179e\"], [0.4444444444444444, \"#bd3786\"], [0.5555555555555556, \"#d8576b\"], [0.6666666666666666, \"#ed7953\"], [0.7777777777777778, \"#fb9f3a\"], [0.8888888888888888, \"#fdca26\"], [1.0, \"#f0f921\"]], \"type\": \"histogram2d\"}], \"histogram2dcontour\": [{\"colorbar\": {\"outlinewidth\": 0, \"ticks\": \"\"}, \"colorscale\": [[0.0, \"#0d0887\"], [0.1111111111111111, \"#46039f\"], [0.2222222222222222, \"#7201a8\"], [0.3333333333333333, \"#9c179e\"], [0.4444444444444444, \"#bd3786\"], [0.5555555555555556, \"#d8576b\"], [0.6666666666666666, \"#ed7953\"], [0.7777777777777778, \"#fb9f3a\"], [0.8888888888888888, \"#fdca26\"], [1.0, \"#f0f921\"]], \"type\": \"histogram2dcontour\"}], \"mesh3d\": [{\"colorbar\": {\"outlinewidth\": 0, \"ticks\": \"\"}, \"type\": \"mesh3d\"}], \"parcoords\": [{\"line\": {\"colorbar\": {\"outlinewidth\": 0, \"ticks\": \"\"}}, \"type\": \"parcoords\"}], \"pie\": [{\"automargin\": true, \"type\": \"pie\"}], \"scatter\": [{\"marker\": {\"line\": {\"color\": \"#283442\"}}, \"type\": \"scatter\"}], \"scatter3d\": [{\"line\": {\"colorbar\": {\"outlinewidth\": 0, \"ticks\": \"\"}}, \"marker\": {\"colorbar\": {\"outlinewidth\": 0, \"ticks\": \"\"}}, \"type\": \"scatter3d\"}], \"scattercarpet\": [{\"marker\": {\"colorbar\": {\"outlinewidth\": 0, \"ticks\": \"\"}}, \"type\": \"scattercarpet\"}], \"scattergeo\": [{\"marker\": {\"colorbar\": {\"outlinewidth\": 0, \"ticks\": \"\"}}, \"type\": \"scattergeo\"}], \"scattergl\": [{\"marker\": {\"line\": {\"color\": \"#283442\"}}, \"type\": \"scattergl\"}], \"scattermapbox\": [{\"marker\": {\"colorbar\": {\"outlinewidth\": 0, \"ticks\": \"\"}}, \"type\": \"scattermapbox\"}], \"scatterpolar\": [{\"marker\": {\"colorbar\": {\"outlinewidth\": 0, \"ticks\": \"\"}}, \"type\": \"scatterpolar\"}], \"scatterpolargl\": [{\"marker\": {\"colorbar\": {\"outlinewidth\": 0, \"ticks\": \"\"}}, \"type\": \"scatterpolargl\"}], \"scatterternary\": [{\"marker\": {\"colorbar\": {\"outlinewidth\": 0, \"ticks\": \"\"}}, \"type\": \"scatterternary\"}], \"surface\": [{\"colorbar\": {\"outlinewidth\": 0, \"ticks\": \"\"}, \"colorscale\": [[0.0, \"#0d0887\"], [0.1111111111111111, \"#46039f\"], [0.2222222222222222, \"#7201a8\"], [0.3333333333333333, \"#9c179e\"], [0.4444444444444444, \"#bd3786\"], [0.5555555555555556, \"#d8576b\"], [0.6666666666666666, \"#ed7953\"], [0.7777777777777778, \"#fb9f3a\"], [0.8888888888888888, \"#fdca26\"], [1.0, \"#f0f921\"]], \"type\": \"surface\"}], \"table\": [{\"cells\": {\"fill\": {\"color\": \"#506784\"}, \"line\": {\"color\": \"rgb(17,17,17)\"}}, \"header\": {\"fill\": {\"color\": \"#2a3f5f\"}, \"line\": {\"color\": \"rgb(17,17,17)\"}}, \"type\": \"table\"}]}, \"layout\": {\"annotationdefaults\": {\"arrowcolor\": \"#f2f5fa\", \"arrowhead\": 0, \"arrowwidth\": 1}, \"autotypenumbers\": \"strict\", \"coloraxis\": {\"colorbar\": {\"outlinewidth\": 0, \"ticks\": \"\"}}, \"colorscale\": {\"diverging\": [[0, \"#8e0152\"], [0.1, \"#c51b7d\"], [0.2, \"#de77ae\"], [0.3, \"#f1b6da\"], [0.4, \"#fde0ef\"], [0.5, \"#f7f7f7\"], [0.6, \"#e6f5d0\"], [0.7, \"#b8e186\"], [0.8, \"#7fbc41\"], [0.9, \"#4d9221\"], [1, \"#276419\"]], \"sequential\": [[0.0, \"#0d0887\"], [0.1111111111111111, \"#46039f\"], [0.2222222222222222, \"#7201a8\"], [0.3333333333333333, \"#9c179e\"], [0.4444444444444444, \"#bd3786\"], [0.5555555555555556, \"#d8576b\"], [0.6666666666666666, \"#ed7953\"], [0.7777777777777778, \"#fb9f3a\"], [0.8888888888888888, \"#fdca26\"], [1.0, \"#f0f921\"]], \"sequentialminus\": [[0.0, \"#0d0887\"], [0.1111111111111111, \"#46039f\"], [0.2222222222222222, \"#7201a8\"], [0.3333333333333333, \"#9c179e\"], [0.4444444444444444, \"#bd3786\"], [0.5555555555555556, \"#d8576b\"], [0.6666666666666666, \"#ed7953\"], [0.7777777777777778, \"#fb9f3a\"], [0.8888888888888888, \"#fdca26\"], [1.0, \"#f0f921\"]]}, \"colorway\": [\"#636efa\", \"#EF553B\", \"#00cc96\", \"#ab63fa\", \"#FFA15A\", \"#19d3f3\", \"#FF6692\", \"#B6E880\", \"#FF97FF\", \"#FECB52\"], \"font\": {\"color\": \"#f2f5fa\"}, \"geo\": {\"bgcolor\": \"rgb(17,17,17)\", \"lakecolor\": \"rgb(17,17,17)\", \"landcolor\": \"rgb(17,17,17)\", \"showlakes\": true, \"showland\": true, \"subunitcolor\": \"#506784\"}, \"hoverlabel\": {\"align\": \"left\"}, \"hovermode\": \"closest\", \"mapbox\": {\"style\": \"dark\"}, \"paper_bgcolor\": \"rgb(17,17,17)\", \"plot_bgcolor\": \"rgb(17,17,17)\", \"polar\": {\"angularaxis\": {\"gridcolor\": \"#506784\", \"linecolor\": \"#506784\", \"ticks\": \"\"}, \"bgcolor\": \"rgb(17,17,17)\", \"radialaxis\": {\"gridcolor\": \"#506784\", \"linecolor\": \"#506784\", \"ticks\": \"\"}}, \"scene\": {\"xaxis\": {\"backgroundcolor\": \"rgb(17,17,17)\", \"gridcolor\": \"#506784\", \"gridwidth\": 2, \"linecolor\": \"#506784\", \"showbackground\": true, \"ticks\": \"\", \"zerolinecolor\": \"#C8D4E3\"}, \"yaxis\": {\"backgroundcolor\": \"rgb(17,17,17)\", \"gridcolor\": \"#506784\", \"gridwidth\": 2, \"linecolor\": \"#506784\", \"showbackground\": true, \"ticks\": \"\", \"zerolinecolor\": \"#C8D4E3\"}, \"zaxis\": {\"backgroundcolor\": \"rgb(17,17,17)\", \"gridcolor\": \"#506784\", \"gridwidth\": 2, \"linecolor\": \"#506784\", \"showbackground\": true, \"ticks\": \"\", \"zerolinecolor\": \"#C8D4E3\"}}, \"shapedefaults\": {\"line\": {\"color\": \"#f2f5fa\"}}, \"sliderdefaults\": {\"bgcolor\": \"#C8D4E3\", \"bordercolor\": \"rgb(17,17,17)\", \"borderwidth\": 1, \"tickwidth\": 0}, \"ternary\": {\"aaxis\": {\"gridcolor\": \"#506784\", \"linecolor\": \"#506784\", \"ticks\": \"\"}, \"baxis\": {\"gridcolor\": \"#506784\", \"linecolor\": \"#506784\", \"ticks\": \"\"}, \"bgcolor\": \"rgb(17,17,17)\", \"caxis\": {\"gridcolor\": \"#506784\", \"linecolor\": \"#506784\", \"ticks\": \"\"}}, \"title\": {\"x\": 0.05}, \"updatemenudefaults\": {\"bgcolor\": \"#506784\", \"borderwidth\": 0}, \"xaxis\": {\"automargin\": true, \"gridcolor\": \"#283442\", \"linecolor\": \"#506784\", \"ticks\": \"\", \"title\": {\"standoff\": 15}, \"zerolinecolor\": \"#283442\", \"zerolinewidth\": 2}, \"yaxis\": {\"automargin\": true, \"gridcolor\": \"#283442\", \"linecolor\": \"#506784\", \"ticks\": \"\", \"title\": {\"standoff\": 15}, \"zerolinecolor\": \"#283442\", \"zerolinewidth\": 2}}}, \"xaxis\": {\"anchor\": \"y\", \"domain\": [0.0, 1.0], \"tickangle\": -45, \"title\": {\"text\": \"Day of Week\"}}, \"yaxis\": {\"anchor\": \"x\", \"domain\": [0.0, 1.0], \"showticklabels\": false, \"title\": {\"text\": \"y\"}, \"visible\": false}},                        {\"responsive\": true}                    ).then(function(){\n",
       "                            \n",
       "var gd = document.getElementById('d70babb4-539d-4d34-a02f-ff6a2857be6b');\n",
       "var x = new MutationObserver(function (mutations, observer) {{\n",
       "        var display = window.getComputedStyle(gd).display;\n",
       "        if (!display || display === 'none') {{\n",
       "            console.log([gd, 'removed!']);\n",
       "            Plotly.purge(gd);\n",
       "            observer.disconnect();\n",
       "        }}\n",
       "}});\n",
       "\n",
       "// Listen for the removal of the full notebook cells\n",
       "var notebookContainer = gd.closest('#notebook-container');\n",
       "if (notebookContainer) {{\n",
       "    x.observe(notebookContainer, {childList: true});\n",
       "}}\n",
       "\n",
       "// Listen for the clearing of the current output cell\n",
       "var outputEl = gd.closest('.output');\n",
       "if (outputEl) {{\n",
       "    x.observe(outputEl, {childList: true});\n",
       "}}\n",
       "\n",
       "                        })                };                });            </script>        </div>"
      ]
     },
     "metadata": {},
     "output_type": "display_data"
    }
   ],
   "source": [
    "ana1 = df.index.day_name().value_counts()\n",
    "days = ('Monday', 'Tuesday', 'Wednesday', 'Thursday', 'Friday', 'Saturday', 'Sunday')\n",
    "values = tuple(ana1[i] for i in days)\n",
    "\n",
    "fig = px.bar(ana1,\n",
    "             x=days,\n",
    "             y=values,\n",
    "             color=values,\n",
    "             labels={'x': 'Day of Week', 'color':'Number of Tweets'},\n",
    "             template='plotly_dark',\n",
    "             text=values,\n",
    "             color_continuous_scale='Rainbow',\n",
    "            )\n",
    "\n",
    "fig.update_layout(xaxis_tickangle=-45,\n",
    "                  yaxis={'visible': False, 'showticklabels': False},\n",
    "                  font=dict(size=15),\n",
    "                 )\n",
    "\n",
    "fig.show()"
   ]
  },
  {
   "cell_type": "markdown",
   "metadata": {},
   "source": [
    "## Monthly Distribution"
   ]
  },
  {
   "cell_type": "code",
   "execution_count": 4,
   "metadata": {},
   "outputs": [],
   "source": [
    "ana2 = df.index.month_name().value_counts()"
   ]
  },
  {
   "cell_type": "code",
   "execution_count": 42,
   "metadata": {},
   "outputs": [
    {
     "data": {
      "application/vnd.plotly.v1+json": {
       "config": {
        "plotlyServerURL": "https://plot.ly"
       },
       "data": [
        {
         "hoverinfo": "label+value",
         "labels": [
          "March",
          "April",
          "May"
         ],
         "marker": {
          "line": {
           "color": "#eff542",
           "width": 2
          }
         },
         "pull": [
          0.2,
          0,
          0
         ],
         "showlegend": false,
         "textfont": {
          "size": 15
         },
         "textinfo": "label+percent",
         "title": {
          "text": "Contribution of Tweets from each Month"
         },
         "type": "pie",
         "values": [
          15935,
          15758,
          12486
         ]
        }
       ],
       "layout": {
        "font": {
         "size": 15
        },
        "template": {
         "data": {
          "bar": [
           {
            "error_x": {
             "color": "#f2f5fa"
            },
            "error_y": {
             "color": "#f2f5fa"
            },
            "marker": {
             "line": {
              "color": "rgb(17,17,17)",
              "width": 0.5
             }
            },
            "type": "bar"
           }
          ],
          "barpolar": [
           {
            "marker": {
             "line": {
              "color": "rgb(17,17,17)",
              "width": 0.5
             }
            },
            "type": "barpolar"
           }
          ],
          "carpet": [
           {
            "aaxis": {
             "endlinecolor": "#A2B1C6",
             "gridcolor": "#506784",
             "linecolor": "#506784",
             "minorgridcolor": "#506784",
             "startlinecolor": "#A2B1C6"
            },
            "baxis": {
             "endlinecolor": "#A2B1C6",
             "gridcolor": "#506784",
             "linecolor": "#506784",
             "minorgridcolor": "#506784",
             "startlinecolor": "#A2B1C6"
            },
            "type": "carpet"
           }
          ],
          "choropleth": [
           {
            "colorbar": {
             "outlinewidth": 0,
             "ticks": ""
            },
            "type": "choropleth"
           }
          ],
          "contour": [
           {
            "colorbar": {
             "outlinewidth": 0,
             "ticks": ""
            },
            "colorscale": [
             [
              0,
              "#0d0887"
             ],
             [
              0.1111111111111111,
              "#46039f"
             ],
             [
              0.2222222222222222,
              "#7201a8"
             ],
             [
              0.3333333333333333,
              "#9c179e"
             ],
             [
              0.4444444444444444,
              "#bd3786"
             ],
             [
              0.5555555555555556,
              "#d8576b"
             ],
             [
              0.6666666666666666,
              "#ed7953"
             ],
             [
              0.7777777777777778,
              "#fb9f3a"
             ],
             [
              0.8888888888888888,
              "#fdca26"
             ],
             [
              1,
              "#f0f921"
             ]
            ],
            "type": "contour"
           }
          ],
          "contourcarpet": [
           {
            "colorbar": {
             "outlinewidth": 0,
             "ticks": ""
            },
            "type": "contourcarpet"
           }
          ],
          "heatmap": [
           {
            "colorbar": {
             "outlinewidth": 0,
             "ticks": ""
            },
            "colorscale": [
             [
              0,
              "#0d0887"
             ],
             [
              0.1111111111111111,
              "#46039f"
             ],
             [
              0.2222222222222222,
              "#7201a8"
             ],
             [
              0.3333333333333333,
              "#9c179e"
             ],
             [
              0.4444444444444444,
              "#bd3786"
             ],
             [
              0.5555555555555556,
              "#d8576b"
             ],
             [
              0.6666666666666666,
              "#ed7953"
             ],
             [
              0.7777777777777778,
              "#fb9f3a"
             ],
             [
              0.8888888888888888,
              "#fdca26"
             ],
             [
              1,
              "#f0f921"
             ]
            ],
            "type": "heatmap"
           }
          ],
          "heatmapgl": [
           {
            "colorbar": {
             "outlinewidth": 0,
             "ticks": ""
            },
            "colorscale": [
             [
              0,
              "#0d0887"
             ],
             [
              0.1111111111111111,
              "#46039f"
             ],
             [
              0.2222222222222222,
              "#7201a8"
             ],
             [
              0.3333333333333333,
              "#9c179e"
             ],
             [
              0.4444444444444444,
              "#bd3786"
             ],
             [
              0.5555555555555556,
              "#d8576b"
             ],
             [
              0.6666666666666666,
              "#ed7953"
             ],
             [
              0.7777777777777778,
              "#fb9f3a"
             ],
             [
              0.8888888888888888,
              "#fdca26"
             ],
             [
              1,
              "#f0f921"
             ]
            ],
            "type": "heatmapgl"
           }
          ],
          "histogram": [
           {
            "marker": {
             "colorbar": {
              "outlinewidth": 0,
              "ticks": ""
             }
            },
            "type": "histogram"
           }
          ],
          "histogram2d": [
           {
            "colorbar": {
             "outlinewidth": 0,
             "ticks": ""
            },
            "colorscale": [
             [
              0,
              "#0d0887"
             ],
             [
              0.1111111111111111,
              "#46039f"
             ],
             [
              0.2222222222222222,
              "#7201a8"
             ],
             [
              0.3333333333333333,
              "#9c179e"
             ],
             [
              0.4444444444444444,
              "#bd3786"
             ],
             [
              0.5555555555555556,
              "#d8576b"
             ],
             [
              0.6666666666666666,
              "#ed7953"
             ],
             [
              0.7777777777777778,
              "#fb9f3a"
             ],
             [
              0.8888888888888888,
              "#fdca26"
             ],
             [
              1,
              "#f0f921"
             ]
            ],
            "type": "histogram2d"
           }
          ],
          "histogram2dcontour": [
           {
            "colorbar": {
             "outlinewidth": 0,
             "ticks": ""
            },
            "colorscale": [
             [
              0,
              "#0d0887"
             ],
             [
              0.1111111111111111,
              "#46039f"
             ],
             [
              0.2222222222222222,
              "#7201a8"
             ],
             [
              0.3333333333333333,
              "#9c179e"
             ],
             [
              0.4444444444444444,
              "#bd3786"
             ],
             [
              0.5555555555555556,
              "#d8576b"
             ],
             [
              0.6666666666666666,
              "#ed7953"
             ],
             [
              0.7777777777777778,
              "#fb9f3a"
             ],
             [
              0.8888888888888888,
              "#fdca26"
             ],
             [
              1,
              "#f0f921"
             ]
            ],
            "type": "histogram2dcontour"
           }
          ],
          "mesh3d": [
           {
            "colorbar": {
             "outlinewidth": 0,
             "ticks": ""
            },
            "type": "mesh3d"
           }
          ],
          "parcoords": [
           {
            "line": {
             "colorbar": {
              "outlinewidth": 0,
              "ticks": ""
             }
            },
            "type": "parcoords"
           }
          ],
          "pie": [
           {
            "automargin": true,
            "type": "pie"
           }
          ],
          "scatter": [
           {
            "marker": {
             "line": {
              "color": "#283442"
             }
            },
            "type": "scatter"
           }
          ],
          "scatter3d": [
           {
            "line": {
             "colorbar": {
              "outlinewidth": 0,
              "ticks": ""
             }
            },
            "marker": {
             "colorbar": {
              "outlinewidth": 0,
              "ticks": ""
             }
            },
            "type": "scatter3d"
           }
          ],
          "scattercarpet": [
           {
            "marker": {
             "colorbar": {
              "outlinewidth": 0,
              "ticks": ""
             }
            },
            "type": "scattercarpet"
           }
          ],
          "scattergeo": [
           {
            "marker": {
             "colorbar": {
              "outlinewidth": 0,
              "ticks": ""
             }
            },
            "type": "scattergeo"
           }
          ],
          "scattergl": [
           {
            "marker": {
             "line": {
              "color": "#283442"
             }
            },
            "type": "scattergl"
           }
          ],
          "scattermapbox": [
           {
            "marker": {
             "colorbar": {
              "outlinewidth": 0,
              "ticks": ""
             }
            },
            "type": "scattermapbox"
           }
          ],
          "scatterpolar": [
           {
            "marker": {
             "colorbar": {
              "outlinewidth": 0,
              "ticks": ""
             }
            },
            "type": "scatterpolar"
           }
          ],
          "scatterpolargl": [
           {
            "marker": {
             "colorbar": {
              "outlinewidth": 0,
              "ticks": ""
             }
            },
            "type": "scatterpolargl"
           }
          ],
          "scatterternary": [
           {
            "marker": {
             "colorbar": {
              "outlinewidth": 0,
              "ticks": ""
             }
            },
            "type": "scatterternary"
           }
          ],
          "surface": [
           {
            "colorbar": {
             "outlinewidth": 0,
             "ticks": ""
            },
            "colorscale": [
             [
              0,
              "#0d0887"
             ],
             [
              0.1111111111111111,
              "#46039f"
             ],
             [
              0.2222222222222222,
              "#7201a8"
             ],
             [
              0.3333333333333333,
              "#9c179e"
             ],
             [
              0.4444444444444444,
              "#bd3786"
             ],
             [
              0.5555555555555556,
              "#d8576b"
             ],
             [
              0.6666666666666666,
              "#ed7953"
             ],
             [
              0.7777777777777778,
              "#fb9f3a"
             ],
             [
              0.8888888888888888,
              "#fdca26"
             ],
             [
              1,
              "#f0f921"
             ]
            ],
            "type": "surface"
           }
          ],
          "table": [
           {
            "cells": {
             "fill": {
              "color": "#506784"
             },
             "line": {
              "color": "rgb(17,17,17)"
             }
            },
            "header": {
             "fill": {
              "color": "#2a3f5f"
             },
             "line": {
              "color": "rgb(17,17,17)"
             }
            },
            "type": "table"
           }
          ]
         },
         "layout": {
          "annotationdefaults": {
           "arrowcolor": "#f2f5fa",
           "arrowhead": 0,
           "arrowwidth": 1
          },
          "autotypenumbers": "strict",
          "coloraxis": {
           "colorbar": {
            "outlinewidth": 0,
            "ticks": ""
           }
          },
          "colorscale": {
           "diverging": [
            [
             0,
             "#8e0152"
            ],
            [
             0.1,
             "#c51b7d"
            ],
            [
             0.2,
             "#de77ae"
            ],
            [
             0.3,
             "#f1b6da"
            ],
            [
             0.4,
             "#fde0ef"
            ],
            [
             0.5,
             "#f7f7f7"
            ],
            [
             0.6,
             "#e6f5d0"
            ],
            [
             0.7,
             "#b8e186"
            ],
            [
             0.8,
             "#7fbc41"
            ],
            [
             0.9,
             "#4d9221"
            ],
            [
             1,
             "#276419"
            ]
           ],
           "sequential": [
            [
             0,
             "#0d0887"
            ],
            [
             0.1111111111111111,
             "#46039f"
            ],
            [
             0.2222222222222222,
             "#7201a8"
            ],
            [
             0.3333333333333333,
             "#9c179e"
            ],
            [
             0.4444444444444444,
             "#bd3786"
            ],
            [
             0.5555555555555556,
             "#d8576b"
            ],
            [
             0.6666666666666666,
             "#ed7953"
            ],
            [
             0.7777777777777778,
             "#fb9f3a"
            ],
            [
             0.8888888888888888,
             "#fdca26"
            ],
            [
             1,
             "#f0f921"
            ]
           ],
           "sequentialminus": [
            [
             0,
             "#0d0887"
            ],
            [
             0.1111111111111111,
             "#46039f"
            ],
            [
             0.2222222222222222,
             "#7201a8"
            ],
            [
             0.3333333333333333,
             "#9c179e"
            ],
            [
             0.4444444444444444,
             "#bd3786"
            ],
            [
             0.5555555555555556,
             "#d8576b"
            ],
            [
             0.6666666666666666,
             "#ed7953"
            ],
            [
             0.7777777777777778,
             "#fb9f3a"
            ],
            [
             0.8888888888888888,
             "#fdca26"
            ],
            [
             1,
             "#f0f921"
            ]
           ]
          },
          "colorway": [
           "#636efa",
           "#EF553B",
           "#00cc96",
           "#ab63fa",
           "#FFA15A",
           "#19d3f3",
           "#FF6692",
           "#B6E880",
           "#FF97FF",
           "#FECB52"
          ],
          "font": {
           "color": "#f2f5fa"
          },
          "geo": {
           "bgcolor": "rgb(17,17,17)",
           "lakecolor": "rgb(17,17,17)",
           "landcolor": "rgb(17,17,17)",
           "showlakes": true,
           "showland": true,
           "subunitcolor": "#506784"
          },
          "hoverlabel": {
           "align": "left"
          },
          "hovermode": "closest",
          "mapbox": {
           "style": "dark"
          },
          "paper_bgcolor": "rgb(17,17,17)",
          "plot_bgcolor": "rgb(17,17,17)",
          "polar": {
           "angularaxis": {
            "gridcolor": "#506784",
            "linecolor": "#506784",
            "ticks": ""
           },
           "bgcolor": "rgb(17,17,17)",
           "radialaxis": {
            "gridcolor": "#506784",
            "linecolor": "#506784",
            "ticks": ""
           }
          },
          "scene": {
           "xaxis": {
            "backgroundcolor": "rgb(17,17,17)",
            "gridcolor": "#506784",
            "gridwidth": 2,
            "linecolor": "#506784",
            "showbackground": true,
            "ticks": "",
            "zerolinecolor": "#C8D4E3"
           },
           "yaxis": {
            "backgroundcolor": "rgb(17,17,17)",
            "gridcolor": "#506784",
            "gridwidth": 2,
            "linecolor": "#506784",
            "showbackground": true,
            "ticks": "",
            "zerolinecolor": "#C8D4E3"
           },
           "zaxis": {
            "backgroundcolor": "rgb(17,17,17)",
            "gridcolor": "#506784",
            "gridwidth": 2,
            "linecolor": "#506784",
            "showbackground": true,
            "ticks": "",
            "zerolinecolor": "#C8D4E3"
           }
          },
          "shapedefaults": {
           "line": {
            "color": "#f2f5fa"
           }
          },
          "sliderdefaults": {
           "bgcolor": "#C8D4E3",
           "bordercolor": "rgb(17,17,17)",
           "borderwidth": 1,
           "tickwidth": 0
          },
          "ternary": {
           "aaxis": {
            "gridcolor": "#506784",
            "linecolor": "#506784",
            "ticks": ""
           },
           "baxis": {
            "gridcolor": "#506784",
            "linecolor": "#506784",
            "ticks": ""
           },
           "bgcolor": "rgb(17,17,17)",
           "caxis": {
            "gridcolor": "#506784",
            "linecolor": "#506784",
            "ticks": ""
           }
          },
          "title": {
           "x": 0.05
          },
          "updatemenudefaults": {
           "bgcolor": "#506784",
           "borderwidth": 0
          },
          "xaxis": {
           "automargin": true,
           "gridcolor": "#283442",
           "linecolor": "#506784",
           "ticks": "",
           "title": {
            "standoff": 15
           },
           "zerolinecolor": "#283442",
           "zerolinewidth": 2
          },
          "yaxis": {
           "automargin": true,
           "gridcolor": "#283442",
           "linecolor": "#506784",
           "ticks": "",
           "title": {
            "standoff": 15
           },
           "zerolinecolor": "#283442",
           "zerolinewidth": 2
          }
         }
        }
       }
      },
      "text/html": [
       "<div>                            <div id=\"91413e5d-f617-4c95-a796-b4d350f0ca5d\" class=\"plotly-graph-div\" style=\"height:525px; width:100%;\"></div>            <script type=\"text/javascript\">                require([\"plotly\"], function(Plotly) {                    window.PLOTLYENV=window.PLOTLYENV || {};                                    if (document.getElementById(\"91413e5d-f617-4c95-a796-b4d350f0ca5d\")) {                    Plotly.newPlot(                        \"91413e5d-f617-4c95-a796-b4d350f0ca5d\",                        [{\"hoverinfo\": \"label+value\", \"labels\": [\"March\", \"April\", \"May\"], \"marker\": {\"line\": {\"color\": \"#eff542\", \"width\": 2}}, \"pull\": [0.2, 0, 0], \"showlegend\": false, \"textfont\": {\"size\": 15}, \"textinfo\": \"label+percent\", \"title\": {\"text\": \"Contribution of Tweets from each Month\"}, \"type\": \"pie\", \"values\": [15935, 15758, 12486]}],                        {\"font\": {\"size\": 15}, \"template\": {\"data\": {\"bar\": [{\"error_x\": {\"color\": \"#f2f5fa\"}, \"error_y\": {\"color\": \"#f2f5fa\"}, \"marker\": {\"line\": {\"color\": \"rgb(17,17,17)\", \"width\": 0.5}}, \"type\": \"bar\"}], \"barpolar\": [{\"marker\": {\"line\": {\"color\": \"rgb(17,17,17)\", \"width\": 0.5}}, \"type\": \"barpolar\"}], \"carpet\": [{\"aaxis\": {\"endlinecolor\": \"#A2B1C6\", \"gridcolor\": \"#506784\", \"linecolor\": \"#506784\", \"minorgridcolor\": \"#506784\", \"startlinecolor\": \"#A2B1C6\"}, \"baxis\": {\"endlinecolor\": \"#A2B1C6\", \"gridcolor\": \"#506784\", \"linecolor\": \"#506784\", \"minorgridcolor\": \"#506784\", \"startlinecolor\": \"#A2B1C6\"}, \"type\": \"carpet\"}], \"choropleth\": [{\"colorbar\": {\"outlinewidth\": 0, \"ticks\": \"\"}, \"type\": \"choropleth\"}], \"contour\": [{\"colorbar\": {\"outlinewidth\": 0, \"ticks\": \"\"}, \"colorscale\": [[0.0, \"#0d0887\"], [0.1111111111111111, \"#46039f\"], [0.2222222222222222, \"#7201a8\"], [0.3333333333333333, \"#9c179e\"], [0.4444444444444444, \"#bd3786\"], [0.5555555555555556, \"#d8576b\"], [0.6666666666666666, \"#ed7953\"], [0.7777777777777778, \"#fb9f3a\"], [0.8888888888888888, \"#fdca26\"], [1.0, \"#f0f921\"]], \"type\": \"contour\"}], \"contourcarpet\": [{\"colorbar\": {\"outlinewidth\": 0, \"ticks\": \"\"}, \"type\": \"contourcarpet\"}], \"heatmap\": [{\"colorbar\": {\"outlinewidth\": 0, \"ticks\": \"\"}, \"colorscale\": [[0.0, \"#0d0887\"], [0.1111111111111111, \"#46039f\"], [0.2222222222222222, \"#7201a8\"], [0.3333333333333333, \"#9c179e\"], [0.4444444444444444, \"#bd3786\"], [0.5555555555555556, \"#d8576b\"], [0.6666666666666666, \"#ed7953\"], [0.7777777777777778, \"#fb9f3a\"], [0.8888888888888888, \"#fdca26\"], [1.0, \"#f0f921\"]], \"type\": \"heatmap\"}], \"heatmapgl\": [{\"colorbar\": {\"outlinewidth\": 0, \"ticks\": \"\"}, \"colorscale\": [[0.0, \"#0d0887\"], [0.1111111111111111, \"#46039f\"], [0.2222222222222222, \"#7201a8\"], [0.3333333333333333, \"#9c179e\"], [0.4444444444444444, \"#bd3786\"], [0.5555555555555556, \"#d8576b\"], [0.6666666666666666, \"#ed7953\"], [0.7777777777777778, \"#fb9f3a\"], [0.8888888888888888, \"#fdca26\"], [1.0, \"#f0f921\"]], \"type\": \"heatmapgl\"}], \"histogram\": [{\"marker\": {\"colorbar\": {\"outlinewidth\": 0, \"ticks\": \"\"}}, \"type\": \"histogram\"}], \"histogram2d\": [{\"colorbar\": {\"outlinewidth\": 0, \"ticks\": \"\"}, \"colorscale\": [[0.0, \"#0d0887\"], [0.1111111111111111, \"#46039f\"], [0.2222222222222222, \"#7201a8\"], [0.3333333333333333, \"#9c179e\"], [0.4444444444444444, \"#bd3786\"], [0.5555555555555556, \"#d8576b\"], [0.6666666666666666, \"#ed7953\"], [0.7777777777777778, \"#fb9f3a\"], [0.8888888888888888, \"#fdca26\"], [1.0, \"#f0f921\"]], \"type\": \"histogram2d\"}], \"histogram2dcontour\": [{\"colorbar\": {\"outlinewidth\": 0, \"ticks\": \"\"}, \"colorscale\": [[0.0, \"#0d0887\"], [0.1111111111111111, \"#46039f\"], [0.2222222222222222, \"#7201a8\"], [0.3333333333333333, \"#9c179e\"], [0.4444444444444444, \"#bd3786\"], [0.5555555555555556, \"#d8576b\"], [0.6666666666666666, \"#ed7953\"], [0.7777777777777778, \"#fb9f3a\"], [0.8888888888888888, \"#fdca26\"], [1.0, \"#f0f921\"]], \"type\": \"histogram2dcontour\"}], \"mesh3d\": [{\"colorbar\": {\"outlinewidth\": 0, \"ticks\": \"\"}, \"type\": \"mesh3d\"}], \"parcoords\": [{\"line\": {\"colorbar\": {\"outlinewidth\": 0, \"ticks\": \"\"}}, \"type\": \"parcoords\"}], \"pie\": [{\"automargin\": true, \"type\": \"pie\"}], \"scatter\": [{\"marker\": {\"line\": {\"color\": \"#283442\"}}, \"type\": \"scatter\"}], \"scatter3d\": [{\"line\": {\"colorbar\": {\"outlinewidth\": 0, \"ticks\": \"\"}}, \"marker\": {\"colorbar\": {\"outlinewidth\": 0, \"ticks\": \"\"}}, \"type\": \"scatter3d\"}], \"scattercarpet\": [{\"marker\": {\"colorbar\": {\"outlinewidth\": 0, \"ticks\": \"\"}}, \"type\": \"scattercarpet\"}], \"scattergeo\": [{\"marker\": {\"colorbar\": {\"outlinewidth\": 0, \"ticks\": \"\"}}, \"type\": \"scattergeo\"}], \"scattergl\": [{\"marker\": {\"line\": {\"color\": \"#283442\"}}, \"type\": \"scattergl\"}], \"scattermapbox\": [{\"marker\": {\"colorbar\": {\"outlinewidth\": 0, \"ticks\": \"\"}}, \"type\": \"scattermapbox\"}], \"scatterpolar\": [{\"marker\": {\"colorbar\": {\"outlinewidth\": 0, \"ticks\": \"\"}}, \"type\": \"scatterpolar\"}], \"scatterpolargl\": [{\"marker\": {\"colorbar\": {\"outlinewidth\": 0, \"ticks\": \"\"}}, \"type\": \"scatterpolargl\"}], \"scatterternary\": [{\"marker\": {\"colorbar\": {\"outlinewidth\": 0, \"ticks\": \"\"}}, \"type\": \"scatterternary\"}], \"surface\": [{\"colorbar\": {\"outlinewidth\": 0, \"ticks\": \"\"}, \"colorscale\": [[0.0, \"#0d0887\"], [0.1111111111111111, \"#46039f\"], [0.2222222222222222, \"#7201a8\"], [0.3333333333333333, \"#9c179e\"], [0.4444444444444444, \"#bd3786\"], [0.5555555555555556, \"#d8576b\"], [0.6666666666666666, \"#ed7953\"], [0.7777777777777778, \"#fb9f3a\"], [0.8888888888888888, \"#fdca26\"], [1.0, \"#f0f921\"]], \"type\": \"surface\"}], \"table\": [{\"cells\": {\"fill\": {\"color\": \"#506784\"}, \"line\": {\"color\": \"rgb(17,17,17)\"}}, \"header\": {\"fill\": {\"color\": \"#2a3f5f\"}, \"line\": {\"color\": \"rgb(17,17,17)\"}}, \"type\": \"table\"}]}, \"layout\": {\"annotationdefaults\": {\"arrowcolor\": \"#f2f5fa\", \"arrowhead\": 0, \"arrowwidth\": 1}, \"autotypenumbers\": \"strict\", \"coloraxis\": {\"colorbar\": {\"outlinewidth\": 0, \"ticks\": \"\"}}, \"colorscale\": {\"diverging\": [[0, \"#8e0152\"], [0.1, \"#c51b7d\"], [0.2, \"#de77ae\"], [0.3, \"#f1b6da\"], [0.4, \"#fde0ef\"], [0.5, \"#f7f7f7\"], [0.6, \"#e6f5d0\"], [0.7, \"#b8e186\"], [0.8, \"#7fbc41\"], [0.9, \"#4d9221\"], [1, \"#276419\"]], \"sequential\": [[0.0, \"#0d0887\"], [0.1111111111111111, \"#46039f\"], [0.2222222222222222, \"#7201a8\"], [0.3333333333333333, \"#9c179e\"], [0.4444444444444444, \"#bd3786\"], [0.5555555555555556, \"#d8576b\"], [0.6666666666666666, \"#ed7953\"], [0.7777777777777778, \"#fb9f3a\"], [0.8888888888888888, \"#fdca26\"], [1.0, \"#f0f921\"]], \"sequentialminus\": [[0.0, \"#0d0887\"], [0.1111111111111111, \"#46039f\"], [0.2222222222222222, \"#7201a8\"], [0.3333333333333333, \"#9c179e\"], [0.4444444444444444, \"#bd3786\"], [0.5555555555555556, \"#d8576b\"], [0.6666666666666666, \"#ed7953\"], [0.7777777777777778, \"#fb9f3a\"], [0.8888888888888888, \"#fdca26\"], [1.0, \"#f0f921\"]]}, \"colorway\": [\"#636efa\", \"#EF553B\", \"#00cc96\", \"#ab63fa\", \"#FFA15A\", \"#19d3f3\", \"#FF6692\", \"#B6E880\", \"#FF97FF\", \"#FECB52\"], \"font\": {\"color\": \"#f2f5fa\"}, \"geo\": {\"bgcolor\": \"rgb(17,17,17)\", \"lakecolor\": \"rgb(17,17,17)\", \"landcolor\": \"rgb(17,17,17)\", \"showlakes\": true, \"showland\": true, \"subunitcolor\": \"#506784\"}, \"hoverlabel\": {\"align\": \"left\"}, \"hovermode\": \"closest\", \"mapbox\": {\"style\": \"dark\"}, \"paper_bgcolor\": \"rgb(17,17,17)\", \"plot_bgcolor\": \"rgb(17,17,17)\", \"polar\": {\"angularaxis\": {\"gridcolor\": \"#506784\", \"linecolor\": \"#506784\", \"ticks\": \"\"}, \"bgcolor\": \"rgb(17,17,17)\", \"radialaxis\": {\"gridcolor\": \"#506784\", \"linecolor\": \"#506784\", \"ticks\": \"\"}}, \"scene\": {\"xaxis\": {\"backgroundcolor\": \"rgb(17,17,17)\", \"gridcolor\": \"#506784\", \"gridwidth\": 2, \"linecolor\": \"#506784\", \"showbackground\": true, \"ticks\": \"\", \"zerolinecolor\": \"#C8D4E3\"}, \"yaxis\": {\"backgroundcolor\": \"rgb(17,17,17)\", \"gridcolor\": \"#506784\", \"gridwidth\": 2, \"linecolor\": \"#506784\", \"showbackground\": true, \"ticks\": \"\", \"zerolinecolor\": \"#C8D4E3\"}, \"zaxis\": {\"backgroundcolor\": \"rgb(17,17,17)\", \"gridcolor\": \"#506784\", \"gridwidth\": 2, \"linecolor\": \"#506784\", \"showbackground\": true, \"ticks\": \"\", \"zerolinecolor\": \"#C8D4E3\"}}, \"shapedefaults\": {\"line\": {\"color\": \"#f2f5fa\"}}, \"sliderdefaults\": {\"bgcolor\": \"#C8D4E3\", \"bordercolor\": \"rgb(17,17,17)\", \"borderwidth\": 1, \"tickwidth\": 0}, \"ternary\": {\"aaxis\": {\"gridcolor\": \"#506784\", \"linecolor\": \"#506784\", \"ticks\": \"\"}, \"baxis\": {\"gridcolor\": \"#506784\", \"linecolor\": \"#506784\", \"ticks\": \"\"}, \"bgcolor\": \"rgb(17,17,17)\", \"caxis\": {\"gridcolor\": \"#506784\", \"linecolor\": \"#506784\", \"ticks\": \"\"}}, \"title\": {\"x\": 0.05}, \"updatemenudefaults\": {\"bgcolor\": \"#506784\", \"borderwidth\": 0}, \"xaxis\": {\"automargin\": true, \"gridcolor\": \"#283442\", \"linecolor\": \"#506784\", \"ticks\": \"\", \"title\": {\"standoff\": 15}, \"zerolinecolor\": \"#283442\", \"zerolinewidth\": 2}, \"yaxis\": {\"automargin\": true, \"gridcolor\": \"#283442\", \"linecolor\": \"#506784\", \"ticks\": \"\", \"title\": {\"standoff\": 15}, \"zerolinecolor\": \"#283442\", \"zerolinewidth\": 2}}}},                        {\"responsive\": true}                    ).then(function(){\n",
       "                            \n",
       "var gd = document.getElementById('91413e5d-f617-4c95-a796-b4d350f0ca5d');\n",
       "var x = new MutationObserver(function (mutations, observer) {{\n",
       "        var display = window.getComputedStyle(gd).display;\n",
       "        if (!display || display === 'none') {{\n",
       "            console.log([gd, 'removed!']);\n",
       "            Plotly.purge(gd);\n",
       "            observer.disconnect();\n",
       "        }}\n",
       "}});\n",
       "\n",
       "// Listen for the removal of the full notebook cells\n",
       "var notebookContainer = gd.closest('#notebook-container');\n",
       "if (notebookContainer) {{\n",
       "    x.observe(notebookContainer, {childList: true});\n",
       "}}\n",
       "\n",
       "// Listen for the clearing of the current output cell\n",
       "var outputEl = gd.closest('.output');\n",
       "if (outputEl) {{\n",
       "    x.observe(outputEl, {childList: true});\n",
       "}}\n",
       "\n",
       "                        })                };                });            </script>        </div>"
      ]
     },
     "metadata": {},
     "output_type": "display_data"
    }
   ],
   "source": [
    "fig = go.Figure(data=[go.Pie(labels=ana2.index,\n",
    "                             values=ana2.values,\n",
    "                             textinfo='label+percent',\n",
    "                             pull=[0.2, 0, 0],\n",
    "                             title='Contribution of Tweets from each Month'\n",
    "                             )])\n",
    "\n",
    "fig.update_traces(hoverinfo='label+value',  textfont_size=15, \n",
    "                  marker=dict(line=dict(color='#eff542', width=2)), showlegend=False)\n",
    "\n",
    "fig.update_layout(template='plotly_dark',\n",
    "                  font=dict(size=15))\n",
    "\n",
    "fig.show();"
   ]
  },
  {
   "cell_type": "markdown",
   "metadata": {},
   "source": [
    "### March  Day Distribution"
   ]
  },
  {
   "cell_type": "code",
   "execution_count": 64,
   "metadata": {},
   "outputs": [
    {
     "data": {
      "application/vnd.plotly.v1+json": {
       "config": {
        "plotlyServerURL": "https://plot.ly"
       },
       "data": [
        {
         "alignmentgroup": "True",
         "hovertemplate": "March Day's=%{x}<br>y=%{y}<br>text=%{text}<br>Number of Tweets=%{marker.color}<extra></extra>",
         "legendgroup": "",
         "marker": {
          "color": [
           2985,
           2888,
           2798,
           2611,
           1789,
           1536,
           1328
          ],
          "coloraxis": "coloraxis"
         },
         "name": "",
         "offsetgroup": "",
         "orientation": "v",
         "showlegend": false,
         "text": [
          2985,
          2888,
          2798,
          2611,
          1789,
          1536,
          1328
         ],
         "textposition": "auto",
         "type": "bar",
         "x": [
          28,
          26,
          31,
          27,
          25,
          29,
          30
         ],
         "xaxis": "x",
         "y": [
          2985,
          2888,
          2798,
          2611,
          1789,
          1536,
          1328
         ],
         "yaxis": "y"
        }
       ],
       "layout": {
        "barmode": "relative",
        "coloraxis": {
         "colorbar": {
          "title": {
           "text": "Number of Tweets"
          }
         },
         "colorscale": [
          [
           0,
           "rgb(150,0,90)"
          ],
          [
           0.125,
           "rgb(0,0,200)"
          ],
          [
           0.25,
           "rgb(0,25,255)"
          ],
          [
           0.375,
           "rgb(0,152,255)"
          ],
          [
           0.5,
           "rgb(44,255,150)"
          ],
          [
           0.625,
           "rgb(151,255,0)"
          ],
          [
           0.75,
           "rgb(255,234,0)"
          ],
          [
           0.875,
           "rgb(255,111,0)"
          ],
          [
           1,
           "rgb(255,0,0)"
          ]
         ]
        },
        "font": {
         "size": 15
        },
        "legend": {
         "tracegroupgap": 0
        },
        "margin": {
         "t": 60
        },
        "template": {
         "data": {
          "bar": [
           {
            "error_x": {
             "color": "#f2f5fa"
            },
            "error_y": {
             "color": "#f2f5fa"
            },
            "marker": {
             "line": {
              "color": "rgb(17,17,17)",
              "width": 0.5
             }
            },
            "type": "bar"
           }
          ],
          "barpolar": [
           {
            "marker": {
             "line": {
              "color": "rgb(17,17,17)",
              "width": 0.5
             }
            },
            "type": "barpolar"
           }
          ],
          "carpet": [
           {
            "aaxis": {
             "endlinecolor": "#A2B1C6",
             "gridcolor": "#506784",
             "linecolor": "#506784",
             "minorgridcolor": "#506784",
             "startlinecolor": "#A2B1C6"
            },
            "baxis": {
             "endlinecolor": "#A2B1C6",
             "gridcolor": "#506784",
             "linecolor": "#506784",
             "minorgridcolor": "#506784",
             "startlinecolor": "#A2B1C6"
            },
            "type": "carpet"
           }
          ],
          "choropleth": [
           {
            "colorbar": {
             "outlinewidth": 0,
             "ticks": ""
            },
            "type": "choropleth"
           }
          ],
          "contour": [
           {
            "colorbar": {
             "outlinewidth": 0,
             "ticks": ""
            },
            "colorscale": [
             [
              0,
              "#0d0887"
             ],
             [
              0.1111111111111111,
              "#46039f"
             ],
             [
              0.2222222222222222,
              "#7201a8"
             ],
             [
              0.3333333333333333,
              "#9c179e"
             ],
             [
              0.4444444444444444,
              "#bd3786"
             ],
             [
              0.5555555555555556,
              "#d8576b"
             ],
             [
              0.6666666666666666,
              "#ed7953"
             ],
             [
              0.7777777777777778,
              "#fb9f3a"
             ],
             [
              0.8888888888888888,
              "#fdca26"
             ],
             [
              1,
              "#f0f921"
             ]
            ],
            "type": "contour"
           }
          ],
          "contourcarpet": [
           {
            "colorbar": {
             "outlinewidth": 0,
             "ticks": ""
            },
            "type": "contourcarpet"
           }
          ],
          "heatmap": [
           {
            "colorbar": {
             "outlinewidth": 0,
             "ticks": ""
            },
            "colorscale": [
             [
              0,
              "#0d0887"
             ],
             [
              0.1111111111111111,
              "#46039f"
             ],
             [
              0.2222222222222222,
              "#7201a8"
             ],
             [
              0.3333333333333333,
              "#9c179e"
             ],
             [
              0.4444444444444444,
              "#bd3786"
             ],
             [
              0.5555555555555556,
              "#d8576b"
             ],
             [
              0.6666666666666666,
              "#ed7953"
             ],
             [
              0.7777777777777778,
              "#fb9f3a"
             ],
             [
              0.8888888888888888,
              "#fdca26"
             ],
             [
              1,
              "#f0f921"
             ]
            ],
            "type": "heatmap"
           }
          ],
          "heatmapgl": [
           {
            "colorbar": {
             "outlinewidth": 0,
             "ticks": ""
            },
            "colorscale": [
             [
              0,
              "#0d0887"
             ],
             [
              0.1111111111111111,
              "#46039f"
             ],
             [
              0.2222222222222222,
              "#7201a8"
             ],
             [
              0.3333333333333333,
              "#9c179e"
             ],
             [
              0.4444444444444444,
              "#bd3786"
             ],
             [
              0.5555555555555556,
              "#d8576b"
             ],
             [
              0.6666666666666666,
              "#ed7953"
             ],
             [
              0.7777777777777778,
              "#fb9f3a"
             ],
             [
              0.8888888888888888,
              "#fdca26"
             ],
             [
              1,
              "#f0f921"
             ]
            ],
            "type": "heatmapgl"
           }
          ],
          "histogram": [
           {
            "marker": {
             "colorbar": {
              "outlinewidth": 0,
              "ticks": ""
             }
            },
            "type": "histogram"
           }
          ],
          "histogram2d": [
           {
            "colorbar": {
             "outlinewidth": 0,
             "ticks": ""
            },
            "colorscale": [
             [
              0,
              "#0d0887"
             ],
             [
              0.1111111111111111,
              "#46039f"
             ],
             [
              0.2222222222222222,
              "#7201a8"
             ],
             [
              0.3333333333333333,
              "#9c179e"
             ],
             [
              0.4444444444444444,
              "#bd3786"
             ],
             [
              0.5555555555555556,
              "#d8576b"
             ],
             [
              0.6666666666666666,
              "#ed7953"
             ],
             [
              0.7777777777777778,
              "#fb9f3a"
             ],
             [
              0.8888888888888888,
              "#fdca26"
             ],
             [
              1,
              "#f0f921"
             ]
            ],
            "type": "histogram2d"
           }
          ],
          "histogram2dcontour": [
           {
            "colorbar": {
             "outlinewidth": 0,
             "ticks": ""
            },
            "colorscale": [
             [
              0,
              "#0d0887"
             ],
             [
              0.1111111111111111,
              "#46039f"
             ],
             [
              0.2222222222222222,
              "#7201a8"
             ],
             [
              0.3333333333333333,
              "#9c179e"
             ],
             [
              0.4444444444444444,
              "#bd3786"
             ],
             [
              0.5555555555555556,
              "#d8576b"
             ],
             [
              0.6666666666666666,
              "#ed7953"
             ],
             [
              0.7777777777777778,
              "#fb9f3a"
             ],
             [
              0.8888888888888888,
              "#fdca26"
             ],
             [
              1,
              "#f0f921"
             ]
            ],
            "type": "histogram2dcontour"
           }
          ],
          "mesh3d": [
           {
            "colorbar": {
             "outlinewidth": 0,
             "ticks": ""
            },
            "type": "mesh3d"
           }
          ],
          "parcoords": [
           {
            "line": {
             "colorbar": {
              "outlinewidth": 0,
              "ticks": ""
             }
            },
            "type": "parcoords"
           }
          ],
          "pie": [
           {
            "automargin": true,
            "type": "pie"
           }
          ],
          "scatter": [
           {
            "marker": {
             "line": {
              "color": "#283442"
             }
            },
            "type": "scatter"
           }
          ],
          "scatter3d": [
           {
            "line": {
             "colorbar": {
              "outlinewidth": 0,
              "ticks": ""
             }
            },
            "marker": {
             "colorbar": {
              "outlinewidth": 0,
              "ticks": ""
             }
            },
            "type": "scatter3d"
           }
          ],
          "scattercarpet": [
           {
            "marker": {
             "colorbar": {
              "outlinewidth": 0,
              "ticks": ""
             }
            },
            "type": "scattercarpet"
           }
          ],
          "scattergeo": [
           {
            "marker": {
             "colorbar": {
              "outlinewidth": 0,
              "ticks": ""
             }
            },
            "type": "scattergeo"
           }
          ],
          "scattergl": [
           {
            "marker": {
             "line": {
              "color": "#283442"
             }
            },
            "type": "scattergl"
           }
          ],
          "scattermapbox": [
           {
            "marker": {
             "colorbar": {
              "outlinewidth": 0,
              "ticks": ""
             }
            },
            "type": "scattermapbox"
           }
          ],
          "scatterpolar": [
           {
            "marker": {
             "colorbar": {
              "outlinewidth": 0,
              "ticks": ""
             }
            },
            "type": "scatterpolar"
           }
          ],
          "scatterpolargl": [
           {
            "marker": {
             "colorbar": {
              "outlinewidth": 0,
              "ticks": ""
             }
            },
            "type": "scatterpolargl"
           }
          ],
          "scatterternary": [
           {
            "marker": {
             "colorbar": {
              "outlinewidth": 0,
              "ticks": ""
             }
            },
            "type": "scatterternary"
           }
          ],
          "surface": [
           {
            "colorbar": {
             "outlinewidth": 0,
             "ticks": ""
            },
            "colorscale": [
             [
              0,
              "#0d0887"
             ],
             [
              0.1111111111111111,
              "#46039f"
             ],
             [
              0.2222222222222222,
              "#7201a8"
             ],
             [
              0.3333333333333333,
              "#9c179e"
             ],
             [
              0.4444444444444444,
              "#bd3786"
             ],
             [
              0.5555555555555556,
              "#d8576b"
             ],
             [
              0.6666666666666666,
              "#ed7953"
             ],
             [
              0.7777777777777778,
              "#fb9f3a"
             ],
             [
              0.8888888888888888,
              "#fdca26"
             ],
             [
              1,
              "#f0f921"
             ]
            ],
            "type": "surface"
           }
          ],
          "table": [
           {
            "cells": {
             "fill": {
              "color": "#506784"
             },
             "line": {
              "color": "rgb(17,17,17)"
             }
            },
            "header": {
             "fill": {
              "color": "#2a3f5f"
             },
             "line": {
              "color": "rgb(17,17,17)"
             }
            },
            "type": "table"
           }
          ]
         },
         "layout": {
          "annotationdefaults": {
           "arrowcolor": "#f2f5fa",
           "arrowhead": 0,
           "arrowwidth": 1
          },
          "autotypenumbers": "strict",
          "coloraxis": {
           "colorbar": {
            "outlinewidth": 0,
            "ticks": ""
           }
          },
          "colorscale": {
           "diverging": [
            [
             0,
             "#8e0152"
            ],
            [
             0.1,
             "#c51b7d"
            ],
            [
             0.2,
             "#de77ae"
            ],
            [
             0.3,
             "#f1b6da"
            ],
            [
             0.4,
             "#fde0ef"
            ],
            [
             0.5,
             "#f7f7f7"
            ],
            [
             0.6,
             "#e6f5d0"
            ],
            [
             0.7,
             "#b8e186"
            ],
            [
             0.8,
             "#7fbc41"
            ],
            [
             0.9,
             "#4d9221"
            ],
            [
             1,
             "#276419"
            ]
           ],
           "sequential": [
            [
             0,
             "#0d0887"
            ],
            [
             0.1111111111111111,
             "#46039f"
            ],
            [
             0.2222222222222222,
             "#7201a8"
            ],
            [
             0.3333333333333333,
             "#9c179e"
            ],
            [
             0.4444444444444444,
             "#bd3786"
            ],
            [
             0.5555555555555556,
             "#d8576b"
            ],
            [
             0.6666666666666666,
             "#ed7953"
            ],
            [
             0.7777777777777778,
             "#fb9f3a"
            ],
            [
             0.8888888888888888,
             "#fdca26"
            ],
            [
             1,
             "#f0f921"
            ]
           ],
           "sequentialminus": [
            [
             0,
             "#0d0887"
            ],
            [
             0.1111111111111111,
             "#46039f"
            ],
            [
             0.2222222222222222,
             "#7201a8"
            ],
            [
             0.3333333333333333,
             "#9c179e"
            ],
            [
             0.4444444444444444,
             "#bd3786"
            ],
            [
             0.5555555555555556,
             "#d8576b"
            ],
            [
             0.6666666666666666,
             "#ed7953"
            ],
            [
             0.7777777777777778,
             "#fb9f3a"
            ],
            [
             0.8888888888888888,
             "#fdca26"
            ],
            [
             1,
             "#f0f921"
            ]
           ]
          },
          "colorway": [
           "#636efa",
           "#EF553B",
           "#00cc96",
           "#ab63fa",
           "#FFA15A",
           "#19d3f3",
           "#FF6692",
           "#B6E880",
           "#FF97FF",
           "#FECB52"
          ],
          "font": {
           "color": "#f2f5fa"
          },
          "geo": {
           "bgcolor": "rgb(17,17,17)",
           "lakecolor": "rgb(17,17,17)",
           "landcolor": "rgb(17,17,17)",
           "showlakes": true,
           "showland": true,
           "subunitcolor": "#506784"
          },
          "hoverlabel": {
           "align": "left"
          },
          "hovermode": "closest",
          "mapbox": {
           "style": "dark"
          },
          "paper_bgcolor": "rgb(17,17,17)",
          "plot_bgcolor": "rgb(17,17,17)",
          "polar": {
           "angularaxis": {
            "gridcolor": "#506784",
            "linecolor": "#506784",
            "ticks": ""
           },
           "bgcolor": "rgb(17,17,17)",
           "radialaxis": {
            "gridcolor": "#506784",
            "linecolor": "#506784",
            "ticks": ""
           }
          },
          "scene": {
           "xaxis": {
            "backgroundcolor": "rgb(17,17,17)",
            "gridcolor": "#506784",
            "gridwidth": 2,
            "linecolor": "#506784",
            "showbackground": true,
            "ticks": "",
            "zerolinecolor": "#C8D4E3"
           },
           "yaxis": {
            "backgroundcolor": "rgb(17,17,17)",
            "gridcolor": "#506784",
            "gridwidth": 2,
            "linecolor": "#506784",
            "showbackground": true,
            "ticks": "",
            "zerolinecolor": "#C8D4E3"
           },
           "zaxis": {
            "backgroundcolor": "rgb(17,17,17)",
            "gridcolor": "#506784",
            "gridwidth": 2,
            "linecolor": "#506784",
            "showbackground": true,
            "ticks": "",
            "zerolinecolor": "#C8D4E3"
           }
          },
          "shapedefaults": {
           "line": {
            "color": "#f2f5fa"
           }
          },
          "sliderdefaults": {
           "bgcolor": "#C8D4E3",
           "bordercolor": "rgb(17,17,17)",
           "borderwidth": 1,
           "tickwidth": 0
          },
          "ternary": {
           "aaxis": {
            "gridcolor": "#506784",
            "linecolor": "#506784",
            "ticks": ""
           },
           "baxis": {
            "gridcolor": "#506784",
            "linecolor": "#506784",
            "ticks": ""
           },
           "bgcolor": "rgb(17,17,17)",
           "caxis": {
            "gridcolor": "#506784",
            "linecolor": "#506784",
            "ticks": ""
           }
          },
          "title": {
           "x": 0.05
          },
          "updatemenudefaults": {
           "bgcolor": "#506784",
           "borderwidth": 0
          },
          "xaxis": {
           "automargin": true,
           "gridcolor": "#283442",
           "linecolor": "#506784",
           "ticks": "",
           "title": {
            "standoff": 15
           },
           "zerolinecolor": "#283442",
           "zerolinewidth": 2
          },
          "yaxis": {
           "automargin": true,
           "gridcolor": "#283442",
           "linecolor": "#506784",
           "ticks": "",
           "title": {
            "standoff": 15
           },
           "zerolinecolor": "#283442",
           "zerolinewidth": 2
          }
         }
        },
        "xaxis": {
         "anchor": "y",
         "domain": [
          0,
          1
         ],
         "tickangle": -45,
         "title": {
          "text": "March Day's"
         }
        },
        "yaxis": {
         "anchor": "x",
         "domain": [
          0,
          1
         ],
         "showticklabels": false,
         "title": {
          "text": "y"
         },
         "visible": false
        }
       }
      },
      "text/html": [
       "<div>                            <div id=\"d32e8dda-cb13-4e00-a832-88bf836793fd\" class=\"plotly-graph-div\" style=\"height:525px; width:100%;\"></div>            <script type=\"text/javascript\">                require([\"plotly\"], function(Plotly) {                    window.PLOTLYENV=window.PLOTLYENV || {};                                    if (document.getElementById(\"d32e8dda-cb13-4e00-a832-88bf836793fd\")) {                    Plotly.newPlot(                        \"d32e8dda-cb13-4e00-a832-88bf836793fd\",                        [{\"alignmentgroup\": \"True\", \"hovertemplate\": \"March Day's=%{x}<br>y=%{y}<br>text=%{text}<br>Number of Tweets=%{marker.color}<extra></extra>\", \"legendgroup\": \"\", \"marker\": {\"color\": [2985, 2888, 2798, 2611, 1789, 1536, 1328], \"coloraxis\": \"coloraxis\"}, \"name\": \"\", \"offsetgroup\": \"\", \"orientation\": \"v\", \"showlegend\": false, \"text\": [2985.0, 2888.0, 2798.0, 2611.0, 1789.0, 1536.0, 1328.0], \"textposition\": \"auto\", \"type\": \"bar\", \"x\": [28, 26, 31, 27, 25, 29, 30], \"xaxis\": \"x\", \"y\": [2985, 2888, 2798, 2611, 1789, 1536, 1328], \"yaxis\": \"y\"}],                        {\"barmode\": \"relative\", \"coloraxis\": {\"colorbar\": {\"title\": {\"text\": \"Number of Tweets\"}}, \"colorscale\": [[0.0, \"rgb(150,0,90)\"], [0.125, \"rgb(0,0,200)\"], [0.25, \"rgb(0,25,255)\"], [0.375, \"rgb(0,152,255)\"], [0.5, \"rgb(44,255,150)\"], [0.625, \"rgb(151,255,0)\"], [0.75, \"rgb(255,234,0)\"], [0.875, \"rgb(255,111,0)\"], [1.0, \"rgb(255,0,0)\"]]}, \"font\": {\"size\": 15}, \"legend\": {\"tracegroupgap\": 0}, \"margin\": {\"t\": 60}, \"template\": {\"data\": {\"bar\": [{\"error_x\": {\"color\": \"#f2f5fa\"}, \"error_y\": {\"color\": \"#f2f5fa\"}, \"marker\": {\"line\": {\"color\": \"rgb(17,17,17)\", \"width\": 0.5}}, \"type\": \"bar\"}], \"barpolar\": [{\"marker\": {\"line\": {\"color\": \"rgb(17,17,17)\", \"width\": 0.5}}, \"type\": \"barpolar\"}], \"carpet\": [{\"aaxis\": {\"endlinecolor\": \"#A2B1C6\", \"gridcolor\": \"#506784\", \"linecolor\": \"#506784\", \"minorgridcolor\": \"#506784\", \"startlinecolor\": \"#A2B1C6\"}, \"baxis\": {\"endlinecolor\": \"#A2B1C6\", \"gridcolor\": \"#506784\", \"linecolor\": \"#506784\", \"minorgridcolor\": \"#506784\", \"startlinecolor\": \"#A2B1C6\"}, \"type\": \"carpet\"}], \"choropleth\": [{\"colorbar\": {\"outlinewidth\": 0, \"ticks\": \"\"}, \"type\": \"choropleth\"}], \"contour\": [{\"colorbar\": {\"outlinewidth\": 0, \"ticks\": \"\"}, \"colorscale\": [[0.0, \"#0d0887\"], [0.1111111111111111, \"#46039f\"], [0.2222222222222222, \"#7201a8\"], [0.3333333333333333, \"#9c179e\"], [0.4444444444444444, \"#bd3786\"], [0.5555555555555556, \"#d8576b\"], [0.6666666666666666, \"#ed7953\"], [0.7777777777777778, \"#fb9f3a\"], [0.8888888888888888, \"#fdca26\"], [1.0, \"#f0f921\"]], \"type\": \"contour\"}], \"contourcarpet\": [{\"colorbar\": {\"outlinewidth\": 0, \"ticks\": \"\"}, \"type\": \"contourcarpet\"}], \"heatmap\": [{\"colorbar\": {\"outlinewidth\": 0, \"ticks\": \"\"}, \"colorscale\": [[0.0, \"#0d0887\"], [0.1111111111111111, \"#46039f\"], [0.2222222222222222, \"#7201a8\"], [0.3333333333333333, \"#9c179e\"], [0.4444444444444444, \"#bd3786\"], [0.5555555555555556, \"#d8576b\"], [0.6666666666666666, \"#ed7953\"], [0.7777777777777778, \"#fb9f3a\"], [0.8888888888888888, \"#fdca26\"], [1.0, \"#f0f921\"]], \"type\": \"heatmap\"}], \"heatmapgl\": [{\"colorbar\": {\"outlinewidth\": 0, \"ticks\": \"\"}, \"colorscale\": [[0.0, \"#0d0887\"], [0.1111111111111111, \"#46039f\"], [0.2222222222222222, \"#7201a8\"], [0.3333333333333333, \"#9c179e\"], [0.4444444444444444, \"#bd3786\"], [0.5555555555555556, \"#d8576b\"], [0.6666666666666666, \"#ed7953\"], [0.7777777777777778, \"#fb9f3a\"], [0.8888888888888888, \"#fdca26\"], [1.0, \"#f0f921\"]], \"type\": \"heatmapgl\"}], \"histogram\": [{\"marker\": {\"colorbar\": {\"outlinewidth\": 0, \"ticks\": \"\"}}, \"type\": \"histogram\"}], \"histogram2d\": [{\"colorbar\": {\"outlinewidth\": 0, \"ticks\": \"\"}, \"colorscale\": [[0.0, \"#0d0887\"], [0.1111111111111111, \"#46039f\"], [0.2222222222222222, \"#7201a8\"], [0.3333333333333333, \"#9c179e\"], [0.4444444444444444, \"#bd3786\"], [0.5555555555555556, \"#d8576b\"], [0.6666666666666666, \"#ed7953\"], [0.7777777777777778, \"#fb9f3a\"], [0.8888888888888888, \"#fdca26\"], [1.0, \"#f0f921\"]], \"type\": \"histogram2d\"}], \"histogram2dcontour\": [{\"colorbar\": {\"outlinewidth\": 0, \"ticks\": \"\"}, \"colorscale\": [[0.0, \"#0d0887\"], [0.1111111111111111, \"#46039f\"], [0.2222222222222222, \"#7201a8\"], [0.3333333333333333, \"#9c179e\"], [0.4444444444444444, \"#bd3786\"], [0.5555555555555556, \"#d8576b\"], [0.6666666666666666, \"#ed7953\"], [0.7777777777777778, \"#fb9f3a\"], [0.8888888888888888, \"#fdca26\"], [1.0, \"#f0f921\"]], \"type\": \"histogram2dcontour\"}], \"mesh3d\": [{\"colorbar\": {\"outlinewidth\": 0, \"ticks\": \"\"}, \"type\": \"mesh3d\"}], \"parcoords\": [{\"line\": {\"colorbar\": {\"outlinewidth\": 0, \"ticks\": \"\"}}, \"type\": \"parcoords\"}], \"pie\": [{\"automargin\": true, \"type\": \"pie\"}], \"scatter\": [{\"marker\": {\"line\": {\"color\": \"#283442\"}}, \"type\": \"scatter\"}], \"scatter3d\": [{\"line\": {\"colorbar\": {\"outlinewidth\": 0, \"ticks\": \"\"}}, \"marker\": {\"colorbar\": {\"outlinewidth\": 0, \"ticks\": \"\"}}, \"type\": \"scatter3d\"}], \"scattercarpet\": [{\"marker\": {\"colorbar\": {\"outlinewidth\": 0, \"ticks\": \"\"}}, \"type\": \"scattercarpet\"}], \"scattergeo\": [{\"marker\": {\"colorbar\": {\"outlinewidth\": 0, \"ticks\": \"\"}}, \"type\": \"scattergeo\"}], \"scattergl\": [{\"marker\": {\"line\": {\"color\": \"#283442\"}}, \"type\": \"scattergl\"}], \"scattermapbox\": [{\"marker\": {\"colorbar\": {\"outlinewidth\": 0, \"ticks\": \"\"}}, \"type\": \"scattermapbox\"}], \"scatterpolar\": [{\"marker\": {\"colorbar\": {\"outlinewidth\": 0, \"ticks\": \"\"}}, \"type\": \"scatterpolar\"}], \"scatterpolargl\": [{\"marker\": {\"colorbar\": {\"outlinewidth\": 0, \"ticks\": \"\"}}, \"type\": \"scatterpolargl\"}], \"scatterternary\": [{\"marker\": {\"colorbar\": {\"outlinewidth\": 0, \"ticks\": \"\"}}, \"type\": \"scatterternary\"}], \"surface\": [{\"colorbar\": {\"outlinewidth\": 0, \"ticks\": \"\"}, \"colorscale\": [[0.0, \"#0d0887\"], [0.1111111111111111, \"#46039f\"], [0.2222222222222222, \"#7201a8\"], [0.3333333333333333, \"#9c179e\"], [0.4444444444444444, \"#bd3786\"], [0.5555555555555556, \"#d8576b\"], [0.6666666666666666, \"#ed7953\"], [0.7777777777777778, \"#fb9f3a\"], [0.8888888888888888, \"#fdca26\"], [1.0, \"#f0f921\"]], \"type\": \"surface\"}], \"table\": [{\"cells\": {\"fill\": {\"color\": \"#506784\"}, \"line\": {\"color\": \"rgb(17,17,17)\"}}, \"header\": {\"fill\": {\"color\": \"#2a3f5f\"}, \"line\": {\"color\": \"rgb(17,17,17)\"}}, \"type\": \"table\"}]}, \"layout\": {\"annotationdefaults\": {\"arrowcolor\": \"#f2f5fa\", \"arrowhead\": 0, \"arrowwidth\": 1}, \"autotypenumbers\": \"strict\", \"coloraxis\": {\"colorbar\": {\"outlinewidth\": 0, \"ticks\": \"\"}}, \"colorscale\": {\"diverging\": [[0, \"#8e0152\"], [0.1, \"#c51b7d\"], [0.2, \"#de77ae\"], [0.3, \"#f1b6da\"], [0.4, \"#fde0ef\"], [0.5, \"#f7f7f7\"], [0.6, \"#e6f5d0\"], [0.7, \"#b8e186\"], [0.8, \"#7fbc41\"], [0.9, \"#4d9221\"], [1, \"#276419\"]], \"sequential\": [[0.0, \"#0d0887\"], [0.1111111111111111, \"#46039f\"], [0.2222222222222222, \"#7201a8\"], [0.3333333333333333, \"#9c179e\"], [0.4444444444444444, \"#bd3786\"], [0.5555555555555556, \"#d8576b\"], [0.6666666666666666, \"#ed7953\"], [0.7777777777777778, \"#fb9f3a\"], [0.8888888888888888, \"#fdca26\"], [1.0, \"#f0f921\"]], \"sequentialminus\": [[0.0, \"#0d0887\"], [0.1111111111111111, \"#46039f\"], [0.2222222222222222, \"#7201a8\"], [0.3333333333333333, \"#9c179e\"], [0.4444444444444444, \"#bd3786\"], [0.5555555555555556, \"#d8576b\"], [0.6666666666666666, \"#ed7953\"], [0.7777777777777778, \"#fb9f3a\"], [0.8888888888888888, \"#fdca26\"], [1.0, \"#f0f921\"]]}, \"colorway\": [\"#636efa\", \"#EF553B\", \"#00cc96\", \"#ab63fa\", \"#FFA15A\", \"#19d3f3\", \"#FF6692\", \"#B6E880\", \"#FF97FF\", \"#FECB52\"], \"font\": {\"color\": \"#f2f5fa\"}, \"geo\": {\"bgcolor\": \"rgb(17,17,17)\", \"lakecolor\": \"rgb(17,17,17)\", \"landcolor\": \"rgb(17,17,17)\", \"showlakes\": true, \"showland\": true, \"subunitcolor\": \"#506784\"}, \"hoverlabel\": {\"align\": \"left\"}, \"hovermode\": \"closest\", \"mapbox\": {\"style\": \"dark\"}, \"paper_bgcolor\": \"rgb(17,17,17)\", \"plot_bgcolor\": \"rgb(17,17,17)\", \"polar\": {\"angularaxis\": {\"gridcolor\": \"#506784\", \"linecolor\": \"#506784\", \"ticks\": \"\"}, \"bgcolor\": \"rgb(17,17,17)\", \"radialaxis\": {\"gridcolor\": \"#506784\", \"linecolor\": \"#506784\", \"ticks\": \"\"}}, \"scene\": {\"xaxis\": {\"backgroundcolor\": \"rgb(17,17,17)\", \"gridcolor\": \"#506784\", \"gridwidth\": 2, \"linecolor\": \"#506784\", \"showbackground\": true, \"ticks\": \"\", \"zerolinecolor\": \"#C8D4E3\"}, \"yaxis\": {\"backgroundcolor\": \"rgb(17,17,17)\", \"gridcolor\": \"#506784\", \"gridwidth\": 2, \"linecolor\": \"#506784\", \"showbackground\": true, \"ticks\": \"\", \"zerolinecolor\": \"#C8D4E3\"}, \"zaxis\": {\"backgroundcolor\": \"rgb(17,17,17)\", \"gridcolor\": \"#506784\", \"gridwidth\": 2, \"linecolor\": \"#506784\", \"showbackground\": true, \"ticks\": \"\", \"zerolinecolor\": \"#C8D4E3\"}}, \"shapedefaults\": {\"line\": {\"color\": \"#f2f5fa\"}}, \"sliderdefaults\": {\"bgcolor\": \"#C8D4E3\", \"bordercolor\": \"rgb(17,17,17)\", \"borderwidth\": 1, \"tickwidth\": 0}, \"ternary\": {\"aaxis\": {\"gridcolor\": \"#506784\", \"linecolor\": \"#506784\", \"ticks\": \"\"}, \"baxis\": {\"gridcolor\": \"#506784\", \"linecolor\": \"#506784\", \"ticks\": \"\"}, \"bgcolor\": \"rgb(17,17,17)\", \"caxis\": {\"gridcolor\": \"#506784\", \"linecolor\": \"#506784\", \"ticks\": \"\"}}, \"title\": {\"x\": 0.05}, \"updatemenudefaults\": {\"bgcolor\": \"#506784\", \"borderwidth\": 0}, \"xaxis\": {\"automargin\": true, \"gridcolor\": \"#283442\", \"linecolor\": \"#506784\", \"ticks\": \"\", \"title\": {\"standoff\": 15}, \"zerolinecolor\": \"#283442\", \"zerolinewidth\": 2}, \"yaxis\": {\"automargin\": true, \"gridcolor\": \"#283442\", \"linecolor\": \"#506784\", \"ticks\": \"\", \"title\": {\"standoff\": 15}, \"zerolinecolor\": \"#283442\", \"zerolinewidth\": 2}}}, \"xaxis\": {\"anchor\": \"y\", \"domain\": [0.0, 1.0], \"tickangle\": -45, \"title\": {\"text\": \"March Day's\"}}, \"yaxis\": {\"anchor\": \"x\", \"domain\": [0.0, 1.0], \"showticklabels\": false, \"title\": {\"text\": \"y\"}, \"visible\": false}},                        {\"responsive\": true}                    ).then(function(){\n",
       "                            \n",
       "var gd = document.getElementById('d32e8dda-cb13-4e00-a832-88bf836793fd');\n",
       "var x = new MutationObserver(function (mutations, observer) {{\n",
       "        var display = window.getComputedStyle(gd).display;\n",
       "        if (!display || display === 'none') {{\n",
       "            console.log([gd, 'removed!']);\n",
       "            Plotly.purge(gd);\n",
       "            observer.disconnect();\n",
       "        }}\n",
       "}});\n",
       "\n",
       "// Listen for the removal of the full notebook cells\n",
       "var notebookContainer = gd.closest('#notebook-container');\n",
       "if (notebookContainer) {{\n",
       "    x.observe(notebookContainer, {childList: true});\n",
       "}}\n",
       "\n",
       "// Listen for the clearing of the current output cell\n",
       "var outputEl = gd.closest('.output');\n",
       "if (outputEl) {{\n",
       "    x.observe(outputEl, {childList: true});\n",
       "}}\n",
       "\n",
       "                        })                };                });            </script>        </div>"
      ]
     },
     "metadata": {},
     "output_type": "display_data"
    }
   ],
   "source": [
    "ana3 = df[df.index.month == 3].index.day.value_counts()\n",
    "\n",
    "fig = px.bar(ana3,\n",
    "             x=ana3.index,\n",
    "             y=ana3.values,\n",
    "             color=ana3.values,\n",
    "             labels={'index': \"March Day's\", 'color':'Number of Tweets'},\n",
    "             template='plotly_dark',\n",
    "             text=ana3.values,\n",
    "             color_continuous_scale='Rainbow',\n",
    "            )\n",
    "\n",
    "fig.update_layout(xaxis_tickangle=-45,\n",
    "                  yaxis={'visible': False, 'showticklabels': False},\n",
    "                  font=dict(size=15),\n",
    "                 )\n",
    "\n",
    "fig.show()"
   ]
  },
  {
   "cell_type": "markdown",
   "metadata": {},
   "source": [
    "### April Day Distribution"
   ]
  },
  {
   "cell_type": "code",
   "execution_count": 65,
   "metadata": {},
   "outputs": [
    {
     "data": {
      "application/vnd.plotly.v1+json": {
       "config": {
        "plotlyServerURL": "https://plot.ly"
       },
       "data": [
        {
         "alignmentgroup": "True",
         "hovertemplate": "April Day's=%{x}<br>y=%{y}<br>text=%{text}<br>Number of Tweets=%{marker.color}<extra></extra>",
         "legendgroup": "",
         "marker": {
          "color": [
           2426,
           2280,
           2134,
           1711,
           1687,
           1419,
           1384,
           1277,
           967,
           473
          ],
          "coloraxis": "coloraxis"
         },
         "name": "",
         "offsetgroup": "",
         "orientation": "v",
         "showlegend": false,
         "text": [
          2426,
          2280,
          2134,
          1711,
          1687,
          1419,
          1384,
          1277,
          967,
          473
         ],
         "textposition": "auto",
         "type": "bar",
         "x": [
          1,
          18,
          19,
          20,
          16,
          15,
          14,
          17,
          2,
          21
         ],
         "xaxis": "x",
         "y": [
          2426,
          2280,
          2134,
          1711,
          1687,
          1419,
          1384,
          1277,
          967,
          473
         ],
         "yaxis": "y"
        }
       ],
       "layout": {
        "barmode": "relative",
        "coloraxis": {
         "colorbar": {
          "title": {
           "text": "Number of Tweets"
          }
         },
         "colorscale": [
          [
           0,
           "rgb(150,0,90)"
          ],
          [
           0.125,
           "rgb(0,0,200)"
          ],
          [
           0.25,
           "rgb(0,25,255)"
          ],
          [
           0.375,
           "rgb(0,152,255)"
          ],
          [
           0.5,
           "rgb(44,255,150)"
          ],
          [
           0.625,
           "rgb(151,255,0)"
          ],
          [
           0.75,
           "rgb(255,234,0)"
          ],
          [
           0.875,
           "rgb(255,111,0)"
          ],
          [
           1,
           "rgb(255,0,0)"
          ]
         ]
        },
        "font": {
         "size": 15
        },
        "hovermode": "x",
        "legend": {
         "tracegroupgap": 0
        },
        "margin": {
         "t": 60
        },
        "template": {
         "data": {
          "bar": [
           {
            "error_x": {
             "color": "#f2f5fa"
            },
            "error_y": {
             "color": "#f2f5fa"
            },
            "marker": {
             "line": {
              "color": "rgb(17,17,17)",
              "width": 0.5
             }
            },
            "type": "bar"
           }
          ],
          "barpolar": [
           {
            "marker": {
             "line": {
              "color": "rgb(17,17,17)",
              "width": 0.5
             }
            },
            "type": "barpolar"
           }
          ],
          "carpet": [
           {
            "aaxis": {
             "endlinecolor": "#A2B1C6",
             "gridcolor": "#506784",
             "linecolor": "#506784",
             "minorgridcolor": "#506784",
             "startlinecolor": "#A2B1C6"
            },
            "baxis": {
             "endlinecolor": "#A2B1C6",
             "gridcolor": "#506784",
             "linecolor": "#506784",
             "minorgridcolor": "#506784",
             "startlinecolor": "#A2B1C6"
            },
            "type": "carpet"
           }
          ],
          "choropleth": [
           {
            "colorbar": {
             "outlinewidth": 0,
             "ticks": ""
            },
            "type": "choropleth"
           }
          ],
          "contour": [
           {
            "colorbar": {
             "outlinewidth": 0,
             "ticks": ""
            },
            "colorscale": [
             [
              0,
              "#0d0887"
             ],
             [
              0.1111111111111111,
              "#46039f"
             ],
             [
              0.2222222222222222,
              "#7201a8"
             ],
             [
              0.3333333333333333,
              "#9c179e"
             ],
             [
              0.4444444444444444,
              "#bd3786"
             ],
             [
              0.5555555555555556,
              "#d8576b"
             ],
             [
              0.6666666666666666,
              "#ed7953"
             ],
             [
              0.7777777777777778,
              "#fb9f3a"
             ],
             [
              0.8888888888888888,
              "#fdca26"
             ],
             [
              1,
              "#f0f921"
             ]
            ],
            "type": "contour"
           }
          ],
          "contourcarpet": [
           {
            "colorbar": {
             "outlinewidth": 0,
             "ticks": ""
            },
            "type": "contourcarpet"
           }
          ],
          "heatmap": [
           {
            "colorbar": {
             "outlinewidth": 0,
             "ticks": ""
            },
            "colorscale": [
             [
              0,
              "#0d0887"
             ],
             [
              0.1111111111111111,
              "#46039f"
             ],
             [
              0.2222222222222222,
              "#7201a8"
             ],
             [
              0.3333333333333333,
              "#9c179e"
             ],
             [
              0.4444444444444444,
              "#bd3786"
             ],
             [
              0.5555555555555556,
              "#d8576b"
             ],
             [
              0.6666666666666666,
              "#ed7953"
             ],
             [
              0.7777777777777778,
              "#fb9f3a"
             ],
             [
              0.8888888888888888,
              "#fdca26"
             ],
             [
              1,
              "#f0f921"
             ]
            ],
            "type": "heatmap"
           }
          ],
          "heatmapgl": [
           {
            "colorbar": {
             "outlinewidth": 0,
             "ticks": ""
            },
            "colorscale": [
             [
              0,
              "#0d0887"
             ],
             [
              0.1111111111111111,
              "#46039f"
             ],
             [
              0.2222222222222222,
              "#7201a8"
             ],
             [
              0.3333333333333333,
              "#9c179e"
             ],
             [
              0.4444444444444444,
              "#bd3786"
             ],
             [
              0.5555555555555556,
              "#d8576b"
             ],
             [
              0.6666666666666666,
              "#ed7953"
             ],
             [
              0.7777777777777778,
              "#fb9f3a"
             ],
             [
              0.8888888888888888,
              "#fdca26"
             ],
             [
              1,
              "#f0f921"
             ]
            ],
            "type": "heatmapgl"
           }
          ],
          "histogram": [
           {
            "marker": {
             "colorbar": {
              "outlinewidth": 0,
              "ticks": ""
             }
            },
            "type": "histogram"
           }
          ],
          "histogram2d": [
           {
            "colorbar": {
             "outlinewidth": 0,
             "ticks": ""
            },
            "colorscale": [
             [
              0,
              "#0d0887"
             ],
             [
              0.1111111111111111,
              "#46039f"
             ],
             [
              0.2222222222222222,
              "#7201a8"
             ],
             [
              0.3333333333333333,
              "#9c179e"
             ],
             [
              0.4444444444444444,
              "#bd3786"
             ],
             [
              0.5555555555555556,
              "#d8576b"
             ],
             [
              0.6666666666666666,
              "#ed7953"
             ],
             [
              0.7777777777777778,
              "#fb9f3a"
             ],
             [
              0.8888888888888888,
              "#fdca26"
             ],
             [
              1,
              "#f0f921"
             ]
            ],
            "type": "histogram2d"
           }
          ],
          "histogram2dcontour": [
           {
            "colorbar": {
             "outlinewidth": 0,
             "ticks": ""
            },
            "colorscale": [
             [
              0,
              "#0d0887"
             ],
             [
              0.1111111111111111,
              "#46039f"
             ],
             [
              0.2222222222222222,
              "#7201a8"
             ],
             [
              0.3333333333333333,
              "#9c179e"
             ],
             [
              0.4444444444444444,
              "#bd3786"
             ],
             [
              0.5555555555555556,
              "#d8576b"
             ],
             [
              0.6666666666666666,
              "#ed7953"
             ],
             [
              0.7777777777777778,
              "#fb9f3a"
             ],
             [
              0.8888888888888888,
              "#fdca26"
             ],
             [
              1,
              "#f0f921"
             ]
            ],
            "type": "histogram2dcontour"
           }
          ],
          "mesh3d": [
           {
            "colorbar": {
             "outlinewidth": 0,
             "ticks": ""
            },
            "type": "mesh3d"
           }
          ],
          "parcoords": [
           {
            "line": {
             "colorbar": {
              "outlinewidth": 0,
              "ticks": ""
             }
            },
            "type": "parcoords"
           }
          ],
          "pie": [
           {
            "automargin": true,
            "type": "pie"
           }
          ],
          "scatter": [
           {
            "marker": {
             "line": {
              "color": "#283442"
             }
            },
            "type": "scatter"
           }
          ],
          "scatter3d": [
           {
            "line": {
             "colorbar": {
              "outlinewidth": 0,
              "ticks": ""
             }
            },
            "marker": {
             "colorbar": {
              "outlinewidth": 0,
              "ticks": ""
             }
            },
            "type": "scatter3d"
           }
          ],
          "scattercarpet": [
           {
            "marker": {
             "colorbar": {
              "outlinewidth": 0,
              "ticks": ""
             }
            },
            "type": "scattercarpet"
           }
          ],
          "scattergeo": [
           {
            "marker": {
             "colorbar": {
              "outlinewidth": 0,
              "ticks": ""
             }
            },
            "type": "scattergeo"
           }
          ],
          "scattergl": [
           {
            "marker": {
             "line": {
              "color": "#283442"
             }
            },
            "type": "scattergl"
           }
          ],
          "scattermapbox": [
           {
            "marker": {
             "colorbar": {
              "outlinewidth": 0,
              "ticks": ""
             }
            },
            "type": "scattermapbox"
           }
          ],
          "scatterpolar": [
           {
            "marker": {
             "colorbar": {
              "outlinewidth": 0,
              "ticks": ""
             }
            },
            "type": "scatterpolar"
           }
          ],
          "scatterpolargl": [
           {
            "marker": {
             "colorbar": {
              "outlinewidth": 0,
              "ticks": ""
             }
            },
            "type": "scatterpolargl"
           }
          ],
          "scatterternary": [
           {
            "marker": {
             "colorbar": {
              "outlinewidth": 0,
              "ticks": ""
             }
            },
            "type": "scatterternary"
           }
          ],
          "surface": [
           {
            "colorbar": {
             "outlinewidth": 0,
             "ticks": ""
            },
            "colorscale": [
             [
              0,
              "#0d0887"
             ],
             [
              0.1111111111111111,
              "#46039f"
             ],
             [
              0.2222222222222222,
              "#7201a8"
             ],
             [
              0.3333333333333333,
              "#9c179e"
             ],
             [
              0.4444444444444444,
              "#bd3786"
             ],
             [
              0.5555555555555556,
              "#d8576b"
             ],
             [
              0.6666666666666666,
              "#ed7953"
             ],
             [
              0.7777777777777778,
              "#fb9f3a"
             ],
             [
              0.8888888888888888,
              "#fdca26"
             ],
             [
              1,
              "#f0f921"
             ]
            ],
            "type": "surface"
           }
          ],
          "table": [
           {
            "cells": {
             "fill": {
              "color": "#506784"
             },
             "line": {
              "color": "rgb(17,17,17)"
             }
            },
            "header": {
             "fill": {
              "color": "#2a3f5f"
             },
             "line": {
              "color": "rgb(17,17,17)"
             }
            },
            "type": "table"
           }
          ]
         },
         "layout": {
          "annotationdefaults": {
           "arrowcolor": "#f2f5fa",
           "arrowhead": 0,
           "arrowwidth": 1
          },
          "autotypenumbers": "strict",
          "coloraxis": {
           "colorbar": {
            "outlinewidth": 0,
            "ticks": ""
           }
          },
          "colorscale": {
           "diverging": [
            [
             0,
             "#8e0152"
            ],
            [
             0.1,
             "#c51b7d"
            ],
            [
             0.2,
             "#de77ae"
            ],
            [
             0.3,
             "#f1b6da"
            ],
            [
             0.4,
             "#fde0ef"
            ],
            [
             0.5,
             "#f7f7f7"
            ],
            [
             0.6,
             "#e6f5d0"
            ],
            [
             0.7,
             "#b8e186"
            ],
            [
             0.8,
             "#7fbc41"
            ],
            [
             0.9,
             "#4d9221"
            ],
            [
             1,
             "#276419"
            ]
           ],
           "sequential": [
            [
             0,
             "#0d0887"
            ],
            [
             0.1111111111111111,
             "#46039f"
            ],
            [
             0.2222222222222222,
             "#7201a8"
            ],
            [
             0.3333333333333333,
             "#9c179e"
            ],
            [
             0.4444444444444444,
             "#bd3786"
            ],
            [
             0.5555555555555556,
             "#d8576b"
            ],
            [
             0.6666666666666666,
             "#ed7953"
            ],
            [
             0.7777777777777778,
             "#fb9f3a"
            ],
            [
             0.8888888888888888,
             "#fdca26"
            ],
            [
             1,
             "#f0f921"
            ]
           ],
           "sequentialminus": [
            [
             0,
             "#0d0887"
            ],
            [
             0.1111111111111111,
             "#46039f"
            ],
            [
             0.2222222222222222,
             "#7201a8"
            ],
            [
             0.3333333333333333,
             "#9c179e"
            ],
            [
             0.4444444444444444,
             "#bd3786"
            ],
            [
             0.5555555555555556,
             "#d8576b"
            ],
            [
             0.6666666666666666,
             "#ed7953"
            ],
            [
             0.7777777777777778,
             "#fb9f3a"
            ],
            [
             0.8888888888888888,
             "#fdca26"
            ],
            [
             1,
             "#f0f921"
            ]
           ]
          },
          "colorway": [
           "#636efa",
           "#EF553B",
           "#00cc96",
           "#ab63fa",
           "#FFA15A",
           "#19d3f3",
           "#FF6692",
           "#B6E880",
           "#FF97FF",
           "#FECB52"
          ],
          "font": {
           "color": "#f2f5fa"
          },
          "geo": {
           "bgcolor": "rgb(17,17,17)",
           "lakecolor": "rgb(17,17,17)",
           "landcolor": "rgb(17,17,17)",
           "showlakes": true,
           "showland": true,
           "subunitcolor": "#506784"
          },
          "hoverlabel": {
           "align": "left"
          },
          "hovermode": "closest",
          "mapbox": {
           "style": "dark"
          },
          "paper_bgcolor": "rgb(17,17,17)",
          "plot_bgcolor": "rgb(17,17,17)",
          "polar": {
           "angularaxis": {
            "gridcolor": "#506784",
            "linecolor": "#506784",
            "ticks": ""
           },
           "bgcolor": "rgb(17,17,17)",
           "radialaxis": {
            "gridcolor": "#506784",
            "linecolor": "#506784",
            "ticks": ""
           }
          },
          "scene": {
           "xaxis": {
            "backgroundcolor": "rgb(17,17,17)",
            "gridcolor": "#506784",
            "gridwidth": 2,
            "linecolor": "#506784",
            "showbackground": true,
            "ticks": "",
            "zerolinecolor": "#C8D4E3"
           },
           "yaxis": {
            "backgroundcolor": "rgb(17,17,17)",
            "gridcolor": "#506784",
            "gridwidth": 2,
            "linecolor": "#506784",
            "showbackground": true,
            "ticks": "",
            "zerolinecolor": "#C8D4E3"
           },
           "zaxis": {
            "backgroundcolor": "rgb(17,17,17)",
            "gridcolor": "#506784",
            "gridwidth": 2,
            "linecolor": "#506784",
            "showbackground": true,
            "ticks": "",
            "zerolinecolor": "#C8D4E3"
           }
          },
          "shapedefaults": {
           "line": {
            "color": "#f2f5fa"
           }
          },
          "sliderdefaults": {
           "bgcolor": "#C8D4E3",
           "bordercolor": "rgb(17,17,17)",
           "borderwidth": 1,
           "tickwidth": 0
          },
          "ternary": {
           "aaxis": {
            "gridcolor": "#506784",
            "linecolor": "#506784",
            "ticks": ""
           },
           "baxis": {
            "gridcolor": "#506784",
            "linecolor": "#506784",
            "ticks": ""
           },
           "bgcolor": "rgb(17,17,17)",
           "caxis": {
            "gridcolor": "#506784",
            "linecolor": "#506784",
            "ticks": ""
           }
          },
          "title": {
           "x": 0.05
          },
          "updatemenudefaults": {
           "bgcolor": "#506784",
           "borderwidth": 0
          },
          "xaxis": {
           "automargin": true,
           "gridcolor": "#283442",
           "linecolor": "#506784",
           "ticks": "",
           "title": {
            "standoff": 15
           },
           "zerolinecolor": "#283442",
           "zerolinewidth": 2
          },
          "yaxis": {
           "automargin": true,
           "gridcolor": "#283442",
           "linecolor": "#506784",
           "ticks": "",
           "title": {
            "standoff": 15
           },
           "zerolinecolor": "#283442",
           "zerolinewidth": 2
          }
         }
        },
        "xaxis": {
         "anchor": "y",
         "domain": [
          0,
          1
         ],
         "tickangle": -45,
         "title": {
          "text": "April Day's"
         }
        },
        "yaxis": {
         "anchor": "x",
         "domain": [
          0,
          1
         ],
         "showticklabels": false,
         "title": {
          "text": "y"
         },
         "visible": false
        }
       }
      },
      "text/html": [
       "<div>                            <div id=\"7f9a3021-aa2d-41b1-882a-61da099e992f\" class=\"plotly-graph-div\" style=\"height:525px; width:100%;\"></div>            <script type=\"text/javascript\">                require([\"plotly\"], function(Plotly) {                    window.PLOTLYENV=window.PLOTLYENV || {};                                    if (document.getElementById(\"7f9a3021-aa2d-41b1-882a-61da099e992f\")) {                    Plotly.newPlot(                        \"7f9a3021-aa2d-41b1-882a-61da099e992f\",                        [{\"alignmentgroup\": \"True\", \"hovertemplate\": \"April Day's=%{x}<br>y=%{y}<br>text=%{text}<br>Number of Tweets=%{marker.color}<extra></extra>\", \"legendgroup\": \"\", \"marker\": {\"color\": [2426, 2280, 2134, 1711, 1687, 1419, 1384, 1277, 967, 473], \"coloraxis\": \"coloraxis\"}, \"name\": \"\", \"offsetgroup\": \"\", \"orientation\": \"v\", \"showlegend\": false, \"text\": [2426.0, 2280.0, 2134.0, 1711.0, 1687.0, 1419.0, 1384.0, 1277.0, 967.0, 473.0], \"textposition\": \"auto\", \"type\": \"bar\", \"x\": [1, 18, 19, 20, 16, 15, 14, 17, 2, 21], \"xaxis\": \"x\", \"y\": [2426, 2280, 2134, 1711, 1687, 1419, 1384, 1277, 967, 473], \"yaxis\": \"y\"}],                        {\"barmode\": \"relative\", \"coloraxis\": {\"colorbar\": {\"title\": {\"text\": \"Number of Tweets\"}}, \"colorscale\": [[0.0, \"rgb(150,0,90)\"], [0.125, \"rgb(0,0,200)\"], [0.25, \"rgb(0,25,255)\"], [0.375, \"rgb(0,152,255)\"], [0.5, \"rgb(44,255,150)\"], [0.625, \"rgb(151,255,0)\"], [0.75, \"rgb(255,234,0)\"], [0.875, \"rgb(255,111,0)\"], [1.0, \"rgb(255,0,0)\"]]}, \"font\": {\"size\": 15}, \"hovermode\": \"x\", \"legend\": {\"tracegroupgap\": 0}, \"margin\": {\"t\": 60}, \"template\": {\"data\": {\"bar\": [{\"error_x\": {\"color\": \"#f2f5fa\"}, \"error_y\": {\"color\": \"#f2f5fa\"}, \"marker\": {\"line\": {\"color\": \"rgb(17,17,17)\", \"width\": 0.5}}, \"type\": \"bar\"}], \"barpolar\": [{\"marker\": {\"line\": {\"color\": \"rgb(17,17,17)\", \"width\": 0.5}}, \"type\": \"barpolar\"}], \"carpet\": [{\"aaxis\": {\"endlinecolor\": \"#A2B1C6\", \"gridcolor\": \"#506784\", \"linecolor\": \"#506784\", \"minorgridcolor\": \"#506784\", \"startlinecolor\": \"#A2B1C6\"}, \"baxis\": {\"endlinecolor\": \"#A2B1C6\", \"gridcolor\": \"#506784\", \"linecolor\": \"#506784\", \"minorgridcolor\": \"#506784\", \"startlinecolor\": \"#A2B1C6\"}, \"type\": \"carpet\"}], \"choropleth\": [{\"colorbar\": {\"outlinewidth\": 0, \"ticks\": \"\"}, \"type\": \"choropleth\"}], \"contour\": [{\"colorbar\": {\"outlinewidth\": 0, \"ticks\": \"\"}, \"colorscale\": [[0.0, \"#0d0887\"], [0.1111111111111111, \"#46039f\"], [0.2222222222222222, \"#7201a8\"], [0.3333333333333333, \"#9c179e\"], [0.4444444444444444, \"#bd3786\"], [0.5555555555555556, \"#d8576b\"], [0.6666666666666666, \"#ed7953\"], [0.7777777777777778, \"#fb9f3a\"], [0.8888888888888888, \"#fdca26\"], [1.0, \"#f0f921\"]], \"type\": \"contour\"}], \"contourcarpet\": [{\"colorbar\": {\"outlinewidth\": 0, \"ticks\": \"\"}, \"type\": \"contourcarpet\"}], \"heatmap\": [{\"colorbar\": {\"outlinewidth\": 0, \"ticks\": \"\"}, \"colorscale\": [[0.0, \"#0d0887\"], [0.1111111111111111, \"#46039f\"], [0.2222222222222222, \"#7201a8\"], [0.3333333333333333, \"#9c179e\"], [0.4444444444444444, \"#bd3786\"], [0.5555555555555556, \"#d8576b\"], [0.6666666666666666, \"#ed7953\"], [0.7777777777777778, \"#fb9f3a\"], [0.8888888888888888, \"#fdca26\"], [1.0, \"#f0f921\"]], \"type\": \"heatmap\"}], \"heatmapgl\": [{\"colorbar\": {\"outlinewidth\": 0, \"ticks\": \"\"}, \"colorscale\": [[0.0, \"#0d0887\"], [0.1111111111111111, \"#46039f\"], [0.2222222222222222, \"#7201a8\"], [0.3333333333333333, \"#9c179e\"], [0.4444444444444444, \"#bd3786\"], [0.5555555555555556, \"#d8576b\"], [0.6666666666666666, \"#ed7953\"], [0.7777777777777778, \"#fb9f3a\"], [0.8888888888888888, \"#fdca26\"], [1.0, \"#f0f921\"]], \"type\": \"heatmapgl\"}], \"histogram\": [{\"marker\": {\"colorbar\": {\"outlinewidth\": 0, \"ticks\": \"\"}}, \"type\": \"histogram\"}], \"histogram2d\": [{\"colorbar\": {\"outlinewidth\": 0, \"ticks\": \"\"}, \"colorscale\": [[0.0, \"#0d0887\"], [0.1111111111111111, \"#46039f\"], [0.2222222222222222, \"#7201a8\"], [0.3333333333333333, \"#9c179e\"], [0.4444444444444444, \"#bd3786\"], [0.5555555555555556, \"#d8576b\"], [0.6666666666666666, \"#ed7953\"], [0.7777777777777778, \"#fb9f3a\"], [0.8888888888888888, \"#fdca26\"], [1.0, \"#f0f921\"]], \"type\": \"histogram2d\"}], \"histogram2dcontour\": [{\"colorbar\": {\"outlinewidth\": 0, \"ticks\": \"\"}, \"colorscale\": [[0.0, \"#0d0887\"], [0.1111111111111111, \"#46039f\"], [0.2222222222222222, \"#7201a8\"], [0.3333333333333333, \"#9c179e\"], [0.4444444444444444, \"#bd3786\"], [0.5555555555555556, \"#d8576b\"], [0.6666666666666666, \"#ed7953\"], [0.7777777777777778, \"#fb9f3a\"], [0.8888888888888888, \"#fdca26\"], [1.0, \"#f0f921\"]], \"type\": \"histogram2dcontour\"}], \"mesh3d\": [{\"colorbar\": {\"outlinewidth\": 0, \"ticks\": \"\"}, \"type\": \"mesh3d\"}], \"parcoords\": [{\"line\": {\"colorbar\": {\"outlinewidth\": 0, \"ticks\": \"\"}}, \"type\": \"parcoords\"}], \"pie\": [{\"automargin\": true, \"type\": \"pie\"}], \"scatter\": [{\"marker\": {\"line\": {\"color\": \"#283442\"}}, \"type\": \"scatter\"}], \"scatter3d\": [{\"line\": {\"colorbar\": {\"outlinewidth\": 0, \"ticks\": \"\"}}, \"marker\": {\"colorbar\": {\"outlinewidth\": 0, \"ticks\": \"\"}}, \"type\": \"scatter3d\"}], \"scattercarpet\": [{\"marker\": {\"colorbar\": {\"outlinewidth\": 0, \"ticks\": \"\"}}, \"type\": \"scattercarpet\"}], \"scattergeo\": [{\"marker\": {\"colorbar\": {\"outlinewidth\": 0, \"ticks\": \"\"}}, \"type\": \"scattergeo\"}], \"scattergl\": [{\"marker\": {\"line\": {\"color\": \"#283442\"}}, \"type\": \"scattergl\"}], \"scattermapbox\": [{\"marker\": {\"colorbar\": {\"outlinewidth\": 0, \"ticks\": \"\"}}, \"type\": \"scattermapbox\"}], \"scatterpolar\": [{\"marker\": {\"colorbar\": {\"outlinewidth\": 0, \"ticks\": \"\"}}, \"type\": \"scatterpolar\"}], \"scatterpolargl\": [{\"marker\": {\"colorbar\": {\"outlinewidth\": 0, \"ticks\": \"\"}}, \"type\": \"scatterpolargl\"}], \"scatterternary\": [{\"marker\": {\"colorbar\": {\"outlinewidth\": 0, \"ticks\": \"\"}}, \"type\": \"scatterternary\"}], \"surface\": [{\"colorbar\": {\"outlinewidth\": 0, \"ticks\": \"\"}, \"colorscale\": [[0.0, \"#0d0887\"], [0.1111111111111111, \"#46039f\"], [0.2222222222222222, \"#7201a8\"], [0.3333333333333333, \"#9c179e\"], [0.4444444444444444, \"#bd3786\"], [0.5555555555555556, \"#d8576b\"], [0.6666666666666666, \"#ed7953\"], [0.7777777777777778, \"#fb9f3a\"], [0.8888888888888888, \"#fdca26\"], [1.0, \"#f0f921\"]], \"type\": \"surface\"}], \"table\": [{\"cells\": {\"fill\": {\"color\": \"#506784\"}, \"line\": {\"color\": \"rgb(17,17,17)\"}}, \"header\": {\"fill\": {\"color\": \"#2a3f5f\"}, \"line\": {\"color\": \"rgb(17,17,17)\"}}, \"type\": \"table\"}]}, \"layout\": {\"annotationdefaults\": {\"arrowcolor\": \"#f2f5fa\", \"arrowhead\": 0, \"arrowwidth\": 1}, \"autotypenumbers\": \"strict\", \"coloraxis\": {\"colorbar\": {\"outlinewidth\": 0, \"ticks\": \"\"}}, \"colorscale\": {\"diverging\": [[0, \"#8e0152\"], [0.1, \"#c51b7d\"], [0.2, \"#de77ae\"], [0.3, \"#f1b6da\"], [0.4, \"#fde0ef\"], [0.5, \"#f7f7f7\"], [0.6, \"#e6f5d0\"], [0.7, \"#b8e186\"], [0.8, \"#7fbc41\"], [0.9, \"#4d9221\"], [1, \"#276419\"]], \"sequential\": [[0.0, \"#0d0887\"], [0.1111111111111111, \"#46039f\"], [0.2222222222222222, \"#7201a8\"], [0.3333333333333333, \"#9c179e\"], [0.4444444444444444, \"#bd3786\"], [0.5555555555555556, \"#d8576b\"], [0.6666666666666666, \"#ed7953\"], [0.7777777777777778, \"#fb9f3a\"], [0.8888888888888888, \"#fdca26\"], [1.0, \"#f0f921\"]], \"sequentialminus\": [[0.0, \"#0d0887\"], [0.1111111111111111, \"#46039f\"], [0.2222222222222222, \"#7201a8\"], [0.3333333333333333, \"#9c179e\"], [0.4444444444444444, \"#bd3786\"], [0.5555555555555556, \"#d8576b\"], [0.6666666666666666, \"#ed7953\"], [0.7777777777777778, \"#fb9f3a\"], [0.8888888888888888, \"#fdca26\"], [1.0, \"#f0f921\"]]}, \"colorway\": [\"#636efa\", \"#EF553B\", \"#00cc96\", \"#ab63fa\", \"#FFA15A\", \"#19d3f3\", \"#FF6692\", \"#B6E880\", \"#FF97FF\", \"#FECB52\"], \"font\": {\"color\": \"#f2f5fa\"}, \"geo\": {\"bgcolor\": \"rgb(17,17,17)\", \"lakecolor\": \"rgb(17,17,17)\", \"landcolor\": \"rgb(17,17,17)\", \"showlakes\": true, \"showland\": true, \"subunitcolor\": \"#506784\"}, \"hoverlabel\": {\"align\": \"left\"}, \"hovermode\": \"closest\", \"mapbox\": {\"style\": \"dark\"}, \"paper_bgcolor\": \"rgb(17,17,17)\", \"plot_bgcolor\": \"rgb(17,17,17)\", \"polar\": {\"angularaxis\": {\"gridcolor\": \"#506784\", \"linecolor\": \"#506784\", \"ticks\": \"\"}, \"bgcolor\": \"rgb(17,17,17)\", \"radialaxis\": {\"gridcolor\": \"#506784\", \"linecolor\": \"#506784\", \"ticks\": \"\"}}, \"scene\": {\"xaxis\": {\"backgroundcolor\": \"rgb(17,17,17)\", \"gridcolor\": \"#506784\", \"gridwidth\": 2, \"linecolor\": \"#506784\", \"showbackground\": true, \"ticks\": \"\", \"zerolinecolor\": \"#C8D4E3\"}, \"yaxis\": {\"backgroundcolor\": \"rgb(17,17,17)\", \"gridcolor\": \"#506784\", \"gridwidth\": 2, \"linecolor\": \"#506784\", \"showbackground\": true, \"ticks\": \"\", \"zerolinecolor\": \"#C8D4E3\"}, \"zaxis\": {\"backgroundcolor\": \"rgb(17,17,17)\", \"gridcolor\": \"#506784\", \"gridwidth\": 2, \"linecolor\": \"#506784\", \"showbackground\": true, \"ticks\": \"\", \"zerolinecolor\": \"#C8D4E3\"}}, \"shapedefaults\": {\"line\": {\"color\": \"#f2f5fa\"}}, \"sliderdefaults\": {\"bgcolor\": \"#C8D4E3\", \"bordercolor\": \"rgb(17,17,17)\", \"borderwidth\": 1, \"tickwidth\": 0}, \"ternary\": {\"aaxis\": {\"gridcolor\": \"#506784\", \"linecolor\": \"#506784\", \"ticks\": \"\"}, \"baxis\": {\"gridcolor\": \"#506784\", \"linecolor\": \"#506784\", \"ticks\": \"\"}, \"bgcolor\": \"rgb(17,17,17)\", \"caxis\": {\"gridcolor\": \"#506784\", \"linecolor\": \"#506784\", \"ticks\": \"\"}}, \"title\": {\"x\": 0.05}, \"updatemenudefaults\": {\"bgcolor\": \"#506784\", \"borderwidth\": 0}, \"xaxis\": {\"automargin\": true, \"gridcolor\": \"#283442\", \"linecolor\": \"#506784\", \"ticks\": \"\", \"title\": {\"standoff\": 15}, \"zerolinecolor\": \"#283442\", \"zerolinewidth\": 2}, \"yaxis\": {\"automargin\": true, \"gridcolor\": \"#283442\", \"linecolor\": \"#506784\", \"ticks\": \"\", \"title\": {\"standoff\": 15}, \"zerolinecolor\": \"#283442\", \"zerolinewidth\": 2}}}, \"xaxis\": {\"anchor\": \"y\", \"domain\": [0.0, 1.0], \"tickangle\": -45, \"title\": {\"text\": \"April Day's\"}}, \"yaxis\": {\"anchor\": \"x\", \"domain\": [0.0, 1.0], \"showticklabels\": false, \"title\": {\"text\": \"y\"}, \"visible\": false}},                        {\"responsive\": true}                    ).then(function(){\n",
       "                            \n",
       "var gd = document.getElementById('7f9a3021-aa2d-41b1-882a-61da099e992f');\n",
       "var x = new MutationObserver(function (mutations, observer) {{\n",
       "        var display = window.getComputedStyle(gd).display;\n",
       "        if (!display || display === 'none') {{\n",
       "            console.log([gd, 'removed!']);\n",
       "            Plotly.purge(gd);\n",
       "            observer.disconnect();\n",
       "        }}\n",
       "}});\n",
       "\n",
       "// Listen for the removal of the full notebook cells\n",
       "var notebookContainer = gd.closest('#notebook-container');\n",
       "if (notebookContainer) {{\n",
       "    x.observe(notebookContainer, {childList: true});\n",
       "}}\n",
       "\n",
       "// Listen for the clearing of the current output cell\n",
       "var outputEl = gd.closest('.output');\n",
       "if (outputEl) {{\n",
       "    x.observe(outputEl, {childList: true});\n",
       "}}\n",
       "\n",
       "                        })                };                });            </script>        </div>"
      ]
     },
     "metadata": {},
     "output_type": "display_data"
    }
   ],
   "source": [
    "ana4 = df[df.index.month == 4].index.day.value_counts()\n",
    "\n",
    "fig = px.bar(ana4,\n",
    "             x=ana4.index,\n",
    "             y=ana4.values,\n",
    "             color=ana4.values,\n",
    "             labels={'index': \"April Day's\", 'color':'Number of Tweets'},\n",
    "             template='plotly_dark',\n",
    "             text=ana4.values,\n",
    "             color_continuous_scale='Rainbow',\n",
    "            )\n",
    "\n",
    "fig.update_layout(xaxis_tickangle=-45,\n",
    "                  yaxis={'visible': False, 'showticklabels': False},\n",
    "                  font=dict(size=15),\n",
    "                 )\n",
    "\n",
    "fig.update_layout(hovermode=\"x\")\n",
    "\n",
    "fig.show()"
   ]
  },
  {
   "cell_type": "markdown",
   "metadata": {},
   "source": [
    "### May Day Distribution"
   ]
  },
  {
   "cell_type": "code",
   "execution_count": 8,
   "metadata": {
    "scrolled": false
   },
   "outputs": [
    {
     "data": {
      "application/vnd.plotly.v1+json": {
       "config": {
        "plotlyServerURL": "https://plot.ly"
       },
       "data": [
        {
         "alignmentgroup": "True",
         "hovertemplate": "May Day's=%{x}<br>y=%{y}<br>text=%{text}<br>Number of Tweets=%{marker.color}<extra></extra>",
         "legendgroup": "",
         "marker": {
          "color": [
           2560,
           2304,
           2201,
           1921,
           1675,
           1527,
           298
          ],
          "coloraxis": "coloraxis"
         },
         "name": "",
         "offsetgroup": "",
         "orientation": "v",
         "showlegend": false,
         "text": [
          2560,
          2304,
          2201,
          1921,
          1675,
          1527,
          298
         ],
         "textposition": "auto",
         "type": "bar",
         "x": [
          3,
          4,
          2,
          5,
          6,
          1,
          7
         ],
         "xaxis": "x",
         "y": [
          2560,
          2304,
          2201,
          1921,
          1675,
          1527,
          298
         ],
         "yaxis": "y"
        }
       ],
       "layout": {
        "barmode": "relative",
        "coloraxis": {
         "colorbar": {
          "title": {
           "text": "Number of Tweets"
          }
         },
         "colorscale": [
          [
           0,
           "rgb(150,0,90)"
          ],
          [
           0.125,
           "rgb(0,0,200)"
          ],
          [
           0.25,
           "rgb(0,25,255)"
          ],
          [
           0.375,
           "rgb(0,152,255)"
          ],
          [
           0.5,
           "rgb(44,255,150)"
          ],
          [
           0.625,
           "rgb(151,255,0)"
          ],
          [
           0.75,
           "rgb(255,234,0)"
          ],
          [
           0.875,
           "rgb(255,111,0)"
          ],
          [
           1,
           "rgb(255,0,0)"
          ]
         ]
        },
        "font": {
         "size": 15
        },
        "legend": {
         "tracegroupgap": 0
        },
        "margin": {
         "t": 60
        },
        "template": {
         "data": {
          "bar": [
           {
            "error_x": {
             "color": "#f2f5fa"
            },
            "error_y": {
             "color": "#f2f5fa"
            },
            "marker": {
             "line": {
              "color": "rgb(17,17,17)",
              "width": 0.5
             }
            },
            "type": "bar"
           }
          ],
          "barpolar": [
           {
            "marker": {
             "line": {
              "color": "rgb(17,17,17)",
              "width": 0.5
             }
            },
            "type": "barpolar"
           }
          ],
          "carpet": [
           {
            "aaxis": {
             "endlinecolor": "#A2B1C6",
             "gridcolor": "#506784",
             "linecolor": "#506784",
             "minorgridcolor": "#506784",
             "startlinecolor": "#A2B1C6"
            },
            "baxis": {
             "endlinecolor": "#A2B1C6",
             "gridcolor": "#506784",
             "linecolor": "#506784",
             "minorgridcolor": "#506784",
             "startlinecolor": "#A2B1C6"
            },
            "type": "carpet"
           }
          ],
          "choropleth": [
           {
            "colorbar": {
             "outlinewidth": 0,
             "ticks": ""
            },
            "type": "choropleth"
           }
          ],
          "contour": [
           {
            "colorbar": {
             "outlinewidth": 0,
             "ticks": ""
            },
            "colorscale": [
             [
              0,
              "#0d0887"
             ],
             [
              0.1111111111111111,
              "#46039f"
             ],
             [
              0.2222222222222222,
              "#7201a8"
             ],
             [
              0.3333333333333333,
              "#9c179e"
             ],
             [
              0.4444444444444444,
              "#bd3786"
             ],
             [
              0.5555555555555556,
              "#d8576b"
             ],
             [
              0.6666666666666666,
              "#ed7953"
             ],
             [
              0.7777777777777778,
              "#fb9f3a"
             ],
             [
              0.8888888888888888,
              "#fdca26"
             ],
             [
              1,
              "#f0f921"
             ]
            ],
            "type": "contour"
           }
          ],
          "contourcarpet": [
           {
            "colorbar": {
             "outlinewidth": 0,
             "ticks": ""
            },
            "type": "contourcarpet"
           }
          ],
          "heatmap": [
           {
            "colorbar": {
             "outlinewidth": 0,
             "ticks": ""
            },
            "colorscale": [
             [
              0,
              "#0d0887"
             ],
             [
              0.1111111111111111,
              "#46039f"
             ],
             [
              0.2222222222222222,
              "#7201a8"
             ],
             [
              0.3333333333333333,
              "#9c179e"
             ],
             [
              0.4444444444444444,
              "#bd3786"
             ],
             [
              0.5555555555555556,
              "#d8576b"
             ],
             [
              0.6666666666666666,
              "#ed7953"
             ],
             [
              0.7777777777777778,
              "#fb9f3a"
             ],
             [
              0.8888888888888888,
              "#fdca26"
             ],
             [
              1,
              "#f0f921"
             ]
            ],
            "type": "heatmap"
           }
          ],
          "heatmapgl": [
           {
            "colorbar": {
             "outlinewidth": 0,
             "ticks": ""
            },
            "colorscale": [
             [
              0,
              "#0d0887"
             ],
             [
              0.1111111111111111,
              "#46039f"
             ],
             [
              0.2222222222222222,
              "#7201a8"
             ],
             [
              0.3333333333333333,
              "#9c179e"
             ],
             [
              0.4444444444444444,
              "#bd3786"
             ],
             [
              0.5555555555555556,
              "#d8576b"
             ],
             [
              0.6666666666666666,
              "#ed7953"
             ],
             [
              0.7777777777777778,
              "#fb9f3a"
             ],
             [
              0.8888888888888888,
              "#fdca26"
             ],
             [
              1,
              "#f0f921"
             ]
            ],
            "type": "heatmapgl"
           }
          ],
          "histogram": [
           {
            "marker": {
             "colorbar": {
              "outlinewidth": 0,
              "ticks": ""
             }
            },
            "type": "histogram"
           }
          ],
          "histogram2d": [
           {
            "colorbar": {
             "outlinewidth": 0,
             "ticks": ""
            },
            "colorscale": [
             [
              0,
              "#0d0887"
             ],
             [
              0.1111111111111111,
              "#46039f"
             ],
             [
              0.2222222222222222,
              "#7201a8"
             ],
             [
              0.3333333333333333,
              "#9c179e"
             ],
             [
              0.4444444444444444,
              "#bd3786"
             ],
             [
              0.5555555555555556,
              "#d8576b"
             ],
             [
              0.6666666666666666,
              "#ed7953"
             ],
             [
              0.7777777777777778,
              "#fb9f3a"
             ],
             [
              0.8888888888888888,
              "#fdca26"
             ],
             [
              1,
              "#f0f921"
             ]
            ],
            "type": "histogram2d"
           }
          ],
          "histogram2dcontour": [
           {
            "colorbar": {
             "outlinewidth": 0,
             "ticks": ""
            },
            "colorscale": [
             [
              0,
              "#0d0887"
             ],
             [
              0.1111111111111111,
              "#46039f"
             ],
             [
              0.2222222222222222,
              "#7201a8"
             ],
             [
              0.3333333333333333,
              "#9c179e"
             ],
             [
              0.4444444444444444,
              "#bd3786"
             ],
             [
              0.5555555555555556,
              "#d8576b"
             ],
             [
              0.6666666666666666,
              "#ed7953"
             ],
             [
              0.7777777777777778,
              "#fb9f3a"
             ],
             [
              0.8888888888888888,
              "#fdca26"
             ],
             [
              1,
              "#f0f921"
             ]
            ],
            "type": "histogram2dcontour"
           }
          ],
          "mesh3d": [
           {
            "colorbar": {
             "outlinewidth": 0,
             "ticks": ""
            },
            "type": "mesh3d"
           }
          ],
          "parcoords": [
           {
            "line": {
             "colorbar": {
              "outlinewidth": 0,
              "ticks": ""
             }
            },
            "type": "parcoords"
           }
          ],
          "pie": [
           {
            "automargin": true,
            "type": "pie"
           }
          ],
          "scatter": [
           {
            "marker": {
             "line": {
              "color": "#283442"
             }
            },
            "type": "scatter"
           }
          ],
          "scatter3d": [
           {
            "line": {
             "colorbar": {
              "outlinewidth": 0,
              "ticks": ""
             }
            },
            "marker": {
             "colorbar": {
              "outlinewidth": 0,
              "ticks": ""
             }
            },
            "type": "scatter3d"
           }
          ],
          "scattercarpet": [
           {
            "marker": {
             "colorbar": {
              "outlinewidth": 0,
              "ticks": ""
             }
            },
            "type": "scattercarpet"
           }
          ],
          "scattergeo": [
           {
            "marker": {
             "colorbar": {
              "outlinewidth": 0,
              "ticks": ""
             }
            },
            "type": "scattergeo"
           }
          ],
          "scattergl": [
           {
            "marker": {
             "line": {
              "color": "#283442"
             }
            },
            "type": "scattergl"
           }
          ],
          "scattermapbox": [
           {
            "marker": {
             "colorbar": {
              "outlinewidth": 0,
              "ticks": ""
             }
            },
            "type": "scattermapbox"
           }
          ],
          "scatterpolar": [
           {
            "marker": {
             "colorbar": {
              "outlinewidth": 0,
              "ticks": ""
             }
            },
            "type": "scatterpolar"
           }
          ],
          "scatterpolargl": [
           {
            "marker": {
             "colorbar": {
              "outlinewidth": 0,
              "ticks": ""
             }
            },
            "type": "scatterpolargl"
           }
          ],
          "scatterternary": [
           {
            "marker": {
             "colorbar": {
              "outlinewidth": 0,
              "ticks": ""
             }
            },
            "type": "scatterternary"
           }
          ],
          "surface": [
           {
            "colorbar": {
             "outlinewidth": 0,
             "ticks": ""
            },
            "colorscale": [
             [
              0,
              "#0d0887"
             ],
             [
              0.1111111111111111,
              "#46039f"
             ],
             [
              0.2222222222222222,
              "#7201a8"
             ],
             [
              0.3333333333333333,
              "#9c179e"
             ],
             [
              0.4444444444444444,
              "#bd3786"
             ],
             [
              0.5555555555555556,
              "#d8576b"
             ],
             [
              0.6666666666666666,
              "#ed7953"
             ],
             [
              0.7777777777777778,
              "#fb9f3a"
             ],
             [
              0.8888888888888888,
              "#fdca26"
             ],
             [
              1,
              "#f0f921"
             ]
            ],
            "type": "surface"
           }
          ],
          "table": [
           {
            "cells": {
             "fill": {
              "color": "#506784"
             },
             "line": {
              "color": "rgb(17,17,17)"
             }
            },
            "header": {
             "fill": {
              "color": "#2a3f5f"
             },
             "line": {
              "color": "rgb(17,17,17)"
             }
            },
            "type": "table"
           }
          ]
         },
         "layout": {
          "annotationdefaults": {
           "arrowcolor": "#f2f5fa",
           "arrowhead": 0,
           "arrowwidth": 1
          },
          "autotypenumbers": "strict",
          "coloraxis": {
           "colorbar": {
            "outlinewidth": 0,
            "ticks": ""
           }
          },
          "colorscale": {
           "diverging": [
            [
             0,
             "#8e0152"
            ],
            [
             0.1,
             "#c51b7d"
            ],
            [
             0.2,
             "#de77ae"
            ],
            [
             0.3,
             "#f1b6da"
            ],
            [
             0.4,
             "#fde0ef"
            ],
            [
             0.5,
             "#f7f7f7"
            ],
            [
             0.6,
             "#e6f5d0"
            ],
            [
             0.7,
             "#b8e186"
            ],
            [
             0.8,
             "#7fbc41"
            ],
            [
             0.9,
             "#4d9221"
            ],
            [
             1,
             "#276419"
            ]
           ],
           "sequential": [
            [
             0,
             "#0d0887"
            ],
            [
             0.1111111111111111,
             "#46039f"
            ],
            [
             0.2222222222222222,
             "#7201a8"
            ],
            [
             0.3333333333333333,
             "#9c179e"
            ],
            [
             0.4444444444444444,
             "#bd3786"
            ],
            [
             0.5555555555555556,
             "#d8576b"
            ],
            [
             0.6666666666666666,
             "#ed7953"
            ],
            [
             0.7777777777777778,
             "#fb9f3a"
            ],
            [
             0.8888888888888888,
             "#fdca26"
            ],
            [
             1,
             "#f0f921"
            ]
           ],
           "sequentialminus": [
            [
             0,
             "#0d0887"
            ],
            [
             0.1111111111111111,
             "#46039f"
            ],
            [
             0.2222222222222222,
             "#7201a8"
            ],
            [
             0.3333333333333333,
             "#9c179e"
            ],
            [
             0.4444444444444444,
             "#bd3786"
            ],
            [
             0.5555555555555556,
             "#d8576b"
            ],
            [
             0.6666666666666666,
             "#ed7953"
            ],
            [
             0.7777777777777778,
             "#fb9f3a"
            ],
            [
             0.8888888888888888,
             "#fdca26"
            ],
            [
             1,
             "#f0f921"
            ]
           ]
          },
          "colorway": [
           "#636efa",
           "#EF553B",
           "#00cc96",
           "#ab63fa",
           "#FFA15A",
           "#19d3f3",
           "#FF6692",
           "#B6E880",
           "#FF97FF",
           "#FECB52"
          ],
          "font": {
           "color": "#f2f5fa"
          },
          "geo": {
           "bgcolor": "rgb(17,17,17)",
           "lakecolor": "rgb(17,17,17)",
           "landcolor": "rgb(17,17,17)",
           "showlakes": true,
           "showland": true,
           "subunitcolor": "#506784"
          },
          "hoverlabel": {
           "align": "left"
          },
          "hovermode": "closest",
          "mapbox": {
           "style": "dark"
          },
          "paper_bgcolor": "rgb(17,17,17)",
          "plot_bgcolor": "rgb(17,17,17)",
          "polar": {
           "angularaxis": {
            "gridcolor": "#506784",
            "linecolor": "#506784",
            "ticks": ""
           },
           "bgcolor": "rgb(17,17,17)",
           "radialaxis": {
            "gridcolor": "#506784",
            "linecolor": "#506784",
            "ticks": ""
           }
          },
          "scene": {
           "xaxis": {
            "backgroundcolor": "rgb(17,17,17)",
            "gridcolor": "#506784",
            "gridwidth": 2,
            "linecolor": "#506784",
            "showbackground": true,
            "ticks": "",
            "zerolinecolor": "#C8D4E3"
           },
           "yaxis": {
            "backgroundcolor": "rgb(17,17,17)",
            "gridcolor": "#506784",
            "gridwidth": 2,
            "linecolor": "#506784",
            "showbackground": true,
            "ticks": "",
            "zerolinecolor": "#C8D4E3"
           },
           "zaxis": {
            "backgroundcolor": "rgb(17,17,17)",
            "gridcolor": "#506784",
            "gridwidth": 2,
            "linecolor": "#506784",
            "showbackground": true,
            "ticks": "",
            "zerolinecolor": "#C8D4E3"
           }
          },
          "shapedefaults": {
           "line": {
            "color": "#f2f5fa"
           }
          },
          "sliderdefaults": {
           "bgcolor": "#C8D4E3",
           "bordercolor": "rgb(17,17,17)",
           "borderwidth": 1,
           "tickwidth": 0
          },
          "ternary": {
           "aaxis": {
            "gridcolor": "#506784",
            "linecolor": "#506784",
            "ticks": ""
           },
           "baxis": {
            "gridcolor": "#506784",
            "linecolor": "#506784",
            "ticks": ""
           },
           "bgcolor": "rgb(17,17,17)",
           "caxis": {
            "gridcolor": "#506784",
            "linecolor": "#506784",
            "ticks": ""
           }
          },
          "title": {
           "x": 0.05
          },
          "updatemenudefaults": {
           "bgcolor": "#506784",
           "borderwidth": 0
          },
          "xaxis": {
           "automargin": true,
           "gridcolor": "#283442",
           "linecolor": "#506784",
           "ticks": "",
           "title": {
            "standoff": 15
           },
           "zerolinecolor": "#283442",
           "zerolinewidth": 2
          },
          "yaxis": {
           "automargin": true,
           "gridcolor": "#283442",
           "linecolor": "#506784",
           "ticks": "",
           "title": {
            "standoff": 15
           },
           "zerolinecolor": "#283442",
           "zerolinewidth": 2
          }
         }
        },
        "xaxis": {
         "anchor": "y",
         "domain": [
          0,
          1
         ],
         "tickangle": -45,
         "title": {
          "text": "May Day's"
         }
        },
        "yaxis": {
         "anchor": "x",
         "domain": [
          0,
          1
         ],
         "showticklabels": false,
         "title": {
          "text": "y"
         },
         "visible": false
        }
       }
      },
      "text/html": [
       "<div>                            <div id=\"119c0671-070f-491a-823a-8a6b84b7d54b\" class=\"plotly-graph-div\" style=\"height:525px; width:100%;\"></div>            <script type=\"text/javascript\">                require([\"plotly\"], function(Plotly) {                    window.PLOTLYENV=window.PLOTLYENV || {};                                    if (document.getElementById(\"119c0671-070f-491a-823a-8a6b84b7d54b\")) {                    Plotly.newPlot(                        \"119c0671-070f-491a-823a-8a6b84b7d54b\",                        [{\"alignmentgroup\": \"True\", \"hovertemplate\": \"May Day's=%{x}<br>y=%{y}<br>text=%{text}<br>Number of Tweets=%{marker.color}<extra></extra>\", \"legendgroup\": \"\", \"marker\": {\"color\": [2560, 2304, 2201, 1921, 1675, 1527, 298], \"coloraxis\": \"coloraxis\"}, \"name\": \"\", \"offsetgroup\": \"\", \"orientation\": \"v\", \"showlegend\": false, \"text\": [2560.0, 2304.0, 2201.0, 1921.0, 1675.0, 1527.0, 298.0], \"textposition\": \"auto\", \"type\": \"bar\", \"x\": [3, 4, 2, 5, 6, 1, 7], \"xaxis\": \"x\", \"y\": [2560, 2304, 2201, 1921, 1675, 1527, 298], \"yaxis\": \"y\"}],                        {\"barmode\": \"relative\", \"coloraxis\": {\"colorbar\": {\"title\": {\"text\": \"Number of Tweets\"}}, \"colorscale\": [[0.0, \"rgb(150,0,90)\"], [0.125, \"rgb(0,0,200)\"], [0.25, \"rgb(0,25,255)\"], [0.375, \"rgb(0,152,255)\"], [0.5, \"rgb(44,255,150)\"], [0.625, \"rgb(151,255,0)\"], [0.75, \"rgb(255,234,0)\"], [0.875, \"rgb(255,111,0)\"], [1.0, \"rgb(255,0,0)\"]]}, \"font\": {\"size\": 15}, \"legend\": {\"tracegroupgap\": 0}, \"margin\": {\"t\": 60}, \"template\": {\"data\": {\"bar\": [{\"error_x\": {\"color\": \"#f2f5fa\"}, \"error_y\": {\"color\": \"#f2f5fa\"}, \"marker\": {\"line\": {\"color\": \"rgb(17,17,17)\", \"width\": 0.5}}, \"type\": \"bar\"}], \"barpolar\": [{\"marker\": {\"line\": {\"color\": \"rgb(17,17,17)\", \"width\": 0.5}}, \"type\": \"barpolar\"}], \"carpet\": [{\"aaxis\": {\"endlinecolor\": \"#A2B1C6\", \"gridcolor\": \"#506784\", \"linecolor\": \"#506784\", \"minorgridcolor\": \"#506784\", \"startlinecolor\": \"#A2B1C6\"}, \"baxis\": {\"endlinecolor\": \"#A2B1C6\", \"gridcolor\": \"#506784\", \"linecolor\": \"#506784\", \"minorgridcolor\": \"#506784\", \"startlinecolor\": \"#A2B1C6\"}, \"type\": \"carpet\"}], \"choropleth\": [{\"colorbar\": {\"outlinewidth\": 0, \"ticks\": \"\"}, \"type\": \"choropleth\"}], \"contour\": [{\"colorbar\": {\"outlinewidth\": 0, \"ticks\": \"\"}, \"colorscale\": [[0.0, \"#0d0887\"], [0.1111111111111111, \"#46039f\"], [0.2222222222222222, \"#7201a8\"], [0.3333333333333333, \"#9c179e\"], [0.4444444444444444, \"#bd3786\"], [0.5555555555555556, \"#d8576b\"], [0.6666666666666666, \"#ed7953\"], [0.7777777777777778, \"#fb9f3a\"], [0.8888888888888888, \"#fdca26\"], [1.0, \"#f0f921\"]], \"type\": \"contour\"}], \"contourcarpet\": [{\"colorbar\": {\"outlinewidth\": 0, \"ticks\": \"\"}, \"type\": \"contourcarpet\"}], \"heatmap\": [{\"colorbar\": {\"outlinewidth\": 0, \"ticks\": \"\"}, \"colorscale\": [[0.0, \"#0d0887\"], [0.1111111111111111, \"#46039f\"], [0.2222222222222222, \"#7201a8\"], [0.3333333333333333, \"#9c179e\"], [0.4444444444444444, \"#bd3786\"], [0.5555555555555556, \"#d8576b\"], [0.6666666666666666, \"#ed7953\"], [0.7777777777777778, \"#fb9f3a\"], [0.8888888888888888, \"#fdca26\"], [1.0, \"#f0f921\"]], \"type\": \"heatmap\"}], \"heatmapgl\": [{\"colorbar\": {\"outlinewidth\": 0, \"ticks\": \"\"}, \"colorscale\": [[0.0, \"#0d0887\"], [0.1111111111111111, \"#46039f\"], [0.2222222222222222, \"#7201a8\"], [0.3333333333333333, \"#9c179e\"], [0.4444444444444444, \"#bd3786\"], [0.5555555555555556, \"#d8576b\"], [0.6666666666666666, \"#ed7953\"], [0.7777777777777778, \"#fb9f3a\"], [0.8888888888888888, \"#fdca26\"], [1.0, \"#f0f921\"]], \"type\": \"heatmapgl\"}], \"histogram\": [{\"marker\": {\"colorbar\": {\"outlinewidth\": 0, \"ticks\": \"\"}}, \"type\": \"histogram\"}], \"histogram2d\": [{\"colorbar\": {\"outlinewidth\": 0, \"ticks\": \"\"}, \"colorscale\": [[0.0, \"#0d0887\"], [0.1111111111111111, \"#46039f\"], [0.2222222222222222, \"#7201a8\"], [0.3333333333333333, \"#9c179e\"], [0.4444444444444444, \"#bd3786\"], [0.5555555555555556, \"#d8576b\"], [0.6666666666666666, \"#ed7953\"], [0.7777777777777778, \"#fb9f3a\"], [0.8888888888888888, \"#fdca26\"], [1.0, \"#f0f921\"]], \"type\": \"histogram2d\"}], \"histogram2dcontour\": [{\"colorbar\": {\"outlinewidth\": 0, \"ticks\": \"\"}, \"colorscale\": [[0.0, \"#0d0887\"], [0.1111111111111111, \"#46039f\"], [0.2222222222222222, \"#7201a8\"], [0.3333333333333333, \"#9c179e\"], [0.4444444444444444, \"#bd3786\"], [0.5555555555555556, \"#d8576b\"], [0.6666666666666666, \"#ed7953\"], [0.7777777777777778, \"#fb9f3a\"], [0.8888888888888888, \"#fdca26\"], [1.0, \"#f0f921\"]], \"type\": \"histogram2dcontour\"}], \"mesh3d\": [{\"colorbar\": {\"outlinewidth\": 0, \"ticks\": \"\"}, \"type\": \"mesh3d\"}], \"parcoords\": [{\"line\": {\"colorbar\": {\"outlinewidth\": 0, \"ticks\": \"\"}}, \"type\": \"parcoords\"}], \"pie\": [{\"automargin\": true, \"type\": \"pie\"}], \"scatter\": [{\"marker\": {\"line\": {\"color\": \"#283442\"}}, \"type\": \"scatter\"}], \"scatter3d\": [{\"line\": {\"colorbar\": {\"outlinewidth\": 0, \"ticks\": \"\"}}, \"marker\": {\"colorbar\": {\"outlinewidth\": 0, \"ticks\": \"\"}}, \"type\": \"scatter3d\"}], \"scattercarpet\": [{\"marker\": {\"colorbar\": {\"outlinewidth\": 0, \"ticks\": \"\"}}, \"type\": \"scattercarpet\"}], \"scattergeo\": [{\"marker\": {\"colorbar\": {\"outlinewidth\": 0, \"ticks\": \"\"}}, \"type\": \"scattergeo\"}], \"scattergl\": [{\"marker\": {\"line\": {\"color\": \"#283442\"}}, \"type\": \"scattergl\"}], \"scattermapbox\": [{\"marker\": {\"colorbar\": {\"outlinewidth\": 0, \"ticks\": \"\"}}, \"type\": \"scattermapbox\"}], \"scatterpolar\": [{\"marker\": {\"colorbar\": {\"outlinewidth\": 0, \"ticks\": \"\"}}, \"type\": \"scatterpolar\"}], \"scatterpolargl\": [{\"marker\": {\"colorbar\": {\"outlinewidth\": 0, \"ticks\": \"\"}}, \"type\": \"scatterpolargl\"}], \"scatterternary\": [{\"marker\": {\"colorbar\": {\"outlinewidth\": 0, \"ticks\": \"\"}}, \"type\": \"scatterternary\"}], \"surface\": [{\"colorbar\": {\"outlinewidth\": 0, \"ticks\": \"\"}, \"colorscale\": [[0.0, \"#0d0887\"], [0.1111111111111111, \"#46039f\"], [0.2222222222222222, \"#7201a8\"], [0.3333333333333333, \"#9c179e\"], [0.4444444444444444, \"#bd3786\"], [0.5555555555555556, \"#d8576b\"], [0.6666666666666666, \"#ed7953\"], [0.7777777777777778, \"#fb9f3a\"], [0.8888888888888888, \"#fdca26\"], [1.0, \"#f0f921\"]], \"type\": \"surface\"}], \"table\": [{\"cells\": {\"fill\": {\"color\": \"#506784\"}, \"line\": {\"color\": \"rgb(17,17,17)\"}}, \"header\": {\"fill\": {\"color\": \"#2a3f5f\"}, \"line\": {\"color\": \"rgb(17,17,17)\"}}, \"type\": \"table\"}]}, \"layout\": {\"annotationdefaults\": {\"arrowcolor\": \"#f2f5fa\", \"arrowhead\": 0, \"arrowwidth\": 1}, \"autotypenumbers\": \"strict\", \"coloraxis\": {\"colorbar\": {\"outlinewidth\": 0, \"ticks\": \"\"}}, \"colorscale\": {\"diverging\": [[0, \"#8e0152\"], [0.1, \"#c51b7d\"], [0.2, \"#de77ae\"], [0.3, \"#f1b6da\"], [0.4, \"#fde0ef\"], [0.5, \"#f7f7f7\"], [0.6, \"#e6f5d0\"], [0.7, \"#b8e186\"], [0.8, \"#7fbc41\"], [0.9, \"#4d9221\"], [1, \"#276419\"]], \"sequential\": [[0.0, \"#0d0887\"], [0.1111111111111111, \"#46039f\"], [0.2222222222222222, \"#7201a8\"], [0.3333333333333333, \"#9c179e\"], [0.4444444444444444, \"#bd3786\"], [0.5555555555555556, \"#d8576b\"], [0.6666666666666666, \"#ed7953\"], [0.7777777777777778, \"#fb9f3a\"], [0.8888888888888888, \"#fdca26\"], [1.0, \"#f0f921\"]], \"sequentialminus\": [[0.0, \"#0d0887\"], [0.1111111111111111, \"#46039f\"], [0.2222222222222222, \"#7201a8\"], [0.3333333333333333, \"#9c179e\"], [0.4444444444444444, \"#bd3786\"], [0.5555555555555556, \"#d8576b\"], [0.6666666666666666, \"#ed7953\"], [0.7777777777777778, \"#fb9f3a\"], [0.8888888888888888, \"#fdca26\"], [1.0, \"#f0f921\"]]}, \"colorway\": [\"#636efa\", \"#EF553B\", \"#00cc96\", \"#ab63fa\", \"#FFA15A\", \"#19d3f3\", \"#FF6692\", \"#B6E880\", \"#FF97FF\", \"#FECB52\"], \"font\": {\"color\": \"#f2f5fa\"}, \"geo\": {\"bgcolor\": \"rgb(17,17,17)\", \"lakecolor\": \"rgb(17,17,17)\", \"landcolor\": \"rgb(17,17,17)\", \"showlakes\": true, \"showland\": true, \"subunitcolor\": \"#506784\"}, \"hoverlabel\": {\"align\": \"left\"}, \"hovermode\": \"closest\", \"mapbox\": {\"style\": \"dark\"}, \"paper_bgcolor\": \"rgb(17,17,17)\", \"plot_bgcolor\": \"rgb(17,17,17)\", \"polar\": {\"angularaxis\": {\"gridcolor\": \"#506784\", \"linecolor\": \"#506784\", \"ticks\": \"\"}, \"bgcolor\": \"rgb(17,17,17)\", \"radialaxis\": {\"gridcolor\": \"#506784\", \"linecolor\": \"#506784\", \"ticks\": \"\"}}, \"scene\": {\"xaxis\": {\"backgroundcolor\": \"rgb(17,17,17)\", \"gridcolor\": \"#506784\", \"gridwidth\": 2, \"linecolor\": \"#506784\", \"showbackground\": true, \"ticks\": \"\", \"zerolinecolor\": \"#C8D4E3\"}, \"yaxis\": {\"backgroundcolor\": \"rgb(17,17,17)\", \"gridcolor\": \"#506784\", \"gridwidth\": 2, \"linecolor\": \"#506784\", \"showbackground\": true, \"ticks\": \"\", \"zerolinecolor\": \"#C8D4E3\"}, \"zaxis\": {\"backgroundcolor\": \"rgb(17,17,17)\", \"gridcolor\": \"#506784\", \"gridwidth\": 2, \"linecolor\": \"#506784\", \"showbackground\": true, \"ticks\": \"\", \"zerolinecolor\": \"#C8D4E3\"}}, \"shapedefaults\": {\"line\": {\"color\": \"#f2f5fa\"}}, \"sliderdefaults\": {\"bgcolor\": \"#C8D4E3\", \"bordercolor\": \"rgb(17,17,17)\", \"borderwidth\": 1, \"tickwidth\": 0}, \"ternary\": {\"aaxis\": {\"gridcolor\": \"#506784\", \"linecolor\": \"#506784\", \"ticks\": \"\"}, \"baxis\": {\"gridcolor\": \"#506784\", \"linecolor\": \"#506784\", \"ticks\": \"\"}, \"bgcolor\": \"rgb(17,17,17)\", \"caxis\": {\"gridcolor\": \"#506784\", \"linecolor\": \"#506784\", \"ticks\": \"\"}}, \"title\": {\"x\": 0.05}, \"updatemenudefaults\": {\"bgcolor\": \"#506784\", \"borderwidth\": 0}, \"xaxis\": {\"automargin\": true, \"gridcolor\": \"#283442\", \"linecolor\": \"#506784\", \"ticks\": \"\", \"title\": {\"standoff\": 15}, \"zerolinecolor\": \"#283442\", \"zerolinewidth\": 2}, \"yaxis\": {\"automargin\": true, \"gridcolor\": \"#283442\", \"linecolor\": \"#506784\", \"ticks\": \"\", \"title\": {\"standoff\": 15}, \"zerolinecolor\": \"#283442\", \"zerolinewidth\": 2}}}, \"xaxis\": {\"anchor\": \"y\", \"domain\": [0.0, 1.0], \"tickangle\": -45, \"title\": {\"text\": \"May Day's\"}}, \"yaxis\": {\"anchor\": \"x\", \"domain\": [0.0, 1.0], \"showticklabels\": false, \"title\": {\"text\": \"y\"}, \"visible\": false}},                        {\"responsive\": true}                    ).then(function(){\n",
       "                            \n",
       "var gd = document.getElementById('119c0671-070f-491a-823a-8a6b84b7d54b');\n",
       "var x = new MutationObserver(function (mutations, observer) {{\n",
       "        var display = window.getComputedStyle(gd).display;\n",
       "        if (!display || display === 'none') {{\n",
       "            console.log([gd, 'removed!']);\n",
       "            Plotly.purge(gd);\n",
       "            observer.disconnect();\n",
       "        }}\n",
       "}});\n",
       "\n",
       "// Listen for the removal of the full notebook cells\n",
       "var notebookContainer = gd.closest('#notebook-container');\n",
       "if (notebookContainer) {{\n",
       "    x.observe(notebookContainer, {childList: true});\n",
       "}}\n",
       "\n",
       "// Listen for the clearing of the current output cell\n",
       "var outputEl = gd.closest('.output');\n",
       "if (outputEl) {{\n",
       "    x.observe(outputEl, {childList: true});\n",
       "}}\n",
       "\n",
       "                        })                };                });            </script>        </div>"
      ]
     },
     "metadata": {},
     "output_type": "display_data"
    }
   ],
   "source": [
    "ana5 = df[df.index.month == 5].index.day.value_counts()\n",
    "\n",
    "fig = px.bar(ana5,\n",
    "             x=ana5.index,\n",
    "             y=ana5.values,\n",
    "             color=ana5.values,\n",
    "             labels={'index': \"May Day's\", 'color':'Number of Tweets'},\n",
    "             template='plotly_dark',\n",
    "             text=ana5.values,\n",
    "             color_continuous_scale='Rainbow',\n",
    "            )\n",
    "\n",
    "fig.update_layout(xaxis_tickangle=-45,\n",
    "                  yaxis={'visible': False, 'showticklabels': False},\n",
    "                  font=dict(size=15),\n",
    "                 )\n",
    "\n",
    "fig.show()"
   ]
  },
  {
   "cell_type": "markdown",
   "metadata": {},
   "source": [
    "## Hourly Distribution"
   ]
  },
  {
   "cell_type": "code",
   "execution_count": 60,
   "metadata": {},
   "outputs": [
    {
     "data": {
      "application/vnd.plotly.v1+json": {
       "config": {
        "plotlyServerURL": "https://plot.ly"
       },
       "data": [
        {
         "marker": {
          "color": [
           3138,
           2962,
           2853,
           2745,
           2732,
           2546,
           2465,
           2412,
           2410,
           2263,
           2224,
           2164,
           2142,
           2056,
           1991,
           1787,
           1468,
           1081,
           816,
           563,
           481,
           345,
           290,
           245
          ],
          "colorscale": [
           [
            0,
            "rgb(150,0,90)"
           ],
           [
            0.125,
            "rgb(0,0,200)"
           ],
           [
            0.25,
            "rgb(0,25,255)"
           ],
           [
            0.375,
            "rgb(0,152,255)"
           ],
           [
            0.5,
            "rgb(44,255,150)"
           ],
           [
            0.625,
            "rgb(151,255,0)"
           ],
           [
            0.75,
            "rgb(255,234,0)"
           ],
           [
            0.875,
            "rgb(255,111,0)"
           ],
           [
            1,
            "rgb(255,0,0)"
           ]
          ],
          "line": {
           "width": 2
          },
          "showscale": true,
          "size": 20
         },
         "mode": "markers",
         "type": "scatter",
         "x": [
          11,
          12,
          10,
          14,
          13,
          15,
          16,
          18,
          20,
          21,
          19,
          17,
          9,
          22,
          23,
          8,
          0,
          7,
          1,
          6,
          2,
          5,
          3,
          4
         ],
         "y": [
          3138,
          2962,
          2853,
          2745,
          2732,
          2546,
          2465,
          2412,
          2410,
          2263,
          2224,
          2164,
          2142,
          2056,
          1991,
          1787,
          1468,
          1081,
          816,
          563,
          481,
          345,
          290,
          245
         ]
        }
       ],
       "layout": {
        "font": {
         "size": 15
        },
        "hovermode": "x",
        "template": {
         "data": {
          "bar": [
           {
            "error_x": {
             "color": "#f2f5fa"
            },
            "error_y": {
             "color": "#f2f5fa"
            },
            "marker": {
             "line": {
              "color": "rgb(17,17,17)",
              "width": 0.5
             }
            },
            "type": "bar"
           }
          ],
          "barpolar": [
           {
            "marker": {
             "line": {
              "color": "rgb(17,17,17)",
              "width": 0.5
             }
            },
            "type": "barpolar"
           }
          ],
          "carpet": [
           {
            "aaxis": {
             "endlinecolor": "#A2B1C6",
             "gridcolor": "#506784",
             "linecolor": "#506784",
             "minorgridcolor": "#506784",
             "startlinecolor": "#A2B1C6"
            },
            "baxis": {
             "endlinecolor": "#A2B1C6",
             "gridcolor": "#506784",
             "linecolor": "#506784",
             "minorgridcolor": "#506784",
             "startlinecolor": "#A2B1C6"
            },
            "type": "carpet"
           }
          ],
          "choropleth": [
           {
            "colorbar": {
             "outlinewidth": 0,
             "ticks": ""
            },
            "type": "choropleth"
           }
          ],
          "contour": [
           {
            "colorbar": {
             "outlinewidth": 0,
             "ticks": ""
            },
            "colorscale": [
             [
              0,
              "#0d0887"
             ],
             [
              0.1111111111111111,
              "#46039f"
             ],
             [
              0.2222222222222222,
              "#7201a8"
             ],
             [
              0.3333333333333333,
              "#9c179e"
             ],
             [
              0.4444444444444444,
              "#bd3786"
             ],
             [
              0.5555555555555556,
              "#d8576b"
             ],
             [
              0.6666666666666666,
              "#ed7953"
             ],
             [
              0.7777777777777778,
              "#fb9f3a"
             ],
             [
              0.8888888888888888,
              "#fdca26"
             ],
             [
              1,
              "#f0f921"
             ]
            ],
            "type": "contour"
           }
          ],
          "contourcarpet": [
           {
            "colorbar": {
             "outlinewidth": 0,
             "ticks": ""
            },
            "type": "contourcarpet"
           }
          ],
          "heatmap": [
           {
            "colorbar": {
             "outlinewidth": 0,
             "ticks": ""
            },
            "colorscale": [
             [
              0,
              "#0d0887"
             ],
             [
              0.1111111111111111,
              "#46039f"
             ],
             [
              0.2222222222222222,
              "#7201a8"
             ],
             [
              0.3333333333333333,
              "#9c179e"
             ],
             [
              0.4444444444444444,
              "#bd3786"
             ],
             [
              0.5555555555555556,
              "#d8576b"
             ],
             [
              0.6666666666666666,
              "#ed7953"
             ],
             [
              0.7777777777777778,
              "#fb9f3a"
             ],
             [
              0.8888888888888888,
              "#fdca26"
             ],
             [
              1,
              "#f0f921"
             ]
            ],
            "type": "heatmap"
           }
          ],
          "heatmapgl": [
           {
            "colorbar": {
             "outlinewidth": 0,
             "ticks": ""
            },
            "colorscale": [
             [
              0,
              "#0d0887"
             ],
             [
              0.1111111111111111,
              "#46039f"
             ],
             [
              0.2222222222222222,
              "#7201a8"
             ],
             [
              0.3333333333333333,
              "#9c179e"
             ],
             [
              0.4444444444444444,
              "#bd3786"
             ],
             [
              0.5555555555555556,
              "#d8576b"
             ],
             [
              0.6666666666666666,
              "#ed7953"
             ],
             [
              0.7777777777777778,
              "#fb9f3a"
             ],
             [
              0.8888888888888888,
              "#fdca26"
             ],
             [
              1,
              "#f0f921"
             ]
            ],
            "type": "heatmapgl"
           }
          ],
          "histogram": [
           {
            "marker": {
             "colorbar": {
              "outlinewidth": 0,
              "ticks": ""
             }
            },
            "type": "histogram"
           }
          ],
          "histogram2d": [
           {
            "colorbar": {
             "outlinewidth": 0,
             "ticks": ""
            },
            "colorscale": [
             [
              0,
              "#0d0887"
             ],
             [
              0.1111111111111111,
              "#46039f"
             ],
             [
              0.2222222222222222,
              "#7201a8"
             ],
             [
              0.3333333333333333,
              "#9c179e"
             ],
             [
              0.4444444444444444,
              "#bd3786"
             ],
             [
              0.5555555555555556,
              "#d8576b"
             ],
             [
              0.6666666666666666,
              "#ed7953"
             ],
             [
              0.7777777777777778,
              "#fb9f3a"
             ],
             [
              0.8888888888888888,
              "#fdca26"
             ],
             [
              1,
              "#f0f921"
             ]
            ],
            "type": "histogram2d"
           }
          ],
          "histogram2dcontour": [
           {
            "colorbar": {
             "outlinewidth": 0,
             "ticks": ""
            },
            "colorscale": [
             [
              0,
              "#0d0887"
             ],
             [
              0.1111111111111111,
              "#46039f"
             ],
             [
              0.2222222222222222,
              "#7201a8"
             ],
             [
              0.3333333333333333,
              "#9c179e"
             ],
             [
              0.4444444444444444,
              "#bd3786"
             ],
             [
              0.5555555555555556,
              "#d8576b"
             ],
             [
              0.6666666666666666,
              "#ed7953"
             ],
             [
              0.7777777777777778,
              "#fb9f3a"
             ],
             [
              0.8888888888888888,
              "#fdca26"
             ],
             [
              1,
              "#f0f921"
             ]
            ],
            "type": "histogram2dcontour"
           }
          ],
          "mesh3d": [
           {
            "colorbar": {
             "outlinewidth": 0,
             "ticks": ""
            },
            "type": "mesh3d"
           }
          ],
          "parcoords": [
           {
            "line": {
             "colorbar": {
              "outlinewidth": 0,
              "ticks": ""
             }
            },
            "type": "parcoords"
           }
          ],
          "pie": [
           {
            "automargin": true,
            "type": "pie"
           }
          ],
          "scatter": [
           {
            "marker": {
             "line": {
              "color": "#283442"
             }
            },
            "type": "scatter"
           }
          ],
          "scatter3d": [
           {
            "line": {
             "colorbar": {
              "outlinewidth": 0,
              "ticks": ""
             }
            },
            "marker": {
             "colorbar": {
              "outlinewidth": 0,
              "ticks": ""
             }
            },
            "type": "scatter3d"
           }
          ],
          "scattercarpet": [
           {
            "marker": {
             "colorbar": {
              "outlinewidth": 0,
              "ticks": ""
             }
            },
            "type": "scattercarpet"
           }
          ],
          "scattergeo": [
           {
            "marker": {
             "colorbar": {
              "outlinewidth": 0,
              "ticks": ""
             }
            },
            "type": "scattergeo"
           }
          ],
          "scattergl": [
           {
            "marker": {
             "line": {
              "color": "#283442"
             }
            },
            "type": "scattergl"
           }
          ],
          "scattermapbox": [
           {
            "marker": {
             "colorbar": {
              "outlinewidth": 0,
              "ticks": ""
             }
            },
            "type": "scattermapbox"
           }
          ],
          "scatterpolar": [
           {
            "marker": {
             "colorbar": {
              "outlinewidth": 0,
              "ticks": ""
             }
            },
            "type": "scatterpolar"
           }
          ],
          "scatterpolargl": [
           {
            "marker": {
             "colorbar": {
              "outlinewidth": 0,
              "ticks": ""
             }
            },
            "type": "scatterpolargl"
           }
          ],
          "scatterternary": [
           {
            "marker": {
             "colorbar": {
              "outlinewidth": 0,
              "ticks": ""
             }
            },
            "type": "scatterternary"
           }
          ],
          "surface": [
           {
            "colorbar": {
             "outlinewidth": 0,
             "ticks": ""
            },
            "colorscale": [
             [
              0,
              "#0d0887"
             ],
             [
              0.1111111111111111,
              "#46039f"
             ],
             [
              0.2222222222222222,
              "#7201a8"
             ],
             [
              0.3333333333333333,
              "#9c179e"
             ],
             [
              0.4444444444444444,
              "#bd3786"
             ],
             [
              0.5555555555555556,
              "#d8576b"
             ],
             [
              0.6666666666666666,
              "#ed7953"
             ],
             [
              0.7777777777777778,
              "#fb9f3a"
             ],
             [
              0.8888888888888888,
              "#fdca26"
             ],
             [
              1,
              "#f0f921"
             ]
            ],
            "type": "surface"
           }
          ],
          "table": [
           {
            "cells": {
             "fill": {
              "color": "#506784"
             },
             "line": {
              "color": "rgb(17,17,17)"
             }
            },
            "header": {
             "fill": {
              "color": "#2a3f5f"
             },
             "line": {
              "color": "rgb(17,17,17)"
             }
            },
            "type": "table"
           }
          ]
         },
         "layout": {
          "annotationdefaults": {
           "arrowcolor": "#f2f5fa",
           "arrowhead": 0,
           "arrowwidth": 1
          },
          "autotypenumbers": "strict",
          "coloraxis": {
           "colorbar": {
            "outlinewidth": 0,
            "ticks": ""
           }
          },
          "colorscale": {
           "diverging": [
            [
             0,
             "#8e0152"
            ],
            [
             0.1,
             "#c51b7d"
            ],
            [
             0.2,
             "#de77ae"
            ],
            [
             0.3,
             "#f1b6da"
            ],
            [
             0.4,
             "#fde0ef"
            ],
            [
             0.5,
             "#f7f7f7"
            ],
            [
             0.6,
             "#e6f5d0"
            ],
            [
             0.7,
             "#b8e186"
            ],
            [
             0.8,
             "#7fbc41"
            ],
            [
             0.9,
             "#4d9221"
            ],
            [
             1,
             "#276419"
            ]
           ],
           "sequential": [
            [
             0,
             "#0d0887"
            ],
            [
             0.1111111111111111,
             "#46039f"
            ],
            [
             0.2222222222222222,
             "#7201a8"
            ],
            [
             0.3333333333333333,
             "#9c179e"
            ],
            [
             0.4444444444444444,
             "#bd3786"
            ],
            [
             0.5555555555555556,
             "#d8576b"
            ],
            [
             0.6666666666666666,
             "#ed7953"
            ],
            [
             0.7777777777777778,
             "#fb9f3a"
            ],
            [
             0.8888888888888888,
             "#fdca26"
            ],
            [
             1,
             "#f0f921"
            ]
           ],
           "sequentialminus": [
            [
             0,
             "#0d0887"
            ],
            [
             0.1111111111111111,
             "#46039f"
            ],
            [
             0.2222222222222222,
             "#7201a8"
            ],
            [
             0.3333333333333333,
             "#9c179e"
            ],
            [
             0.4444444444444444,
             "#bd3786"
            ],
            [
             0.5555555555555556,
             "#d8576b"
            ],
            [
             0.6666666666666666,
             "#ed7953"
            ],
            [
             0.7777777777777778,
             "#fb9f3a"
            ],
            [
             0.8888888888888888,
             "#fdca26"
            ],
            [
             1,
             "#f0f921"
            ]
           ]
          },
          "colorway": [
           "#636efa",
           "#EF553B",
           "#00cc96",
           "#ab63fa",
           "#FFA15A",
           "#19d3f3",
           "#FF6692",
           "#B6E880",
           "#FF97FF",
           "#FECB52"
          ],
          "font": {
           "color": "#f2f5fa"
          },
          "geo": {
           "bgcolor": "rgb(17,17,17)",
           "lakecolor": "rgb(17,17,17)",
           "landcolor": "rgb(17,17,17)",
           "showlakes": true,
           "showland": true,
           "subunitcolor": "#506784"
          },
          "hoverlabel": {
           "align": "left"
          },
          "hovermode": "closest",
          "mapbox": {
           "style": "dark"
          },
          "paper_bgcolor": "rgb(17,17,17)",
          "plot_bgcolor": "rgb(17,17,17)",
          "polar": {
           "angularaxis": {
            "gridcolor": "#506784",
            "linecolor": "#506784",
            "ticks": ""
           },
           "bgcolor": "rgb(17,17,17)",
           "radialaxis": {
            "gridcolor": "#506784",
            "linecolor": "#506784",
            "ticks": ""
           }
          },
          "scene": {
           "xaxis": {
            "backgroundcolor": "rgb(17,17,17)",
            "gridcolor": "#506784",
            "gridwidth": 2,
            "linecolor": "#506784",
            "showbackground": true,
            "ticks": "",
            "zerolinecolor": "#C8D4E3"
           },
           "yaxis": {
            "backgroundcolor": "rgb(17,17,17)",
            "gridcolor": "#506784",
            "gridwidth": 2,
            "linecolor": "#506784",
            "showbackground": true,
            "ticks": "",
            "zerolinecolor": "#C8D4E3"
           },
           "zaxis": {
            "backgroundcolor": "rgb(17,17,17)",
            "gridcolor": "#506784",
            "gridwidth": 2,
            "linecolor": "#506784",
            "showbackground": true,
            "ticks": "",
            "zerolinecolor": "#C8D4E3"
           }
          },
          "shapedefaults": {
           "line": {
            "color": "#f2f5fa"
           }
          },
          "sliderdefaults": {
           "bgcolor": "#C8D4E3",
           "bordercolor": "rgb(17,17,17)",
           "borderwidth": 1,
           "tickwidth": 0
          },
          "ternary": {
           "aaxis": {
            "gridcolor": "#506784",
            "linecolor": "#506784",
            "ticks": ""
           },
           "baxis": {
            "gridcolor": "#506784",
            "linecolor": "#506784",
            "ticks": ""
           },
           "bgcolor": "rgb(17,17,17)",
           "caxis": {
            "gridcolor": "#506784",
            "linecolor": "#506784",
            "ticks": ""
           }
          },
          "title": {
           "x": 0.05
          },
          "updatemenudefaults": {
           "bgcolor": "#506784",
           "borderwidth": 0
          },
          "xaxis": {
           "automargin": true,
           "gridcolor": "#283442",
           "linecolor": "#506784",
           "ticks": "",
           "title": {
            "standoff": 15
           },
           "zerolinecolor": "#283442",
           "zerolinewidth": 2
          },
          "yaxis": {
           "automargin": true,
           "gridcolor": "#283442",
           "linecolor": "#506784",
           "ticks": "",
           "title": {
            "standoff": 15
           },
           "zerolinecolor": "#283442",
           "zerolinewidth": 2
          }
         }
        },
        "xaxis": {
         "tickangle": -45,
         "title": {
          "text": "Hour of Day (24-hour clock)"
         }
        },
        "yaxis": {
         "showticklabels": false,
         "title": {
          "text": "Number of Tweets"
         },
         "visible": true
        }
       }
      },
      "text/html": [
       "<div>                            <div id=\"8dcdf57e-c9de-4ede-9a92-fbc3a6b85c53\" class=\"plotly-graph-div\" style=\"height:525px; width:100%;\"></div>            <script type=\"text/javascript\">                require([\"plotly\"], function(Plotly) {                    window.PLOTLYENV=window.PLOTLYENV || {};                                    if (document.getElementById(\"8dcdf57e-c9de-4ede-9a92-fbc3a6b85c53\")) {                    Plotly.newPlot(                        \"8dcdf57e-c9de-4ede-9a92-fbc3a6b85c53\",                        [{\"marker\": {\"color\": [3138, 2962, 2853, 2745, 2732, 2546, 2465, 2412, 2410, 2263, 2224, 2164, 2142, 2056, 1991, 1787, 1468, 1081, 816, 563, 481, 345, 290, 245], \"colorscale\": [[0.0, \"rgb(150,0,90)\"], [0.125, \"rgb(0,0,200)\"], [0.25, \"rgb(0,25,255)\"], [0.375, \"rgb(0,152,255)\"], [0.5, \"rgb(44,255,150)\"], [0.625, \"rgb(151,255,0)\"], [0.75, \"rgb(255,234,0)\"], [0.875, \"rgb(255,111,0)\"], [1.0, \"rgb(255,0,0)\"]], \"line\": {\"width\": 2}, \"showscale\": true, \"size\": 20}, \"mode\": \"markers\", \"type\": \"scatter\", \"x\": [11, 12, 10, 14, 13, 15, 16, 18, 20, 21, 19, 17, 9, 22, 23, 8, 0, 7, 1, 6, 2, 5, 3, 4], \"y\": [3138, 2962, 2853, 2745, 2732, 2546, 2465, 2412, 2410, 2263, 2224, 2164, 2142, 2056, 1991, 1787, 1468, 1081, 816, 563, 481, 345, 290, 245]}],                        {\"font\": {\"size\": 15}, \"hovermode\": \"x\", \"template\": {\"data\": {\"bar\": [{\"error_x\": {\"color\": \"#f2f5fa\"}, \"error_y\": {\"color\": \"#f2f5fa\"}, \"marker\": {\"line\": {\"color\": \"rgb(17,17,17)\", \"width\": 0.5}}, \"type\": \"bar\"}], \"barpolar\": [{\"marker\": {\"line\": {\"color\": \"rgb(17,17,17)\", \"width\": 0.5}}, \"type\": \"barpolar\"}], \"carpet\": [{\"aaxis\": {\"endlinecolor\": \"#A2B1C6\", \"gridcolor\": \"#506784\", \"linecolor\": \"#506784\", \"minorgridcolor\": \"#506784\", \"startlinecolor\": \"#A2B1C6\"}, \"baxis\": {\"endlinecolor\": \"#A2B1C6\", \"gridcolor\": \"#506784\", \"linecolor\": \"#506784\", \"minorgridcolor\": \"#506784\", \"startlinecolor\": \"#A2B1C6\"}, \"type\": \"carpet\"}], \"choropleth\": [{\"colorbar\": {\"outlinewidth\": 0, \"ticks\": \"\"}, \"type\": \"choropleth\"}], \"contour\": [{\"colorbar\": {\"outlinewidth\": 0, \"ticks\": \"\"}, \"colorscale\": [[0.0, \"#0d0887\"], [0.1111111111111111, \"#46039f\"], [0.2222222222222222, \"#7201a8\"], [0.3333333333333333, \"#9c179e\"], [0.4444444444444444, \"#bd3786\"], [0.5555555555555556, \"#d8576b\"], [0.6666666666666666, \"#ed7953\"], [0.7777777777777778, \"#fb9f3a\"], [0.8888888888888888, \"#fdca26\"], [1.0, \"#f0f921\"]], \"type\": \"contour\"}], \"contourcarpet\": [{\"colorbar\": {\"outlinewidth\": 0, \"ticks\": \"\"}, \"type\": \"contourcarpet\"}], \"heatmap\": [{\"colorbar\": {\"outlinewidth\": 0, \"ticks\": \"\"}, \"colorscale\": [[0.0, \"#0d0887\"], [0.1111111111111111, \"#46039f\"], [0.2222222222222222, \"#7201a8\"], [0.3333333333333333, \"#9c179e\"], [0.4444444444444444, \"#bd3786\"], [0.5555555555555556, \"#d8576b\"], [0.6666666666666666, \"#ed7953\"], [0.7777777777777778, \"#fb9f3a\"], [0.8888888888888888, \"#fdca26\"], [1.0, \"#f0f921\"]], \"type\": \"heatmap\"}], \"heatmapgl\": [{\"colorbar\": {\"outlinewidth\": 0, \"ticks\": \"\"}, \"colorscale\": [[0.0, \"#0d0887\"], [0.1111111111111111, \"#46039f\"], [0.2222222222222222, \"#7201a8\"], [0.3333333333333333, \"#9c179e\"], [0.4444444444444444, \"#bd3786\"], [0.5555555555555556, \"#d8576b\"], [0.6666666666666666, \"#ed7953\"], [0.7777777777777778, \"#fb9f3a\"], [0.8888888888888888, \"#fdca26\"], [1.0, \"#f0f921\"]], \"type\": \"heatmapgl\"}], \"histogram\": [{\"marker\": {\"colorbar\": {\"outlinewidth\": 0, \"ticks\": \"\"}}, \"type\": \"histogram\"}], \"histogram2d\": [{\"colorbar\": {\"outlinewidth\": 0, \"ticks\": \"\"}, \"colorscale\": [[0.0, \"#0d0887\"], [0.1111111111111111, \"#46039f\"], [0.2222222222222222, \"#7201a8\"], [0.3333333333333333, \"#9c179e\"], [0.4444444444444444, \"#bd3786\"], [0.5555555555555556, \"#d8576b\"], [0.6666666666666666, \"#ed7953\"], [0.7777777777777778, \"#fb9f3a\"], [0.8888888888888888, \"#fdca26\"], [1.0, \"#f0f921\"]], \"type\": \"histogram2d\"}], \"histogram2dcontour\": [{\"colorbar\": {\"outlinewidth\": 0, \"ticks\": \"\"}, \"colorscale\": [[0.0, \"#0d0887\"], [0.1111111111111111, \"#46039f\"], [0.2222222222222222, \"#7201a8\"], [0.3333333333333333, \"#9c179e\"], [0.4444444444444444, \"#bd3786\"], [0.5555555555555556, \"#d8576b\"], [0.6666666666666666, \"#ed7953\"], [0.7777777777777778, \"#fb9f3a\"], [0.8888888888888888, \"#fdca26\"], [1.0, \"#f0f921\"]], \"type\": \"histogram2dcontour\"}], \"mesh3d\": [{\"colorbar\": {\"outlinewidth\": 0, \"ticks\": \"\"}, \"type\": \"mesh3d\"}], \"parcoords\": [{\"line\": {\"colorbar\": {\"outlinewidth\": 0, \"ticks\": \"\"}}, \"type\": \"parcoords\"}], \"pie\": [{\"automargin\": true, \"type\": \"pie\"}], \"scatter\": [{\"marker\": {\"line\": {\"color\": \"#283442\"}}, \"type\": \"scatter\"}], \"scatter3d\": [{\"line\": {\"colorbar\": {\"outlinewidth\": 0, \"ticks\": \"\"}}, \"marker\": {\"colorbar\": {\"outlinewidth\": 0, \"ticks\": \"\"}}, \"type\": \"scatter3d\"}], \"scattercarpet\": [{\"marker\": {\"colorbar\": {\"outlinewidth\": 0, \"ticks\": \"\"}}, \"type\": \"scattercarpet\"}], \"scattergeo\": [{\"marker\": {\"colorbar\": {\"outlinewidth\": 0, \"ticks\": \"\"}}, \"type\": \"scattergeo\"}], \"scattergl\": [{\"marker\": {\"line\": {\"color\": \"#283442\"}}, \"type\": \"scattergl\"}], \"scattermapbox\": [{\"marker\": {\"colorbar\": {\"outlinewidth\": 0, \"ticks\": \"\"}}, \"type\": \"scattermapbox\"}], \"scatterpolar\": [{\"marker\": {\"colorbar\": {\"outlinewidth\": 0, \"ticks\": \"\"}}, \"type\": \"scatterpolar\"}], \"scatterpolargl\": [{\"marker\": {\"colorbar\": {\"outlinewidth\": 0, \"ticks\": \"\"}}, \"type\": \"scatterpolargl\"}], \"scatterternary\": [{\"marker\": {\"colorbar\": {\"outlinewidth\": 0, \"ticks\": \"\"}}, \"type\": \"scatterternary\"}], \"surface\": [{\"colorbar\": {\"outlinewidth\": 0, \"ticks\": \"\"}, \"colorscale\": [[0.0, \"#0d0887\"], [0.1111111111111111, \"#46039f\"], [0.2222222222222222, \"#7201a8\"], [0.3333333333333333, \"#9c179e\"], [0.4444444444444444, \"#bd3786\"], [0.5555555555555556, \"#d8576b\"], [0.6666666666666666, \"#ed7953\"], [0.7777777777777778, \"#fb9f3a\"], [0.8888888888888888, \"#fdca26\"], [1.0, \"#f0f921\"]], \"type\": \"surface\"}], \"table\": [{\"cells\": {\"fill\": {\"color\": \"#506784\"}, \"line\": {\"color\": \"rgb(17,17,17)\"}}, \"header\": {\"fill\": {\"color\": \"#2a3f5f\"}, \"line\": {\"color\": \"rgb(17,17,17)\"}}, \"type\": \"table\"}]}, \"layout\": {\"annotationdefaults\": {\"arrowcolor\": \"#f2f5fa\", \"arrowhead\": 0, \"arrowwidth\": 1}, \"autotypenumbers\": \"strict\", \"coloraxis\": {\"colorbar\": {\"outlinewidth\": 0, \"ticks\": \"\"}}, \"colorscale\": {\"diverging\": [[0, \"#8e0152\"], [0.1, \"#c51b7d\"], [0.2, \"#de77ae\"], [0.3, \"#f1b6da\"], [0.4, \"#fde0ef\"], [0.5, \"#f7f7f7\"], [0.6, \"#e6f5d0\"], [0.7, \"#b8e186\"], [0.8, \"#7fbc41\"], [0.9, \"#4d9221\"], [1, \"#276419\"]], \"sequential\": [[0.0, \"#0d0887\"], [0.1111111111111111, \"#46039f\"], [0.2222222222222222, \"#7201a8\"], [0.3333333333333333, \"#9c179e\"], [0.4444444444444444, \"#bd3786\"], [0.5555555555555556, \"#d8576b\"], [0.6666666666666666, \"#ed7953\"], [0.7777777777777778, \"#fb9f3a\"], [0.8888888888888888, \"#fdca26\"], [1.0, \"#f0f921\"]], \"sequentialminus\": [[0.0, \"#0d0887\"], [0.1111111111111111, \"#46039f\"], [0.2222222222222222, \"#7201a8\"], [0.3333333333333333, \"#9c179e\"], [0.4444444444444444, \"#bd3786\"], [0.5555555555555556, \"#d8576b\"], [0.6666666666666666, \"#ed7953\"], [0.7777777777777778, \"#fb9f3a\"], [0.8888888888888888, \"#fdca26\"], [1.0, \"#f0f921\"]]}, \"colorway\": [\"#636efa\", \"#EF553B\", \"#00cc96\", \"#ab63fa\", \"#FFA15A\", \"#19d3f3\", \"#FF6692\", \"#B6E880\", \"#FF97FF\", \"#FECB52\"], \"font\": {\"color\": \"#f2f5fa\"}, \"geo\": {\"bgcolor\": \"rgb(17,17,17)\", \"lakecolor\": \"rgb(17,17,17)\", \"landcolor\": \"rgb(17,17,17)\", \"showlakes\": true, \"showland\": true, \"subunitcolor\": \"#506784\"}, \"hoverlabel\": {\"align\": \"left\"}, \"hovermode\": \"closest\", \"mapbox\": {\"style\": \"dark\"}, \"paper_bgcolor\": \"rgb(17,17,17)\", \"plot_bgcolor\": \"rgb(17,17,17)\", \"polar\": {\"angularaxis\": {\"gridcolor\": \"#506784\", \"linecolor\": \"#506784\", \"ticks\": \"\"}, \"bgcolor\": \"rgb(17,17,17)\", \"radialaxis\": {\"gridcolor\": \"#506784\", \"linecolor\": \"#506784\", \"ticks\": \"\"}}, \"scene\": {\"xaxis\": {\"backgroundcolor\": \"rgb(17,17,17)\", \"gridcolor\": \"#506784\", \"gridwidth\": 2, \"linecolor\": \"#506784\", \"showbackground\": true, \"ticks\": \"\", \"zerolinecolor\": \"#C8D4E3\"}, \"yaxis\": {\"backgroundcolor\": \"rgb(17,17,17)\", \"gridcolor\": \"#506784\", \"gridwidth\": 2, \"linecolor\": \"#506784\", \"showbackground\": true, \"ticks\": \"\", \"zerolinecolor\": \"#C8D4E3\"}, \"zaxis\": {\"backgroundcolor\": \"rgb(17,17,17)\", \"gridcolor\": \"#506784\", \"gridwidth\": 2, \"linecolor\": \"#506784\", \"showbackground\": true, \"ticks\": \"\", \"zerolinecolor\": \"#C8D4E3\"}}, \"shapedefaults\": {\"line\": {\"color\": \"#f2f5fa\"}}, \"sliderdefaults\": {\"bgcolor\": \"#C8D4E3\", \"bordercolor\": \"rgb(17,17,17)\", \"borderwidth\": 1, \"tickwidth\": 0}, \"ternary\": {\"aaxis\": {\"gridcolor\": \"#506784\", \"linecolor\": \"#506784\", \"ticks\": \"\"}, \"baxis\": {\"gridcolor\": \"#506784\", \"linecolor\": \"#506784\", \"ticks\": \"\"}, \"bgcolor\": \"rgb(17,17,17)\", \"caxis\": {\"gridcolor\": \"#506784\", \"linecolor\": \"#506784\", \"ticks\": \"\"}}, \"title\": {\"x\": 0.05}, \"updatemenudefaults\": {\"bgcolor\": \"#506784\", \"borderwidth\": 0}, \"xaxis\": {\"automargin\": true, \"gridcolor\": \"#283442\", \"linecolor\": \"#506784\", \"ticks\": \"\", \"title\": {\"standoff\": 15}, \"zerolinecolor\": \"#283442\", \"zerolinewidth\": 2}, \"yaxis\": {\"automargin\": true, \"gridcolor\": \"#283442\", \"linecolor\": \"#506784\", \"ticks\": \"\", \"title\": {\"standoff\": 15}, \"zerolinecolor\": \"#283442\", \"zerolinewidth\": 2}}}, \"xaxis\": {\"tickangle\": -45, \"title\": {\"text\": \"Hour of Day (24-hour clock)\"}}, \"yaxis\": {\"showticklabels\": false, \"title\": {\"text\": \"Number of Tweets\"}, \"visible\": true}},                        {\"responsive\": true}                    ).then(function(){\n",
       "                            \n",
       "var gd = document.getElementById('8dcdf57e-c9de-4ede-9a92-fbc3a6b85c53');\n",
       "var x = new MutationObserver(function (mutations, observer) {{\n",
       "        var display = window.getComputedStyle(gd).display;\n",
       "        if (!display || display === 'none') {{\n",
       "            console.log([gd, 'removed!']);\n",
       "            Plotly.purge(gd);\n",
       "            observer.disconnect();\n",
       "        }}\n",
       "}});\n",
       "\n",
       "// Listen for the removal of the full notebook cells\n",
       "var notebookContainer = gd.closest('#notebook-container');\n",
       "if (notebookContainer) {{\n",
       "    x.observe(notebookContainer, {childList: true});\n",
       "}}\n",
       "\n",
       "// Listen for the clearing of the current output cell\n",
       "var outputEl = gd.closest('.output');\n",
       "if (outputEl) {{\n",
       "    x.observe(outputEl, {childList: true});\n",
       "}}\n",
       "\n",
       "                        })                };                });            </script>        </div>"
      ]
     },
     "metadata": {},
     "output_type": "display_data"
    }
   ],
   "source": [
    "ana6 = df.index.hour.value_counts()\n",
    "fig = go.Figure()\n",
    "fig.add_trace(go.Scatter(x=ana6.index, \n",
    "                         y=ana6.values,\n",
    "                         mode='markers',\n",
    "                         marker=dict(\n",
    "                             size=20,\n",
    "                             line_width=2,\n",
    "                             color=ana6.values,\n",
    "                             colorscale='Rainbow',\n",
    "                             showscale=True\n",
    "                        )\n",
    "                    ))\n",
    "\n",
    "fig.update_layout(xaxis_tickangle=-45,\n",
    "                  font=dict(size=15),\n",
    "                  yaxis={'visible': True, 'showticklabels': False},\n",
    "                  xaxis_title='Hour of Day (24-hour clock)',\n",
    "                  yaxis_title='Number of Tweets',\n",
    "                  template='plotly_dark', \n",
    "                 )\n",
    "\n",
    "fig.update_layout(hovermode=\"x\")\n"
   ]
  },
  {
   "cell_type": "markdown",
   "metadata": {},
   "source": [
    "## Top Hashtags in Tweets"
   ]
  },
  {
   "cell_type": "code",
   "execution_count": 10,
   "metadata": {},
   "outputs": [
    {
     "data": {
      "application/vnd.jupyter.widget-view+json": {
       "model_id": "f8c07d641c124cd89995ee55b9cf0ef4",
       "version_major": 2,
       "version_minor": 0
      },
      "text/plain": [
       "interactive(children=(IntSlider(value=10, description='Top', max=30), Output()), _dom_classes=('widget-interac…"
      ]
     },
     "metadata": {},
     "output_type": "display_data"
    }
   ],
   "source": [
    "ana7 = df[~df.hashtags.isnull()]\n",
    "data = {}\n",
    "allHashTags = tuple(itertools.chain.from_iterable(ana7.hashtags.str.lower().str.split().values.tolist()))\n",
    "\n",
    "for i in allHashTags:\n",
    "    if i not in data:\n",
    "        data[i] = 1\n",
    "    else:\n",
    "        data[i] += 1\n",
    "        \n",
    "sortedHashTags = tuple(sorted(data.items(), key= lambda x: x[1])[::-1])\n",
    "\n",
    "hashTagsDf = pd.DataFrame(sortedHashTags, columns=['hashTag', 'count'])\n",
    "\n",
    "def displayHashTags(Top):\n",
    "    fig = px.scatter(hashTagsDf[:Top],\n",
    "                     x=\"hashTag\",\n",
    "                     y=\"count\",\n",
    "                     size=\"count\",\n",
    "                     color=\"count\",\n",
    "                     size_max=60,\n",
    "                     labels={'count': ''},\n",
    "                     color_continuous_scale='Rainbow',\n",
    "                    )\n",
    "    \n",
    "    fig.update_layout(xaxis_tickangle=-45,\n",
    "                      font=dict(size=15),\n",
    "                      yaxis={'visible': True, 'showticklabels': False},\n",
    "                      xaxis_title='(#) Hash Tags',\n",
    "                      yaxis_title='Number of Tweets',\n",
    "                      template='plotly_dark',\n",
    "                      \n",
    "                     )\n",
    "    \n",
    "    fig.show();\n",
    "\n",
    "interact(displayHashTags, Top=widgets.IntSlider(min=0, max=30, step=1, value=10));"
   ]
  },
  {
   "cell_type": "markdown",
   "metadata": {},
   "source": [
    "## Top Places From Where Tweets were made"
   ]
  },
  {
   "cell_type": "code",
   "execution_count": 11,
   "metadata": {},
   "outputs": [
    {
     "data": {
      "application/vnd.jupyter.widget-view+json": {
       "model_id": "40c77e7d723743c587601524702c21ac",
       "version_major": 2,
       "version_minor": 0
      },
      "text/plain": [
       "interactive(children=(IntSlider(value=10, description='Top', max=30), Output()), _dom_classes=('widget-interac…"
      ]
     },
     "metadata": {},
     "output_type": "display_data"
    }
   ],
   "source": [
    "ana8 = pd.DataFrame(data=[df.place.value_counts().index, df.place.value_counts().values]).T\n",
    "ana8 = ana8.rename(columns={0: \"place\", 1: 'count'})\n",
    "\n",
    "def displayPlaces(Top):\n",
    "\n",
    "    fig = px.bar(ana8[:Top],\n",
    "                 x='place',\n",
    "                 y='count',\n",
    "                 color='count',\n",
    "                 labels={'place': \"Location of Tweet\", 'count':'Number of Tweets'},\n",
    "                 template='plotly_dark',\n",
    "                 text='count',\n",
    "                 color_continuous_scale='Turbo',\n",
    "                )\n",
    "\n",
    "    fig.update_layout(xaxis_tickangle=-45,\n",
    "                      yaxis={'visible': True, 'showticklabels': False, 'showgrid': False},\n",
    "                      font=dict(size=15),\n",
    "                     )\n",
    "    \n",
    "    fig.update_traces(showlegend=False)\n",
    "\n",
    "    fig.show();\n",
    "\n",
    "interact(displayPlaces, Top=widgets.IntSlider(min=0, max=30, step=1, value=10));"
   ]
  },
  {
   "cell_type": "markdown",
   "metadata": {},
   "source": [
    "## Places on Map of India"
   ]
  },
  {
   "cell_type": "code",
   "execution_count": 68,
   "metadata": {},
   "outputs": [
    {
     "data": {
      "application/vnd.plotly.v1+json": {
       "config": {
        "plotlyServerURL": "https://plot.ly"
       },
       "data": [
        {
         "customdata": [
          [
           5192
          ],
          [
           4488
          ],
          [
           1479
          ],
          [
           1034
          ],
          [
           897
          ],
          [
           875
          ],
          [
           835
          ],
          [
           777
          ],
          [
           696
          ],
          [
           676
          ],
          [
           602
          ],
          [
           574
          ],
          [
           520
          ],
          [
           503
          ],
          [
           426
          ],
          [
           408
          ],
          [
           399
          ],
          [
           365
          ],
          [
           358
          ],
          [
           343
          ],
          [
           340
          ],
          [
           331
          ],
          [
           330
          ],
          [
           313
          ],
          [
           311
          ],
          [
           310
          ],
          [
           306
          ],
          [
           291
          ],
          [
           277
          ],
          [
           273
          ],
          [
           265
          ],
          [
           261
          ],
          [
           260
          ],
          [
           260
          ],
          [
           250
          ],
          [
           249
          ],
          [
           245
          ],
          [
           228
          ],
          [
           225
          ],
          [
           221
          ],
          [
           220
          ],
          [
           216
          ],
          [
           194
          ],
          [
           191
          ],
          [
           191
          ],
          [
           190
          ],
          [
           185
          ],
          [
           183
          ],
          [
           182
          ],
          [
           168
          ],
          [
           166
          ],
          [
           154
          ],
          [
           154
          ],
          [
           149
          ],
          [
           143
          ],
          [
           140
          ],
          [
           136
          ],
          [
           135
          ],
          [
           133
          ],
          [
           132
          ],
          [
           130
          ],
          [
           126
          ],
          [
           123
          ],
          [
           119
          ],
          [
           119
          ],
          [
           117
          ],
          [
           113
          ],
          [
           107
          ],
          [
           107
          ],
          [
           93
          ],
          [
           93
          ],
          [
           92
          ],
          [
           92
          ],
          [
           92
          ],
          [
           91
          ],
          [
           86
          ],
          [
           86
          ],
          [
           81
          ],
          [
           80
          ],
          [
           79
          ],
          [
           78
          ],
          [
           77
          ],
          [
           75
          ],
          [
           74
          ],
          [
           70
          ],
          [
           67
          ],
          [
           66
          ],
          [
           66
          ],
          [
           65
          ],
          [
           65
          ],
          [
           64
          ],
          [
           64
          ],
          [
           63
          ],
          [
           63
          ],
          [
           61
          ],
          [
           61
          ],
          [
           59
          ],
          [
           58
          ],
          [
           57
          ],
          [
           57
          ],
          [
           57
          ],
          [
           57
          ],
          [
           56
          ],
          [
           55
          ],
          [
           52
          ],
          [
           51
          ],
          [
           51
          ],
          [
           50
          ],
          [
           49
          ],
          [
           47
          ],
          [
           47
          ],
          [
           47
          ],
          [
           44
          ],
          [
           43
          ],
          [
           42
          ],
          [
           42
          ],
          [
           41
          ],
          [
           41
          ],
          [
           41
          ],
          [
           40
          ],
          [
           39
          ],
          [
           39
          ],
          [
           39
          ],
          [
           38
          ],
          [
           37
          ],
          [
           37
          ],
          [
           37
          ],
          [
           37
          ],
          [
           37
          ],
          [
           37
          ],
          [
           37
          ],
          [
           37
          ],
          [
           36
          ],
          [
           36
          ],
          [
           36
          ],
          [
           36
          ],
          [
           35
          ],
          [
           35
          ],
          [
           35
          ],
          [
           34
          ],
          [
           34
          ],
          [
           34
          ],
          [
           34
          ],
          [
           34
          ],
          [
           34
          ],
          [
           33
          ],
          [
           33
          ],
          [
           32
          ],
          [
           32
          ],
          [
           31
          ],
          [
           31
          ],
          [
           31
          ],
          [
           31
          ],
          [
           30
          ],
          [
           30
          ],
          [
           29
          ],
          [
           29
          ],
          [
           29
          ],
          [
           28
          ],
          [
           28
          ],
          [
           28
          ],
          [
           28
          ],
          [
           28
          ],
          [
           28
          ],
          [
           28
          ],
          [
           27
          ],
          [
           27
          ],
          [
           27
          ],
          [
           27
          ],
          [
           27
          ],
          [
           27
          ],
          [
           27
          ],
          [
           27
          ],
          [
           27
          ],
          [
           27
          ],
          [
           27
          ],
          [
           26
          ],
          [
           26
          ],
          [
           26
          ],
          [
           26
          ],
          [
           26
          ],
          [
           26
          ],
          [
           25
          ],
          [
           25
          ],
          [
           25
          ],
          [
           25
          ],
          [
           24
          ],
          [
           24
          ],
          [
           24
          ],
          [
           24
          ],
          [
           24
          ],
          [
           24
          ],
          [
           24
          ],
          [
           23
          ],
          [
           23
          ],
          [
           22
          ],
          [
           22
          ],
          [
           22
          ],
          [
           22
          ],
          [
           22
          ],
          [
           21
          ],
          [
           21
          ],
          [
           21
          ],
          [
           21
          ],
          [
           20
          ],
          [
           20
          ],
          [
           20
          ],
          [
           20
          ],
          [
           20
          ],
          [
           19
          ],
          [
           19
          ],
          [
           18
          ],
          [
           18
          ],
          [
           18
          ],
          [
           18
          ],
          [
           18
          ],
          [
           18
          ],
          [
           18
          ],
          [
           18
          ],
          [
           18
          ],
          [
           18
          ],
          [
           17
          ],
          [
           17
          ],
          [
           17
          ],
          [
           17
          ],
          [
           17
          ],
          [
           17
          ],
          [
           17
          ],
          [
           17
          ],
          [
           16
          ],
          [
           16
          ],
          [
           16
          ],
          [
           16
          ],
          [
           16
          ],
          [
           16
          ],
          [
           16
          ],
          [
           16
          ],
          [
           16
          ],
          [
           16
          ],
          [
           16
          ],
          [
           16
          ],
          [
           15
          ],
          [
           15
          ],
          [
           15
          ],
          [
           15
          ],
          [
           15
          ],
          [
           15
          ],
          [
           15
          ],
          [
           15
          ],
          [
           15
          ],
          [
           15
          ],
          [
           15
          ],
          [
           15
          ],
          [
           15
          ],
          [
           15
          ],
          [
           15
          ],
          [
           15
          ],
          [
           14
          ],
          [
           14
          ],
          [
           14
          ],
          [
           14
          ],
          [
           14
          ],
          [
           14
          ],
          [
           13
          ],
          [
           13
          ],
          [
           13
          ],
          [
           13
          ],
          [
           13
          ],
          [
           13
          ],
          [
           13
          ],
          [
           13
          ],
          [
           13
          ],
          [
           13
          ],
          [
           13
          ],
          [
           13
          ],
          [
           13
          ],
          [
           12
          ],
          [
           12
          ],
          [
           12
          ],
          [
           12
          ],
          [
           12
          ],
          [
           12
          ],
          [
           12
          ],
          [
           12
          ],
          [
           12
          ],
          [
           12
          ],
          [
           12
          ],
          [
           12
          ],
          [
           12
          ],
          [
           12
          ],
          [
           12
          ],
          [
           11
          ],
          [
           11
          ],
          [
           11
          ],
          [
           11
          ],
          [
           11
          ],
          [
           11
          ],
          [
           11
          ],
          [
           11
          ],
          [
           11
          ],
          [
           11
          ],
          [
           11
          ],
          [
           11
          ],
          [
           11
          ],
          [
           11
          ],
          [
           11
          ],
          [
           11
          ],
          [
           11
          ],
          [
           11
          ],
          [
           11
          ],
          [
           11
          ],
          [
           11
          ],
          [
           11
          ],
          [
           10
          ],
          [
           10
          ],
          [
           10
          ],
          [
           10
          ],
          [
           10
          ],
          [
           10
          ],
          [
           10
          ],
          [
           10
          ],
          [
           10
          ],
          [
           10
          ],
          [
           10
          ],
          [
           10
          ],
          [
           10
          ],
          [
           10
          ],
          [
           9
          ],
          [
           9
          ],
          [
           9
          ],
          [
           9
          ],
          [
           9
          ],
          [
           9
          ],
          [
           9
          ],
          [
           9
          ],
          [
           9
          ],
          [
           9
          ],
          [
           9
          ],
          [
           9
          ],
          [
           9
          ],
          [
           9
          ],
          [
           9
          ],
          [
           9
          ],
          [
           9
          ],
          [
           9
          ],
          [
           9
          ],
          [
           8
          ],
          [
           8
          ],
          [
           8
          ],
          [
           8
          ],
          [
           8
          ],
          [
           8
          ],
          [
           8
          ],
          [
           8
          ],
          [
           8
          ],
          [
           8
          ],
          [
           8
          ],
          [
           8
          ],
          [
           8
          ],
          [
           8
          ],
          [
           8
          ],
          [
           8
          ],
          [
           8
          ],
          [
           8
          ],
          [
           7
          ],
          [
           7
          ],
          [
           7
          ],
          [
           7
          ],
          [
           7
          ],
          [
           7
          ],
          [
           7
          ],
          [
           7
          ],
          [
           7
          ],
          [
           7
          ],
          [
           7
          ],
          [
           7
          ],
          [
           7
          ],
          [
           7
          ],
          [
           7
          ],
          [
           7
          ],
          [
           7
          ],
          [
           7
          ],
          [
           7
          ],
          [
           7
          ],
          [
           7
          ],
          [
           7
          ],
          [
           7
          ],
          [
           7
          ],
          [
           7
          ],
          [
           7
          ],
          [
           7
          ],
          [
           7
          ],
          [
           7
          ],
          [
           7
          ],
          [
           7
          ],
          [
           7
          ],
          [
           7
          ],
          [
           7
          ],
          [
           7
          ],
          [
           7
          ],
          [
           7
          ],
          [
           7
          ],
          [
           7
          ],
          [
           7
          ],
          [
           7
          ],
          [
           7
          ],
          [
           7
          ],
          [
           6
          ],
          [
           6
          ],
          [
           6
          ],
          [
           6
          ],
          [
           6
          ],
          [
           6
          ],
          [
           6
          ],
          [
           6
          ],
          [
           6
          ],
          [
           6
          ],
          [
           6
          ],
          [
           6
          ],
          [
           6
          ],
          [
           6
          ],
          [
           6
          ],
          [
           6
          ],
          [
           6
          ],
          [
           6
          ],
          [
           6
          ],
          [
           6
          ],
          [
           6
          ],
          [
           6
          ],
          [
           6
          ],
          [
           6
          ],
          [
           6
          ],
          [
           6
          ],
          [
           6
          ],
          [
           6
          ],
          [
           6
          ],
          [
           6
          ],
          [
           6
          ],
          [
           6
          ],
          [
           6
          ],
          [
           6
          ],
          [
           6
          ],
          [
           6
          ],
          [
           6
          ],
          [
           6
          ],
          [
           6
          ],
          [
           6
          ],
          [
           6
          ],
          [
           6
          ],
          [
           6
          ],
          [
           5
          ],
          [
           5
          ],
          [
           5
          ],
          [
           5
          ],
          [
           5
          ],
          [
           5
          ],
          [
           5
          ],
          [
           5
          ],
          [
           5
          ],
          [
           5
          ],
          [
           5
          ],
          [
           5
          ],
          [
           5
          ],
          [
           5
          ],
          [
           5
          ],
          [
           5
          ],
          [
           5
          ],
          [
           5
          ],
          [
           5
          ],
          [
           5
          ],
          [
           5
          ],
          [
           5
          ],
          [
           5
          ],
          [
           5
          ],
          [
           5
          ],
          [
           5
          ],
          [
           5
          ],
          [
           5
          ],
          [
           5
          ],
          [
           5
          ],
          [
           5
          ],
          [
           5
          ],
          [
           5
          ],
          [
           5
          ],
          [
           5
          ],
          [
           5
          ],
          [
           5
          ],
          [
           5
          ],
          [
           5
          ],
          [
           5
          ],
          [
           5
          ],
          [
           5
          ],
          [
           5
          ],
          [
           5
          ],
          [
           5
          ],
          [
           5
          ],
          [
           4
          ],
          [
           4
          ],
          [
           4
          ],
          [
           4
          ],
          [
           4
          ],
          [
           4
          ],
          [
           4
          ],
          [
           4
          ],
          [
           4
          ],
          [
           4
          ],
          [
           4
          ],
          [
           4
          ],
          [
           4
          ],
          [
           4
          ],
          [
           4
          ],
          [
           4
          ],
          [
           4
          ],
          [
           4
          ],
          [
           4
          ],
          [
           4
          ],
          [
           4
          ],
          [
           4
          ],
          [
           4
          ],
          [
           4
          ],
          [
           4
          ],
          [
           4
          ],
          [
           4
          ],
          [
           4
          ],
          [
           4
          ],
          [
           4
          ],
          [
           4
          ],
          [
           4
          ],
          [
           4
          ],
          [
           4
          ],
          [
           4
          ],
          [
           4
          ],
          [
           4
          ],
          [
           4
          ],
          [
           4
          ],
          [
           4
          ],
          [
           4
          ],
          [
           4
          ],
          [
           4
          ],
          [
           4
          ],
          [
           4
          ],
          [
           4
          ],
          [
           4
          ],
          [
           4
          ],
          [
           4
          ],
          [
           4
          ],
          [
           4
          ],
          [
           4
          ],
          [
           4
          ],
          [
           4
          ],
          [
           4
          ],
          [
           4
          ],
          [
           4
          ],
          [
           4
          ],
          [
           4
          ],
          [
           4
          ],
          [
           4
          ],
          [
           4
          ],
          [
           4
          ],
          [
           4
          ],
          [
           4
          ],
          [
           4
          ],
          [
           4
          ],
          [
           4
          ],
          [
           4
          ],
          [
           4
          ],
          [
           4
          ],
          [
           4
          ],
          [
           4
          ],
          [
           4
          ],
          [
           4
          ],
          [
           4
          ],
          [
           4
          ],
          [
           4
          ],
          [
           4
          ],
          [
           4
          ],
          [
           4
          ],
          [
           4
          ],
          [
           4
          ],
          [
           4
          ],
          [
           4
          ],
          [
           4
          ],
          [
           4
          ],
          [
           4
          ],
          [
           4
          ],
          [
           4
          ],
          [
           4
          ],
          [
           4
          ],
          [
           3
          ],
          [
           3
          ],
          [
           3
          ],
          [
           3
          ],
          [
           3
          ],
          [
           3
          ],
          [
           3
          ],
          [
           3
          ],
          [
           3
          ],
          [
           3
          ],
          [
           3
          ],
          [
           3
          ],
          [
           3
          ],
          [
           3
          ],
          [
           3
          ],
          [
           3
          ],
          [
           3
          ],
          [
           3
          ],
          [
           3
          ],
          [
           3
          ],
          [
           3
          ],
          [
           3
          ],
          [
           3
          ],
          [
           3
          ],
          [
           3
          ],
          [
           3
          ],
          [
           3
          ],
          [
           3
          ],
          [
           3
          ],
          [
           3
          ],
          [
           3
          ],
          [
           3
          ],
          [
           3
          ],
          [
           3
          ],
          [
           3
          ],
          [
           3
          ],
          [
           3
          ],
          [
           3
          ],
          [
           3
          ],
          [
           3
          ],
          [
           3
          ],
          [
           3
          ],
          [
           3
          ],
          [
           3
          ],
          [
           3
          ],
          [
           3
          ],
          [
           3
          ],
          [
           3
          ],
          [
           3
          ],
          [
           3
          ],
          [
           3
          ],
          [
           3
          ],
          [
           3
          ],
          [
           3
          ],
          [
           3
          ],
          [
           3
          ],
          [
           3
          ],
          [
           3
          ],
          [
           3
          ],
          [
           3
          ],
          [
           3
          ],
          [
           3
          ],
          [
           3
          ],
          [
           3
          ],
          [
           3
          ],
          [
           3
          ],
          [
           3
          ],
          [
           3
          ],
          [
           3
          ],
          [
           3
          ],
          [
           3
          ],
          [
           3
          ],
          [
           3
          ],
          [
           3
          ],
          [
           3
          ],
          [
           3
          ],
          [
           3
          ],
          [
           3
          ],
          [
           3
          ],
          [
           3
          ],
          [
           3
          ],
          [
           3
          ],
          [
           3
          ],
          [
           3
          ],
          [
           3
          ],
          [
           3
          ],
          [
           3
          ],
          [
           3
          ],
          [
           3
          ],
          [
           3
          ],
          [
           3
          ],
          [
           3
          ],
          [
           3
          ],
          [
           3
          ],
          [
           3
          ],
          [
           3
          ],
          [
           3
          ],
          [
           3
          ],
          [
           3
          ],
          [
           3
          ],
          [
           3
          ],
          [
           3
          ],
          [
           3
          ],
          [
           3
          ],
          [
           3
          ],
          [
           3
          ],
          [
           3
          ],
          [
           3
          ],
          [
           3
          ],
          [
           3
          ],
          [
           3
          ],
          [
           3
          ],
          [
           3
          ],
          [
           3
          ],
          [
           3
          ],
          [
           3
          ],
          [
           3
          ],
          [
           3
          ],
          [
           3
          ],
          [
           3
          ],
          [
           3
          ],
          [
           3
          ],
          [
           2
          ],
          [
           2
          ],
          [
           2
          ],
          [
           2
          ],
          [
           2
          ],
          [
           2
          ],
          [
           2
          ],
          [
           2
          ],
          [
           2
          ],
          [
           2
          ],
          [
           2
          ],
          [
           2
          ],
          [
           2
          ],
          [
           2
          ],
          [
           2
          ],
          [
           2
          ],
          [
           2
          ],
          [
           2
          ],
          [
           2
          ],
          [
           2
          ],
          [
           2
          ],
          [
           2
          ],
          [
           2
          ],
          [
           2
          ],
          [
           2
          ],
          [
           2
          ],
          [
           2
          ],
          [
           2
          ],
          [
           2
          ],
          [
           2
          ],
          [
           2
          ],
          [
           2
          ],
          [
           2
          ],
          [
           2
          ],
          [
           2
          ],
          [
           2
          ],
          [
           2
          ],
          [
           2
          ],
          [
           2
          ],
          [
           2
          ],
          [
           2
          ],
          [
           2
          ],
          [
           2
          ],
          [
           2
          ],
          [
           2
          ],
          [
           2
          ],
          [
           2
          ],
          [
           2
          ],
          [
           2
          ],
          [
           2
          ],
          [
           2
          ],
          [
           2
          ],
          [
           2
          ],
          [
           2
          ],
          [
           2
          ],
          [
           2
          ],
          [
           2
          ],
          [
           2
          ],
          [
           2
          ],
          [
           2
          ],
          [
           2
          ],
          [
           2
          ],
          [
           2
          ],
          [
           2
          ],
          [
           2
          ],
          [
           2
          ],
          [
           2
          ],
          [
           2
          ],
          [
           2
          ],
          [
           2
          ],
          [
           2
          ],
          [
           2
          ],
          [
           2
          ],
          [
           2
          ],
          [
           2
          ],
          [
           2
          ],
          [
           2
          ],
          [
           2
          ],
          [
           2
          ],
          [
           2
          ],
          [
           2
          ],
          [
           2
          ],
          [
           2
          ],
          [
           2
          ],
          [
           2
          ],
          [
           2
          ],
          [
           2
          ],
          [
           2
          ],
          [
           2
          ],
          [
           2
          ],
          [
           2
          ],
          [
           2
          ],
          [
           2
          ],
          [
           2
          ],
          [
           2
          ],
          [
           2
          ],
          [
           2
          ],
          [
           2
          ],
          [
           2
          ],
          [
           2
          ],
          [
           2
          ],
          [
           2
          ],
          [
           2
          ],
          [
           2
          ],
          [
           2
          ],
          [
           2
          ],
          [
           2
          ],
          [
           2
          ],
          [
           2
          ],
          [
           2
          ],
          [
           2
          ],
          [
           2
          ],
          [
           2
          ],
          [
           2
          ],
          [
           2
          ],
          [
           2
          ],
          [
           2
          ],
          [
           2
          ],
          [
           2
          ],
          [
           2
          ],
          [
           2
          ],
          [
           2
          ],
          [
           2
          ],
          [
           2
          ],
          [
           2
          ],
          [
           2
          ],
          [
           2
          ],
          [
           2
          ],
          [
           2
          ],
          [
           2
          ],
          [
           2
          ],
          [
           2
          ],
          [
           2
          ],
          [
           2
          ],
          [
           2
          ],
          [
           2
          ],
          [
           2
          ],
          [
           2
          ],
          [
           2
          ],
          [
           2
          ],
          [
           2
          ],
          [
           2
          ],
          [
           2
          ],
          [
           2
          ],
          [
           2
          ],
          [
           2
          ],
          [
           2
          ],
          [
           2
          ],
          [
           2
          ],
          [
           2
          ],
          [
           2
          ],
          [
           2
          ],
          [
           2
          ],
          [
           2
          ],
          [
           2
          ],
          [
           2
          ],
          [
           2
          ],
          [
           2
          ],
          [
           2
          ],
          [
           2
          ],
          [
           2
          ],
          [
           2
          ],
          [
           2
          ],
          [
           2
          ],
          [
           2
          ],
          [
           2
          ],
          [
           2
          ],
          [
           2
          ],
          [
           2
          ],
          [
           2
          ],
          [
           2
          ],
          [
           2
          ],
          [
           2
          ],
          [
           2
          ],
          [
           2
          ],
          [
           2
          ],
          [
           2
          ],
          [
           2
          ],
          [
           2
          ],
          [
           2
          ],
          [
           2
          ],
          [
           2
          ],
          [
           2
          ],
          [
           2
          ],
          [
           2
          ],
          [
           2
          ],
          [
           2
          ],
          [
           2
          ],
          [
           2
          ],
          [
           2
          ],
          [
           2
          ],
          [
           2
          ],
          [
           2
          ],
          [
           2
          ],
          [
           2
          ],
          [
           2
          ],
          [
           2
          ],
          [
           2
          ],
          [
           2
          ],
          [
           2
          ],
          [
           2
          ],
          [
           2
          ],
          [
           2
          ],
          [
           2
          ],
          [
           2
          ],
          [
           2
          ],
          [
           2
          ],
          [
           2
          ],
          [
           2
          ],
          [
           2
          ],
          [
           2
          ],
          [
           2
          ],
          [
           2
          ],
          [
           2
          ],
          [
           2
          ],
          [
           2
          ],
          [
           2
          ],
          [
           2
          ],
          [
           2
          ],
          [
           2
          ],
          [
           2
          ],
          [
           2
          ],
          [
           2
          ],
          [
           2
          ],
          [
           2
          ],
          [
           2
          ],
          [
           2
          ],
          [
           2
          ],
          [
           2
          ],
          [
           2
          ],
          [
           2
          ],
          [
           2
          ],
          [
           2
          ],
          [
           2
          ],
          [
           2
          ],
          [
           2
          ],
          [
           2
          ],
          [
           2
          ],
          [
           2
          ],
          [
           2
          ],
          [
           2
          ],
          [
           2
          ],
          [
           2
          ],
          [
           2
          ],
          [
           2
          ],
          [
           2
          ],
          [
           2
          ],
          [
           2
          ],
          [
           2
          ],
          [
           2
          ],
          [
           2
          ],
          [
           2
          ],
          [
           2
          ],
          [
           2
          ],
          [
           2
          ],
          [
           2
          ],
          [
           2
          ],
          [
           2
          ],
          [
           2
          ],
          [
           2
          ],
          [
           2
          ],
          [
           2
          ],
          [
           2
          ],
          [
           2
          ],
          [
           2
          ],
          [
           2
          ],
          [
           2
          ],
          [
           2
          ],
          [
           2
          ],
          [
           2
          ],
          [
           2
          ],
          [
           2
          ],
          [
           2
          ],
          [
           2
          ],
          [
           2
          ],
          [
           2
          ],
          [
           2
          ],
          [
           2
          ],
          [
           2
          ],
          [
           2
          ],
          [
           2
          ],
          [
           2
          ],
          [
           2
          ],
          [
           2
          ],
          [
           2
          ],
          [
           2
          ],
          [
           2
          ],
          [
           2
          ],
          [
           2
          ],
          [
           2
          ],
          [
           2
          ],
          [
           2
          ],
          [
           2
          ],
          [
           2
          ],
          [
           2
          ],
          [
           2
          ],
          [
           2
          ],
          [
           2
          ],
          [
           2
          ],
          [
           2
          ],
          [
           2
          ],
          [
           2
          ],
          [
           2
          ],
          [
           2
          ],
          [
           2
          ],
          [
           2
          ],
          [
           1
          ],
          [
           1
          ],
          [
           1
          ],
          [
           1
          ],
          [
           1
          ],
          [
           1
          ],
          [
           1
          ],
          [
           1
          ],
          [
           1
          ],
          [
           1
          ],
          [
           1
          ],
          [
           1
          ],
          [
           1
          ],
          [
           1
          ],
          [
           1
          ],
          [
           1
          ],
          [
           1
          ],
          [
           1
          ],
          [
           1
          ],
          [
           1
          ],
          [
           1
          ],
          [
           1
          ],
          [
           1
          ],
          [
           1
          ],
          [
           1
          ],
          [
           1
          ],
          [
           1
          ],
          [
           1
          ],
          [
           1
          ],
          [
           1
          ],
          [
           1
          ],
          [
           1
          ],
          [
           1
          ],
          [
           1
          ],
          [
           1
          ],
          [
           1
          ],
          [
           1
          ],
          [
           1
          ],
          [
           1
          ],
          [
           1
          ],
          [
           1
          ],
          [
           1
          ],
          [
           1
          ],
          [
           1
          ],
          [
           1
          ],
          [
           1
          ],
          [
           1
          ],
          [
           1
          ],
          [
           1
          ],
          [
           1
          ],
          [
           1
          ],
          [
           1
          ],
          [
           1
          ],
          [
           1
          ],
          [
           1
          ],
          [
           1
          ],
          [
           1
          ],
          [
           1
          ],
          [
           1
          ],
          [
           1
          ],
          [
           1
          ],
          [
           1
          ],
          [
           1
          ],
          [
           1
          ],
          [
           1
          ],
          [
           1
          ],
          [
           1
          ],
          [
           1
          ],
          [
           1
          ],
          [
           1
          ],
          [
           1
          ],
          [
           1
          ],
          [
           1
          ],
          [
           1
          ],
          [
           1
          ],
          [
           1
          ],
          [
           1
          ],
          [
           1
          ],
          [
           1
          ],
          [
           1
          ],
          [
           1
          ],
          [
           1
          ],
          [
           1
          ],
          [
           1
          ],
          [
           1
          ],
          [
           1
          ],
          [
           1
          ],
          [
           1
          ],
          [
           1
          ],
          [
           1
          ],
          [
           1
          ],
          [
           1
          ],
          [
           1
          ],
          [
           1
          ],
          [
           1
          ],
          [
           1
          ],
          [
           1
          ],
          [
           1
          ],
          [
           1
          ],
          [
           1
          ],
          [
           1
          ],
          [
           1
          ],
          [
           1
          ],
          [
           1
          ],
          [
           1
          ],
          [
           1
          ],
          [
           1
          ],
          [
           1
          ],
          [
           1
          ],
          [
           1
          ],
          [
           1
          ],
          [
           1
          ],
          [
           1
          ],
          [
           1
          ],
          [
           1
          ],
          [
           1
          ],
          [
           1
          ],
          [
           1
          ],
          [
           1
          ],
          [
           1
          ],
          [
           1
          ],
          [
           1
          ],
          [
           1
          ],
          [
           1
          ],
          [
           1
          ],
          [
           1
          ],
          [
           1
          ],
          [
           1
          ],
          [
           1
          ],
          [
           1
          ],
          [
           1
          ],
          [
           1
          ],
          [
           1
          ],
          [
           1
          ],
          [
           1
          ],
          [
           1
          ],
          [
           1
          ],
          [
           1
          ],
          [
           1
          ],
          [
           1
          ],
          [
           1
          ],
          [
           1
          ],
          [
           1
          ],
          [
           1
          ],
          [
           1
          ],
          [
           1
          ],
          [
           1
          ],
          [
           1
          ],
          [
           1
          ],
          [
           1
          ],
          [
           1
          ],
          [
           1
          ],
          [
           1
          ],
          [
           1
          ],
          [
           1
          ],
          [
           1
          ],
          [
           1
          ],
          [
           1
          ],
          [
           1
          ],
          [
           1
          ],
          [
           1
          ],
          [
           1
          ],
          [
           1
          ],
          [
           1
          ],
          [
           1
          ],
          [
           1
          ],
          [
           1
          ],
          [
           1
          ],
          [
           1
          ],
          [
           1
          ],
          [
           1
          ],
          [
           1
          ],
          [
           1
          ],
          [
           1
          ],
          [
           1
          ],
          [
           1
          ],
          [
           1
          ],
          [
           1
          ],
          [
           1
          ],
          [
           1
          ],
          [
           1
          ],
          [
           1
          ],
          [
           1
          ],
          [
           1
          ],
          [
           1
          ],
          [
           1
          ],
          [
           1
          ],
          [
           1
          ],
          [
           1
          ],
          [
           1
          ],
          [
           1
          ],
          [
           1
          ],
          [
           1
          ],
          [
           1
          ],
          [
           1
          ],
          [
           1
          ],
          [
           1
          ],
          [
           1
          ],
          [
           1
          ],
          [
           1
          ],
          [
           1
          ],
          [
           1
          ],
          [
           1
          ],
          [
           1
          ],
          [
           1
          ],
          [
           1
          ],
          [
           1
          ],
          [
           1
          ],
          [
           1
          ],
          [
           1
          ],
          [
           1
          ],
          [
           1
          ],
          [
           1
          ],
          [
           1
          ],
          [
           1
          ],
          [
           1
          ],
          [
           1
          ],
          [
           1
          ],
          [
           1
          ],
          [
           1
          ],
          [
           1
          ],
          [
           1
          ],
          [
           1
          ],
          [
           1
          ],
          [
           1
          ],
          [
           1
          ],
          [
           1
          ],
          [
           1
          ],
          [
           1
          ],
          [
           1
          ],
          [
           1
          ],
          [
           1
          ],
          [
           1
          ],
          [
           1
          ],
          [
           1
          ],
          [
           1
          ],
          [
           1
          ],
          [
           1
          ],
          [
           1
          ],
          [
           1
          ],
          [
           1
          ],
          [
           1
          ],
          [
           1
          ],
          [
           1
          ],
          [
           1
          ],
          [
           1
          ],
          [
           1
          ],
          [
           1
          ],
          [
           1
          ],
          [
           1
          ],
          [
           1
          ],
          [
           1
          ],
          [
           1
          ],
          [
           1
          ],
          [
           1
          ],
          [
           1
          ],
          [
           1
          ],
          [
           1
          ],
          [
           1
          ],
          [
           1
          ],
          [
           1
          ],
          [
           1
          ],
          [
           1
          ],
          [
           1
          ],
          [
           1
          ],
          [
           1
          ],
          [
           1
          ],
          [
           1
          ],
          [
           1
          ],
          [
           1
          ],
          [
           1
          ],
          [
           1
          ],
          [
           1
          ],
          [
           1
          ],
          [
           1
          ],
          [
           1
          ],
          [
           1
          ],
          [
           1
          ],
          [
           1
          ],
          [
           1
          ],
          [
           1
          ],
          [
           1
          ],
          [
           1
          ],
          [
           1
          ],
          [
           1
          ],
          [
           1
          ],
          [
           1
          ],
          [
           1
          ],
          [
           1
          ],
          [
           1
          ],
          [
           1
          ],
          [
           1
          ],
          [
           1
          ],
          [
           1
          ],
          [
           1
          ],
          [
           1
          ],
          [
           1
          ],
          [
           1
          ],
          [
           1
          ],
          [
           1
          ],
          [
           1
          ],
          [
           1
          ],
          [
           1
          ],
          [
           1
          ],
          [
           1
          ],
          [
           1
          ],
          [
           1
          ],
          [
           1
          ],
          [
           1
          ],
          [
           1
          ],
          [
           1
          ],
          [
           1
          ],
          [
           1
          ],
          [
           1
          ],
          [
           1
          ],
          [
           1
          ],
          [
           1
          ],
          [
           1
          ],
          [
           1
          ],
          [
           1
          ],
          [
           1
          ],
          [
           1
          ],
          [
           1
          ],
          [
           1
          ],
          [
           1
          ],
          [
           1
          ],
          [
           1
          ],
          [
           1
          ],
          [
           1
          ],
          [
           1
          ],
          [
           1
          ],
          [
           1
          ],
          [
           1
          ],
          [
           1
          ],
          [
           1
          ],
          [
           1
          ],
          [
           1
          ],
          [
           1
          ],
          [
           1
          ],
          [
           1
          ],
          [
           1
          ],
          [
           1
          ],
          [
           1
          ],
          [
           1
          ],
          [
           1
          ],
          [
           1
          ],
          [
           1
          ],
          [
           1
          ],
          [
           1
          ],
          [
           1
          ],
          [
           1
          ],
          [
           1
          ],
          [
           1
          ],
          [
           1
          ],
          [
           1
          ],
          [
           1
          ],
          [
           1
          ],
          [
           1
          ],
          [
           1
          ],
          [
           1
          ],
          [
           1
          ],
          [
           1
          ],
          [
           1
          ],
          [
           1
          ],
          [
           1
          ],
          [
           1
          ],
          [
           1
          ],
          [
           1
          ],
          [
           1
          ],
          [
           1
          ],
          [
           1
          ],
          [
           1
          ],
          [
           1
          ],
          [
           1
          ],
          [
           1
          ],
          [
           1
          ],
          [
           1
          ],
          [
           1
          ],
          [
           1
          ],
          [
           1
          ],
          [
           1
          ],
          [
           1
          ],
          [
           1
          ],
          [
           1
          ],
          [
           1
          ],
          [
           1
          ],
          [
           1
          ],
          [
           1
          ],
          [
           1
          ],
          [
           1
          ],
          [
           1
          ],
          [
           1
          ],
          [
           1
          ],
          [
           1
          ],
          [
           1
          ],
          [
           1
          ],
          [
           1
          ],
          [
           1
          ],
          [
           1
          ],
          [
           1
          ],
          [
           1
          ],
          [
           1
          ],
          [
           1
          ],
          [
           1
          ],
          [
           1
          ],
          [
           1
          ],
          [
           1
          ],
          [
           1
          ],
          [
           1
          ],
          [
           1
          ],
          [
           1
          ],
          [
           1
          ],
          [
           1
          ],
          [
           1
          ],
          [
           1
          ],
          [
           1
          ],
          [
           1
          ],
          [
           1
          ],
          [
           1
          ],
          [
           1
          ],
          [
           1
          ],
          [
           1
          ],
          [
           1
          ],
          [
           1
          ],
          [
           1
          ],
          [
           1
          ],
          [
           1
          ],
          [
           1
          ],
          [
           1
          ],
          [
           1
          ],
          [
           1
          ],
          [
           1
          ],
          [
           1
          ],
          [
           1
          ],
          [
           1
          ],
          [
           1
          ],
          [
           1
          ],
          [
           1
          ],
          [
           1
          ],
          [
           1
          ],
          [
           1
          ],
          [
           1
          ],
          [
           1
          ],
          [
           1
          ],
          [
           1
          ],
          [
           1
          ],
          [
           1
          ],
          [
           1
          ],
          [
           1
          ],
          [
           1
          ],
          [
           1
          ],
          [
           1
          ],
          [
           1
          ],
          [
           1
          ],
          [
           1
          ],
          [
           1
          ],
          [
           1
          ],
          [
           1
          ],
          [
           1
          ],
          [
           1
          ],
          [
           1
          ],
          [
           1
          ],
          [
           1
          ],
          [
           1
          ],
          [
           1
          ],
          [
           1
          ],
          [
           1
          ],
          [
           1
          ],
          [
           1
          ],
          [
           1
          ],
          [
           1
          ],
          [
           1
          ],
          [
           1
          ],
          [
           1
          ],
          [
           1
          ],
          [
           1
          ],
          [
           1
          ],
          [
           1
          ],
          [
           1
          ],
          [
           1
          ],
          [
           1
          ],
          [
           1
          ],
          [
           1
          ],
          [
           1
          ],
          [
           1
          ],
          [
           1
          ],
          [
           1
          ],
          [
           1
          ],
          [
           1
          ],
          [
           1
          ],
          [
           1
          ],
          [
           1
          ],
          [
           1
          ],
          [
           1
          ],
          [
           1
          ],
          [
           1
          ],
          [
           1
          ],
          [
           1
          ],
          [
           1
          ],
          [
           1
          ],
          [
           1
          ],
          [
           1
          ],
          [
           1
          ],
          [
           1
          ],
          [
           1
          ],
          [
           1
          ],
          [
           1
          ],
          [
           1
          ],
          [
           1
          ],
          [
           1
          ],
          [
           1
          ],
          [
           1
          ],
          [
           1
          ],
          [
           1
          ],
          [
           1
          ],
          [
           1
          ],
          [
           1
          ],
          [
           1
          ],
          [
           1
          ],
          [
           1
          ],
          [
           1
          ],
          [
           1
          ],
          [
           1
          ],
          [
           1
          ],
          [
           1
          ],
          [
           1
          ],
          [
           1
          ],
          [
           1
          ],
          [
           1
          ],
          [
           1
          ],
          [
           1
          ],
          [
           1
          ],
          [
           1
          ],
          [
           1
          ],
          [
           1
          ],
          [
           1
          ],
          [
           1
          ],
          [
           1
          ],
          [
           1
          ],
          [
           1
          ],
          [
           1
          ],
          [
           1
          ],
          [
           1
          ],
          [
           1
          ],
          [
           1
          ],
          [
           1
          ],
          [
           1
          ],
          [
           1
          ],
          [
           1
          ],
          [
           1
          ],
          [
           1
          ],
          [
           1
          ],
          [
           1
          ],
          [
           1
          ],
          [
           1
          ],
          [
           1
          ],
          [
           1
          ],
          [
           1
          ],
          [
           1
          ],
          [
           1
          ],
          [
           1
          ],
          [
           1
          ],
          [
           1
          ],
          [
           1
          ],
          [
           1
          ],
          [
           1
          ],
          [
           1
          ],
          [
           1
          ],
          [
           1
          ],
          [
           1
          ],
          [
           1
          ],
          [
           1
          ],
          [
           1
          ],
          [
           1
          ],
          [
           1
          ],
          [
           1
          ],
          [
           1
          ],
          [
           1
          ],
          [
           1
          ],
          [
           1
          ],
          [
           1
          ],
          [
           1
          ],
          [
           1
          ],
          [
           1
          ],
          [
           1
          ],
          [
           1
          ],
          [
           1
          ],
          [
           1
          ],
          [
           1
          ],
          [
           1
          ],
          [
           1
          ],
          [
           1
          ],
          [
           1
          ],
          [
           1
          ],
          [
           1
          ],
          [
           1
          ],
          [
           1
          ],
          [
           1
          ],
          [
           1
          ],
          [
           1
          ],
          [
           1
          ],
          [
           1
          ],
          [
           1
          ],
          [
           1
          ],
          [
           1
          ],
          [
           1
          ],
          [
           1
          ],
          [
           1
          ],
          [
           1
          ],
          [
           1
          ],
          [
           1
          ],
          [
           1
          ],
          [
           1
          ],
          [
           1
          ],
          [
           1
          ],
          [
           1
          ],
          [
           1
          ],
          [
           1
          ],
          [
           1
          ],
          [
           1
          ],
          [
           1
          ],
          [
           1
          ],
          [
           1
          ],
          [
           1
          ],
          [
           1
          ],
          [
           1
          ],
          [
           1
          ],
          [
           1
          ],
          [
           1
          ],
          [
           1
          ],
          [
           1
          ],
          [
           1
          ],
          [
           1
          ],
          [
           1
          ],
          [
           1
          ],
          [
           1
          ],
          [
           1
          ],
          [
           1
          ],
          [
           1
          ],
          [
           1
          ],
          [
           1
          ],
          [
           1
          ],
          [
           1
          ],
          [
           1
          ],
          [
           1
          ],
          [
           1
          ],
          [
           1
          ],
          [
           1
          ],
          [
           1
          ],
          [
           1
          ],
          [
           1
          ],
          [
           1
          ],
          [
           1
          ],
          [
           1
          ],
          [
           1
          ],
          [
           1
          ],
          [
           1
          ],
          [
           1
          ],
          [
           1
          ],
          [
           1
          ],
          [
           1
          ],
          [
           1
          ],
          [
           1
          ],
          [
           1
          ],
          [
           1
          ],
          [
           1
          ],
          [
           1
          ],
          [
           1
          ],
          [
           1
          ],
          [
           1
          ],
          [
           1
          ],
          [
           1
          ],
          [
           1
          ],
          [
           1
          ],
          [
           1
          ],
          [
           1
          ],
          [
           1
          ],
          [
           1
          ],
          [
           1
          ],
          [
           1
          ],
          [
           1
          ],
          [
           1
          ],
          [
           1
          ],
          [
           1
          ],
          [
           1
          ],
          [
           1
          ],
          [
           1
          ],
          [
           1
          ],
          [
           1
          ],
          [
           1
          ],
          [
           1
          ],
          [
           1
          ],
          [
           1
          ],
          [
           1
          ],
          [
           1
          ],
          [
           1
          ],
          [
           1
          ],
          [
           1
          ],
          [
           1
          ],
          [
           1
          ],
          [
           1
          ],
          [
           1
          ],
          [
           1
          ],
          [
           1
          ],
          [
           1
          ],
          [
           1
          ],
          [
           1
          ],
          [
           1
          ],
          [
           1
          ],
          [
           1
          ],
          [
           1
          ],
          [
           1
          ],
          [
           1
          ],
          [
           1
          ],
          [
           1
          ],
          [
           1
          ],
          [
           1
          ],
          [
           1
          ],
          [
           1
          ],
          [
           1
          ],
          [
           1
          ],
          [
           1
          ],
          [
           1
          ],
          [
           1
          ],
          [
           1
          ],
          [
           1
          ],
          [
           1
          ],
          [
           1
          ],
          [
           1
          ],
          [
           1
          ],
          [
           1
          ],
          [
           1
          ],
          [
           1
          ],
          [
           1
          ],
          [
           1
          ],
          [
           1
          ],
          [
           1
          ],
          [
           1
          ],
          [
           1
          ],
          [
           1
          ],
          [
           1
          ],
          [
           1
          ],
          [
           1
          ],
          [
           1
          ],
          [
           1
          ],
          [
           1
          ],
          [
           1
          ],
          [
           1
          ],
          [
           1
          ],
          [
           1
          ],
          [
           1
          ],
          [
           1
          ],
          [
           1
          ],
          [
           1
          ],
          [
           1
          ],
          [
           1
          ],
          [
           1
          ],
          [
           1
          ],
          [
           1
          ],
          [
           1
          ],
          [
           1
          ],
          [
           1
          ],
          [
           1
          ],
          [
           1
          ],
          [
           1
          ],
          [
           1
          ],
          [
           1
          ],
          [
           1
          ],
          [
           1
          ],
          [
           1
          ],
          [
           1
          ],
          [
           1
          ],
          [
           1
          ],
          [
           1
          ],
          [
           1
          ],
          [
           1
          ],
          [
           1
          ],
          [
           1
          ],
          [
           1
          ],
          [
           1
          ],
          [
           1
          ],
          [
           1
          ],
          [
           1
          ],
          [
           1
          ],
          [
           1
          ],
          [
           1
          ],
          [
           1
          ],
          [
           1
          ],
          [
           1
          ],
          [
           1
          ],
          [
           1
          ],
          [
           1
          ],
          [
           1
          ],
          [
           1
          ],
          [
           1
          ],
          [
           1
          ],
          [
           1
          ],
          [
           1
          ],
          [
           1
          ],
          [
           1
          ],
          [
           1
          ],
          [
           1
          ],
          [
           1
          ],
          [
           1
          ],
          [
           1
          ],
          [
           1
          ],
          [
           1
          ],
          [
           1
          ],
          [
           1
          ],
          [
           1
          ],
          [
           1
          ],
          [
           1
          ],
          [
           1
          ],
          [
           1
          ],
          [
           1
          ],
          [
           1
          ],
          [
           1
          ],
          [
           1
          ],
          [
           1
          ],
          [
           1
          ],
          [
           1
          ],
          [
           1
          ],
          [
           1
          ],
          [
           1
          ],
          [
           1
          ],
          [
           1
          ],
          [
           1
          ],
          [
           1
          ],
          [
           1
          ],
          [
           1
          ],
          [
           1
          ],
          [
           1
          ],
          [
           1
          ],
          [
           1
          ],
          [
           1
          ],
          [
           1
          ],
          [
           1
          ],
          [
           1
          ],
          [
           1
          ],
          [
           1
          ],
          [
           1
          ],
          [
           1
          ],
          [
           1
          ],
          [
           1
          ],
          [
           1
          ],
          [
           1
          ],
          [
           1
          ],
          [
           1
          ],
          [
           1
          ],
          [
           1
          ],
          [
           1
          ],
          [
           1
          ],
          [
           1
          ],
          [
           1
          ],
          [
           1
          ],
          [
           1
          ],
          [
           1
          ],
          [
           1
          ],
          [
           1
          ],
          [
           1
          ],
          [
           1
          ],
          [
           1
          ],
          [
           1
          ],
          [
           1
          ],
          [
           1
          ],
          [
           1
          ],
          [
           1
          ],
          [
           1
          ],
          [
           1
          ],
          [
           1
          ],
          [
           1
          ],
          [
           1
          ],
          [
           1
          ],
          [
           1
          ],
          [
           1
          ],
          [
           1
          ],
          [
           1
          ],
          [
           1
          ],
          [
           1
          ],
          [
           1
          ],
          [
           1
          ],
          [
           1
          ],
          [
           1
          ],
          [
           1
          ],
          [
           1
          ],
          [
           1
          ],
          [
           1
          ],
          [
           1
          ],
          [
           1
          ],
          [
           1
          ],
          [
           1
          ],
          [
           1
          ],
          [
           1
          ],
          [
           1
          ],
          [
           1
          ],
          [
           1
          ],
          [
           1
          ],
          [
           1
          ],
          [
           1
          ],
          [
           1
          ],
          [
           1
          ],
          [
           1
          ],
          [
           1
          ],
          [
           1
          ],
          [
           1
          ],
          [
           1
          ],
          [
           1
          ],
          [
           1
          ],
          [
           1
          ],
          [
           1
          ],
          [
           1
          ],
          [
           1
          ],
          [
           1
          ],
          [
           1
          ],
          [
           1
          ],
          [
           1
          ],
          [
           1
          ],
          [
           1
          ],
          [
           1
          ],
          [
           1
          ],
          [
           1
          ],
          [
           1
          ],
          [
           1
          ],
          [
           1
          ],
          [
           1
          ],
          [
           1
          ],
          [
           1
          ],
          [
           1
          ],
          [
           1
          ],
          [
           1
          ],
          [
           1
          ],
          [
           1
          ],
          [
           1
          ],
          [
           1
          ],
          [
           1
          ],
          [
           1
          ],
          [
           1
          ],
          [
           1
          ],
          [
           1
          ],
          [
           1
          ],
          [
           1
          ],
          [
           1
          ],
          [
           1
          ],
          [
           1
          ],
          [
           1
          ],
          [
           1
          ],
          [
           1
          ],
          [
           1
          ],
          [
           1
          ],
          [
           1
          ],
          [
           1
          ],
          [
           1
          ],
          [
           1
          ],
          [
           1
          ],
          [
           1
          ],
          [
           1
          ],
          [
           1
          ],
          [
           1
          ],
          [
           1
          ],
          [
           1
          ],
          [
           1
          ],
          [
           1
          ],
          [
           1
          ],
          [
           1
          ],
          [
           1
          ],
          [
           1
          ],
          [
           1
          ],
          [
           1
          ],
          [
           1
          ],
          [
           1
          ],
          [
           1
          ],
          [
           1
          ],
          [
           1
          ],
          [
           1
          ],
          [
           1
          ],
          [
           1
          ],
          [
           1
          ],
          [
           1
          ],
          [
           1
          ],
          [
           1
          ],
          [
           1
          ],
          [
           1
          ],
          [
           1
          ],
          [
           1
          ],
          [
           1
          ],
          [
           1
          ],
          [
           1
          ],
          [
           1
          ],
          [
           1
          ],
          [
           1
          ],
          [
           1
          ],
          [
           1
          ],
          [
           1
          ],
          [
           1
          ],
          [
           1
          ],
          [
           1
          ],
          [
           1
          ],
          [
           1
          ],
          [
           1
          ],
          [
           1
          ],
          [
           1
          ],
          [
           1
          ],
          [
           1
          ],
          [
           1
          ],
          [
           1
          ],
          [
           1
          ],
          [
           1
          ],
          [
           1
          ],
          [
           1
          ],
          [
           1
          ],
          [
           1
          ],
          [
           1
          ],
          [
           1
          ],
          [
           1
          ],
          [
           1
          ],
          [
           1
          ],
          [
           1
          ],
          [
           1
          ],
          [
           1
          ],
          [
           1
          ],
          [
           1
          ],
          [
           1
          ],
          [
           1
          ],
          [
           1
          ],
          [
           1
          ],
          [
           1
          ],
          [
           1
          ],
          [
           1
          ],
          [
           1
          ],
          [
           1
          ],
          [
           1
          ],
          [
           1
          ],
          [
           1
          ],
          [
           1
          ],
          [
           1
          ],
          [
           1
          ],
          [
           1
          ],
          [
           1
          ],
          [
           1
          ],
          [
           1
          ],
          [
           1
          ],
          [
           1
          ],
          [
           1
          ],
          [
           1
          ],
          [
           1
          ],
          [
           1
          ],
          [
           1
          ],
          [
           1
          ],
          [
           1
          ],
          [
           1
          ],
          [
           1
          ],
          [
           1
          ],
          [
           1
          ],
          [
           1
          ],
          [
           1
          ],
          [
           1
          ],
          [
           1
          ],
          [
           1
          ],
          [
           1
          ],
          [
           1
          ],
          [
           1
          ],
          [
           1
          ],
          [
           1
          ],
          [
           1
          ],
          [
           1
          ],
          [
           1
          ],
          [
           1
          ],
          [
           1
          ],
          [
           1
          ],
          [
           1
          ],
          [
           1
          ],
          [
           1
          ],
          [
           1
          ],
          [
           1
          ],
          [
           1
          ],
          [
           1
          ],
          [
           1
          ],
          [
           1
          ],
          [
           1
          ],
          [
           1
          ],
          [
           1
          ],
          [
           1
          ],
          [
           1
          ],
          [
           1
          ],
          [
           1
          ],
          [
           1
          ],
          [
           1
          ],
          [
           1
          ],
          [
           1
          ],
          [
           1
          ],
          [
           1
          ],
          [
           1
          ],
          [
           1
          ],
          [
           1
          ],
          [
           1
          ],
          [
           1
          ],
          [
           1
          ],
          [
           1
          ],
          [
           1
          ],
          [
           1
          ],
          [
           1
          ],
          [
           1
          ],
          [
           1
          ],
          [
           1
          ],
          [
           1
          ],
          [
           1
          ],
          [
           1
          ],
          [
           1
          ],
          [
           1
          ],
          [
           1
          ],
          [
           1
          ],
          [
           1
          ],
          [
           1
          ]
         ],
         "hovertemplate": "<b>%{hovertext}</b><br><br>Tweet Count=%{marker.color}<br>lat=%{lat}<br>lon=%{lon}<extra></extra>",
         "hovertext": [
          "New Delhi, India",
          "Mumbai, India",
          "Bengaluru South, India",
          "Kolkata, India",
          "Noida, India",
          "Gurgaon, India",
          "Ghaziabad, India",
          "Bengaluru, India",
          "Haveli, India",
          "Lucknow, India",
          "Ahmadabad City, India",
          "Hyderabad, India",
          "Rajendra Nagar, India",
          "India",
          "Uttar Pradesh, India",
          "Rajasthan, India",
          "Pune, India",
          "Bhubaneshwar, India",
          "Greater Noida, India",
          "Jaipur, India",
          "Surat, India",
          "Navi Mumbai, India",
          "Patna, India",
          "Maharashtra, India",
          "Nagpur, India",
          "Chandigarh, India",
          "Orissa, India",
          "Guwahati, India",
          "Thane, India",
          "Cuttack, India",
          "Daskroi, India",
          "Indore, India",
          "Sholinganallur, India",
          "Faridabad, India",
          "Hayathnagar, India",
          "Karnataka, India",
          "Bihar, India",
          "Haora, India",
          "Bhopal, India",
          "Ranchi, India",
          "Varanasi, India",
          "Saidapet, India",
          "Jodhpur, India",
          "Kerala, India",
          "Madhya Pradesh, India",
          "Panvel, India",
          "Tamil Nadu, India",
          "Kanpur, India",
          "Nashik, India",
          "Gujarat, India",
          "Kalyan Dombivali, India",
          "Amritsar, India",
          "Dehradun, India",
          "Chennai, India",
          "Chhattisgarh, India",
          "Raipur, India",
          "Andhra Pradesh, India",
          "Coimbatore, India",
          "Bidhan Nagar, India",
          "Trivandrum, India",
          "Meerut, India",
          "Fort Tondiarpet, India",
          "West Bengal, India",
          "Agra, India",
          "Egmore Nungambakkam, India",
          "Mysore, India",
          "Allahabad, India",
          "Jamshedpur, India",
          "Himachal Pradesh, India",
          "Mohali, India",
          "Ludhiana, India",
          "Panchkula, India",
          "Silchar, India",
          "Gorakhpur, India",
          "Mangalore, India",
          "Assam, India",
          "Chengalpattu, India",
          "Udaipur, India",
          "Rajahmundry, India",
          "Moradabad, India",
          "Kota, India",
          "Hisar, India",
          "Danapur, India",
          "Gwalior, India",
          "Aurangabad, India",
          "Rajkot, India",
          "Kanayannur, India",
          "Faizabad, India",
          "Ulhasnagar, India",
          "Mhow, India",
          "Chhapra, India",
          "Haryana, India",
          "Gulbarga, India",
          "Patiala, India",
          "Ujjain, India",
          "Gandhinagar, India",
          "Guntur, India",
          "Aligarh, India",
          "Jharkhand, India",
          "Bareilly, India",
          "Vijayawada, India",
          "Bilaspur, India",
          "Raichur, India",
          "Jalandhar, India",
          "Haldwani-Kathgodam, India",
          "Sanganer, India",
          "Anand, India",
          "Bihar Sharif, India",
          "Sriperumbudur, India",
          "Brahmapur, India",
          "Dibrugarh, India",
          "Medchal, India",
          "Kishangarh, India",
          "Rohtak, India",
          "Kharar, India",
          "Motihari, India",
          "Rajpura, India",
          "Belgaum, India",
          "Eloor, India",
          "Bhavnagar, India",
          "Malegaon, India",
          "Agartala, India",
          "Muzaffarnagar, India",
          "Panaji, India",
          "Uttaranchal, India",
          "Ajmer, India",
          "Sanand, India",
          "Dehra Dun Rural, India",
          "Pondicherry, India",
          "Tiruchirapalli, India",
          "Hubli, India",
          "Bhagalpur, India",
          "Deoghar, India",
          "Puri, India",
          "Sonipat, India",
          "Tezpur, India",
          "Mahbubnagar, India",
          "Gaya, India",
          "karnal, India",
          "Chhindwara, India",
          "sirsa, India",
          "Baleshwar, India",
          "Wardha, India",
          "Mathura, India",
          "Bokaro Steel City, India",
          "Sambalpur, India",
          "Jabalpur, India",
          "Alwar, India",
          "Nellore, India",
          "Tiruvannamalai, India",
          "Phusro, India",
          "Tirupati, India",
          "Jamnagar, India",
          "Bellary, India",
          "Yamunanagar, India",
          "Bhilai, India",
          "Allahabad Outer, India",
          "Delhi, India",
          "Roorkee, India",
          "Salem, India",
          "Valsad, India",
          "Kolhapur, India",
          "Haridwar, India",
          "Silvassa, India",
          "Hassan, India",
          "Gandhidham, India",
          "Kurnool, India",
          "Bhiwandi, India",
          "Saharanpur, India",
          "Bijnor, India",
          "Port Blair, India",
          "Ambala, India",
          "Nalagarh, India",
          "Bhusawal, India",
          "Punjab, India",
          "Bikaner, India",
          "Asansol, India",
          "Azamgarh, India",
          "Hazaribag, India",
          "Panipat, India",
          "Solapur, India",
          "Karimnagar, India",
          "Amravati, India",
          "Durgapur, India",
          "Sagar, India",
          "Anantapur, India",
          "Akola, India",
          "Nadiad, India",
          "Kalyani, India",
          "Rewari, India",
          "Dhanbad, India",
          "Cherthala, India",
          "Bhadrachalam, India",
          "Navsari, India",
          "Malumichampatti, India",
          "Jhansi, India",
          "Darbhanga, India",
          "Khammam, India",
          "Madurai North, India",
          "Davanagere, India",
          "Hajipur, India",
          "Siwan, India",
          "Purnia, India",
          "Rai, India",
          "Kohima, India",
          "Bijapur, India",
          "Siliguri, India",
          "Goa, India",
          "Kolar, India",
          "Amer, India",
          "Barnala, India",
          "Malihabad, India",
          "Pathankot, India",
          "Bettiah, India",
          "Cochin, India",
          "Saraikela Kharsawan, India",
          "Palwal, India",
          "Saharsa, India",
          "Itanagar, India",
          "Satana, India",
          "Hoshiarpur, India",
          "Morbi, India",
          "Shimla, India",
          "Kozhikode, India",
          "Bhiwani, India",
          "Shillong, India",
          "Baldeo, India",
          "Chorwad, India",
          "Shimoga, India",
          "Kaithal, India",
          "Palayankottai, India",
          "Jorhat, India",
          "Madurai South, India",
          "Modinagar, India",
          "Katghora, India",
          "Karchana, India",
          "Mahesana, India",
          "Bharuch, India",
          "Rampur, India",
          "Soraon, India",
          "Unnao, India",
          "Durg, India",
          "Bhadrak, India",
          "Tinsukia, India",
          "Sambhal, India",
          "Cuddapah, India",
          "AIIMS",
          "Vellore, India",
          "Tumkur, India",
          "Baloda Bazar, India",
          "Hapur, India",
          "Vidisha, India",
          "Nagercoil, India",
          "Thanesar, India",
          "Phagwara, India",
          "Phulpur, India",
          "Ankleshwar, India",
          "Bulandshahr, India",
          "Etawah, India",
          "Vapi, India",
          "Risod, India",
          "Bhawanipatna, India",
          "Patan, India",
          "Jaunpur, India",
          "Rajnandgaon, India",
          "Chittaurgarh, India",
          "Jharsuguda, India",
          "Nagaon, India",
          "HUDCO Place",
          "Bhilwara, India",
          "Munger, India",
          "Madhubani, India",
          "Medinipur, India",
          "Dharwad, India",
          "Ratlam, India",
          "Mughalsarai, India",
          "Jalgaon, India",
          "Mirzapur-Vindhyachal, India",
          "Giridih, India",
          "Hospet, India",
          "Orai, India",
          "Sangli, India",
          "Kakinada, India",
          "Sangrur, India",
          "Bhuj, India",
          "Kharagpur, India",
          "Pollachi, India",
          "Jalpaiguri, India",
          "Banda, India",
          "Kalkulam, India",
          "Basti, India",
          "Chittoor, India",
          "Tiruppur, India",
          "Kullu and Manali, India",
          "Bhiwadi, India",
          "Sikar, India",
          "Bhubaneswar,Orissa",
          "Begusarai, India",
          "Bathinda, India",
          "Udupi, India",
          "Dewas, India",
          "Tiruvallur, India",
          "Sasaram, India",
          "Tezpur Rural, India",
          "Tripura, India",
          "Hathras, India",
          "Panruti, India",
          "Palladam, India",
          "Ahmadnagar, India",
          "Panna, India",
          "Beawar, India",
          "Udumalaipettai, India",
          "Chittaranjan, India",
          "Gangtok, India",
          "Gopalganj, India",
          "Adra, India",
          "Rishikesh, India",
          "Dharmsala, India",
          "Latur, India",
          "Jind, India",
          "Firozabad, India",
          "Nizamabad, India",
          "Mapusa, India",
          "Mehdawal, India",
          "Farrukhabad-Fatehgarh, India",
          "Telgaon, India",
          "Sitapur, India",
          "Mahasamund, India",
          "Hugli, India",
          "Khandwa, India",
          "Deoria, India",
          "Mainpuri, India",
          "Cuddalore, India",
          "Hyderabad",
          "Bhiwandi",
          "Shahjahanpur, India",
          "Kadi, India",
          "Hanumangarh, India",
          "Baharagora, India",
          "Suratgarh, India",
          "Abohar, India",
          "Erode, India",
          "Rewa, India",
          "Arrah, India",
          "Farooq Nagar, India",
          "Nimach, India",
          "Kotagiri, India",
          "Perumbavoor, India",
          "Talegaon Dabhade, India",
          "Boisar, India",
          "Paonta Sahib, India",
          "Narayanpet, India",
          "Trissur, India",
          "Aizawl, India",
          "Gondia, India",
          "Alipurduar, India",
          "Karur, India",
          "Thoothukkudi, India",
          "Hamirpur, India",
          "Ghazipur, India",
          "Chikmagalur, India",
          "Samastipur, India",
          "Mussorie, India",
          "Sherghati, India",
          "Naini Tal, India",
          "Diphu, India",
          "Karimganj, India",
          "Mau, India",
          "Bahadurgarh, India",
          "Katihar, India",
          "Karad, India",
          "Sikkim, India",
          "Sultanpur, India",
          "Hingana, India",
          "Murwara, India",
          "Jalna, India",
          "Parur, India",
          "Siddipet, India",
          "Khanna, India",
          "Satara, India",
          "Biswanath Chariali, India",
          "ktr colony",
          "Nanded, India",
          "Dhule, India",
          "Firozpur, India",
          "Bardhaman, India",
          "Gonda, India",
          "Tiruchengode, India",
          "Kalkaji, New Delhi",
          "Jaisalmer, India",
          "Mizoram, India",
          "Kendujhar, India",
          "Bhind, India",
          "Viluppuram, India",
          "Arunachal Pradesh, India",
          "Lonavala, India",
          "Guna, India",
          "Ambikapur, India",
          "Chirayinkil, India",
          "Sri Kalahasti, India",
          "Kishanganj, India",
          "Tamluk, India",
          "Chhatrapur, India",
          "Ranikhet, India",
          "Lumding, India",
          "Fatehabad, India",
          "Nalanda, India",
          "Mandsaur, India",
          "Puttaparthi, India",
          "Bahraich, India",
          "Imphal, India",
          "Ongole, India",
          "Tindivanam, India",
          "Raiganj, India",
          "Pusad, India",
          "Raigarh, India",
          "Vizianagaram, India",
          "Pali, India",
          "Godhra, India",
          "Korba, India",
          "Porbandar, India",
          "Bhimavaram, India",
          "Palanpur, India",
          "Ramanathapuram, India",
          "Kottayam, India",
          "Dimapur, India",
          "Vinukonda, India",
          "Adoni, India",
          "Barabanki, India",
          "Ganganagar, India",
          "Anugul, India",
          "Yavatmal, India",
          "Tenali, India",
          "Vrindavan, India",
          "Chitrakoot Dham, India",
          "Karkal, India",
          "Kanthi, India",
          "chandannagar",
          "Chamba, India",
          "Udgir, India",
          "Nagaur, India",
          "Shrirampur, India",
          "Jagtial, India",
          "Golaghat, India",
          "North Lakhimpur, India",
          "Kollam, India",
          "Dindigul, India",
          "Nilokheri, India",
          "Veraval, India",
          "Tulsipur, India",
          "Amroha, India",
          "Nagda, India",
          "Pakaur, India",
          "Khatima, India",
          "Kanchipuram, India",
          "Kannad, India",
          "Baharampur, India",
          "Loharu, India",
          "Kapurthala, India",
          "Chikhli, India",
          "Uran, India",
          "Amer, Rajasthan",
          "English Bazar, India",
          "Gudiyattam, India",
          "Kalol, India",
          "Burhanpur, India",
          "Kovvur, India",
          "Thyagaraya Nagar",
          "Nandurbar, India",
          "Thangadh, India",
          "Raipur Chattisgarh",
          "Gummidipundi, India",
          "Mandideep, India",
          "Tirupathur, India",
          "Barapali, India",
          "Nedumangad, India",
          "Chandrapur, India",
          "Pulicat, India",
          "Ferozepur Jhirka, India",
          "Dumka, India",
          "Kalameshwar, India",
          "Rishra Station",
          "Nagina, India",
          "Kudchi, India",
          "Sevagram, India",
          "Barasat, India",
          "Rajsamand, India",
          "Anakapalli, India",
          "Sanwer, India",
          "Bharatpur, India",
          "Haveri, India",
          "Aligarh City",
          "Hosur, India",
          "Parli, India",
          "Baripada, India",
          "Etmadpur, India",
          "Imphal West I, India",
          "Khurja, India",
          "Savarkundla, India",
          "Kelambakkam",
          "Satna Railway Stn",
          "Amreli, India",
          "Thanjavur, India",
          "Garhi Harsaru, India",
          "Igatpuri, India",
          "Bid, India",
          "Falna, India",
          "Imphal East II, India",
          "Chandausi, India",
          "Bardoli, India",
          "Saifai, India",
          "Madhepura, India",
          "Ramagundam, India",
          "Madanapalle, India",
          "Prayag Raj",
          "Sardhana, India",
          "Moga, India",
          "Eluru, India",
          "Jamalpur, India",
          "Bundi, India",
          "Khargone, India",
          "Narasaraopet, India",
          "Bandikui, India",
          "Bhatkal, India",
          "Pantnagar, India",
          "Devgarh, India",
          "Sivakasi, India",
          "Narnaul, India",
          "Munnar, India",
          "Shirpur, India",
          "Kashipur, India",
          "Nabadwip, India",
          "Mundra, India",
          "Morena, India",
          "Churachandpur, India",
          "Moranhat, India",
          "Ningthoukhong, India",
          "Basavakalyan, India",
          "New Ashok Nagar Metro Station",
          "Nandyal, India",
          "Jowai, India",
          "Yadgir, India",
          "Malakpur",
          "Nimbahera, India",
          "Bihar Sharif",
          "Jalor, India",
          "Najibabad, India",
          "Anjar, India",
          "Chhatarpur, India",
          "Ramgarh, India",
          "Robertsganj, India",
          "Gokhale Nagar, Pune",
          "Kartarpur, India",
          "Daltonganj, India",
          "Khalilabad, India",
          "Proddatur, India",
          "Bilimora, India",
          "Bankura, India",
          "Gadarwara, India",
          "Karamadai, India",
          "Malappuram (Ernad), India",
          "Tonk, India",
          "Vidyanagar(Karad), India",
          "Sundargarh, India",
          "Raniganj, India",
          "Indirapuram",
          "Bargarh, India",
          "Ballia, India",
          "Lakhimpur, India",
          "Badlapur",
          "Nalgonda, India",
          "Buldhana, India",
          "Paravur, India",
          "Srinagar, India",
          "Jhumri Tilaiya, India",
          "Jagadhri",
          "Dabwali, India",
          "Pardi, India",
          "Budaun, India",
          "Gangawati, India",
          "Rudrapur, India",
          "Dhampur, India",
          "Srikakulam, India",
          "Kasganj, India",
          "Shahdol, India",
          "Sangareddy, India",
          "Botad, India",
          "Machilipatnam, India",
          "Pulgaon, India",
          "Bahalgarh, India",
          "Vikarabad, India",
          "Muktsar, India",
          "Baikunthpur, India",
          "Kandivali East, Mumbai",
          "Unjha, India",
          "Akbarpur, India",
          "Manuguru, India",
          "Bhavani, India",
          "Kharghar, Panvel",
          "KPHB 3rd Phase",
          "Jajapur, India",
          "Kangra, India",
          "Ludhiana",
          "Indi, India",
          "Kandaghat, India",
          "Lakhimpur",
          "Kolaghat, India",
          "Nangal, India",
          "Moirang, India",
          "Shikrapur, India",
          "Mandapeta, India",
          "Uran Islampur, India",
          "Shahkot, India",
          "Udalguri, India",
          "Bandra West, Mumbai",
          "Dwarka, New Delhi",
          "Meghalaya, India",
          "Deesa, India",
          "Vandalur, India",
          "Sikandarabad (Bulandshahr), India",
          "Hosakote, India",
          "Patur, India",
          "Sheikhpura, India",
          "Mirzapur",
          "Bhilad, India",
          "Ghazipur",
          "Bagalkot",
          "Jhunjhunun, India",
          "Rupnagar, India",
          "Ayodhya, India",
          "Chitradurga, India",
          "Mandya, India",
          "Nagarjuna Sagar North, India",
          "Bongaigaon Refinery, India",
          "Ooty, India",
          "Mukundapuram, India",
          "Pudukkottai, India",
          "Karjat, India",
          "shirpur",
          "Dharmanagar, India",
          "Kaij, India",
          "Balasinor, India",
          "Osmanabad, India",
          "Himatnagar, India",
          "Mokameh, India",
          "Laukaha, India",
          "Renukoot, India",
          "Darjeeling, India",
          "Bajna, India",
          "International gym",
          "Fatehpur, India",
          "Chakan, India",
          "Alandi, India",
          "Utnur, India",
          "Nilagiri, India",
          "Vallabh Nagar, India",
          "Koch Bihar, India",
          "Chirala, India",
          "Sajjangarh, India",
          "Kolathur",
          "Madhupur, India",
          "Padrauna, India",
          "Aliganj, India",
          "Tiruvalla, India",
          "Bangaon, India",
          "Maharajganj, India",
          "Soro, India",
          "Malkapur, India",
          "Bongaon Railway Station",
          "Tambaram",
          "Bellampalli, India",
          "Palghar, India",
          "Manglaur, India",
          "Kovilpatti, India",
          "Bopal circle",
          "Talaja, India",
          "Vapi, Gujarat",
          "Wai, India",
          "Baramati, India",
          "Shivpuri, India",
          "Model Town, Sonipat",
          "Rangia, India",
          "Papanasam, India",
          "Ghaziabad",
          "Salepur, India",
          "Nanded, Maharashtra",
          "Hingoli, India",
          "Jatani, India",
          "Panoli, India",
          "Khatauli, India",
          "Urapakkam, India",
          "Chilakaluripet, India",
          "Bangalore",
          "Jhalawar, India",
          "Sojat Road, India",
          "Hindpiri, Ranchi",
          "Daman, India",
          "Gandhi Hospital",
          "Sehore, India",
          "Goraya, India",
          "Bhadohi, India",
          "Damoh, India",
          "Digi, India",
          "Bidar, India",
          "Akorhi Gola, India",
          "Puruliya, India",
          "Thandla, India",
          "Halol, India",
          "Chhibramau, India",
          "Sadabad, India",
          "Barnagar, India",
          "Hardoi, India",
          "C 9 Vasant Kunj",
          "Mashrakh, India",
          "Kallakkurichi, India",
          "Ministry Of External Affairs",
          "Palam Vihar, Gurgaon",
          "Krishnarajanagara, India",
          "Rajasthan",
          "Nalbari, India",
          "Paramakudi, India",
          "Kumbakonam, India",
          "Kanniyakumari, India",
          "Pansemal, India",
          "Rajagangapur, India",
          "Panoor, India",
          "Ganaur Railway Station",
          "Bahadurgarh Bus Stand",
          "Srikalahasti",
          "Ramnagar, Varanasi",
          "Vijay Park, Gurgaon",
          "Kalyan East",
          "Uttam Nagar, New Delhi",
          "Kokrajhar, India",
          "Modhera, India",
          "Kasauli, India",
          "Chandi Mandir, India",
          "C Block, Sushant Lok I",
          "Metpalli, India",
          "Jagdalpur, India",
          "Hasanpur, India",
          "Ganpatipule, India",
          "Vyara, India",
          "Chirawa, India",
          "Mihijam, India",
          "Arakonam, India",
          "Meerut City",
          "Japla Hussainabad, India",
          "Shahabad, India",
          "Shegaon, India",
          "Jangpura",
          "Garhwa, India",
          "Taranagar, India",
          "Churu, India",
          "Tumsar, India",
          "Kurla west Mumbai-70",
          "Samruddhi Park",
          "Tarapur, India",
          "Shimla Urban, India",
          "Sarairanjan, India",
          "Chintamani, India",
          "Mehekar, India",
          "Jalpaiguri",
          "Kukatpally",
          "Pithapuram, India",
          "Nagaur City",
          "KPHB 6th phase",
          "Orattanadu, India",
          "Mahendragarh, India",
          "Naila Janjgir, India",
          "Mahindra, India",
          "Mankachar, India",
          "Nirmal, India",
          "Nalgonda",
          "Mavelikara, India",
          "Komarapalayam Town",
          "Triveni Sangam",
          "Majalgaon, India",
          "Rajauli, India",
          "Kalimpong, India",
          "Pilani, India",
          "Patan,gujarat",
          "Chunar, India",
          "Dhenkanal, India",
          "Deoband, India",
          "Yellapur, India",
          "Dohad, India",
          "Shirdi, India",
          "Deodar, India",
          "Pandharpur, India",
          "Periyanaickenpalayam, India",
          "Bhamian Kalan, Ludhiana",
          "Kekri, India",
          "Kunigal, India",
          "GIDC Metoda, India",
          "Bela Pratapgarh, India",
          "Nawada, India",
          "Savli, India",
          "Gopeshwar, India",
          "Coonoor, India",
          "Barahat, India",
          "Jamwa Ramgarh, India",
          "Mudhol, India",
          "Umarkhed, India",
          "Budhlada, India",
          "Azhoor, India",
          "Bhavnagar Para",
          "Hodal, India",
          "Siliguri Town",
          "Rairangpur, India",
          "Narnaul, Haryana",
          "Balod, India",
          "Honavar, India",
          "Narsapur, India",
          "Calicut International Airport",
          "Digha, India",
          "Samastipur",
          "Kurla East, Mumbai",
          "miyapur",
          "Amalapuram, India",
          "Pernampattu, India",
          "Chinhat Lucknow, Lucknow",
          "Babu Barhi, India",
          "Karmal, India",
          "Asarganj, India",
          "Roha Ashtami, India",
          "Mavli, India",
          "Vejalpur Rd",
          "Aer Four Seasons Hotel",
          "Nabarangapur, India",
          "Dewa, India",
          "Hansi, India",
          "Ratu, India",
          "Obra, India",
          "Karaikal, India",
          "Jamkhandi, India",
          "Kotdwara, India",
          "Ozar, India",
          "Gora Bazar, India",
          "Allen",
          "Narsimhapur, India",
          "Goregaon, India",
          "Mustafabad, India",
          "Khamgaon, India",
          "Desuri, India",
          "Pali Marwar",
          "Dalkhola, India",
          "Challakere, India",
          "Bhita, India",
          "Mayur Vihar Phase 3",
          "The Office Xperts",
          "Bagh Amberpet",
          "Andheri West, Mumbai",
          "Gudivada, India",
          "Aurad, India",
          "Aquem",
          "Rajam, India",
          "Balurghat, India",
          "Radhanpur, India",
          "Theni Allinagaram, India",
          "Sweet Home",
          "Vedasandur",
          "Andaman And Nicobar, India",
          "Boring Road Patna",
          "Tirunelveli, India",
          "Yeola, India",
          "Fortis La Femme",
          "Deshnoke, India",
          "Nahan, India",
          "Dharmapuri, India",
          "Bishnupur, India",
          "Harnaut, India",
          "Debagarh, India",
          "Araria, India",
          "Kanke, India",
          "Mumbai",
          "Jatani, Orissa",
          "Palam Vihar",
          "Baner, Haveli",
          "Tarn Taran, India",
          "Adani Shantigram",
          "Rath, India",
          "Dargah Ajmer Sharif",
          "Nelamangala, India",
          "Pindwara, India",
          "Bongaigaon",
          "Sector 24",
          "Amod, India",
          "Baran, India",
          "Mandu, India",
          "Jhalrapatan, India",
          "Pushkar, India",
          "Maheshwar, India",
          "Pokaran, India",
          "Goregaon West, Mumbai",
          "OTA Area",
          "Ponda, India",
          "Asangaon, India",
          "Noorpur, India",
          "Tufanganj, India",
          "Kosamba, India",
          "Arcot, India",
          "Nagaland",
          "Film City",
          "Rayagada, India",
          "Mahuva, India",
          "Orchid springs",
          "Bailhongal, India",
          "Kharar, Punjab",
          "Bisauli, India",
          "Mansa, India",
          "Attibele, India",
          "Manipur, India",
          "Nehru Nagar",
          "Dausa, India",
          "Sonepur, India",
          "Jafarabad, India",
          "Hatsingimari, India",
          "Dabolim Goa International Airport (GOI)",
          "Chiplun, India",
          "Mansarovar",
          "Jaggayyapeta, India",
          "Kulithalai, India",
          "Vadgam, India",
          "Saligram, India",
          "Bhiloda, India",
          "Ramdurg, India",
          "Dhuri, India",
          "Ambaji, India",
          "Mayiladuthurai, India",
          "South-Bopal",
          "Bhawani Mandi, India",
          "dwarka sector 7",
          "Brajarajnagar, India",
          "Shahpura, India",
          "Amloh, India",
          "Zahirabad, India",
          "Chanpatia, India",
          "Kuttoor, India",
          "Kharsia, India",
          "Chaibasa, India",
          "Shujalpur, India",
          "Balrampur, India",
          "Habra, India",
          "Kosi Kalan, India",
          "Bodhan, India",
          "Malkajgiri",
          "Rahuri, India",
          "Reliance Trends Uppal",
          "k.k.nagar road",
          "Haflong, India",
          "University of Hyderabad",
          "Badlapur, India",
          "Jajpur, India",
          "Sarni, India",
          "Ghanaur, India",
          "Vadakara, India",
          "Akaltara, India",
          "Sawai Madhopur, India",
          "Narkatiaganj, India",
          "Shamli, India",
          "Sangamner, India",
          "Sonamukhi, India",
          "Konch, India",
          "Gadhinglaj, India",
          "Attabira, India",
          "Balaghat, India",
          "Ramnagar, India",
          "Chenari, India",
          "Benipatti, India",
          "Jaspur, India",
          "Fatehgarh Churian, India",
          "Siana, India",
          "Jetpur Navagadh, India",
          "Green Hills Colony",
          "Hinganghat, India",
          "Chabua, India",
          "26 Block, west patel nagar",
          "Basna, India",
          "Bhuna, India",
          "Colonelganj, India",
          "Chandkheda",
          "Kannod, India",
          "Tambaram Sanatorium Railway Station",
          "Seraikela, India",
          "Lalsot, India",
          "Khopoli, India",
          "New C G Road",
          "Abhayapuri, India",
          "Vizag",
          "Murshidabad, India",
          "Budhgaon, India",
          "Sircilla, India",
          "Parbhani, India",
          "Sheopur, India",
          "Titlagarh, India",
          "Nalsarovar, India",
          "Vandiyur, India",
          "Badoda, India",
          "Mayur Vihar Phase 1",
          "Guntakal, India",
          "Pithoragarh, India",
          "Pandua, India",
          "Gharsana, India",
          "Nagaland, India",
          "Kamthi, India",
          "Khariar, India",
          "Kendrapara, India",
          "Ashti, India",
          "New Ranip",
          "Lanka, India",
          "Sector 16, Rohini",
          "Banswara, India",
          "Melur, India",
          "Laxmangarh, India",
          "Ambassa, India",
          "Naugarh, India",
          "Sasni, India",
          "Kaisarganj, India",
          "Katedan",
          "Pipili, India",
          "Parwanoo, India",
          "Waraseoni, India",
          "Katni",
          "Baghpat, India",
          "Doiwala, India",
          "Kottagudem, India",
          "Kothavalasa, India",
          "Behror, India",
          "Jehanabad, India",
          "Vasukamal",
          "Ramganj, Jaipur",
          "Pithampur, India",
          "Loni, Ghaziabad",
          "Gola Gokarannath, India",
          "Jadavpur, Kolkata",
          "Tanda, India",
          "Navalgund, India",
          "Canara Bank (Kanchanbagh)",
          "SV Paradise",
          "Akkalkuva, India",
          "Infinity Square",
          "Prestige Towers",
          "Nakodar, India",
          "Badarpur",
          "Uttarahalli, Bengaluru South",
          "Sri Vighneshwara Temple",
          "mahatma society",
          "Marigold",
          "Malad East, Mumbai",
          "Ichalkaranji",
          "Nerul, Navi Mumbai",
          "Ralegaon, India",
          "Dalli-Rajhara, India",
          "Haldia, India",
          "Hazratganj, Lucknow",
          "Thiruvalam, India",
          "Numaligarh Refinery Township, India",
          "Nirala Eden Park",
          "BTM Layout",
          "Behat, India",
          "Thalainayar, India",
          "laitumkhrah",
          "Alirajpur, India",
          "Hindupur, India",
          "Four Bungalows",
          "peddapalli",
          "As Rao Nagar",
          "Chanakyapuri, New Delhi",
          "Sendhwa, India",
          "Rishabdeo, India",
          "Jadugora, India",
          "Jamia Millia Islamia",
          "Axis Bank ATM",
          "Dharmavaram, India",
          "vijayawada",
          "Mariahu, India",
          "Nuh, India",
          "jaggampeta",
          "Kandivali East",
          "Jora, India",
          "New Rajendra Nagar, Raipur",
          "Dhanera, India",
          "Duliajan, India",
          "V-Mart",
          "Barabanki Railway Station",
          "BudBud",
          "Talwandi Sabo, India",
          "Krishna Nagar",
          "Mendu, India",
          "Mahidpur, India",
          "Saloon",
          "Krishnarajpet, India",
          "Sringeri, India",
          "Balotra, India",
          "Dhaulpur, India",
          "Guraru, India",
          "Sabrum, India",
          "Jhansi Bus Stand",
          "Koratla, India",
          "Kallidaikurichi",
          "Tajpur Khurd Village, New Delhi",
          "Khambhalia",
          "Mahanagar Colony, Lucknow",
          "Palia Kalan, India",
          "Thoothukkudi Railway Station",
          "Shikohabad, India",
          "dehu gaon",
          "badarpur",
          "P K Jewellers",
          "Joura, India",
          "Murtajapur, India",
          "New Agra Colony, Agra",
          "Amalner, India",
          "Galaxy North Avenue- II",
          "Areraj, India",
          "Mahal, Nagpur",
          "IBIS NOVOTEL",
          "Koraput, India",
          "Manwath, India",
          "Achampet, India",
          "Pragathi Nagar, Medchal",
          "Bemetara",
          "Tulsi ghat",
          "Kotpad, India",
          "Bhainsa, India",
          "Addanki, India",
          "Golden chariot building",
          "K Sector Park",
          "Rohini, New Delhi",
          "Madnur, India",
          "Galaxy electronics",
          "Rasoolpura, Hyderabad",
          "Alampur, India",
          "Devanahalli, India",
          "Dhanaura, India",
          "Bamora, India",
          "Nayapalli",
          "Jogindarnagar, India",
          "Perungulathur",
          "Sharda Cinema Hall",
          "JW Marriott Hotel Pune",
          "Tiruvadanai, India",
          "Shastri Nagar",
          "Malout, India",
          "Malgudi Station",
          "People's Plaza",
          "Patiyali, India",
          "Keshorai Patan, India",
          "Bhanjanagar, India",
          "Darbhanga",
          "Dwarka, India",
          "Shaheed Bhagat Singh College",
          "Orlem",
          "prabhas college",
          "Mungaoli, India",
          "hariyali village",
          "BR Hills",
          "Shyampur",
          "Bandra Railway Station",
          "Akot, India",
          "Jagraon, India",
          "Mandla, India",
          "Gangavalli, India",
          "Alappuzha",
          "Kovalam, India",
          "Sector 46",
          "Magadi, India",
          "Choudwar, Orissa",
          "Gomti Nagar, Lucknow",
          "Chakradharpur, India",
          "Aya Nagar, New Delhi",
          "Amit dairy",
          "Kushalgarh, India",
          "Kandhla, India",
          "Airoli, Navi Mumbai",
          "dhurwa",
          "Shekhar Hospital",
          "Royal Tulip",
          "Margin free Super Market",
          "Ghatol, India",
          "Uravakonda, India",
          "Ganesh Sweets",
          "Bhandara, India",
          "Dharwad",
          "Bageshwar, India",
          "Harduaganj, India",
          "Kundrathur, India",
          "Mauganj, India",
          "Jawaharlal Nehru Stadium",
          "Bhagwanpur, India",
          "Jehanabad Railway Station",
          "Patnagarh, India",
          "Sedam, India",
          "manjakuppam",
          "Kolaras, India",
          "Kadodara, India",
          "Chamoli",
          "Kamalpur, India",
          "Dahod",
          "Surajgarh, India",
          "Suryapet, India",
          "Kunda, India",
          "Odhav, Ahmadabad City",
          "Beverly Park",
          "Sujangarh",
          "Vasant Kunj, New Delhi",
          "IRC village",
          "Bhartiya City",
          "Maswasi, India",
          "Hakeempet",
          "Bhadravati, India",
          "Punjab National Bank",
          "Mount Abu, India",
          "Premier Residences",
          "Rambaug Area",
          "Yawal, India",
          "Chalakudy, India",
          "Mairwa, India",
          "Mangalagiri, India",
          "Khambhalia, India",
          "Mahrajganj, India",
          "Mantri Espana",
          "vellore city",
          "Rau, India",
          "Basavana Bagewadi",
          "Fatehpur Sikri, India",
          "Hotel Sai Palace Grand",
          "Kumbi, India",
          "Nangloi Railway Station Metro Station",
          "Piro, India",
          "Dighwara, India",
          "Gumla, India",
          "Mulund West, Mumbai",
          "Vartak Nagar, Thane",
          "Sector 30",
          "Chittaranjan Park",
          "Achalpur, India",
          "Evershine City, Mumbai",
          "Vijayraghavgarh, India",
          "Murlipura, Jaipur",
          "Raghunath Vihar Army Welfare Housing Society",
          "Chikiti, India",
          "Sonari, India",
          "Thakurdwara, India",
          "Link road",
          "Nanded",
          "Mirik, India",
          "Chidambaram, India",
          "Gulzarbagh, Patna",
          "Parsa, India",
          "Dhoolpet",
          "Ramanagaram, India",
          "Bamun, India",
          "Hailakandi, India",
          "Dantewada, India",
          "Yellandu, India",
          "Tiptur, India",
          "24h",
          "Mhaswad, India",
          "Perambur Railway Station",
          "Sahawar, India",
          "Buxar, India",
          "Bhachau, India",
          "Akshardham Metro Station",
          "Perinthalmanna, India",
          "Lingaraj Temple",
          "Cleo County",
          "Nadiad",
          "Ambejogai, India",
          "Sariska, India",
          "Antah, India",
          "Kamrej, India",
          "Jaitu Railway station",
          "Kodungaiyur",
          "Shahpur, India",
          "Gadwal, India",
          "Balapur, India",
          "Hasanganj, India",
          "Pinjore",
          "Maner, India",
          "Fazilka, India",
          "Karaikkudi, India",
          "Deulgaon Raja, India",
          "Maharaja Tower",
          "Lb Nagar",
          "Atarra, India",
          "Sai Nagar, Amravati",
          "Yanam, India",
          "Mahilpur, India",
          "Rutu Estate",
          "Namchi, India",
          "Sowcarpet",
          "Tharad, India",
          "Srirangam",
          "Dhana, India",
          "Chettipalayam, Tamil Nadu",
          "Rameswaram, India",
          "Panthalur, India",
          "Radhika",
          "Uluberiya, India",
          "Mettuguda Metro Station",
          "Veera Desai road",
          "Bhanpur, Bhopal",
          "Fancy Bazar",
          "Meja, India",
          "Nokha, India",
          "PGIMER, Chandigarh",
          "Vijaynagar Metro Station",
          "Kalher, Thane",
          "MIDC",
          "Raisen, India",
          "Saguna, India",
          "Vellore",
          "Valpoi, India",
          "Madukarai",
          "Polasara, India",
          "F V Sagar",
          "Khaga, India",
          "Chanderi, India",
          "Raybag, India",
          "Unnao",
          "Bairgania, India",
          "Raghunathpur, India",
          "Gola, India",
          "Ghatkesar, India",
          "Purquazi, India",
          "Amarpatan, India",
          "Shajapur, India",
          "Turkman Gate",
          "Sitamarhi, India",
          "Ramanathapuram",
          "Bharati Hospital",
          "Kasumpati, Shimla",
          "Wankaner, India",
          "Bhatapara Railway Station",
          "Mohanlalganj, India",
          "Veerapandi, India",
          "Vadodara Gujarat India",
          "Kaghaznagar, India",
          "Kandi, India",
          "ECIL",
          "Abhyasa School",
          "Shillai, India",
          "Kalyan Nagar, Bengaluru",
          "Bicholim, India",
          "Old Passport Office",
          "Sagarpur, New Delhi",
          "Kotturpuram, Chennai",
          "Geeta Colony, New Delhi",
          "Sabarmati, Ahmadabad City",
          "Manasa, India",
          "Gamma, Greater Noida",
          "Padra, India",
          "Talcher, India",
          "Didwana, India",
          "Jamui, India",
          "Gateway Hyderabad",
          "zai beach",
          "Khurda Road Railway Station",
          "APMC Market",
          "Pedana, India",
          "Naya raipur",
          "Gyanpur, India",
          "Malda, English Bazar",
          "Naraina Vihar",
          "aonla",
          "Departure Terminal",
          "Singtam, India",
          "Puttur, India",
          "Hoshiarpur",
          "Jhabua, India",
          "Chembur, Mumbai",
          "Jiribam, India",
          "Shakti Nagar, India",
          "Chandkheda Bus Stop",
          "Tardeo, Mumbai",
          "Kashipur City",
          "Sanand Industrial Area, India",
          "Pupri, India",
          "Kashi Vishwanath Temple",
          "Channarayapatna, India",
          "Karauli, India",
          "Zamania, India",
          "Bhota, India",
          "University",
          "Mandi Dabwali, India",
          "Bobbili, India",
          "Mezbaan Restaurant",
          "Travels Point (Power House)",
          "Aldona, India",
          "Joshimath, India",
          "Nilanga, India",
          "Sector 21b",
          "Marayamuttom",
          "Khurai, India",
          "Shiva Temple, Total Mall",
          "Gaurav Valley",
          "Chinnasalem, India",
          "Sirkali, India",
          "Tharali, India",
          "Sector 49, Noida",
          "Kavaratti, India",
          "Nayagarh, India",
          "Supaul, India",
          "Goa Medical College & Hospital",
          "Arvi, India",
          "Alangayam, India",
          "Bagdogra, India",
          "Anand Vihar ISBT",
          "Sirpur, India",
          "Gonda",
          "Muradnagar",
          "Jobner, India",
          "Sanderao, India",
          "Shell",
          "Eraniel, Tamil Nadu",
          "Karimpur, West Bengal",
          "Chennai, India.",
          "Kedarnath, India",
          "Mandhana (Kanpur), India",
          "Koppal, India",
          "janak puri",
          "Shahbad Dairy",
          "Purani Mandi",
          "Suri, India",
          "Danapur bazar",
          "Ahraura, India",
          "Basirhat, India",
          "Nagari, India",
          "Kanker, India",
          "D Mart",
          "Vastrapur, Ahmadabad City",
          "Khagaria, India",
          "Mudbidri, India",
          "Indapur, India",
          "Peddapuram, India",
          "Agar Bazaar ¬§",
          "Bachra, India",
          "Barkagaon, India",
          "Mangaon, India",
          "Nandikotkur, India",
          "Vidhyanagar",
          "Bilasipara, India",
          "Sainthia, India",
          "Dinanath Mangeshkar Hospital",
          "Isnapur, India",
          "Sion, Mumbai",
          "Vengola, India",
          "Patamata",
          "Atmakur, India",
          "Azamgarh",
          "Hospet",
          "Ramapur, India",
          "Dohrighat, India",
          "Barwadih, India",
          "Singrauli, India",
          "Crescent Bay",
          "Bisra",
          "Sagar Gaire",
          "Wadwani, India",
          "Narangi",
          "Karon, India",
          "Ellenabad, India",
          "Sojat, India",
          "Chhatarpur, New Delhi",
          "Kalna, India",
          "Paradise Restaurant",
          "Kadiri, India",
          "Kalka, India",
          "Regent Plaza",
          "Warangal",
          "NALCO Nagar",
          "Vasant Kunj D2",
          "Masjid Bunder Market",
          "Trilokpuri, New Delhi",
          "Pudunagaram, India",
          "Arun Vihar Sector 37, Noida",
          "Raman, India",
          "Trimurti nagar",
          "Puranpur, India",
          "Provident Sunworth",
          "Sonapur, India",
          "Sahibganj, India",
          "Shikarpur, India",
          "Tirupur Old Bus Stand",
          "Chikhali",
          "Sholinghur",
          "Merta, India",
          "Ganga Ghat",
          "Shiv Vihar, New Delhi",
          "Green Park",
          "Rajgarh",
          "Nana chowk",
          "Mannargudi, India",
          "Pukhrayan, India",
          "Gahmar, India",
          "Sapphire Park",
          "Ahwa, India",
          "Aruppukkottai, India",
          "Hatta, India",
          "Belgharia Railway Station",
          "Santiniketan, India",
          "Pimpri, Haveli",
          "Kokila Resort",
          "Ghoga",
          "Aundh, Pune",
          "HDFC Bank ATM",
          "Viceroy court",
          "Jhajhar",
          "khanapur",
          "Dinhata, India",
          "Ranavav, India",
          "Sirathu, India",
          "Ichalkaranji (Shirol), India",
          "Bermo, India",
          "Ganjam, India",
          "Udaipura, India",
          "legend hotel",
          "Pune, Maharashtra",
          "Welcome To Surat",
          "Khategaon, India",
          "Subhash Nagar, Silchar",
          "Jayanagar",
          "Sirsa, India",
          "Haileymandi, India",
          "Chakia, India",
          "Taloja",
          "Taj Lands End",
          "Chandan Nagar, India",
          "Kanak Vihar, Jaipur",
          "Sector 48, Gurgaon",
          "Palamedu, India",
          "Gangapur, India",
          "Niali, Orissa",
          "Gitanjali Metro Station",
          "Patratu, India",
          "NIT, Patna",
          "Suchindram, India",
          "Pochampalli, India",
          "Kolkata",
          "Rajgarh, India",
          "Mansa, Punjab",
          "Hyderabad House",
          "Majitha, India",
          "Silchar Medical College",
          "Ahmedabad",
          "Mahim West, Mumbai",
          "Parvathipuram, India",
          "Buddh International Circuit",
          "Amethi, India",
          "Thoothukudi",
          "Kalyan Complex",
          "Vita, India",
          "Bailhongal",
          "EA",
          "Chandil, India",
          "Matunga East, Mumbai",
          "Ahore, India",
          "Green Field Colony",
          "Perfect 10",
          "Pathanamthitta, India",
          "Fathepur",
          "Palampur, India",
          "Rippon Building",
          "Ravet Bridge",
          "Green Field Apartments",
          "Adarsh Joggers Park",
          "Makhtal, India",
          "Blue City, Jodhpur",
          "Paradip, India",
          "car nicobar islands",
          "The Coffee Bar",
          "Mahoba, India",
          "Bhuban, India",
          "Ghaziabad Railway Station",
          "Akola Railway Station",
          "Keshod, India",
          "Atul",
          "Sector 71 Noida",
          "Ranebennur, India",
          "Ghatshila, India",
          "State Bank, Katpadi, Vellore",
          "Barsana, India",
          "Barbhag, India",
          "Ajnala, India",
          "Pauri Garhwal, India",
          "Ranaghat, India",
          "Amlai, India",
          "Basavanagar",
          "Vikhroli West, Mumbai",
          "Gwalior Fort",
          "President House of India",
          "Pathalgaon, India",
          "Gokhale Nagar",
          "Kolar Gold Fields",
          "Kizhakkambalam, India",
          "ANRAK Aluminium factory",
          "Viva Goa",
          "Ode, India",
          "Vengara, India",
          "Kaal Bhairav Temple",
          "Barbil, India",
          "Golconda Fort",
          "Bodhgaya, India",
          "Chatra, India",
          "Santacruz East, Mumbai",
          "Vanasthalipuram, Hayathnagar",
          "Virar",
          "Gorakhpur, Uttar Pradesh",
          "Byculla, Mumbai",
          "Tikamgarh, India",
          "Thoubal, India",
          "Edaicode",
          "Pasighat, India",
          "Acharya Niketan, Mayur Vihar",
          "Kukshi, India",
          "Kandra, India",
          "Aurai, India",
          "Shahapur, India",
          "Varni",
          "Palani, India",
          "Gadag, India",
          "new delhi",
          "Mansarovar Garden",
          "Amguri, India",
          "Bhavani (Erode), India",
          "vasant vihar",
          "J K Restaurant",
          "Shree Jeewan Hospital",
          "Sector-46",
          "Shastrinagar, Ahmedabad",
          "Kumhari, India",
          "Shree Radha Krishna Mandir",
          "Sector 22 Dwarka",
          "Rajouri Garden, New Delhi",
          "Buxar",
          "Jandiala, India",
          "Warangal Railway Station",
          "Diu, India",
          "Lalitpur, India",
          "Nakhatrana, India",
          "CHL Hospital",
          "Tohana, India",
          "Colaba, Mumbai",
          "Kakatpur, India",
          "Sonpeth, India",
          "Sihora, India",
          "Rohru, India",
          "Tandur, India",
          "Siswa Bazar, India",
          "Marakkanam, India",
          "Bargaon, India",
          "Jintur, India",
          "Miyapur",
          "Chandlodia",
          "Khan Nagar",
          "Chhindwara",
          "Munirabad, India",
          "Tuljapur, India",
          "Agar, India",
          "Daund, India",
          "Muzaffarpur",
          "Junnar, India",
          "Chintamani Town",
          "Raniwara, India",
          "Hydrabad",
          "Khed Brahma, India",
          "Gevrai, India",
          "Haryana Bhavan",
          "Kuchaman City, India",
          "Betul, India",
          "Sibsagar, India",
          "Madras Club",
          "Ramoji Film City",
          "Shreeji Arcade",
          "Mayur Vihar I",
          "Rapur, India",
          "Valasaravakkam",
          "Sola Bhagvat",
          "Jagadishpur Industrial Area, India",
          "Link Road",
          "Adilabad, India",
          "Bangarapet, India",
          "Kolathupalayam, India",
          "Mandvi",
          "Bhubaneswar Golf Club",
          "Lakhipur, India",
          "Perumbaikad, India",
          "Porsa, India",
          "Chhoti Sadri, India",
          "Belpahar, India",
          "Ramgarh",
          "Naranpura, Ahmadabad City",
          "Amgaon, India",
          "Niphad, India",
          "Puranapool",
          "Thana Bhawan, India",
          "Sarita",
          "Kathajodi,Ring Road",
          "Khalsa College",
          "Nanda Nagar",
          "Krishnagiri, India",
          "Dandi olpad",
          "S.N Medical college",
          "Chinnalapatti, India",
          "Falakata, India",
          "Akaltara",
          "Kudra, India",
          "Motala, India",
          "Palacole, India",
          "GRT Grand Hotel",
          "Jhajjar, India",
          "Gobichettipalayam",
          "Kodaikkanal, India",
          "Navsari,Gujarat",
          "Delhi Shahdara Junction railway station",
          "Lunavada, India",
          "Arambag, India",
          "Pilkhuwa, India",
          "Bhongir, India",
          "Gharaunda, India",
          "Sikandarpur, India",
          "Pargi, India",
          "rajarshi shahu maharaj primary school",
          "Sector 19, Noida",
          "Kulti, India",
          "Kasaragod, India",
          "Ghatshila",
          "Jaysingpur, India",
          "Jaiswal Tower",
          "Santosh Hospital",
          "Dadra and Nagar Haveli",
          "Jagatpura",
          "Chrompet",
          "Popular Nagar",
          "Kodinar, India",
          "Manachanallur, India",
          "Max Super Speciality Hospital",
          "Siwan Junction",
          "Richha, India",
          "Ahmadpur, India",
          "Gondal, India",
          "Radhika Movieplex & Mall",
          "Bisalpur, India",
          "Sultanabad, India",
          "Jammikunta Railway Station",
          "Perambur Loco Works Station",
          "udaygiri.",
          "Musiri, India",
          "Lormi, India",
          "Birsinghpur Railway Station",
          "Aashiana",
          "Kundapura, India",
          "Mansi, India",
          "Ramnath, Deoria",
          "Waluj, India",
          "Sir J. J. Hospital",
          "Mohania, India",
          "Kataiya, India",
          "Maisamma Temple",
          "Raver, India",
          "Khairthal",
          "Manduadih Railway Station",
          "Chamrajnagar, India",
          "Kumta, India",
          "Muthangi, India",
          "Chandwa, India",
          "Kaveripattinam, India",
          "Shanti Marg",
          "Jeypore",
          "Sikandrabad, India",
          "Gauribidanur, India",
          "Byndoor",
          "Morinda, India",
          "Shela, Sanand",
          "Dawath",
          "Baraut, India",
          "Sangli-Miraj Kupwad, India",
          "Naduvannur, India",
          "Kerala",
          "South City II",
          "Manipur University, Imphal",
          "Huzurnagar, India",
          "Sanjhauli, India",
          "Anupam Nagar",
          "Juhu, Mumbai",
          "Perambalur, India",
          "Padmanabhapuram, India",
          "sesa goa",
          "Srivilliputhur, India",
          "Barmer, India",
          "Indora, India",
          "Andaz Delhi",
          "Dabra, India",
          "Dumraon, India",
          "Worli, Mumbai",
          "Upleta, India",
          "manikonda",
          "Agumbe, India",
          "Pattukkottai, India",
          "Virajpet, India",
          "Marine Lines, Mumbai",
          "Udupi, Karnataka",
          "venkatagiri",
          "guntakal",
          "Safdarjung hospital",
          "Thenhippalam, India",
          "Khadda, India",
          "Sonia Vihar",
          "pratap nagar",
          "Kichha, India",
          "District Park",
          "Tarakeswar, West Bengal",
          "Mahabaleshwar, India",
          "Deoli, India",
          "Madhoganj, India",
          "sun City",
          "Khandapada, India",
          "Chhatrapati Shivaji International Airport",
          "Kamalpur, Meerut",
          "Kosi",
          "Devasandra Main Road",
          "Hotel Sankam Residency Belgaum",
          "Bilari, India",
          "Baba Nagri",
          "Bansi, India",
          "Manmad, India",
          "Villivakkam Railway Station",
          "Rajegaon, India",
          "Talala, India",
          "Mohol, India",
          "Police station- Udaygiri",
          "Santrampur, India",
          "Jawahar nagar",
          "Sandila, India",
          "Banaras Hindu University",
          "Pallikonda, India",
          "Sai Baba Temple",
          "Mandvi, India",
          "Wai, Maharashtra",
          "Amreli",
          "Sirauli, India",
          "Palam Colony",
          "Aundh District Hospital",
          "Nagarjuna Sagar, India",
          "ISBT Dehradun",
          "Deolali Pravara, India",
          "Phulabani, India",
          "Vemulawada Bus Station",
          "Green Park Market",
          "Barra, Kanpur",
          "Baddi",
          "Nagole, Hayathnagar",
          "Vellore Fort",
          "Bhabha Hospital",
          "Bijnor",
          "Khajuraho, India",
          "Bandel Station",
          "Charkhari, India",
          "Narwana, India",
          "karimnagar",
          "Morbiwala Sweets And Farsan",
          "Jalalabad, India",
          "Kakori, India",
          "Vasant Vihar Metro Station",
          "ESI metro station",
          "Jhalu, India",
          "Nalanda Medical College Hospital",
          "No.1 Tollgate",
          "Ariyalur, India",
          "Jaipur City",
          "Uttam Nagar West Metro Station",
          "kamrej",
          "Kanyakumari",
          "Xiaomi India",
          "Tadali, India",
          "lalaguda gate",
          "Hoshangabad, India",
          "Kailash Vihar",
          "Lansdowne, India",
          "Shipra Sun City",
          "Islampur Bus Station",
          "Kopargaon, India",
          "Solan, India",
          "Pataudi, Haryana",
          "Balachaur, India",
          "Dungla, India",
          "Chaudhary Charan Singh University",
          "Sector 137, Noida",
          "Champawat, India",
          "Thiruvottiyur",
          "Jasola Vihar / Shaheen Bagh Metro Station",
          "Alangudi, India",
          "vattamkulam Junction",
          "Sorab, India",
          "KurukShetra Railway Station",
          "Old Willingdon camp",
          "Lajpat Nagar I",
          "Andrews Ganj, New Delhi",
          "University Of Allahabad",
          "Fatwah, India",
          "Jhalamand Circle",
          "Sector-45",
          "Palanpur",
          "Tondiarpet",
          "Chaurai, India",
          "Kombai, India",
          "Roorkee Railway Station",
          "Chanakyapuri, Daskroi",
          "Rani, Rajasthan",
          "Talbehat, India",
          "Jainagar, India",
          "Devadurga, India",
          "Chitrapuri Colony",
          "chandikhole",
          "Malviya National institute of Technology",
          "Sector 17 C",
          "Nowgong, India",
          "Bhabua, India",
          "Fatima Nagar",
          "Cafe Coffee Day",
          "Sector 56, Noida",
          "Media Centre",
          "Nadbai, India",
          "Lokhandwala Circle",
          "Mehgaon, India",
          "DOME",
          "Kochas, India",
          "Thondi, India",
          "HDFC Bank",
          "Mandoli, New Delhi",
          "Dr. Ram Manohar Lohia Hospital",
          "Topsia",
          "Dharmapuri Railway Station",
          "Dombivli",
          "Gwalior City",
          "Dhubri, India",
          "Bhadrachalam",
          "Hallikhed(B)",
          "Bhinga, India",
          "Nabanna",
          "Melkote park",
          "bhajanpura",
          "Barshi, India",
          "Giddarbaha, India",
          "Sompeta, India",
          "Lotus Park",
          "Vikrant Circle",
          "Digras, India",
          "Dudhi, India",
          "Manchar, India",
          "Maibong, India",
          "Sakti, India",
          "Andhra Bank Atm",
          "Okhla Vihar Metro Station",
          "Baharagora, Jharkhand",
          "Venkatagiri, India",
          "Almora, India",
          "Ameerpet, Hyderabad",
          "Bunts Hostel Circle",
          "Khowai, India",
          "BDA Doddabanahalli 2",
          "Sattenapalli",
          "Rajnagar, Kendrapara, Odisha",
          "Kapashera Border",
          "Jehan Numa Palace Hotel Bhopal",
          "Jaygaon, India",
          "Bhandup West, Mumbai",
          "Vaniyambadi, India",
          "National Handloom",
          "Vasant Vihar",
          "Kotak Mahindra Bank - ATM",
          "Badnawar, India",
          "Karad",
          "Hush Puppies",
          "Nehru Nagar, Ghaziabad",
          "Bhayandar Railway Station",
          "Jambusar",
          "Cochin Bakery",
          "Ek Bar",
          "Valia, India",
          "Wazirabad, Sec-56, Gurgaon,",
          "Sindgi, India",
          "Jhinjhak, India",
          "AAIMS",
          "Sunabeda, India",
          "Kottakkal Arya Vaidya Sala",
          "Ramnagar bihar india",
          "Madurai",
          "Bhatpar Rani, India",
          "IHBAS Hospital",
          "Gumia, India",
          "Panruti Bus Stand",
          "Suratgarh",
          "Gauripur, India",
          "Raja Rajeshwari Nagar, Bengaluru South",
          "Matunga West, Mumbai",
          "Apex Hospital",
          "Cafe Frespresso",
          "Borsad, India",
          "Pavagadh, India",
          "Vasant Vihar, New Delhi",
          "Mangrol, India",
          "Sangareddy",
          "Haidergarh",
          "IIM Ahmedabad",
          "Sitarganj, India",
          "Joda",
          "Jaitu, India",
          "Kaman, India",
          "Rajnagar, India",
          "Santipur, India",
          "Andaman & Nicobar Islands",
          "Sheoganj, India",
          "Saviour Matriculation School",
          "Jaleswar, India",
          "Pleasant Park",
          "Malviya Nagar, New Delhi",
          "Valsad City",
          "Jal Vayu Vihar Bus Stop",
          "Phillaur, India",
          "Shanbhag Hotel",
          "Mithapur Bus Stand",
          "Mirganj, India",
          "Pipra, India",
          "Sector 5",
          "Stewart School",
          "Rania, India",
          "Deoband",
          "Madhira, India",
          "Najafgarh, New Delhi",
          "Sector 43 ISBT",
          "Amar Colony Market",
          "Maulana Azad Medical College",
          "Palakkad",
          "ATS Advantage",
          "Jamtara, India",
          "St. Mary's College",
          "Shyamla Hills",
          "Tambaram Railway Station",
          "Machiwara",
          "Jasidih, India",
          "Dhamtari, India",
          "Ghusiya",
          "Sector-2, Rajendra Nagar",
          "GIDC Jamnagar, India",
          "Rayachoti, India",
          "Borivali national park",
          "Kendrapara",
          "Medical Council Of India",
          "NTR Blood Bank",
          "Rajapalayam, India",
          "Focal Point",
          "Chandrakona, India",
          "Kilapavoor, India",
          "Siliguri",
          "Sri Jaganath Temple",
          "Salempur, India",
          "Maraimalai Nagar, India",
          "Faizabad Airport Area, Faizabad",
          "Kasrawad, India",
          "Kaloor",
          "Kallanai",
          "Budhana, India",
          "Fortis hospital",
          "Satna",
          "Pallipalayam, India",
          "Krishna Park, Khanpur",
          "Sasaram Railway Station",
          "Alipur, India",
          "Thiruvananthapuram",
          "Lingaraj Temple Road Railway Station",
          "shivpuri",
          "rina park",
          "Birpara, India",
          "Aurangabad",
          "joggers park",
          "Ilkal, India",
          "Pandhana",
          "Murgud, India",
          "Goalpara, India",
          "Imphal West II, India",
          "Punnayurkulam, India",
          "Lakhisarai, India",
          "korattur park",
          "Hadgaon, India",
          "office",
          "Ranaghat junction",
          "Bhubaneshwar City",
          "Sadat, India",
          "Parnera, India",
          "Joggers Park : Back Tracks",
          "Nagamangala, India",
          "Mukerian, India",
          "MODEL TOWN",
          "Manawar, India",
          "Chembur Police Station",
          "Batala, India",
          "JNTU",
          "Nashik Airport",
          "Dhar, India",
          "Pragati Nagar Lake",
          "Sector 33, Noida",
          "Ganges River, Patna",
          "Jandaha, India",
          "Sinnar, India",
          "Kamareddy, India",
          "Sector 15  Sonepat Haryana",
          "South Avenue Lane",
          "Sualkuchi, India",
          "Goalpara",
          "Maker, India",
          "Kesinga, India",
          "Annur, India",
          "Gauhati Medical College and Hospital (GMCH)",
          "Tiruchendur, India",
          "Ukhra, India",
          "Vigyan Nagar",
          "Geeta Nagar Phase-3",
          "Vapi",
          "Virudhunagar, India",
          "Andheri East, Mumbai",
          "Shreeji Villa (Residential)",
          "Jalaun, India",
          "Nissing, Karnal, Haryana, India",
          "Rani Sati Temple",
          "Phalodi, India",
          "Dalsingh sarai Railway Station"
         ],
         "lat": [
          28.6138954,
          19.0759899,
          12.9791198,
          22.5414185,
          28.5707841,
          28.42826235,
          28.711241,
          12.9791198,
          18.51051985,
          26.8381,
          23.0216238,
          17.38878595,
          25.6030053,
          22.3511148,
          27.1303344,
          26.8105777,
          18.521428,
          20.2602964,
          28.4670734,
          26.9154576,
          21.1864607,
          19.0308262,
          25.6093239,
          18.9068356,
          21.1498134,
          30.7334421,
          20.5431241,
          26.1805978,
          19.1943294,
          20.4686,
          22.95840725,
          22.7203616,
          12.9174426,
          28.4029786,
          17.3281147,
          14.5203896,
          25.6440845,
          22.5736296,
          23.2584857,
          23.3700354,
          25.3356491,
          13.020817,
          26.2967719,
          10.3528744,
          23.8143419,
          18.96558885,
          10.9094334,
          26.4609135,
          20.0112475,
          22.3850008,
          19.2334875,
          31.6343083,
          30.3255646,
          13.0836939,
          21.6637359,
          21.2379469,
          15.9240905,
          11.0018115,
          22.5912601,
          8.576970549999999,
          29.000652549999998,
          13.083791399999999,
          22.9964948,
          27.1752554,
          13.072309650000001,
          12.3051828,
          25.4381302,
          22.8015194,
          31.81676015,
          30.7047049,
          30.9090157,
          30.616216450000003,
          24.817861100000002,
          26.67132865,
          12.8698101,
          26.4073841,
          12.6840886,
          24.578721,
          17.0050454,
          28.8638424,
          25.1968256,
          29.168807,
          25.6358901,
          26.2037247,
          19.877263,
          22.3051991,
          9.950294750000001,
          26.63807555,
          19.19714465,
          22.55825,
          25.7784105,
          29,
          17.166667,
          30.2090874,
          23.174597,
          23.2232877,
          16.2915189,
          27.87698975,
          23.4559809,
          28.457876,
          16.5087586,
          22.383333,
          16.083333,
          31.29201065,
          29.2144604,
          25.373848,
          22.5584995,
          25.193859,
          12.9201301,
          19.3098134,
          27.4844597,
          17.6339929,
          26.5885585,
          28.9010899,
          25.8819068,
          26.66951195,
          30.4776857,
          15.8572666,
          10.070149950000001,
          21.7718836,
          20.590250150000003,
          23.8312377,
          29.44800635,
          15.4989946,
          30.3409115,
          26.4691,
          23.0238876,
          30.3255646,
          10.91564885,
          10.76208595,
          15.3518378,
          25.28669805,
          24.4766423,
          19.8076083,
          29.0033144,
          26.61695705,
          16.7434538,
          24.7964355,
          29.6803266,
          22.139831049999998,
          29.583333,
          21.5,
          20.82562315,
          27.633333,
          23.6579595,
          21.4,
          23.1608938,
          27.639077049999997,
          14.4493717,
          12.22721295,
          23.7678684,
          13.6316368,
          22.4732415,
          15.1433952,
          30.2112003,
          21.2120677,
          28.5480885,
          28.6517178,
          29.8693496,
          11.6612012,
          20.4324018,
          16.7028412,
          29.9384473,
          20.2736768,
          13.0070817,
          23.0718743,
          15.8309251,
          19.362530800000002,
          29.9880774,
          29.40604895,
          11.6645348,
          30.3843674,
          31.103976,
          20.99327605,
          30.9293211,
          28.0159286,
          23.6871297,
          26.02269675,
          24,
          29.3912753,
          17.84990665,
          18.4346438,
          21.15454115,
          23.5350475,
          23.80961225,
          14.6546235,
          20.7618624,
          22.6895073,
          22.9749723,
          28.1956468,
          23.7952809,
          9.740204,
          17.6688019,
          20.952407,
          10.9043819,
          25.531031149999997,
          26.08314325,
          17.5,
          9.964040149999999,
          14.4661266,
          25.7205805,
          26.1310043,
          26,
          19.2969528,
          25.75,
          18.7935679,
          26.7164127,
          15.3004543,
          13.1369996,
          26.9888269,
          30.3704685,
          26.992129249999998,
          32.301710400000005,
          26.791072749999998,
          9.931308,
          22.7464225,
          28.176958900000002,
          25.83264165,
          27.0979659,
          20.5991006,
          31.60857425,
          22.8176662,
          31.1041526,
          11.2586082,
          28.7931703,
          25.5760446,
          27.4070522,
          20.9105813,
          13.9326093,
          29.822820749999998,
          8.709992,
          26.7577925,
          9.8696551,
          28.8261624,
          22.5096189,
          25.2840995,
          23.666667,
          21.75,
          28.79406825,
          25.6190854,
          26.57550365,
          21.19903535,
          21.0633288,
          27.52016575,
          28.61875255,
          14.416667,
          28.5668602,
          12.7948109,
          13.3400771,
          21.572645950000002,
          28.740612499999997,
          23.916667,
          8.1880471,
          29.993039500000002,
          31.2206734,
          25.5377949,
          21.6293206,
          28.38886085,
          26.718324350000003,
          20.3735482,
          20.038384100000002,
          19.9104952,
          23.77405735,
          25.7955927,
          20.9727404,
          24.5,
          21.87705125,
          26.30414915,
          28.5621911,
          25.48877345,
          25.22081165,
          26.350071999999997,
          25.5724333,
          15.4540505,
          23.4805919,
          25.3015095,
          20.84351185,
          25.1643804,
          24.1608897,
          15.266493,
          25.9359555,
          16.8502534,
          16.9437385,
          30.2093363,
          23.2472446,
          25.133173050000003,
          10.67047305,
          26.626483649999997,
          25.5008211,
          8.3363641,
          26.724789,
          13.1601048,
          11.1017815,
          32.2386317,
          28.2039413,
          27.662826000000003,
          20.2667774,
          25.5127194,
          30.17911535,
          13.3419169,
          23,
          13.1394221,
          24.9001003,
          26.6229928,
          23.7750823,
          27.57324325,
          11.71597955,
          10.9708115,
          19.25,
          24.5,
          26.0992137,
          10.433381749999999,
          23.8491569,
          27.329046,
          26.4207265,
          23.495768,
          30.1086537,
          32.25523705,
          18.35146855,
          29.301826249999998,
          27.17736635,
          26.055317950000003,
          15.5926511,
          26.9782949,
          27.3802776,
          17.5942255,
          27.5046392,
          21.1882332,
          22.910891749999998,
          21.9778642,
          26.42384715,
          27.2098219,
          11.7564329,
          17.38878595,
          19.362530800000002,
          27.912633149999998,
          23.2969449,
          29.367200150000002,
          22.317180999999998,
          29.3203309,
          30.1450543,
          11.369204400000001,
          24.75926685,
          25.62345725,
          11.0088206,
          24.4624649,
          11.468900399999999,
          10.1147548,
          18.7337107,
          19.7984865,
          30.48904715,
          16.700551750000002,
          10.5256264,
          23.7435236,
          21.455228,
          26.4851573,
          10.9301522,
          8.756745200000001,
          25.75,
          25.603508400000003,
          13.318014,
          25.7744929,
          30.4569012,
          24.593938950000002,
          29.3917821,
          25.8563368,
          24.8483482,
          26.0376878,
          28.660964800000002,
          25.560900349999997,
          17.314751700000002,
          27.601029,
          26.242510850000002,
          21.401001,
          23.8339621,
          19.9182328,
          10.1196442,
          18.005585099999998,
          25.5656914,
          17.63612885,
          26.72667,
          17.3050528,
          19.17257215,
          21.13050145,
          30.885100350000002,
          23.244051,
          27.1096669,
          11.38845225,
          28.6419258,
          27.02801615,
          23.2146169,
          21.5892323,
          26.5,
          11.9137874,
          28.0937702,
          18.7548563,
          24.5,
          23.1226343,
          8.6495861,
          13.7518033,
          26.29863795,
          22.3028351,
          19.41311275,
          29.632300700000002,
          25.7535433,
          29.468830099999998,
          25.1364914,
          24.2651306,
          14.1064568,
          27.7336958,
          24.8006088,
          15.5075545,
          12.2131306,
          25.680653900000003,
          19.88769135,
          22.5,
          18.1120819,
          25.6040908,
          22.7785001,
          22.51976955,
          21.6409,
          16.5427689,
          24.1709794,
          9.3895523,
          9.6287383,
          25.9135914,
          16.022056050000003,
          15.6559189,
          26.93823105,
          23.7497214,
          20.8411255,
          20.325703750000002,
          16.2377735,
          27.5753726,
          25.2158257,
          12.8714107,
          21.7884623,
          22.861472,
          32.518429,
          18.43743615,
          27.0607859,
          19.64228445,
          18.82135895,
          26.40490095,
          27.160901099999997,
          8.8879509,
          10.3303299,
          29.831802500000002,
          20.9057,
          27.529001700000002,
          28.9233969,
          23.587548050000002,
          24.64788505,
          28.90947895,
          12.836393,
          20.2492934,
          24.0891652,
          28.56699775,
          31.38524095,
          20.359434,
          18.8553226,
          26.9888269,
          24.965712250000003,
          12.9485676,
          22.6103179,
          26.2697215,
          17.01796845,
          13.0339116,
          21.365998949999998,
          22.5743355,
          21.2379469,
          13.4167141,
          23.0965633,
          12.453306399999999,
          21.1694053,
          8.6052249,
          26.21231825,
          13.4176606,
          27.83295,
          24.2538512,
          21.2654204,
          22.7261414,
          29.538422,
          16.6295591,
          20.7391912,
          22.7176238,
          25.29131615,
          17.6858653,
          22.9746445,
          27.26521245,
          14.7874825,
          27.87698975,
          12.7328844,
          18.914325249999997,
          21.9349,
          27.29636055,
          24.757326,
          28.2059068,
          21.3394524,
          12.7871437,
          24.5,
          20.866667,
          10.7860267,
          28.4452309,
          19.738783849999997,
          18.9918442,
          25.2335457,
          24.85154025,
          28.4883777,
          21.1220023,
          26.9173251,
          25.9259562,
          18.7615156,
          13.57325965,
          13.0409755,
          29.148938049999998,
          30.7839866,
          16.67613485,
          25.3297912,
          25.5,
          21.8187743,
          16.2389242,
          27.0457102,
          13.9873619,
          29.0264162,
          24.5241285,
          9.4669895,
          27.997083250000003,
          10.0869959,
          21.4106564,
          29.2117573,
          23.3889007,
          27.5366189,
          26.166667,
          24.378704,
          27.23650645,
          24.571792,
          17.8759286,
          28.5890885,
          15.475377349999999,
          25.441116,
          16.7689044,
          30.2345631,
          24.6258698,
          25.193859,
          25.166667,
          29.607202100000002,
          23.1194278,
          24.75,
          23.598775949999997,
          24.5977192,
          18.502172,
          31.4397157,
          24.0383082,
          26.79947155,
          14.752265900000001,
          20.7671693,
          23.13195425,
          22.9236049,
          11.2393183,
          11.0425345,
          26.12214725,
          17.3096343,
          22.13327195,
          25.799292299999998,
          28.6423908,
          21.347763399999998,
          25.877932549999997,
          27.985060150000002,
          25.895924450000003,
          16.8579636,
          20.583333,
          10.1254156,
          34.0747444,
          24.4330291,
          30.1293258,
          29.83275365,
          21.291774,
          28.06831165,
          15.4315062,
          28.974744,
          29.28319855,
          18.32002205,
          27.883846050000002,
          23.3002343,
          17.86859205,
          22.1686,
          16.1819393,
          20.725766,
          28.9586835,
          17.2702855,
          30.283140099999997,
          26.280659749999998,
          19.2103809,
          23.7968484,
          26.4398744,
          17.9384182,
          11.4995804,
          19.0525298,
          17.4939602,
          20.827789199999998,
          32.06854705,
          30.9090157,
          22.3511148,
          31.001798450000003,
          27.985060150000002,
          22.43839665,
          31.3837484,
          24.599874999999997,
          18.695989,
          16.896833700000002,
          17.0502198,
          31.0831064,
          26.70472375,
          19.0583358,
          28.6149362,
          25.5379432,
          24.268349450000002,
          12.8916061,
          28.4520179,
          14.6423862,
          20.421975600000003,
          25.12635425,
          24.9356347,
          20.2754926,
          25.603508400000003,
          16.1853166,
          28.079689549999998,
          31.09168085,
          26.7990707,
          14.2266443,
          12.5238888,
          16.495012,
          26.518718,
          11.4126769,
          10.3479069,
          10.5,
          18.57982995,
          21.4106564,
          24.3734077,
          18.72444195,
          22.9561711,
          18.16984395,
          23.5971246,
          25.4058043,
          26.498767100000002,
          24.2159484,
          27.0377554,
          23.3129861,
          56.1434195,
          25.8435395,
          25.7831685,
          18.6772446,
          19.369594,
          21.4630738,
          23.2269594,
          26.3223696,
          15.8361517,
          23.2590965,
          13.1241127,
          24.287867900000002,
          27.03180635,
          27.4856358,
          9.3867448,
          23.0434655,
          27.09254225,
          21.2997306,
          20.892664699999997,
          5.5391508,
          12.9299028,
          19.0639032,
          19.68086385,
          29.7921496,
          9.0653134,
          23.02969935,
          21.3545788,
          20.3735482,
          17.9423742,
          18.21985375,
          25.37524125,
          29.0033144,
          26.4444441,
          10.8604181,
          28.711241,
          20.5182073,
          19.17257215,
          19.54140965,
          20.17822305,
          21.5340622,
          29.29320165,
          12.8636676,
          16.0949502,
          12.9791198,
          24.3132368,
          25.8643593,
          23.364644100000003,
          20.42000485,
          21.1378492,
          23.1156882,
          31.1208324,
          25.422922749999998,
          23.75,
          22.1269461,
          18.083333,
          25.0039308,
          23.19989585,
          23.0101198,
          22.5058547,
          27.07562,
          27.40600445,
          26.620413900000003,
          27.33857665,
          28.5394017,
          26.123576900000003,
          11.690524,
          28.6130344,
          28.49833525,
          12.438561,
          26.8105777,
          26.42386165,
          9.48671505,
          10.9645549,
          8.0879641,
          21.6590495,
          22.182835150000002,
          11.7247986,
          29.1315256,
          28.7012243,
          13.7896547,
          25.2701522,
          28.45352815,
          19.2716301,
          28.6190739,
          26.58687695,
          23.581665,
          30.85844455,
          30.7270873,
          28.4545693,
          18.8488213,
          19.0870758,
          28.639748400000002,
          17.1466952,
          21.1176744,
          28.2408,
          23.8526044,
          13.030084299999999,
          28.9789661,
          24.5306951,
          27.5994338,
          20.7756259,
          28.5830409,
          24.15529035,
          28.6707787,
          28.2061443,
          21.4452249,
          19.067551,
          19.20604435,
          25.1039138,
          31.09593035,
          25.74084805,
          13.3986587,
          20.1508476,
          26.626483649999997,
          17.4930841,
          17.1489922,
          27.0607859,
          17.478142,
          10.6386908,
          28.25,
          22.0229287,
          26.6557003,
          25.629632649999998,
          19.091520950000003,
          16.8579636,
          9.2504893,
          11.4425129,
          20.88154835,
          29.5302074,
          24.6339789,
          27.02787695,
          28.3622661,
          23.77405735,
          25.024095350000003,
          20.75,
          29.7253279,
          14.9622518,
          19.11273685,
          19.7668121,
          22.9421833,
          17.7255921,
          11.1524336,
          30.9176842,
          25.974212,
          13.0260158,
          22.2434036,
          25.921061,
          24.818123999999997,
          22.562511,
          30.40878,
          11.322330950000001,
          24.88692315,
          27.0228991,
          16.3338591,
          19.5982171,
          29.9255593,
          9.2552818,
          21.770886,
          27.9785769,
          26.705524,
          22.215745,
          27.997083250000003,
          20.73218365,
          14.2813485,
          18.246073,
          11.1363042,
          21.623077,
          25.7744929,
          19.0628944,
          17.4981608,
          16.57950675,
          12.9366728,
          26.8751435,
          26.4582063,
          25.5873689,
          25.175951599999998,
          18.44658,
          24.792682,
          23.0069372,
          -34.5905715,
          19.60962325,
          27.0355897,
          29.1352917,
          23.42379485,
          24.93771665,
          10.91571,
          16.8100477,
          29.7019394,
          20.4775218,
          22.5896796,
          37.8882168,
          22.93412525,
          19.1648029,
          25.9019578,
          20.60422595,
          25.2787,
          25.7909744,
          25.8739615,
          14.3134476,
          29.3260672,
          28.6115171,
          35.0862391,
          17.397892849999998,
          19.1172495,
          16.4329976,
          18.2548557,
          15.2722287,
          17.5925245,
          25.2634866,
          23.8315668,
          10.0234758,
          44.3976247,
          10.5990268,
          13.51111965,
          25.6093243,
          8.7012203,
          20.0429079,
          12.9657452,
          27.7986365,
          30.56256885,
          12.09680475,
          24.562463649999998,
          25.3822038,
          21.5934771,
          26.26498795,
          23.46139615,
          19.0759899,
          20.17822305,
          28.49833525,
          18.566049749999998,
          31.32124525,
          23.011445,
          25.63463955,
          26.4563076,
          13.0953024,
          24.7926,
          26.4800126,
          28.4944811,
          19.13352595,
          24.9171512,
          23.7978518,
          24.5419929,
          26.4876472,
          22.177435,
          26.9262218,
          19.1633281,
          36.294102,
          15.4003968,
          19.4409122,
          27.2263944,
          26.3139208,
          21.4666151,
          12.7756012,
          26.1630556,
          19.161697,
          19.172095849999998,
          21.0914409,
          26.24481685,
          15.816422,
          30.7456311,
          28.31040715,
          29.8769971,
          12.7782588,
          24.7208818,
          24.8702548,
          26.80486585,
          25.69692585,
          20.1957484,
          25.721206,
          15.380501500000001,
          17.427355499999997,
          23.5017219,
          16.882983,
          10.81545475,
          24.0782271,
          13.055399,
          23.768877,
          15.9449549,
          30.3708266,
          24.3332794,
          11.155182199999999,
          23.023538549999998,
          24.4165267,
          28.602684,
          21.89274135,
          25.625258,
          30.6115717,
          17.6758253,
          26.8955688,
          9.3587884,
          21.9905525,
          22.5483518,
          23.3805757,
          27.4504805,
          22.8446679,
          27.7925414,
          18.6536941,
          17.4483438,
          19.40453175,
          17.3936076,
          11.9290647,
          25.182510299999997,
          17.4534271,
          25.895924450000003,
          20.8522696,
          29.6477809,
          30.3312684,
          11.66665,
          22.0237482,
          26.22914115,
          27.096888149999998,
          29.5008816,
          19.489917050000003,
          23.3039507,
          25.98774165,
          16.14090075,
          21.4468176,
          21.966667,
          29.42483385,
          24.890090999999998,
          26.4426795,
          29.276760250000002,
          31.8633905,
          28.5730085,
          21.7565038,
          17.4704259,
          20.475194950000002,
          27.5595691,
          19.1340105,
          25.9749011,
          29.5235438,
          27.10639115,
          23.1100643,
          22.6662928,
          12.9369591,
          22.8233693,
          26.5630662,
          18.787747,
          23.1091735,
          26.334307,
          17.7231276,
          24.1745993,
          29.756945,
          18.393033850000002,
          19.29031365,
          25.6656611,
          20.2985474,
          22.8194461,
          9.9118707,
          25.47823805,
          29.209547,
          15.11965065,
          30.12666775,
          23.07026605,
          29.0231819,
          26.1630556,
          21.4592595,
          20.2700878,
          20.50040085,
          21.20565835,
          23.092529,
          25.91331045,
          28.737163250000002,
          23.4930788,
          10.0858443,
          27.8214382,
          23.88793835,
          27.29466415,
          27.7062737,
          27.1636868,
          17.3026835,
          20.08895415,
          30.8400088,
          21.7646404,
          23.8339621,
          28.97240405,
          30.176359,
          16.8370193,
          17.907324850000002,
          27.8900657,
          25.15247135,
          19.06345035,
          26.92119,
          22.6105576,
          28.7317295,
          28.074659,
          22.4951079,
          28.98100145,
          15.5582208,
          17.3395118,
          59.1337558,
          21.5549576,
          37.7894176,
          12.9681798,
          31.1264364,
          24.819964499999998,
          12.9055682,
          14.1650624,
          18.49662515,
          34.0777908,
          19.1860219,
          16.6959348,
          19.033611800000003,
          20.32847045,
          20.5884403,
          22.028124,
          26.847528500000003,
          12.9846634,
          26.5801496,
          54.7663787,
          12.9151772,
          30.21259105,
          10.5632956,
          25.5701975,
          22.285939550000002,
          13.826383,
          19.1287942,
          18.62065305,
          17.4798689,
          28.5946775,
          21.6870684,
          24.076555,
          22.6556344,
          28.5630488,
          21.1549026,
          14.42234715,
          16.5087586,
          25.553921799999998,
          28.097345150000002,
          17.202786,
          19.2103809,
          25.3481372,
          21.2379469,
          24.5078597,
          27.3559134,
          50.0852768,
          26.93823105,
          23.4014159,
          29.9838213,
          27.51547255,
          30.5467923,
          23.56010055,
          13.3298196,
          12.654322,
          13.4261724,
          25.834763,
          26.6533959,
          24.7759417,
          23.0024587,
          25.4502464,
          18.8238151,
          8.6808989,
          28.57637,
          22.211235000000002,
          26.8829,
          28.4312733,
          8.756745200000001,
          27.0366038,
          18.7208189,
          24.819964499999998,
          52.4868879,
          26.3439772,
          20.7364495,
          27.1569623,
          21.075780700000003,
          33.9743218,
          26.5206089,
          21.1430002,
          45.9916183,
          18.7232023,
          19.24358395,
          16.3987907,
          17.5200154,
          21.6783969,
          25.29024,
          19.0711224,
          19.107085,
          15.8110285,
          25.2900509,
          -12.21472735,
          28.7162092,
          18.5021779,
          25.3839476,
          17.4471569,
          15.8799583,
          13.2483502,
          28.93462735,
          24.0534758,
          20.2831912,
          31.94345,
          12.8982276,
          18.3910819,
          18.53234805,
          9.741928349999998,
          28.6700885,
          30.1902559,
          33.0641192,
          39.6023373,
          27.71558705,
          25.3234532,
          20.004831199999998,
          26.08314325,
          22.2471009,
          28.53478975,
          19.1944819,
          11.271286,
          24.4089425,
          24.8745232,
          11.984397,
          30.0633372,
          19.0550693,
          21.0479371,
          30.8041704,
          22.68536625,
          11.44300175,
          9.48870715,
          8.4004698,
          30.7014028,
          12.9567353,
          20.600761249999998,
          26.8528761,
          22.701019350000003,
          28.47649105,
          -34.5869063,
          23.1990144,
          29.3215949,
          19.158514699999998,
          23.283314,
          12.945944,
          16.95650685,
          12.0371949,
          23.7570852,
          14.8722142,
          31.5560434,
          27.7187414,
          15.4540505,
          30.0086722,
          28.016118249999998,
          12.9957704,
          24.667929,
          15.28976205,
          25.56638815,
          25.2265291,
          20.76139095,
          17.1772683,
          11.7615651,
          25.2192061,
          21.165461,
          30.499632300000002,
          26.3349031,
          22.8358542,
          28.3093933,
          17.08001385,
          25.758077999999998,
          23.0259556,
          36.6390268,
          27.7011154,
          28.5292495,
          65.8277862,
          13.08233905,
          28.0364176,
          17.4056634,
          20.1666702,
          30.8751439,
          24.592433,
          7.0993325,
          22.9999248,
          21.22666185,
          10.3039878,
          26.2386392,
          16.4318209,
          22.211235000000002,
          27.182739650000002,
          12.9337658,
          12.7948109,
          30.6942517,
          16.4802988,
          27.0911655,
          14.6105385,
          24.4323128,
          28.6822009,
          25.33762635,
          25.746791350000002,
          23.0916741,
          19.1719717,
          19.2155371,
          28.4618719,
          28.5387523,
          21.241444700000002,
          25.5515115,
          23.9960338,
          27.021972,
          19.045794,
          19.2014309,
          27.055710050000002,
          29.1043595,
          35.7184306,
          19.17257215,
          26.836164500000002,
          11.41018075,
          25.5977248,
          25.8902299,
          17.3721615,
          17.005308,
          23.650711649999998,
          24.68845365,
          18.8640648,
          17.5915639,
          13.258575,
          52.1411048,
          17.6637127,
          13.10825935,
          27.7732536,
          25.562071500000002,
          23.3040626,
          28.61784195,
          10.991008,
          20.238369,
          30.6037957,
          22.6895073,
          18.70397645,
          27.3927313,
          25.1557722,
          21.2797773,
          30.4567545,
          13.1327533,
          25.66420085,
          16.2347032,
          20.7326962,
          26.78210815,
          30.8042411,
          25.6603858,
          30.336099599999997,
          10.04451205,
          20.0151691,
          51.6119398,
          17.3501617,
          25.259221099999998,
          20.893297,
          16.7333666,
          31.3618053,
          19.2480564,
          27.1716157,
          13.0884967,
          24.3897272,
          10.78789595,
          29.3591746,
          10.9138283,
          9.2379249,
          11.5279524,
          55.7539828,
          22.4700318,
          17.4355207,
          19.1269892,
          23.2946448,
          23.78644525,
          25.1654065,
          25.083159950000002,
          30.7635373,
          12.9737726,
          19.2470586,
          19.1205119,
          23.25,
          19.0412732,
          12.7948109,
          15.530515,
          11.7869062,
          19.743964249999998,
          23.80961225,
          25.72482275,
          24.7119436,
          16.483103,
          26.57550365,
          26.70214275,
          26.01801105,
          26.36484145,
          17.4510837,
          29.65778,
          24.3159793,
          23.37074105,
          28.6422523,
          26.5876547,
          9.3895523,
          19.956005,
          31.0761098,
          22.6153934,
          21.7321358,
          26.67277155,
          11.5882123,
          22.2973142,
          19.3551634,
          24.00952125,
          22.1041221,
          17.4116427,
          30.6847209,
          13.0221416,
          15.5553688,
          27.2590872,
          28.6091456,
          13.0193703,
          28.64980715,
          23.0839931,
          24.47632,
          28.49049635,
          25.3627965,
          20.9458183,
          27.4029944,
          24.967852049999998,
          12.9138914,
          10.0003823,
          20.1617378,
          22.99723125,
          16.326251300000003,
          21.1610268,
          25.315651600000002,
          25.0057449,
          28.6273375,
          28.33552945,
          -20.4332099,
          27.2319975,
          13.418613950000001,
          31.60857425,
          22.88585225,
          19.0626319,
          24.6778472,
          24.1229471,
          23.107121,
          18.9722687,
          29.2117573,
          23.0238876,
          26.49737005,
          22.287201099999997,
          13.2455918,
          26.51668105,
          25.45528745,
          31.6094514,
          51.7520849,
          29.9657112,
          18.5748202,
          10.2335868,
          60.0104688,
          15.5888252,
          30.6718662,
          18.084625600000003,
          28.41755805,
          8.4166055,
          24.0422209,
          8.338526,
          13.0025699,
          11.6354866,
          11.26590385,
          30.147358699999998,
          28.5640158,
          10.55905,
          20.1160666,
          26.2768118,
          15.46404565,
          20.936150050000002,
          12.6226672,
          26.6988847,
          28.6490523,
          19.4782361,
          27.1096669,
          28.7733808,
          26.973031,
          25.3037455,
          49.1984073,
          8.213429,
          23.9816034,
          13.0836939,
          30.7345609,
          26.5570563,
          15.3484144,
          30.8989909,
          25.2483728,
          31.7094519,
          23.8902958,
          24.528111,
          25.0159366,
          22.6611962,
          13.31217355,
          20.1270026,
          19.13630435,
          23.0400861,
          25.4916868,
          13.0662337,
          18.1125305,
          17.09813605,
          19.0186865,
          23.6905539,
          23.8291897,
          18.29761345,
          15.87160025,
          26.673188699999997,
          26.2316753,
          23.8698858,
          19.1007306,
          17.5441251,
          19.0465213,
          10.07574125,
          16.4934233,
          15.91533865,
          26.02269675,
          15.266493,
          17.1788637,
          26.273727,
          23.80199435,
          24.1974432,
          33.5455806,
          22.3254054,
          23.2143128,
          19.00193315,
          19.7676704,
          24.180309649999998,
          29.43216305,
          25.9245937,
          28.5067242,
          15.7603619,
          -37.7846529,
          14.16738855,
          30.80482365,
          52.77362975,
          17.9806094,
          17.7158399,
          18.51246285,
          18.9512183,
          28.60564725,
          10.6860794,
          28.5667914,
          27.1577152,
          19.0549435,
          28.56941825,
          12.881681149999999,
          20.8466301,
          25.2820998,
          28.2325472,
          11.1671878,
          20.9357744,
          13.1151921,
          24.6354905,
          23.4222325,
          28.61753755,
          51.5066192,
          23.87167135,
          17.04707845,
          10.59041075,
          26.2269466,
          25.4992028,
          -1.2832618,
          20.7587262,
          9.43599075,
          24.1302564,
          30.3726222,
          23.6580081,
          18.623185399999997,
          26.9750556,
          30.7081713,
          18.5618834,
          13.0662012,
          43.2297673,
          27.5599876,
          15.639879,
          26.1238376,
          21.6986198,
          25.665976,
          16.732733,
          23.800656850000003,
          19.4129711,
          23.0745681,
          22.6317973,
          18.521428,
          12.0302663,
          22.5951633,
          24.8301907,
          27.64392675,
          29.583333,
          28.350751,
          24.943320149999998,
          19.0614859,
          19.043395949999997,
          26.5054763,
          26.8864371,
          28.4104903,
          11.4485576,
          19.79474965,
          20.1454205,
          19.052048749999997,
          23.6310786,
          28.5681409,
          8.1561337,
          12.34789305,
          22.5414185,
          23.87167135,
          29.8769971,
          17.426299,
          31.7565085,
          24.7751968,
          23.0216238,
          19.0423145,
          18.7649439,
          28.3492531,
          26.34738315,
          8.8052602,
          10.516332850000001,
          17.271977,
          15.816422,
          43.3804335,
          22.91584775,
          19.0261579,
          25.3682474,
          17.5054829,
          51.46565855,
          9.27845325,
          29.622808,
          32.0893012,
          11.5390037,
          18.643269,
          19.077447399999997,
          18.9093745,
          16.501,
          26.2967719,
          20.286946049999997,
          9.187057,
          38.9142677,
          25.36176885,
          20.913456850000003,
          28.678319,
          20.7227763,
          21.31486295,
          20.5472816,
          28.59425315,
          14.6165795,
          22.66459105,
          13.0431189,
          27.6481353,
          26.36903265,
          31.8442334,
          29.84591115,
          23.1738124,
          23.1732678,
          16.5944698,
          19.114541,
          26.22359955,
          18.914651,
          22.5565847,
          17.3949126,
          12.9545994,
          10.0368297,
          17.6056315,
          15.2759827,
          22.6215076,
          11.0515646,
          28.6894471,
          22.06030655,
          17.3833665,
          24.6962612,
          24.20162495,
          19.092829350000002,
          17.3303179,
          19.4553059,
          26.67132865,
          18.9766219,
          24.85450275,
          24.624587,
          8.3741294,
          28.0589676,
          28.6083003,
          22.2091671,
          23.7329085,
          25.2958456,
          19.5162519,
          55.7429028,
          10.497812750000001,
          15.4263647,
          28.6138954,
          28.6432658,
          26.8357988,
          11.4995804,
          28.56069055,
          16.9971763,
          28.6579998,
          30.7014028,
          23.0623814,
          23.8932751,
          53.4083548,
          28.5579591,
          28.6421518,
          25.562071500000002,
          31.1596218,
          17.9806094,
          20.7137783,
          24.70038485,
          23.3495267,
          49.61783615,
          29.6467786,
          18.915091,
          19.977351900000002,
          18.9800057,
          21.4616995,
          31.2258578,
          19.1519551,
          27.1468901,
          12.1958304,
          22.1662946,
          19.610654150000002,
          17.4981608,
          23.083751900000003,
          26.273306650000002,
          22.139831049999998,
          15.2785018,
          17.8773893,
          23.7127275,
          18.4834351,
          26.1486581,
          19.20068075,
          13.3986587,
          25.211775,
          47.7798045,
          24.0297442,
          19.8658474,
          19.2214691,
          27.0534366,
          21.8796162,
          26.96388985,
          13.0250336,
          17.252415300000003,
          -17.8042825,
          28.611755,
          14.28175585,
          13.0410164,
          23.0829395,
          26.4602866,
          35.7184306,
          19.5,
          12.9214401,
          11.1190592,
          21.254926,
          20.34509375,
          26.074708899999997,
          9.6113179,
          26.6721388,
          24.3829511,
          21.823277599999997,
          23.598775949999997,
          23.0567133,
          21.1257301,
          20.0848128,
          17.3605613,
          29.5837,
          27.2226579,
          20.3846007,
          31.63488565,
          12.9822166,
          12.5188835,
          21.3280139,
          38.24872205,
          10.2767592,
          26.599224200000002,
          22.0237482,
          25.126227999999998,
          20.68614105,
          16.53137155,
          48.15462335,
          28.53364155,
          11.450099699999999,
          10.1786983,
          20.952407,
          28.6734557,
          23.1291709,
          22.86004195,
          28.7142498,
          17.5172789,
          29.53141165,
          28.4812716,
          17.1685198,
          18.5349081,
          28.5783966,
          23.7302149,
          12.421713050000001,
          22.66459105,
          16.7789886,
          26.0010455,
          21.2092885,
          20.2733604,
          27.2872533,
          12.9394208,
          23.7410137,
          20.795759,
          10.9943512,
          30.3736727,
          51.619072349999996,
          23.8525581,
          18.694444,
          21.9721823,
          17.4771095,
          28.31758695,
          17.8970438,
          18.2900298,
          13.1084975,
          12.32795,
          11.04970175,
          22.2715391,
          24.7978306,
          13.04050125,
          13.72409355,
          25.54595535,
          26.4912664,
          19.8459528,
          -23.5125259,
          25.19912635,
          25.961768149999997,
          17.4122956,
          21.22876205,
          27.7988498,
          25.299243,
          11.9269937,
          14.4261647,
          17.541791,
          23.6589217,
          12.4207366,
          27.6969652,
          18.89891745,
          28.416503499999997,
          13.6134495,
          13.8718003,
          30.7908462,
          23.01003,
          25.32517515,
          29.154147700000003,
          16.8502534,
          11.4875132,
          10.3528744,
          28.41845825,
          24.7545772,
          16.9003795,
          25.1605512,
          26.1277011,
          19.1070215,
          11.2287716,
          8.2515242,
          15.561649549999998,
          9.560136400000001,
          25.5819034,
          32.1419699,
          28.55409925,
          25.8818881,
          25.5238346,
          19.0116962,
          21.7466811,
          16.449897,
          13.5084827,
          10.411803299999999,
          12.1972711,
          18.9456701,
          13.3419169,
          14.010067750000001,
          15.11965065,
          28.5773794,
          11.12078595,
          27.1784019,
          28.7199257,
          28.6667177,
          28.97140915,
          28.694786450000002,
          22.8546251,
          17.893641000000002,
          20.631117500000002,
          26.0804138,
          33.6290111,
          20.294250599999998,
          19.0901312,
          28.9963296,
          32.8859288,
          13.0042699,
          15.8625159,
          28.6326008,
          34.309642,
          27.1450636,
          20.2519828,
          13.11030995,
          21.1134365,
          21.0560298,
          17.77096095,
          12.32795,
          23.1927742,
          34.0606593,
          27.1275258,
          25.2662887,
          18.6689858,
          21.19721165,
          21.254926,
          17.9423742,
          20.866667,
          29.8679263,
          28.5812691,
          18.5618834,
          16.495012,
          30.28790565,
          19.4736501,
          20.50756595,
          18.46136165,
          51.3813663,
          26.4294603,
          30.9763026,
          17.3459184,
          12.9204024,
          16.8717599,
          29.40604895,
          24.8515132,
          51.2463604,
          25.4157375,
          29.61447865,
          18.4346438,
          19.1715446,
          27.6768536,
          26.883972,
          28.557808,
          45.52565315,
          30.4716378,
          25.6028948,
          10.8770582,
          11.076035950000001,
          26.9154576,
          28.621757,
          21.2797773,
          8.079252,
          8.427056,
          20.0626857,
          17.4408124,
          22.6001502,
          28.6626081,
          29.79641045,
          28.6359457,
          17.046464,
          19.837788449999998,
          30.92589585,
          28.30147985,
          31.0634777,
          24.5570698,
          29.14538425,
          28.50863715,
          29.23631315,
          13.172222099999999,
          28.5458279,
          10.8288939,
          10.7855098,
          14.2730326,
          18.5452362,
          51.1273132,
          28.5759226,
          28.5645794,
          25.4601988,
          25.4763264,
          26.2708952,
          28.4449004,
          24.1709794,
          13.1277669,
          22.0535449,
          12.3816499,
          29.8520559,
          23.086171,
          25.3478156,
          24.99015355,
          26.5810243,
          16.4210218,
          17.419494,
          20.7184142,
          26.8618432,
          28.4758035,
          26.133333,
          25.07634815,
          18.5045098,
          18.5124268,
          28.603871650000002,
          51.522028649999996,
          27.2156849,
          19.1431889,
          26.8092104,
          7.0961616,
          25.2212679,
          10.09177935,
          28.5723309,
          28.6927155,
          28.6257235,
          22.5333783,
          12.1258613,
          19.2180493,
          26.2037247,
          26.01894625,
          17.6688019,
          17.8482481,
          27.76878445,
          22.5675682,
          17.39847415,
          28.701012,
          18.182991899999998,
          30.2051335,
          18.9424871,
          -29.9902564,
          19.0751571,
          20.09835485,
          24.11555865,
          19.0033298,
          25.49442015,
          21.050991,
          13.0871248,
          28.5613002,
          22.317180999999998,
          14.010067750000001,
          29.703094999999998,
          17.4375012,
          12.8765673,
          24.04673835,
          13.0238561,
          16.4049995,
          20.64595705,
          28.5214319,
          23.240373,
          29.9050229,
          19.1462636,
          12.610081749999999,
          26.914757,
          28.56069055,
          12.9658366,
          23.022235,
          17.314751700000002,
          4.747507,
          28.6600637,
          19.3121789,
          22.0514367,
          12.8875989,
          37.4619149,
          21.5711115,
          28.433762,
          16.92,
          26.5628589,
          34.1555628,
          18.734236850000002,
          13.0395483,
          27.29093925,
          9.9261153,
          26.33379815,
          14.0625398,
          23.7978518,
          11.7731017,
          29.3203309,
          26.0865358,
          17.4822956,
          19.0317259,
          28.630311,
          26.2793426,
          22.4094019,
          22.4622075,
          28.56069055,
          21.575642,
          17.86859205,
          26.6889726,
          23.0346324,
          28.959150049999998,
          22.03240265,
          30.4641278,
          27.6526038,
          26.3859638,
          23.259345949999997,
          12.61123865,
          25.1388932,
          12.9428412,
          21.76551815,
          45.3927463,
          28.5339201,
          20.4324018,
          28.4466285,
          31.018294,
          15.27540755,
          22.4118882,
          26.365964,
          26.16134115,
          44.404906,
          29.3977342,
          29.569683599999998,
          29.7253279,
          16.9229121,
          28.612304,
          30.716323350000003,
          28.5615391,
          28.635584950000002,
          10.78789845,
          49.4418462,
          23.9232867,
          41.70747445,
          23.239184,
          12.9257923,
          30.9571008,
          24.5142513,
          20.7083903,
          14.1520919,
          22.6700186,
          22.4149721,
          14.062924800000001,
          19.215045250000003,
          20.50040085,
          13.2019269,
          17.4238038,
          9.403158399999999,
          30.88221215,
          22.7294813,
          8.9155991,
          26.7164127,
          18.81050785,
          26.270789450000002,
          12.7959601,
          26.75227965,
          22.1171,
          9.9950189,
          10.8329161,
          29.318116,
          19.1624295,
          24.5,
          11.3652431,
          28.5136834,
          24.9001003,
          28.7959955,
          8.576970549999999,
          20.2351133,
          25.37524125,
          46.715605,
          26.711324,
          19.877263,
          19.2162523,
          15.9598085,
          21.7285864,
          16.427785,
          26.1783623,
          24.757326,
          10.670708099999999,
          25.167702900000002,
          13.1115392,
          19.47861705,
          19.188837399999997,
          23.1747694,
          20.2602964,
          26.8536,
          20.5591276,
          42.3475548,
          12.8196077,
          31.9519585,
          28.7027136,
          22.2344084,
          19.0639495,
          31.8193025,
          17.4946328,
          19.96670595,
          22.5,
          17.3995282,
          28.58839945,
          25.63934715,
          25.73677685,
          19.808175300000002,
          18.316551,
          28.99197,
          -36.3201356,
          26.1699793,
          26.1783623,
          25.965105700000002,
          20.2014536,
          11.2329709,
          26.1595109,
          8.5024607,
          23.6474107,
          12.96613345,
          18.9138325,
          20.3735482,
          9.5208936,
          19.1158835,
          -17.8042825,
          26.105546,
          29.691133,
          21.2460765,
          27.1294121,
          25.6650421
         ],
         "legendgroup": "",
         "lon": [
          77.2090057,
          72.8773928,
          77.5912997,
          88.35769124388872,
          77.3271074,
          77.00270014657752,
          77.4445372,
          77.5912997,
          74.0609353177903,
          80.9346001,
          72.5797068,
          78.46106473453146,
          85.1623397,
          78.6677428,
          80.859666,
          73.7684549,
          73.8544541,
          85.8394521,
          77.5137649,
          75.8189817,
          72.8081281,
          73.0198537,
          85.1235252,
          75.6741579,
          79.0820556,
          76.7797143,
          84.6897321,
          91.753943,
          72.9701779,
          85.8792,
          72.71852429515411,
          75.8681996,
          80.21649018230858,
          77.3103837,
          78.6045399,
          75.7223521,
          85.906508,
          88.3251045,
          77.401989,
          85.3250132,
          83.0076292,
          80.2239536,
          73.0351433,
          76.5120396,
          77.5340719,
          73.10288130582491,
          78.3665347,
          80.3217588,
          73.7902364,
          71.7452633,
          73.1182464,
          74.8736788,
          78.0436813,
          80.270186,
          81.8406351,
          81.6336833,
          80.1863809,
          76.9628425,
          88.3909641,
          77.05012463730725,
          77.76822875372174,
          80.27080124615256,
          87.6855882,
          78.0098161,
          80.25133809992252,
          76.6553609,
          81.8338005,
          86.2029579,
          77.34932051968858,
          76.7178146,
          75.851601,
          77.04197804321875,
          92.75622075294373,
          83.36458284327038,
          74.8430082,
          93.2551303,
          79.9836371,
          73.6862571,
          81.7804732,
          78.80577833091104,
          76.00089330885552,
          75.7461103,
          85.0474045,
          78.1573628,
          75.3390241,
          70.8028335,
          76.33123356629031,
          82.05902434378625,
          73.18986842216808,
          75.76073875510204,
          84.7514507,
          76,
          77.083333,
          76.3398720856221,
          75.7851423,
          72.6492267,
          80.4541588,
          78.13729027600994,
          85.2557301,
          79.40557093743058,
          80.6185102,
          82.133333,
          77.166667,
          75.56805772253911,
          79.527918,
          74.6680641,
          72.9625629,
          85.5208617,
          79.9391056357725,
          84.7971562,
          94.9019447,
          78.4843146,
          74.861097,
          76.5801935,
          76.4192052,
          84.95741062485514,
          76.5937658,
          74.5069343,
          76.30710819271715,
          72.1416449,
          74.5714979275197,
          91.2823821,
          77.74068502568672,
          73.8282141,
          77.9543429,
          74.639,
          72.3851475,
          78.0436813,
          79.80694879844232,
          78.71277098691044,
          75.1379848,
          87.13225355111148,
          86.60673245386945,
          85.8252538,
          77.0167323,
          92.76500717365028,
          77.9923191,
          85.0079563,
          76.9896254,
          78.80964495467987,
          75.083333,
          86.75,
          78.61314549522919,
          77.583333,
          86.0839161,
          83.883333,
          79.9497702,
          76.6144524902045,
          79.9873763,
          79.07015554906167,
          85.9873831,
          79.4231711,
          70.0552102,
          76.9193876,
          77.28638972360895,
          81.3732849,
          77.2510976,
          77.2219388,
          77.8902124,
          78.1602498,
          73.1411715553577,
          74.2405329,
          78.1452985,
          73.0045787,
          76.0992703,
          70.131715,
          78.0425373,
          73.07847467842203,
          77.5081299470512,
          78.48087839917878,
          92.7390448,
          76.770421,
          76.65663239262932,
          75.83998255383139,
          75.5004841,
          73.3171367,
          86.9746587,
          83.02887343114848,
          85.25,
          76.9771675,
          75.27632027348457,
          79.1322648,
          77.64429617998744,
          87.3380425,
          78.75911360578634,
          77.55625984224562,
          77.19217162524623,
          72.8715199,
          88.4345915,
          76.6165179,
          86.4309638,
          76.33246715541219,
          80.8940083,
          72.9323831,
          76.9988314,
          78.65268901605349,
          86.03257096612822,
          80.333333,
          78.15887063830004,
          75.9206361,
          85.25555961402884,
          84.39125660595198,
          87.5,
          72.821187,
          94.166667,
          80.815939,
          88.4309916,
          74.0855134,
          78.1339606,
          75.8558916,
          75.504017418548,
          80.65786469863859,
          75.65864246622084,
          84.56010678772793,
          76.2674136,
          85.91689291046393,
          77.37311203790532,
          86.61489283342814,
          93.6237291,
          74.2021078,
          75.84644246890946,
          70.8345928,
          77.1709729,
          75.7788735,
          76.1391283,
          91.8825282,
          77.8222989,
          73.9373543,
          75.574978,
          76.37830986647243,
          77.7366822,
          94.2079645,
          78.08651236944388,
          77.54165604660876,
          82.5507586,
          81.9376326,
          72.5,
          73,
          79.1859304458554,
          81.78622290963523,
          80.61376177782856,
          81.3979545573657,
          86.5053731,
          95.5306347312879,
          78.55087405404802,
          78.75,
          77.2078058,
          79.0006410968549,
          77.1006208,
          82.43670691696435,
          77.83542556519009,
          78,
          77.4290492,
          76.82922282678291,
          75.7696463,
          82.0227127120877,
          72.9945103,
          77.97479772598118,
          79.09025375025163,
          72.9084376,
          76.83418393404364,
          83.1678321,
          71.68373465668734,
          82.48834097504385,
          80.69155548263583,
          74.5,
          84.00905063735019,
          92.71605974430346,
          77.2264771,
          74.69961283584024,
          86.51720367235285,
          86.22914688962271,
          83.6096053,
          75.0066516,
          74.91778971237613,
          83.172958,
          75.52592658756026,
          82.5043173,
          86.25113503301655,
          76.3872297,
          79.42432768008604,
          74.5948885,
          82.2350607,
          75.8184224340909,
          69.668339,
          86.52504036339789,
          77.00991258704545,
          88.73407701468993,
          80.499762,
          77.32450143883207,
          82.79326865024002,
          79.15555061803596,
          77.345192,
          77.1896839,
          76.837441,
          75.02792628691331,
          85.8435592,
          86.09057109140021,
          75.04710156312628,
          74.7473232,
          76.166667,
          79.9070839,
          84.0182110684575,
          92.7976082,
          91.7025091,
          78.11173866751716,
          79.52096942061098,
          77.28172616917558,
          74.75,
          80.25,
          74.3127044,
          77.18551347905883,
          86.901887,
          88.6122673,
          84.37406407415165,
          86.6746476,
          78.2916193,
          76.34810908043565,
          76.7551212230513,
          76.33847076788838,
          78.38991197951182,
          82.99313867937335,
          73.8119741,
          83.06540703462301,
          79.5987998,
          75.7999699,
          80.82946583420815,
          82.48484762499999,
          88.01063387899092,
          76.5688282326971,
          83.76273169028727,
          79.04813700847944,
          79.7634644,
          78.46106473453146,
          73.07847467842203,
          79.74656294869826,
          72.3306381,
          74.29836365065901,
          86.75251827179432,
          73.9026728,
          74.1956597,
          77.67662686841793,
          81.65500021078341,
          84.59683868653386,
          75.9114506,
          74.8501137,
          76.91941494066896,
          76.4778152,
          73.6728593,
          72.761452,
          77.5819610357789,
          77.61648447017446,
          76.2132542,
          92.7382905,
          80.1962729,
          89.5246926,
          78.08485454572889,
          78.07975266019861,
          80,
          83.50745404887138,
          75.7738743,
          85.86626813370123,
          78.0782906,
          84.84789028985003,
          79.455569,
          93.46496675590588,
          92.33221292310328,
          83.49793418499047,
          76.83467647083376,
          87.64765353997149,
          74.16551699168082,
          88.45413638680145,
          82.29616931685918,
          79.7079572,
          80.392456,
          75.8686246900443,
          76.3427385,
          78.89611304969961,
          80.0634887,
          74.29827807601782,
          93.147765,
          78.5197234,
          77.29141237169956,
          74.47891180551228,
          74.66014081248886,
          87.8689422,
          81.9183291218813,
          77.97079099881387,
          77.2217499,
          70.7785056232077,
          92.8687612,
          85.66878413736906,
          78.75,
          79.50789297942772,
          94.5921326,
          73.4016729,
          77.5,
          83.1981886,
          76.7917909,
          79.7002288,
          87.95314810923409,
          87.86746237434912,
          84.95825966826101,
          79.4154141676432,
          93.1731676,
          75.52107146631747,
          85.44365464855682,
          75.38718193725012,
          77.82227505709898,
          81.47732127661058,
          93.9369998,
          80.06080046754784,
          79.6322142471716,
          88.12464576019889,
          77.48399628090309,
          83.5,
          83.4052196224888,
          73.41560878556902,
          73.6245157,
          82.62951462416818,
          69.611,
          81.527344,
          72.4366375,
          78.85907071521498,
          76.64553257124857,
          93.7283707,
          79.66448439991211,
          77.26977367379274,
          81.38609761204991,
          91.87663495294915,
          85.08040066385269,
          78.11691396684715,
          80.6464219,
          77.6938045,
          80.9164001,
          74.8461484,
          87.7339077,
          88.3706071,
          76.23086565661742,
          77.11052147515852,
          74.17667537582712,
          74.70103607472412,
          78.91506632525903,
          94.03209112120626,
          94.16266801115614,
          76.5955013,
          78.0673979084697,
          76.84851574311033,
          70.3781,
          82.45503891876294,
          78.48831693262684,
          75.67567912676502,
          87.84290308567452,
          79.94991319784158,
          79.7053304,
          75.19060805839375,
          88.2591686,
          75.7377146380313,
          75.30552273989395,
          76.3365538221808,
          73.02475367295413,
          75.8558916,
          88.1277781318015,
          78.8705336,
          73.4617061,
          82.99442536730413,
          81.710121083101,
          80.22986342908263,
          74.28400358178766,
          71.2000239,
          81.6336833,
          80.1270858,
          77.5144525,
          78.55290857022919,
          83.61156992042197,
          77.0029782,
          91.89620684881584,
          80.3166702,
          77.02552253668419,
          87.30064714192224,
          78.8788177272372,
          88.343487,
          78.51514669104847,
          74.8563203,
          78.6185535,
          88.4889529,
          73.8244924740361,
          82.9884187,
          75.8268976,
          77.36912554739122,
          75.3996731,
          78.13729027600994,
          77.8309478,
          76.46720713767073,
          86.7324,
          78.09477925359421,
          93.85847858025147,
          77.87571443846723,
          71.3082758,
          80.219987,
          81,
          70.75,
          79.1381497,
          76.9379442,
          73.66954680120193,
          75.90978399809711,
          73.2354341,
          94.00947957721581,
          78.73524926436818,
          73.1135988,
          79.02484202145612,
          86.82042961035677,
          79.4787848,
          78.47914644847344,
          80.25115095096996,
          77.63763422399805,
          75.16057422541162,
          81.17086824015968,
          86.45677664617543,
          75.833333,
          75.6064577,
          80.0472879,
          76.5752695,
          74.5544089,
          79.4859989,
          78.2357454,
          77.77597856822051,
          76.0757621771358,
          77.0600915,
          74.93954293541879,
          78.9617306,
          88.37243900644481,
          74.1876343,
          77.5,
          93.69700149533944,
          94.87909205082008,
          93.7646197,
          76.9504246,
          77.3015085,
          78.47855756523148,
          92.1955478,
          77.1380381,
          77.5843789,
          74.6866837,
          85.5208617,
          72.25,
          78.28537443588678,
          70.0363797,
          79.75,
          85.53691564663127,
          83.16261862861202,
          73.857062,
          75.4989077,
          84.0723287,
          82.99172907038712,
          78.54855180269425,
          72.9693451,
          87.20739720367507,
          78.784917,
          76.9600768,
          76.078402,
          75.66375373932236,
          74.2168653,
          83.97965279931319,
          82.06327942881043,
          77.3684892,
          83.65768298821486,
          84.11995931460379,
          80.75384538357649,
          82.43771622957613,
          79.21749353315548,
          76.416667,
          76.27159587436634,
          74.8204443,
          85.5216823,
          77.24548334364559,
          74.63672922932832,
          79.6638122,
          79.04607312079293,
          76.5327743,
          79.3963951,
          78.54375146068953,
          83.91607719937166,
          78.63489003747873,
          81.364771,
          77.8228199507381,
          71.6685,
          81.1351299,
          78.3176067,
          77.0950598,
          77.74529700637382,
          74.52299719797392,
          84.74392584246598,
          72.8640837,
          72.3818955,
          80.01799967566015,
          80.817981,
          77.64806737595279,
          73.0735111,
          78.4008412,
          86.37983525915192,
          76.24336792335127,
          75.851601,
          78.6677428,
          77.09454593693275,
          80.75384538357649,
          87.8200963562451,
          76.3754353,
          93.77953003423195,
          74.1369009,
          81.91817932322371,
          74.2661719,
          75.3366711,
          92.04215071409463,
          72.8302669,
          77.0227628,
          91.2999102,
          72.20438696977995,
          80.084974,
          77.6989831,
          76.1024686,
          76.86341721605328,
          85.81510620944194,
          82.64770129811649,
          72.887325,
          83.50745404887138,
          75.6967919,
          75.5417679584636,
          76.5272673916138,
          82.2052321,
          76.4005122,
          76.8961961,
          79.22080866041219,
          90.5331630235168,
          76.7030504,
          76.21175070258738,
          78.833333,
          75.0015318226267,
          74.93954293541879,
          92.1655262,
          76.04170910863766,
          73.3370129,
          76.11796321159572,
          72.9588273,
          85.89155425304008,
          86.4655601426886,
          83.0345962,
          88.263176,
          74.6346545,
          40.4136246,
          80.91800397088501,
          76.2848274,
          73.8981129,
          78.7736687,
          86.74436877621918,
          77.49061225923586,
          89.4592445,
          80.3636644,
          74.289402,
          80.2046276,
          86.61050950020086,
          83.90103804538502,
          79.08266687135878,
          76.5762652,
          88.8317765,
          83.56696261338257,
          86.73683730021526,
          76.20502740958177,
          115.8559891,
          80.1118231,
          79.4873121,
          72.82537342511341,
          77.8760645,
          77.83047762243062,
          72.46557868354866,
          72.0368814,
          72.9084376,
          73.91925349215948,
          74.45340540036307,
          77.82811932629714,
          77.0167323,
          91.6172816,
          79.23581597341824,
          77.4445372,
          86.11624551329615,
          77.29141237169956,
          77.17376601317515,
          85.70930157008985,
          72.975339,
          77.74500681677128,
          80.0721616,
          80.1658779,
          77.5912997,
          76.52223626123003,
          73.7507988,
          85.32946666666666,
          72.86376290300566,
          79.0784231,
          77.06623939176504,
          75.7787046,
          82.48843708088575,
          79.583333,
          83.3959883,
          77.333333,
          84.186464545582,
          86.3209472997868,
          74.5771286,
          73.4715851,
          79.58624622873995,
          78.03346974335031,
          90.96144695986166,
          80.0975264641719,
          77.1438959,
          84.76754017014437,
          78.98242156692304,
          77.2057403,
          77.02030067252973,
          76.3836699,
          73.7684549,
          91.45122754621168,
          78.67227177440276,
          79.37173036154906,
          77.5467414,
          74.6964526,
          84.62289139548452,
          75.58895924928652,
          77.0110886,
          76.9303569,
          79.64707713075806,
          83.0299258,
          77.08299169669408,
          73.23586552517415,
          77.0566861,
          90.29293105124796,
          72.140412,
          76.99796611489867,
          76.8872227,
          77.0826249,
          78.6258901,
          82.0235715,
          78.31002170159351,
          73.2697524,
          73.3857702,
          75.6448,
          86.8788101,
          79.6087774568195,
          77.6756994,
          83.9998299,
          80.03260243745382,
          76.61195368171651,
          77.2393165,
          83.82522584408349,
          75.0361419,
          74.69190729963461,
          79.66647451458289,
          72.87880051277673,
          72.84144073459754,
          86.64637213838236,
          77.15193561722651,
          85.73265885703873,
          78.0533058,
          76.5690168,
          88.73407701468993,
          78.4054408,
          82.23018860075135,
          74.17667537582712,
          78.3940775112036,
          79.2441941,
          76.166667,
          82.565318,
          92.7711164,
          89.93159383615063,
          78.39660898429065,
          79.21749353315548,
          76.5402433,
          77.6939806,
          70.41345675022,
          79.408772,
          85.56108313057084,
          88.64606085772425,
          75.6042342,
          71.68373465668734,
          82.9115973967415,
          85.5,
          77.67249791858319,
          74.7061458,
          72.83134622001683,
          74.4754386,
          72.1639632,
          75.30019362933085,
          76.9443701,
          75.9406476,
          75.1545672,
          77.0222704,
          70.6863972,
          82.0023601,
          85.5185562336921,
          73.2230996,
          79.31855,
          76.77480204343982,
          87.02964487850093,
          76.0100376,
          75.2870794,
          77.91409929687705,
          75.549854,
          76.7807776,
          72.1190125,
          77.34360169905864,
          88.4310475,
          86.23254623043805,
          76.0757621771358,
          81.14335738365043,
          74.4510861,
          80.5246567,
          75.95411010175508,
          87.5082534,
          85.86626813370123,
          72.8825604,
          78.3567628,
          81.99732471149382,
          78.7187469,
          81.0355588,
          86.275475,
          73.798213,
          86.6778916376767,
          73.1238722,
          73.9745137,
          72.5208415,
          -58.3825741,
          82.29876854111501,
          81.1672167,
          75.97647564346738,
          85.19419673278311,
          84.43262950302667,
          79.8375761,
          74.6509734,
          78.59027195756889,
          73.8630714,
          88.374415,
          -95.3170208,
          79.08676592149922,
          72.8500454,
          81.2780924,
          76.54568497656996,
          73.5674,
          73.3272855,
          87.8391252,
          76.6497826,
          79.6765422,
          77.336293,
          -80.8503431,
          78.5175088441159,
          72.833968,
          80.9937151,
          77.4151663,
          73.9700286,
          83.0173559,
          88.78900293567636,
          71.6103884,
          77.4979845,
          -122.7361959,
          78.00167705280629,
          92.91738841784462,
          85.1228052,
          77.5792694,
          74.4880389,
          77.60971605,
          73.3446504,
          77.25728516676574,
          78.19304301026716,
          93.8012483746545,
          85.51980767073773,
          84.74330169777767,
          87.37162648106798,
          85.32749612341135,
          72.8773928,
          85.70930157008985,
          77.02030067252973,
          73.79074960668649,
          74.84130629340785,
          72.5864365,
          79.52638693149856,
          74.62795673132572,
          77.3963586,
          73.0469,
          90.5580387,
          77.1013038,
          72.8246581400228,
          76.69640322489136,
          85.5263324593129,
          76.1735064,
          74.5578484,
          75.5873514,
          71.9177503,
          72.8411995,
          139.3787733,
          74.0116095,
          73.3065183,
          77.6472902,
          89.6665579,
          72.9518617,
          79.37591931362886,
          94.5884911,
          72.88678,
          83.3350308502498,
          71.7621979,
          -80.27027506526535,
          74.8568692,
          76.6462003,
          78.87221065502017,
          75.4889866137018,
          77.7712834,
          93.9229386,
          74.6176246,
          76.44374569929329,
          85.13577199672577,
          76.0105856,
          89.9047078,
          73.8317012646639,
          73.5298410406809,
          72.044472,
          80.07525257456197,
          78.48812545340694,
          72.4891682,
          80.2040134,
          73.2479027,
          75.2967797,
          75.8647369,
          72.8496191,
          79.62739425974078,
          72.47052697610516,
          75.833981,
          77.0432335,
          83.8904312186639,
          74.9274576,
          76.2316357,
          77.6106926,
          84.51790402898362,
          76.5881013,
          83.1042482,
          85.81888764651222,
          76.7232104,
          82.39541774073132,
          88.6618466,
          77.4367904,
          77.8936802,
          78.5289727,
          74.61005747867654,
          78.6204464,
          79.4875059,
          92.8984045214543,
          78.32674059291753,
          82.43771622957613,
          86.3385714,
          74.5732479,
          76.6120004,
          75.70749351097206,
          82.4260255,
          76.30453277017932,
          84.4585344292079,
          77.34838258540861,
          74.24637475177133,
          87.42319208975196,
          79.10636939854669,
          74.40369325283643,
          83.76717467150976,
          80.333333,
          79.09663522858392,
          83.81778520582411,
          85.90676233388595,
          78.86655713088385,
          74.9565436,
          78.07731880324079,
          70.6273206,
          78.5647875,
          78.74239647465441,
          95.14679344156609,
          72.8122784,
          73.7503472,
          75.68821683803192,
          81.69850209374297,
          72.5811205,
          76.7436723,
          80.1307034,
          85.91965399029942,
          76.3281328,
          73.3438185,
          72.5920384,
          90.6669044,
          83.3012842,
          88.2721335,
          78.7976575,
          78.79588752542026,
          76.60290343431203,
          76.6954843,
          83.17521981867318,
          72.0634448,
          78.1574156,
          76.6249189584008,
          79.5027042,
          77.45529027323644,
          80.48338013734374,
          88.25833944146513,
          73.0742912,
          94.5884911,
          79.1752481,
          82.74788762720786,
          86.43170622796478,
          78.18279047195995,
          72.561323,
          93.02566787197169,
          77.12282831043822,
          74.34840231310622,
          78.35602348202272,
          75.0250652,
          91.86442303211692,
          83.12724836970888,
          78.0985687533227,
          81.5398977,
          78.4398207,
          85.82359032799489,
          76.9545239,
          80.0492523,
          80.392456,
          77.33315284938224,
          78.1246442,
          80.6348902,
          83.18525101336489,
          76.2858227,
          85.00687848982191,
          72.83216741376339,
          75.8349312,
          75.6790283,
          77.2900919,
          80.4720642,
          88.3749813,
          78.97480687399917,
          75.3538481,
          78.5019168,
          11.2812707,
          74.0161784,
          -122.39107087072858,
          77.6018087071464,
          75.4761382,
          92.49167641087158,
          77.5455438,
          75.0216664,
          73.79747707831484,
          -117.2414299,
          72.8563181,
          74.4555755,
          73.01813957492513,
          78.6033618254918,
          81.071724,
          88.0632655,
          80.94320026638496,
          79.2668412,
          93.788033748158,
          -2.6907819,
          77.6102821,
          77.70969697613324,
          79.7732842,
          91.8982857,
          74.35468608752092,
          77.4937723,
          72.8255543,
          79.49501710882896,
          78.5509653,
          77.1885212,
          75.0920315,
          73.69151,
          86.349953,
          77.2863387,
          79.0745382,
          77.72006886674166,
          80.6185102,
          82.5768771757576,
          77.05085582101852,
          82.02951896910626,
          72.8640837,
          72.9127406,
          81.6336833,
          72.0234504,
          95.3192307,
          14.4436601,
          81.38609761204991,
          87.5475061,
          75.081768,
          82.79253303740091,
          78.8084872,
          75.68730693286243,
          74.72494485236446,
          76.485068,
          75.255369,
          72.2410908,
          77.62420559295163,
          84.77540019865262,
          91.7307016,
          78.5800085,
          78.7205172,
          77.4651097,
          77.0119969,
          69.58860475592358,
          80.9469,
          80.5810023,
          78.07975266019861,
          78.6514361805649,
          73.76604393512383,
          92.49167641087158,
          -1.911119704814436,
          77.8036975,
          77.3552754,
          77.991183,
          75.04286411660418,
          -80.9242566,
          84.6116085620834,
          79.1101724,
          8.9456579,
          82.6081182778727,
          76.55916095750428,
          78.6398051,
          78.3968876,
          81.43047622833333,
          83.0063426,
          82.34443675824079,
          77.9635656,
          79.9737896,
          55.3930315,
          -76.93500463079458,
          77.1170743,
          77.6251363,
          68.3507224,
          78.4786038,
          78.1350753,
          77.7134377,
          78.21552196710519,
          78.0823252,
          85.8186698,
          76.81582330347882,
          80.0959014,
          81.6573702,
          73.82955675,
          78.92002013406693,
          77.1818589,
          74.5001207,
          -96.7979725,
          -75.74828004407274,
          79.00605201815267,
          75.9373779,
          84.48256286663585,
          86.03257096612822,
          68.9742446,
          77.22688319247712,
          72.8389662,
          75.8103099871553,
          78.0965907,
          71.8294072,
          77.144107,
          78.2353162,
          72.8401435246665,
          77.05845282299609,
          75.4753645,
          80.58150561711888,
          78.56659346763493,
          76.41521381074048,
          76.9788156,
          76.7642252,
          77.2242281,
          85.89120430770397,
          80.9988505,
          85.63891761805871,
          77.13291315925144,
          -58.7505194,
          74.4520656,
          77.2697457,
          72.99940185331164,
          85.2584225,
          77.567404,
          54.74033392488026,
          75.35874656888731,
          74.4124702,
          77.26206804106354,
          75.6412677,
          77.2219884,
          75.0066516,
          79.9302967950447,
          78.12993274539582,
          80.0973114,
          81.8811502,
          73.96235327818988,
          85.98916956296054,
          84.9910577,
          83.11094468051526,
          77.2823552,
          79.7634606,
          77.6106473,
          72.9604145,
          79.61879245944404,
          91.71447008208972,
          74.2556782,
          75.7326441,
          79.7925329742427,
          81.57557198102174,
          72.6487459,
          -79.3986347,
          74.4649358,
          77.1541335,
          -144.0760698,
          77.63994597514096,
          76.6839695,
          78.4178748,
          79.17211379657827,
          75.83987314999999,
          72.7081876,
          125.6313498,
          72.6006742,
          75.69541123568386,
          76.3360706,
          84.16270657703373,
          80.5688069,
          69.58860475592358,
          83.4908550985302,
          77.68341741776283,
          79.0006410968549,
          77.6419258,
          75.8282871,
          77.6623984,
          75.8496685,
          93.8086939,
          77.0562463,
          84.3540648359066,
          84.99536646611469,
          84.5738480719802,
          72.9511956,
          72.9627101,
          77.05688,
          77.2492493451557,
          77.42575731097946,
          -100.968478,
          80.6042917,
          75.4150915,
          73.07376832591362,
          84.614825,
          95.12029902214498,
          78.81583409295854,
          -86.5065778,
          77.29141237169956,
          88.20525673927699,
          79.67222017841891,
          85.2042559,
          84.97347272041792,
          78.4605351,
          80.7108898,
          86.81271841233743,
          92.57381528240943,
          81.38339468738648,
          80.3216885,
          76.4737675,
          21.0613011,
          74.7503113,
          80.25151583921578,
          78.80670543708459,
          84.01567204651289,
          70.3507333,
          77.27948814325397,
          76.22863490292599,
          85.83371903751328,
          -99.8750709,
          72.8715199,
          76.44764757324253,
          76.3763169,
          76.296786,
          72.948269,
          74.8798558068828,
          80.2444773,
          84.4288669373095,
          77.7946371,
          76.83632811755979,
          80.57408128782225,
          76.9149498,
          84.90893995030878,
          74.11794319222481,
          78.7433633227108,
          76.0353471,
          -0.4265369,
          78.5510938,
          80.61677591160583,
          77.7106663,
          82.2145164,
          76.0389066,
          72.97797,
          88.41269168642657,
          80.2783092,
          71.6292685,
          78.61240704407285,
          79.3169546,
          77.0374703,
          79.33410523359854,
          76.33032632249217,
          37.7500019,
          88.1011108,
          78.5195754,
          72.837271,
          77.4164232,
          90.41064474772078,
          82.14151577682391,
          84.09316346858087,
          76.7747522,
          77.5360981,
          73.0162096,
          72.8646365,
          78.083333,
          73.3242137,
          79.0006410968549,
          74.1355585,
          79.6313497,
          84.87650828796248,
          78.75911360578634,
          81.10436376215311,
          78.1372743,
          74.8062103,
          80.61376177782856,
          85.28971176034909,
          84.26732577073194,
          83.36089736291659,
          78.6843022,
          77.84114,
          80.9743692,
          76.62051527475785,
          77.2327285,
          85.5056744,
          78.85907071521498,
          79.294268,
          77.1836206,
          70.9495617,
          81.9458317,
          81.06942173734653,
          78.0768146,
          73.1942567,
          79.4877003,
          88.11640162351831,
          -78.6604105,
          78.4543627,
          77.7046621,
          77.6403368,
          73.97707290781565,
          33.8060277,
          77.0995916,
          80.2435512,
          77.27604869990085,
          72.5876185,
          75.1429653,
          77.50935106167151,
          75.9244966,
          85.2111736,
          74.577845,
          86.17351147289283,
          77.6099924,
          76.2985931,
          85.7052429,
          72.5360120684165,
          81.1516437879902,
          81.7864412,
          82.38649683606945,
          88.1398483,
          77.1403175,
          79.19123581735647,
          57.6779316,
          88.4970841,
          79.5329474106502,
          75.84644246890946,
          74.72513368804519,
          72.9011399,
          93.1549000879473,
          82.7045864,
          72.5848584,
          72.8204976,
          78.9617306,
          72.3851475,
          85.7058027544313,
          73.19466915515079,
          77.797084,
          77.05772976517363,
          83.66927939185426,
          76.5691897,
          -1.2516646208312259,
          74.702937,
          83.3522594,
          76.1942968,
          30.4043153,
          73.8740758,
          79.6661155275942,
          76.80790172814622,
          77.29972257803368,
          77.1077296,
          78.3296257,
          77.0570143,
          77.6343328,
          78.8809891,
          79.74432689119347,
          79.5388953279722,
          77.36719144528972,
          72.63656879807692,
          85.11195643843573,
          86.79658662614811,
          73.8584284277801,
          78.28921691830388,
          78.7525044,
          88.3200303,
          77.3182836,
          79.5720001,
          81.9183291218813,
          77.5033582,
          75.3869944,
          73.1744956,
          -122.8130073,
          77.3076322,
          88.6296098,
          80.270186,
          79.0673204,
          80.2227554,
          76.1547421,
          75.8666482,
          77.1558931,
          76.9393181,
          87.5310132,
          84.7384578,
          83.0329811,
          88.8660215,
          79.59793429354428,
          80.98109349472911,
          72.81061907516474,
          72.5290418,
          86.69910848212217,
          74.9956362,
          74.92386542316771,
          82.13236972772236,
          72.8336046,
          85.0711288,
          85.2523189212255,
          73.29251423010135,
          78.23332182803406,
          86.36285588572954,
          90.2324363,
          87.67969840644172,
          72.8449115,
          78.1978941,
          72.8632834,
          76.46492896050117,
          80.6649883,
          78.70840630362592,
          83.02887343114848,
          76.3872297,
          74.4312086,
          83.5098005,
          84.16616937294015,
          82.6661453,
          -117.8022775,
          85.01026224189768,
          77.4347955,
          76.08904093410098,
          81.9212529,
          86.69430056383564,
          74.74685666535215,
          73.6652394,
          77.1750019,
          73.9279468,
          175.27627885,
          78.14185565,
          76.92892778592639,
          -1.212945320380705,
          79.5982115,
          83.311481,
          73.81567518859549,
          72.8401526,
          77.3066482320536,
          76.6842465,
          77.3402362,
          88.0800659,
          74.7244921,
          80.18107516667288,
          77.47039381815051,
          83.82393679256941,
          87.61850784289338,
          78.0636982800424,
          77.3472673,
          79.7295065,
          79.4230848,
          73.8583803,
          88.38772234436959,
          77.03543016986725,
          -0.1429113,
          76.7748902040889,
          74.2689351431818,
          79.45064301880087,
          79.8397679,
          83.8088755,
          36.77995224477292,
          73.6873533,
          78.12022647412451,
          79.5978601,
          75.5520073,
          87.698785,
          73.80199315,
          93.6615479,
          76.5551288,
          73.8101957,
          77.5979099,
          -79.868249,
          74.7804594,
          74.5088917,
          89.4680986,
          69.7268474,
          81.31885889020622,
          74.4857646,
          85.93276678827354,
          85.04710406447731,
          78.5133515,
          120.2958871,
          73.8544541,
          92.9954702,
          76.9062501,
          92.7874667,
          83.05280519687284,
          75.083333,
          76.7573547,
          83.21263264153296,
          73.1161392,
          72.81952857572549,
          93.9777388,
          75.7140556,
          77.0394627,
          78.0549761,
          75.0779220298596,
          86.09466276519713,
          72.83173994459153,
          85.33447132277304,
          77.1987107,
          77.4659904,
          78.37660408493795,
          88.35769124388872,
          76.7748902040889,
          75.4889866137018,
          78.4382663,
          74.9567976,
          92.79714034031554,
          72.5797068,
          72.8398344,
          83.34458762599236,
          77.53700501165349,
          81.6238783207884,
          78.1452745,
          76.23945193905976,
          74.5372841,
          74.8568692,
          -2.5848533,
          86.01534316745128,
          72.8520846,
          72.7809896,
          78.4024394,
          0.14629585,
          76.97405566422736,
          74.4032186,
          76.5098926962527,
          76.1682829,
          73.7450557,
          72.85775475573351,
          72.8165902541987,
          77.5163,
          73.0351433,
          86.67399790661415,
          92.7730136148387,
          -77.0282722,
          79.70499475331877,
          85.8058272904394,
          77.3818702,
          77.0052993,
          70.26789366226589,
          72.9278239,
          77.3761946386738,
          75.6341529,
          86.5069136563325,
          79.24190440551743,
          77.3764667,
          91.48434876767391,
          74.7625233,
          78.70766746320547,
          88.563677,
          81.5917253,
          77.0567305,
          72.9257184,
          78.16653808964526,
          72.8239532,
          83.4586397,
          78.531283,
          78.2731252,
          76.4069394,
          82.74995995303358,
          73.9214029,
          73.1176169,
          75.9857052,
          77.2917561,
          85.39277997446213,
          78.4010990950247,
          84.9937642,
          84.87817691941733,
          72.85696815689101,
          78.568278,
          72.811816,
          83.36458284327038,
          72.8327936,
          79.04698123882801,
          94.04247928402684,
          77.2063351,
          95.3324944,
          77.2947817,
          74.7592764,
          87.9719066,
          82.5804789651259,
          73.41900349582019,
          22.3707318,
          77.50049340214429,
          75.6300786,
          77.2090057,
          77.1322572,
          94.55818794594072,
          77.64806737595279,
          77.16079073168567,
          81.7725282,
          77.1943948,
          76.7642252,
          72.5532282,
          79.8169959,
          -2.94499,
          77.0580701,
          77.11606037769263,
          84.01567204651289,
          75.617373,
          79.5982115,
          70.9853635,
          78.51866758648347,
          69.2653851,
          6.099470750082442,
          75.81176210960223,
          72.8259691,
          86.20488563950886,
          76.57285896078217,
          79.8365441,
          77.734076197437,
          79.4488599,
          83.7578251,
          79.9441603,
          84.2922247,
          76.74356166512683,
          78.3567628,
          72.5520423700643,
          73.00012783875437,
          78.80964495467987,
          76.3274884,
          76.10316542109956,
          76.0176929,
          74.36216858960698,
          85.34001282479626,
          73.97681903727381,
          78.0533058,
          72.4506926,
          -122.2196593,
          73.041523,
          75.3250944,
          72.83438017067652,
          74.8513462,
          77.87568124563079,
          94.58213344568205,
          80.24691797857143,
          78.67995706162694,
          177.4150654,
          77.2888525,
          79.5308932892063,
          80.1721682,
          72.5247699,
          81.6327417,
          -86.5065778,
          78.5,
          78.22437669466014,
          77.8598817,
          73.3046407,
          85.80620583784037,
          90.26486487495686,
          76.5340635,
          78.3719802,
          74.7013558,
          83.84995956625058,
          85.53691564663127,
          72.5508575,
          79.734938,
          74.10766700836285,
          78.46467754990019,
          77.4190818,
          -97.7924549,
          85.9456005,
          74.83506086885345,
          77.6385392,
          78.2206536,
          72.6257041,
          -85.7531985750971,
          77.9218398,
          89.12781656366485,
          82.4260255,
          83.76324254151297,
          76.14757295556964,
          81.68553062260926,
          4.2090907,
          76.68981477716189,
          77.44261877550801,
          77.9102779,
          72.9323831,
          77.2922087,
          73.6109564,
          87.85430095470437,
          77.654851,
          78.8863383,
          76.95018619874644,
          77.0930017,
          77.8797905,
          73.8762582,
          77.3247692190847,
          86.8396711,
          75.19044977266321,
          86.5069136563325,
          74.5564244,
          79.4647579,
          72.8566376,
          73.0044988,
          75.8111787,
          80.13661312256016,
          90.4123483,
          70.7045453,
          78.7313324688023,
          78.0746863293208,
          -3.8804349555327233,
          74.8775768,
          76.88431001561298,
          70.7955235,
          78.5634096,
          79.84256850451851,
          77.1737816,
          79.4766883,
          80.2262155,
          76.684033,
          78.52803923522667,
          81.7022592,
          80.9732651,
          80.25324534926989,
          74.81470185156718,
          86.55036799425176,
          83.776408,
          75.2423572,
          -47.4568192,
          83.67873883995676,
          86.5773540329354,
          78.56385505818884,
          75.99841514447535,
          76.6433325,
          82.9710513,
          76.9424311,
          74.4107617,
          78.228015,
          84.78597324754291,
          78.2166353,
          85.309859,
          82.5590760883135,
          77.73534746014593,
          77.5131354,
          74.6327162,
          76.4984505,
          72.4440156,
          84.2346841839113,
          77.30595350833059,
          74.5948885,
          75.7758865,
          76.5120396,
          77.05614878779548,
          93.92788824871703,
          79.8745543,
          84.17786288844194,
          91.7829093,
          72.8275275,
          78.8182555496278,
          77.3245939,
          74.0154054055661,
          77.60912867038894,
          71.61966242777196,
          75.81821203015207,
          77.12155434178793,
          78.3305079,
          84.15995314496914,
          72.8180702,
          70.2821426,
          80.8334595,
          75.0962575,
          79.33776652736019,
          75.8033421,
          72.823781,
          74.7473232,
          79.48507330302013,
          77.45529027323644,
          77.1774582,
          75.89126390932056,
          83.8715042,
          77.2481823,
          77.1988974,
          79.49230289850631,
          77.14471173091397,
          88.01622320020137,
          73.61316885788803,
          78.39717127244442,
          75.5530214,
          -112.2819337,
          85.10152650073252,
          72.86370318520977,
          77.7061915,
          130.7899793,
          77.7064261,
          74.5293987786138,
          78.8290929598491,
          74.9262962,
          82.95040376080576,
          74.4392286,
          80.20915605976413,
          79.8871647,
          70.5303798,
          75.64350531586692,
          76.684033,
          73.8959255,
          74.8117017,
          80.53906695154278,
          82.9927969,
          78.4818797,
          81.35042197198445,
          73.3046407,
          73.91925349215948,
          70.75,
          79.3726373,
          77.0957546,
          73.8101957,
          79.22080866041219,
          77.99802991290954,
          74.6203891,
          84.22731067744127,
          78.86801574778755,
          -2.3673212645161295,
          80.2904034,
          76.7674000810934,
          78.6159351,
          79.1286158,
          96.1462366,
          78.48087839917878,
          79.9259786,
          5.4768879,
          79.7500176550117,
          76.09469981777069,
          79.1322648,
          72.9526298,
          79.53978401514607,
          80.8001979,
          77.1610899,
          -122.82181668315904,
          78.9280862,
          85.19863417318592,
          78.7104667,
          79.11745538182738,
          75.8189817,
          77.0557122,
          72.948269,
          77.5499338,
          77.041198795285,
          79.1706699,
          78.5247765,
          77.92664521413192,
          77.2582142,
          78.75147086956142,
          77.37379054093662,
          74.26080901243427,
          74.48278751239164,
          77.08200509063624,
          76.75007013436556,
          76.2959789,
          74.34954849299237,
          75.70431860267045,
          77.41045257513859,
          80.10172076512075,
          80.30458543267906,
          77.2966578,
          79.4100683,
          76.025822,
          75.1092019,
          73.79008326693673,
          0.8486337,
          77.2423389,
          77.2280478,
          81.85239936375996,
          85.2378525745791,
          74.252944,
          77.0663545,
          72.4366375,
          80.2895845,
          79.2495828,
          78.705647,
          77.8748206,
          72.534872,
          73.308225,
          78.48127480347702,
          86.1365097754067,
          76.9330038,
          78.3798412,
          86.0051969,
          75.8099449,
          77.0607773,
          92.666667,
          83.63359775892343,
          73.902129,
          73.9285386,
          77.342572028505,
          -0.14254756639668653,
          77.1982449,
          72.824081,
          74.7571992,
          2.3090413,
          83.92052156669496,
          76.27978930401714,
          77.3219122,
          77.3007192,
          77.2027212,
          88.3856113,
          78.154221,
          73.0861355,
          78.1573628,
          89.94188952461522,
          80.8940083,
          77.277153,
          81.8919565184319,
          88.31368260494412,
          78.48874766686149,
          77.2609711,
          75.74392483608787,
          74.6635003,
          84.5839641,
          30.9169945,
          72.9052784,
          77.76326085563512,
          83.01334429035244,
          73.942711,
          93.20453422171673,
          82.8205204,
          80.2129835,
          77.2919304,
          86.75251827179432,
          79.48507330302013,
          79.43317023326716,
          78.4482505,
          74.8478431,
          91.62320953646798,
          77.7469162,
          80.1529972,
          86.84078603427818,
          77.0819265,
          77.3870086,
          78.4939027,
          72.9339461,
          78.75987014206322,
          75.7384555,
          77.16079073168567,
          77.5368704,
          75.2327047,
          74.16551699168082,
          -74.0442862,
          77.4385178,
          72.8534691,
          72.8069758,
          74.8606882,
          -96.2528451,
          73.1608821,
          77.0877572,
          76.23,
          79.7340031,
          73.22292679633551,
          82.83084682181051,
          80.2313016,
          84.2936148560828,
          78.1140983,
          84.08305240629664,
          121.5729205,
          85.75647029537049,
          79.5547343,
          73.9026728,
          89.964662,
          78.4784818,
          72.8433917,
          77.1380878,
          73.0371241,
          72.905252,
          73.5168321,
          77.16079073168567,
          72.8565391,
          77.8228199507381,
          81.32411568460869,
          72.5360081,
          79.72826945827646,
          85.45668469827197,
          74.88846434458559,
          77.2696401,
          86.15420075198816,
          88.43721205880513,
          92.83165406414926,
          73.0655263,
          80.1502698,
          87.24358224629752,
          -75.6693753,
          77.2124474,
          73.1411715553577,
          77.5148302,
          75.7839116,
          76.3882959,
          69.0088643,
          84.3373624,
          86.73215330400758,
          26.0718655,
          -98.4311265,
          74.7337535170843,
          77.67249791858319,
          80.3644433,
          76.9823908,
          76.74465793294425,
          77.2431499,
          77.23782398699743,
          76.47408711165895,
          11.0884179,
          86.77353493891458,
          -86.25627359380371,
          77.3900841,
          80.1179194,
          76.2832178,
          86.6469648,
          81.5485253,
          75.8993043,
          75.8292229,
          70.04636271634615,
          78.71843326006439,
          72.9122226592809,
          86.43170622796478,
          77.65773978397755,
          78.42576185685064,
          77.51826437085998,
          75.92203560580441,
          87.5142404,
          77.3974588,
          88.4309916,
          82.70944473807006,
          83.91146961902328,
          80.0271275,
          82.15423206335987,
          75.6065,
          76.2921034,
          78.8216793,
          77.47133824049835,
          72.942351,
          81,
          77.7482633,
          77.2352216,
          84.0182110684575,
          77.1360706,
          77.05012463730725,
          85.8163773,
          77.82811932629714,
          11.8796434,
          89.1390175,
          75.3390241,
          72.8177768,
          76.11564,
          76.2586163,
          74.2631132,
          90.6226683,
          93.85847858025147,
          75.99628180484765,
          86.05935924304018,
          80.1842767,
          77.60680417685384,
          72.94897226536546,
          88.569079,
          85.8394521,
          80.8899,
          72.9434859,
          -71.0738933,
          76.7542189,
          75.6139939,
          77.1939912,
          75.0875548,
          72.9008254,
          75.1999941,
          78.3953281,
          73.8104402408845,
          75.25,
          78.5417093,
          77.35633362748496,
          85.19213760959596,
          85.52166040957998,
          74.08914487513019,
          78.05393808043348,
          77.0342633,
          140.7904147,
          91.5709202,
          90.6226683,
          85.01713141619263,
          83.30352921921009,
          77.103523,
          91.7686637,
          78.05427595640626,
          87.2446639,
          77.59630440545266,
          72.8085422,
          72.9084376,
          77.8784563961865,
          72.854202,
          177.4150654,
          79.42765264782076,
          76.7606231,
          81.64759963875372,
          72.3649644,
          85.841369
         ],
         "marker": {
          "color": [
           5192,
           4488,
           1479,
           1034,
           897,
           875,
           835,
           777,
           696,
           676,
           602,
           574,
           520,
           503,
           426,
           408,
           399,
           365,
           358,
           343,
           340,
           331,
           330,
           313,
           311,
           310,
           306,
           291,
           277,
           273,
           265,
           261,
           260,
           260,
           250,
           249,
           245,
           228,
           225,
           221,
           220,
           216,
           194,
           191,
           191,
           190,
           185,
           183,
           182,
           168,
           166,
           154,
           154,
           149,
           143,
           140,
           136,
           135,
           133,
           132,
           130,
           126,
           123,
           119,
           119,
           117,
           113,
           107,
           107,
           93,
           93,
           92,
           92,
           92,
           91,
           86,
           86,
           81,
           80,
           79,
           78,
           77,
           75,
           74,
           70,
           67,
           66,
           66,
           65,
           65,
           64,
           64,
           63,
           63,
           61,
           61,
           59,
           58,
           57,
           57,
           57,
           57,
           56,
           55,
           52,
           51,
           51,
           50,
           49,
           47,
           47,
           47,
           44,
           43,
           42,
           42,
           41,
           41,
           41,
           40,
           39,
           39,
           39,
           38,
           37,
           37,
           37,
           37,
           37,
           37,
           37,
           37,
           36,
           36,
           36,
           36,
           35,
           35,
           35,
           34,
           34,
           34,
           34,
           34,
           34,
           33,
           33,
           32,
           32,
           31,
           31,
           31,
           31,
           30,
           30,
           29,
           29,
           29,
           28,
           28,
           28,
           28,
           28,
           28,
           28,
           27,
           27,
           27,
           27,
           27,
           27,
           27,
           27,
           27,
           27,
           27,
           26,
           26,
           26,
           26,
           26,
           26,
           25,
           25,
           25,
           25,
           24,
           24,
           24,
           24,
           24,
           24,
           24,
           23,
           23,
           22,
           22,
           22,
           22,
           22,
           21,
           21,
           21,
           21,
           20,
           20,
           20,
           20,
           20,
           19,
           19,
           18,
           18,
           18,
           18,
           18,
           18,
           18,
           18,
           18,
           18,
           17,
           17,
           17,
           17,
           17,
           17,
           17,
           17,
           16,
           16,
           16,
           16,
           16,
           16,
           16,
           16,
           16,
           16,
           16,
           16,
           15,
           15,
           15,
           15,
           15,
           15,
           15,
           15,
           15,
           15,
           15,
           15,
           15,
           15,
           15,
           15,
           14,
           14,
           14,
           14,
           14,
           14,
           13,
           13,
           13,
           13,
           13,
           13,
           13,
           13,
           13,
           13,
           13,
           13,
           13,
           12,
           12,
           12,
           12,
           12,
           12,
           12,
           12,
           12,
           12,
           12,
           12,
           12,
           12,
           12,
           11,
           11,
           11,
           11,
           11,
           11,
           11,
           11,
           11,
           11,
           11,
           11,
           11,
           11,
           11,
           11,
           11,
           11,
           11,
           11,
           11,
           11,
           10,
           10,
           10,
           10,
           10,
           10,
           10,
           10,
           10,
           10,
           10,
           10,
           10,
           10,
           9,
           9,
           9,
           9,
           9,
           9,
           9,
           9,
           9,
           9,
           9,
           9,
           9,
           9,
           9,
           9,
           9,
           9,
           9,
           8,
           8,
           8,
           8,
           8,
           8,
           8,
           8,
           8,
           8,
           8,
           8,
           8,
           8,
           8,
           8,
           8,
           8,
           7,
           7,
           7,
           7,
           7,
           7,
           7,
           7,
           7,
           7,
           7,
           7,
           7,
           7,
           7,
           7,
           7,
           7,
           7,
           7,
           7,
           7,
           7,
           7,
           7,
           7,
           7,
           7,
           7,
           7,
           7,
           7,
           7,
           7,
           7,
           7,
           7,
           7,
           7,
           7,
           7,
           7,
           7,
           6,
           6,
           6,
           6,
           6,
           6,
           6,
           6,
           6,
           6,
           6,
           6,
           6,
           6,
           6,
           6,
           6,
           6,
           6,
           6,
           6,
           6,
           6,
           6,
           6,
           6,
           6,
           6,
           6,
           6,
           6,
           6,
           6,
           6,
           6,
           6,
           6,
           6,
           6,
           6,
           6,
           6,
           6,
           5,
           5,
           5,
           5,
           5,
           5,
           5,
           5,
           5,
           5,
           5,
           5,
           5,
           5,
           5,
           5,
           5,
           5,
           5,
           5,
           5,
           5,
           5,
           5,
           5,
           5,
           5,
           5,
           5,
           5,
           5,
           5,
           5,
           5,
           5,
           5,
           5,
           5,
           5,
           5,
           5,
           5,
           5,
           5,
           5,
           5,
           4,
           4,
           4,
           4,
           4,
           4,
           4,
           4,
           4,
           4,
           4,
           4,
           4,
           4,
           4,
           4,
           4,
           4,
           4,
           4,
           4,
           4,
           4,
           4,
           4,
           4,
           4,
           4,
           4,
           4,
           4,
           4,
           4,
           4,
           4,
           4,
           4,
           4,
           4,
           4,
           4,
           4,
           4,
           4,
           4,
           4,
           4,
           4,
           4,
           4,
           4,
           4,
           4,
           4,
           4,
           4,
           4,
           4,
           4,
           4,
           4,
           4,
           4,
           4,
           4,
           4,
           4,
           4,
           4,
           4,
           4,
           4,
           4,
           4,
           4,
           4,
           4,
           4,
           4,
           4,
           4,
           4,
           4,
           4,
           4,
           4,
           4,
           4,
           4,
           4,
           4,
           4,
           3,
           3,
           3,
           3,
           3,
           3,
           3,
           3,
           3,
           3,
           3,
           3,
           3,
           3,
           3,
           3,
           3,
           3,
           3,
           3,
           3,
           3,
           3,
           3,
           3,
           3,
           3,
           3,
           3,
           3,
           3,
           3,
           3,
           3,
           3,
           3,
           3,
           3,
           3,
           3,
           3,
           3,
           3,
           3,
           3,
           3,
           3,
           3,
           3,
           3,
           3,
           3,
           3,
           3,
           3,
           3,
           3,
           3,
           3,
           3,
           3,
           3,
           3,
           3,
           3,
           3,
           3,
           3,
           3,
           3,
           3,
           3,
           3,
           3,
           3,
           3,
           3,
           3,
           3,
           3,
           3,
           3,
           3,
           3,
           3,
           3,
           3,
           3,
           3,
           3,
           3,
           3,
           3,
           3,
           3,
           3,
           3,
           3,
           3,
           3,
           3,
           3,
           3,
           3,
           3,
           3,
           3,
           3,
           3,
           3,
           3,
           3,
           3,
           3,
           3,
           3,
           3,
           3,
           3,
           3,
           3,
           3,
           2,
           2,
           2,
           2,
           2,
           2,
           2,
           2,
           2,
           2,
           2,
           2,
           2,
           2,
           2,
           2,
           2,
           2,
           2,
           2,
           2,
           2,
           2,
           2,
           2,
           2,
           2,
           2,
           2,
           2,
           2,
           2,
           2,
           2,
           2,
           2,
           2,
           2,
           2,
           2,
           2,
           2,
           2,
           2,
           2,
           2,
           2,
           2,
           2,
           2,
           2,
           2,
           2,
           2,
           2,
           2,
           2,
           2,
           2,
           2,
           2,
           2,
           2,
           2,
           2,
           2,
           2,
           2,
           2,
           2,
           2,
           2,
           2,
           2,
           2,
           2,
           2,
           2,
           2,
           2,
           2,
           2,
           2,
           2,
           2,
           2,
           2,
           2,
           2,
           2,
           2,
           2,
           2,
           2,
           2,
           2,
           2,
           2,
           2,
           2,
           2,
           2,
           2,
           2,
           2,
           2,
           2,
           2,
           2,
           2,
           2,
           2,
           2,
           2,
           2,
           2,
           2,
           2,
           2,
           2,
           2,
           2,
           2,
           2,
           2,
           2,
           2,
           2,
           2,
           2,
           2,
           2,
           2,
           2,
           2,
           2,
           2,
           2,
           2,
           2,
           2,
           2,
           2,
           2,
           2,
           2,
           2,
           2,
           2,
           2,
           2,
           2,
           2,
           2,
           2,
           2,
           2,
           2,
           2,
           2,
           2,
           2,
           2,
           2,
           2,
           2,
           2,
           2,
           2,
           2,
           2,
           2,
           2,
           2,
           2,
           2,
           2,
           2,
           2,
           2,
           2,
           2,
           2,
           2,
           2,
           2,
           2,
           2,
           2,
           2,
           2,
           2,
           2,
           2,
           2,
           2,
           2,
           2,
           2,
           2,
           2,
           2,
           2,
           2,
           2,
           2,
           2,
           2,
           2,
           2,
           2,
           2,
           2,
           2,
           2,
           2,
           2,
           2,
           2,
           2,
           2,
           2,
           2,
           2,
           2,
           2,
           2,
           2,
           2,
           2,
           2,
           2,
           2,
           2,
           2,
           2,
           2,
           2,
           2,
           2,
           2,
           2,
           2,
           2,
           2,
           2,
           2,
           2,
           2,
           2,
           2,
           2,
           2,
           2,
           2,
           2,
           2,
           2,
           2,
           2,
           2,
           2,
           2,
           2,
           2,
           2,
           2,
           2,
           2,
           2,
           2,
           2,
           2,
           2,
           2,
           2,
           2,
           2,
           2,
           2,
           2,
           2,
           2,
           2,
           2,
           2,
           2,
           2,
           2,
           2,
           2,
           2,
           2,
           2,
           2,
           2,
           2,
           2,
           2,
           2,
           2,
           2,
           2,
           2,
           2,
           2,
           1,
           1,
           1,
           1,
           1,
           1,
           1,
           1,
           1,
           1,
           1,
           1,
           1,
           1,
           1,
           1,
           1,
           1,
           1,
           1,
           1,
           1,
           1,
           1,
           1,
           1,
           1,
           1,
           1,
           1,
           1,
           1,
           1,
           1,
           1,
           1,
           1,
           1,
           1,
           1,
           1,
           1,
           1,
           1,
           1,
           1,
           1,
           1,
           1,
           1,
           1,
           1,
           1,
           1,
           1,
           1,
           1,
           1,
           1,
           1,
           1,
           1,
           1,
           1,
           1,
           1,
           1,
           1,
           1,
           1,
           1,
           1,
           1,
           1,
           1,
           1,
           1,
           1,
           1,
           1,
           1,
           1,
           1,
           1,
           1,
           1,
           1,
           1,
           1,
           1,
           1,
           1,
           1,
           1,
           1,
           1,
           1,
           1,
           1,
           1,
           1,
           1,
           1,
           1,
           1,
           1,
           1,
           1,
           1,
           1,
           1,
           1,
           1,
           1,
           1,
           1,
           1,
           1,
           1,
           1,
           1,
           1,
           1,
           1,
           1,
           1,
           1,
           1,
           1,
           1,
           1,
           1,
           1,
           1,
           1,
           1,
           1,
           1,
           1,
           1,
           1,
           1,
           1,
           1,
           1,
           1,
           1,
           1,
           1,
           1,
           1,
           1,
           1,
           1,
           1,
           1,
           1,
           1,
           1,
           1,
           1,
           1,
           1,
           1,
           1,
           1,
           1,
           1,
           1,
           1,
           1,
           1,
           1,
           1,
           1,
           1,
           1,
           1,
           1,
           1,
           1,
           1,
           1,
           1,
           1,
           1,
           1,
           1,
           1,
           1,
           1,
           1,
           1,
           1,
           1,
           1,
           1,
           1,
           1,
           1,
           1,
           1,
           1,
           1,
           1,
           1,
           1,
           1,
           1,
           1,
           1,
           1,
           1,
           1,
           1,
           1,
           1,
           1,
           1,
           1,
           1,
           1,
           1,
           1,
           1,
           1,
           1,
           1,
           1,
           1,
           1,
           1,
           1,
           1,
           1,
           1,
           1,
           1,
           1,
           1,
           1,
           1,
           1,
           1,
           1,
           1,
           1,
           1,
           1,
           1,
           1,
           1,
           1,
           1,
           1,
           1,
           1,
           1,
           1,
           1,
           1,
           1,
           1,
           1,
           1,
           1,
           1,
           1,
           1,
           1,
           1,
           1,
           1,
           1,
           1,
           1,
           1,
           1,
           1,
           1,
           1,
           1,
           1,
           1,
           1,
           1,
           1,
           1,
           1,
           1,
           1,
           1,
           1,
           1,
           1,
           1,
           1,
           1,
           1,
           1,
           1,
           1,
           1,
           1,
           1,
           1,
           1,
           1,
           1,
           1,
           1,
           1,
           1,
           1,
           1,
           1,
           1,
           1,
           1,
           1,
           1,
           1,
           1,
           1,
           1,
           1,
           1,
           1,
           1,
           1,
           1,
           1,
           1,
           1,
           1,
           1,
           1,
           1,
           1,
           1,
           1,
           1,
           1,
           1,
           1,
           1,
           1,
           1,
           1,
           1,
           1,
           1,
           1,
           1,
           1,
           1,
           1,
           1,
           1,
           1,
           1,
           1,
           1,
           1,
           1,
           1,
           1,
           1,
           1,
           1,
           1,
           1,
           1,
           1,
           1,
           1,
           1,
           1,
           1,
           1,
           1,
           1,
           1,
           1,
           1,
           1,
           1,
           1,
           1,
           1,
           1,
           1,
           1,
           1,
           1,
           1,
           1,
           1,
           1,
           1,
           1,
           1,
           1,
           1,
           1,
           1,
           1,
           1,
           1,
           1,
           1,
           1,
           1,
           1,
           1,
           1,
           1,
           1,
           1,
           1,
           1,
           1,
           1,
           1,
           1,
           1,
           1,
           1,
           1,
           1,
           1,
           1,
           1,
           1,
           1,
           1,
           1,
           1,
           1,
           1,
           1,
           1,
           1,
           1,
           1,
           1,
           1,
           1,
           1,
           1,
           1,
           1,
           1,
           1,
           1,
           1,
           1,
           1,
           1,
           1,
           1,
           1,
           1,
           1,
           1,
           1,
           1,
           1,
           1,
           1,
           1,
           1,
           1,
           1,
           1,
           1,
           1,
           1,
           1,
           1,
           1,
           1,
           1,
           1,
           1,
           1,
           1,
           1,
           1,
           1,
           1,
           1,
           1,
           1,
           1,
           1,
           1,
           1,
           1,
           1,
           1,
           1,
           1,
           1,
           1,
           1,
           1,
           1,
           1,
           1,
           1,
           1,
           1,
           1,
           1,
           1,
           1,
           1,
           1,
           1,
           1,
           1,
           1,
           1,
           1,
           1,
           1,
           1,
           1,
           1,
           1,
           1,
           1,
           1,
           1,
           1,
           1,
           1,
           1,
           1,
           1,
           1,
           1,
           1,
           1,
           1,
           1,
           1,
           1,
           1,
           1,
           1,
           1,
           1,
           1,
           1,
           1,
           1,
           1,
           1,
           1,
           1,
           1,
           1,
           1,
           1,
           1,
           1,
           1,
           1,
           1,
           1,
           1,
           1,
           1,
           1,
           1,
           1,
           1,
           1,
           1,
           1,
           1,
           1,
           1,
           1,
           1,
           1,
           1,
           1,
           1,
           1,
           1,
           1,
           1,
           1,
           1,
           1,
           1,
           1,
           1,
           1,
           1,
           1,
           1,
           1,
           1,
           1,
           1,
           1,
           1,
           1,
           1,
           1,
           1,
           1,
           1,
           1,
           1,
           1,
           1,
           1,
           1,
           1,
           1,
           1,
           1,
           1,
           1,
           1,
           1,
           1,
           1,
           1,
           1,
           1,
           1,
           1,
           1,
           1,
           1,
           1,
           1,
           1,
           1,
           1,
           1,
           1,
           1,
           1,
           1,
           1,
           1,
           1,
           1,
           1,
           1,
           1,
           1,
           1,
           1,
           1,
           1,
           1,
           1,
           1,
           1,
           1,
           1,
           1,
           1,
           1,
           1,
           1,
           1,
           1,
           1,
           1,
           1,
           1,
           1,
           1,
           1,
           1,
           1,
           1,
           1,
           1,
           1,
           1,
           1,
           1,
           1,
           1,
           1,
           1,
           1,
           1,
           1,
           1,
           1,
           1,
           1,
           1,
           1,
           1,
           1,
           1,
           1,
           1,
           1,
           1,
           1,
           1,
           1,
           1,
           1,
           1,
           1,
           1,
           1,
           1,
           1,
           1,
           1,
           1,
           1,
           1,
           1,
           1,
           1,
           1,
           1,
           1,
           1,
           1,
           1,
           1,
           1,
           1,
           1,
           1,
           1,
           1,
           1,
           1,
           1,
           1,
           1,
           1,
           1,
           1,
           1,
           1,
           1,
           1,
           1,
           1,
           1,
           1,
           1,
           1,
           1,
           1,
           1,
           1,
           1,
           1,
           1,
           1,
           1,
           1,
           1,
           1,
           1,
           1,
           1,
           1,
           1,
           1,
           1,
           1,
           1,
           1,
           1,
           1,
           1,
           1,
           1,
           1,
           1,
           1,
           1,
           1,
           1,
           1,
           1,
           1,
           1,
           1,
           1,
           1,
           1,
           1,
           1,
           1,
           1,
           1,
           1,
           1,
           1,
           1,
           1,
           1,
           1,
           1,
           1,
           1,
           1,
           1,
           1,
           1,
           1,
           1,
           1,
           1,
           1,
           1,
           1,
           1,
           1,
           1,
           1,
           1,
           1,
           1,
           1,
           1,
           1,
           1,
           1,
           1,
           1,
           1,
           1,
           1,
           1,
           1,
           1,
           1,
           1,
           1,
           1,
           1,
           1,
           1,
           1,
           1,
           1,
           1,
           1,
           1,
           1,
           1,
           1,
           1,
           1,
           1,
           1,
           1,
           1,
           1,
           1,
           1,
           1,
           1,
           1,
           1,
           1,
           1,
           1,
           1,
           1,
           1,
           1,
           1,
           1,
           1,
           1,
           1,
           1,
           1,
           1,
           1,
           1,
           1,
           1,
           1,
           1,
           1,
           1,
           1,
           1,
           1,
           1,
           1,
           1,
           1,
           1,
           1,
           1,
           1,
           1,
           1,
           1,
           1,
           1,
           1,
           1,
           1,
           1,
           1,
           1,
           1,
           1,
           1,
           1,
           1,
           1,
           1,
           1,
           1,
           1,
           1,
           1,
           1,
           1,
           1,
           1,
           1,
           1,
           1,
           1,
           1,
           1,
           1,
           1,
           1,
           1,
           1,
           1,
           1,
           1,
           1,
           1,
           1,
           1,
           1,
           1,
           1,
           1,
           1,
           1,
           1,
           1,
           1,
           1,
           1,
           1,
           1,
           1,
           1,
           1,
           1,
           1,
           1,
           1,
           1,
           1,
           1,
           1,
           1,
           1,
           1,
           1,
           1,
           1,
           1,
           1,
           1,
           1,
           1,
           1,
           1,
           1,
           1,
           1,
           1,
           1,
           1,
           1,
           1,
           1,
           1,
           1,
           1,
           1,
           1,
           1,
           1,
           1,
           1,
           1,
           1,
           1,
           1,
           1,
           1,
           1,
           1,
           1,
           1,
           1,
           1,
           1,
           1,
           1,
           1,
           1,
           1,
           1,
           1,
           1,
           1,
           1,
           1,
           1,
           1,
           1,
           1,
           1,
           1,
           1,
           1,
           1,
           1,
           1,
           1,
           1,
           1,
           1,
           1,
           1,
           1,
           1,
           1,
           1,
           1,
           1,
           1,
           1,
           1,
           1,
           1,
           1,
           1,
           1,
           1,
           1,
           1,
           1,
           1,
           1,
           1,
           1,
           1,
           1,
           1,
           1,
           1,
           1,
           1,
           1,
           1,
           1,
           1,
           1,
           1,
           1,
           1,
           1,
           1,
           1,
           1,
           1,
           1,
           1,
           1,
           1,
           1,
           1,
           1,
           1,
           1,
           1,
           1,
           1,
           1,
           1,
           1,
           1,
           1,
           1
          ],
          "coloraxis": "coloraxis",
          "size": [
           5192,
           4488,
           1479,
           1034,
           897,
           875,
           835,
           777,
           696,
           676,
           602,
           574,
           520,
           503,
           426,
           408,
           399,
           365,
           358,
           343,
           340,
           331,
           330,
           313,
           311,
           310,
           306,
           291,
           277,
           273,
           265,
           261,
           260,
           260,
           250,
           249,
           245,
           228,
           225,
           221,
           220,
           216,
           194,
           191,
           191,
           190,
           185,
           183,
           182,
           168,
           166,
           154,
           154,
           149,
           143,
           140,
           136,
           135,
           133,
           132,
           130,
           126,
           123,
           119,
           119,
           117,
           113,
           107,
           107,
           93,
           93,
           92,
           92,
           92,
           91,
           86,
           86,
           81,
           80,
           79,
           78,
           77,
           75,
           74,
           70,
           67,
           66,
           66,
           65,
           65,
           64,
           64,
           63,
           63,
           61,
           61,
           59,
           58,
           57,
           57,
           57,
           57,
           56,
           55,
           52,
           51,
           51,
           50,
           49,
           47,
           47,
           47,
           44,
           43,
           42,
           42,
           41,
           41,
           41,
           40,
           39,
           39,
           39,
           38,
           37,
           37,
           37,
           37,
           37,
           37,
           37,
           37,
           36,
           36,
           36,
           36,
           35,
           35,
           35,
           34,
           34,
           34,
           34,
           34,
           34,
           33,
           33,
           32,
           32,
           31,
           31,
           31,
           31,
           30,
           30,
           29,
           29,
           29,
           28,
           28,
           28,
           28,
           28,
           28,
           28,
           27,
           27,
           27,
           27,
           27,
           27,
           27,
           27,
           27,
           27,
           27,
           26,
           26,
           26,
           26,
           26,
           26,
           25,
           25,
           25,
           25,
           24,
           24,
           24,
           24,
           24,
           24,
           24,
           23,
           23,
           22,
           22,
           22,
           22,
           22,
           21,
           21,
           21,
           21,
           20,
           20,
           20,
           20,
           20,
           19,
           19,
           18,
           18,
           18,
           18,
           18,
           18,
           18,
           18,
           18,
           18,
           17,
           17,
           17,
           17,
           17,
           17,
           17,
           17,
           16,
           16,
           16,
           16,
           16,
           16,
           16,
           16,
           16,
           16,
           16,
           16,
           15,
           15,
           15,
           15,
           15,
           15,
           15,
           15,
           15,
           15,
           15,
           15,
           15,
           15,
           15,
           15,
           14,
           14,
           14,
           14,
           14,
           14,
           13,
           13,
           13,
           13,
           13,
           13,
           13,
           13,
           13,
           13,
           13,
           13,
           13,
           12,
           12,
           12,
           12,
           12,
           12,
           12,
           12,
           12,
           12,
           12,
           12,
           12,
           12,
           12,
           11,
           11,
           11,
           11,
           11,
           11,
           11,
           11,
           11,
           11,
           11,
           11,
           11,
           11,
           11,
           11,
           11,
           11,
           11,
           11,
           11,
           11,
           10,
           10,
           10,
           10,
           10,
           10,
           10,
           10,
           10,
           10,
           10,
           10,
           10,
           10,
           9,
           9,
           9,
           9,
           9,
           9,
           9,
           9,
           9,
           9,
           9,
           9,
           9,
           9,
           9,
           9,
           9,
           9,
           9,
           8,
           8,
           8,
           8,
           8,
           8,
           8,
           8,
           8,
           8,
           8,
           8,
           8,
           8,
           8,
           8,
           8,
           8,
           7,
           7,
           7,
           7,
           7,
           7,
           7,
           7,
           7,
           7,
           7,
           7,
           7,
           7,
           7,
           7,
           7,
           7,
           7,
           7,
           7,
           7,
           7,
           7,
           7,
           7,
           7,
           7,
           7,
           7,
           7,
           7,
           7,
           7,
           7,
           7,
           7,
           7,
           7,
           7,
           7,
           7,
           7,
           6,
           6,
           6,
           6,
           6,
           6,
           6,
           6,
           6,
           6,
           6,
           6,
           6,
           6,
           6,
           6,
           6,
           6,
           6,
           6,
           6,
           6,
           6,
           6,
           6,
           6,
           6,
           6,
           6,
           6,
           6,
           6,
           6,
           6,
           6,
           6,
           6,
           6,
           6,
           6,
           6,
           6,
           6,
           5,
           5,
           5,
           5,
           5,
           5,
           5,
           5,
           5,
           5,
           5,
           5,
           5,
           5,
           5,
           5,
           5,
           5,
           5,
           5,
           5,
           5,
           5,
           5,
           5,
           5,
           5,
           5,
           5,
           5,
           5,
           5,
           5,
           5,
           5,
           5,
           5,
           5,
           5,
           5,
           5,
           5,
           5,
           5,
           5,
           5,
           4,
           4,
           4,
           4,
           4,
           4,
           4,
           4,
           4,
           4,
           4,
           4,
           4,
           4,
           4,
           4,
           4,
           4,
           4,
           4,
           4,
           4,
           4,
           4,
           4,
           4,
           4,
           4,
           4,
           4,
           4,
           4,
           4,
           4,
           4,
           4,
           4,
           4,
           4,
           4,
           4,
           4,
           4,
           4,
           4,
           4,
           4,
           4,
           4,
           4,
           4,
           4,
           4,
           4,
           4,
           4,
           4,
           4,
           4,
           4,
           4,
           4,
           4,
           4,
           4,
           4,
           4,
           4,
           4,
           4,
           4,
           4,
           4,
           4,
           4,
           4,
           4,
           4,
           4,
           4,
           4,
           4,
           4,
           4,
           4,
           4,
           4,
           4,
           4,
           4,
           4,
           4,
           3,
           3,
           3,
           3,
           3,
           3,
           3,
           3,
           3,
           3,
           3,
           3,
           3,
           3,
           3,
           3,
           3,
           3,
           3,
           3,
           3,
           3,
           3,
           3,
           3,
           3,
           3,
           3,
           3,
           3,
           3,
           3,
           3,
           3,
           3,
           3,
           3,
           3,
           3,
           3,
           3,
           3,
           3,
           3,
           3,
           3,
           3,
           3,
           3,
           3,
           3,
           3,
           3,
           3,
           3,
           3,
           3,
           3,
           3,
           3,
           3,
           3,
           3,
           3,
           3,
           3,
           3,
           3,
           3,
           3,
           3,
           3,
           3,
           3,
           3,
           3,
           3,
           3,
           3,
           3,
           3,
           3,
           3,
           3,
           3,
           3,
           3,
           3,
           3,
           3,
           3,
           3,
           3,
           3,
           3,
           3,
           3,
           3,
           3,
           3,
           3,
           3,
           3,
           3,
           3,
           3,
           3,
           3,
           3,
           3,
           3,
           3,
           3,
           3,
           3,
           3,
           3,
           3,
           3,
           3,
           3,
           3,
           2,
           2,
           2,
           2,
           2,
           2,
           2,
           2,
           2,
           2,
           2,
           2,
           2,
           2,
           2,
           2,
           2,
           2,
           2,
           2,
           2,
           2,
           2,
           2,
           2,
           2,
           2,
           2,
           2,
           2,
           2,
           2,
           2,
           2,
           2,
           2,
           2,
           2,
           2,
           2,
           2,
           2,
           2,
           2,
           2,
           2,
           2,
           2,
           2,
           2,
           2,
           2,
           2,
           2,
           2,
           2,
           2,
           2,
           2,
           2,
           2,
           2,
           2,
           2,
           2,
           2,
           2,
           2,
           2,
           2,
           2,
           2,
           2,
           2,
           2,
           2,
           2,
           2,
           2,
           2,
           2,
           2,
           2,
           2,
           2,
           2,
           2,
           2,
           2,
           2,
           2,
           2,
           2,
           2,
           2,
           2,
           2,
           2,
           2,
           2,
           2,
           2,
           2,
           2,
           2,
           2,
           2,
           2,
           2,
           2,
           2,
           2,
           2,
           2,
           2,
           2,
           2,
           2,
           2,
           2,
           2,
           2,
           2,
           2,
           2,
           2,
           2,
           2,
           2,
           2,
           2,
           2,
           2,
           2,
           2,
           2,
           2,
           2,
           2,
           2,
           2,
           2,
           2,
           2,
           2,
           2,
           2,
           2,
           2,
           2,
           2,
           2,
           2,
           2,
           2,
           2,
           2,
           2,
           2,
           2,
           2,
           2,
           2,
           2,
           2,
           2,
           2,
           2,
           2,
           2,
           2,
           2,
           2,
           2,
           2,
           2,
           2,
           2,
           2,
           2,
           2,
           2,
           2,
           2,
           2,
           2,
           2,
           2,
           2,
           2,
           2,
           2,
           2,
           2,
           2,
           2,
           2,
           2,
           2,
           2,
           2,
           2,
           2,
           2,
           2,
           2,
           2,
           2,
           2,
           2,
           2,
           2,
           2,
           2,
           2,
           2,
           2,
           2,
           2,
           2,
           2,
           2,
           2,
           2,
           2,
           2,
           2,
           2,
           2,
           2,
           2,
           2,
           2,
           2,
           2,
           2,
           2,
           2,
           2,
           2,
           2,
           2,
           2,
           2,
           2,
           2,
           2,
           2,
           2,
           2,
           2,
           2,
           2,
           2,
           2,
           2,
           2,
           2,
           2,
           2,
           2,
           2,
           2,
           2,
           2,
           2,
           2,
           2,
           2,
           2,
           2,
           2,
           2,
           2,
           2,
           2,
           2,
           2,
           2,
           2,
           2,
           2,
           2,
           2,
           2,
           2,
           2,
           2,
           2,
           2,
           2,
           2,
           2,
           2,
           2,
           2,
           2,
           2,
           2,
           2,
           2,
           2,
           2,
           2,
           2,
           2,
           1,
           1,
           1,
           1,
           1,
           1,
           1,
           1,
           1,
           1,
           1,
           1,
           1,
           1,
           1,
           1,
           1,
           1,
           1,
           1,
           1,
           1,
           1,
           1,
           1,
           1,
           1,
           1,
           1,
           1,
           1,
           1,
           1,
           1,
           1,
           1,
           1,
           1,
           1,
           1,
           1,
           1,
           1,
           1,
           1,
           1,
           1,
           1,
           1,
           1,
           1,
           1,
           1,
           1,
           1,
           1,
           1,
           1,
           1,
           1,
           1,
           1,
           1,
           1,
           1,
           1,
           1,
           1,
           1,
           1,
           1,
           1,
           1,
           1,
           1,
           1,
           1,
           1,
           1,
           1,
           1,
           1,
           1,
           1,
           1,
           1,
           1,
           1,
           1,
           1,
           1,
           1,
           1,
           1,
           1,
           1,
           1,
           1,
           1,
           1,
           1,
           1,
           1,
           1,
           1,
           1,
           1,
           1,
           1,
           1,
           1,
           1,
           1,
           1,
           1,
           1,
           1,
           1,
           1,
           1,
           1,
           1,
           1,
           1,
           1,
           1,
           1,
           1,
           1,
           1,
           1,
           1,
           1,
           1,
           1,
           1,
           1,
           1,
           1,
           1,
           1,
           1,
           1,
           1,
           1,
           1,
           1,
           1,
           1,
           1,
           1,
           1,
           1,
           1,
           1,
           1,
           1,
           1,
           1,
           1,
           1,
           1,
           1,
           1,
           1,
           1,
           1,
           1,
           1,
           1,
           1,
           1,
           1,
           1,
           1,
           1,
           1,
           1,
           1,
           1,
           1,
           1,
           1,
           1,
           1,
           1,
           1,
           1,
           1,
           1,
           1,
           1,
           1,
           1,
           1,
           1,
           1,
           1,
           1,
           1,
           1,
           1,
           1,
           1,
           1,
           1,
           1,
           1,
           1,
           1,
           1,
           1,
           1,
           1,
           1,
           1,
           1,
           1,
           1,
           1,
           1,
           1,
           1,
           1,
           1,
           1,
           1,
           1,
           1,
           1,
           1,
           1,
           1,
           1,
           1,
           1,
           1,
           1,
           1,
           1,
           1,
           1,
           1,
           1,
           1,
           1,
           1,
           1,
           1,
           1,
           1,
           1,
           1,
           1,
           1,
           1,
           1,
           1,
           1,
           1,
           1,
           1,
           1,
           1,
           1,
           1,
           1,
           1,
           1,
           1,
           1,
           1,
           1,
           1,
           1,
           1,
           1,
           1,
           1,
           1,
           1,
           1,
           1,
           1,
           1,
           1,
           1,
           1,
           1,
           1,
           1,
           1,
           1,
           1,
           1,
           1,
           1,
           1,
           1,
           1,
           1,
           1,
           1,
           1,
           1,
           1,
           1,
           1,
           1,
           1,
           1,
           1,
           1,
           1,
           1,
           1,
           1,
           1,
           1,
           1,
           1,
           1,
           1,
           1,
           1,
           1,
           1,
           1,
           1,
           1,
           1,
           1,
           1,
           1,
           1,
           1,
           1,
           1,
           1,
           1,
           1,
           1,
           1,
           1,
           1,
           1,
           1,
           1,
           1,
           1,
           1,
           1,
           1,
           1,
           1,
           1,
           1,
           1,
           1,
           1,
           1,
           1,
           1,
           1,
           1,
           1,
           1,
           1,
           1,
           1,
           1,
           1,
           1,
           1,
           1,
           1,
           1,
           1,
           1,
           1,
           1,
           1,
           1,
           1,
           1,
           1,
           1,
           1,
           1,
           1,
           1,
           1,
           1,
           1,
           1,
           1,
           1,
           1,
           1,
           1,
           1,
           1,
           1,
           1,
           1,
           1,
           1,
           1,
           1,
           1,
           1,
           1,
           1,
           1,
           1,
           1,
           1,
           1,
           1,
           1,
           1,
           1,
           1,
           1,
           1,
           1,
           1,
           1,
           1,
           1,
           1,
           1,
           1,
           1,
           1,
           1,
           1,
           1,
           1,
           1,
           1,
           1,
           1,
           1,
           1,
           1,
           1,
           1,
           1,
           1,
           1,
           1,
           1,
           1,
           1,
           1,
           1,
           1,
           1,
           1,
           1,
           1,
           1,
           1,
           1,
           1,
           1,
           1,
           1,
           1,
           1,
           1,
           1,
           1,
           1,
           1,
           1,
           1,
           1,
           1,
           1,
           1,
           1,
           1,
           1,
           1,
           1,
           1,
           1,
           1,
           1,
           1,
           1,
           1,
           1,
           1,
           1,
           1,
           1,
           1,
           1,
           1,
           1,
           1,
           1,
           1,
           1,
           1,
           1,
           1,
           1,
           1,
           1,
           1,
           1,
           1,
           1,
           1,
           1,
           1,
           1,
           1,
           1,
           1,
           1,
           1,
           1,
           1,
           1,
           1,
           1,
           1,
           1,
           1,
           1,
           1,
           1,
           1,
           1,
           1,
           1,
           1,
           1,
           1,
           1,
           1,
           1,
           1,
           1,
           1,
           1,
           1,
           1,
           1,
           1,
           1,
           1,
           1,
           1,
           1,
           1,
           1,
           1,
           1,
           1,
           1,
           1,
           1,
           1,
           1,
           1,
           1,
           1,
           1,
           1,
           1,
           1,
           1,
           1,
           1,
           1,
           1,
           1,
           1,
           1,
           1,
           1,
           1,
           1,
           1,
           1,
           1,
           1,
           1,
           1,
           1,
           1,
           1,
           1,
           1,
           1,
           1,
           1,
           1,
           1,
           1,
           1,
           1,
           1,
           1,
           1,
           1,
           1,
           1,
           1,
           1,
           1,
           1,
           1,
           1,
           1,
           1,
           1,
           1,
           1,
           1,
           1,
           1,
           1,
           1,
           1,
           1,
           1,
           1,
           1,
           1,
           1,
           1,
           1,
           1,
           1,
           1,
           1,
           1,
           1,
           1,
           1,
           1,
           1,
           1,
           1,
           1,
           1,
           1,
           1,
           1,
           1,
           1,
           1,
           1,
           1,
           1,
           1,
           1,
           1,
           1,
           1,
           1,
           1,
           1,
           1,
           1,
           1,
           1,
           1,
           1,
           1,
           1,
           1,
           1,
           1,
           1,
           1,
           1,
           1,
           1,
           1,
           1,
           1,
           1,
           1,
           1,
           1,
           1,
           1,
           1,
           1,
           1,
           1,
           1,
           1,
           1,
           1,
           1,
           1,
           1,
           1,
           1,
           1,
           1,
           1,
           1,
           1,
           1,
           1,
           1,
           1,
           1,
           1,
           1,
           1,
           1,
           1,
           1,
           1,
           1,
           1,
           1,
           1,
           1,
           1,
           1,
           1,
           1,
           1,
           1,
           1,
           1,
           1,
           1,
           1,
           1,
           1,
           1,
           1,
           1,
           1,
           1,
           1,
           1,
           1,
           1,
           1,
           1,
           1,
           1,
           1,
           1,
           1,
           1,
           1,
           1,
           1,
           1,
           1,
           1,
           1,
           1,
           1,
           1,
           1,
           1,
           1,
           1,
           1,
           1,
           1,
           1,
           1,
           1,
           1,
           1,
           1,
           1,
           1,
           1,
           1,
           1,
           1,
           1,
           1,
           1,
           1,
           1,
           1,
           1,
           1,
           1,
           1,
           1,
           1,
           1,
           1,
           1,
           1,
           1,
           1,
           1,
           1,
           1,
           1,
           1,
           1,
           1,
           1,
           1,
           1,
           1,
           1,
           1,
           1,
           1,
           1,
           1,
           1,
           1,
           1,
           1,
           1,
           1,
           1,
           1,
           1,
           1,
           1,
           1,
           1,
           1,
           1,
           1,
           1,
           1,
           1,
           1,
           1,
           1,
           1,
           1,
           1,
           1,
           1,
           1,
           1,
           1,
           1,
           1,
           1,
           1,
           1,
           1,
           1,
           1,
           1,
           1,
           1,
           1,
           1,
           1,
           1,
           1,
           1,
           1,
           1,
           1,
           1,
           1,
           1,
           1,
           1,
           1,
           1,
           1,
           1,
           1,
           1,
           1,
           1,
           1,
           1,
           1,
           1,
           1,
           1,
           1,
           1,
           1,
           1,
           1,
           1,
           1,
           1,
           1,
           1,
           1,
           1,
           1,
           1,
           1,
           1,
           1,
           1,
           1,
           1,
           1,
           1,
           1,
           1,
           1,
           1,
           1,
           1,
           1,
           1,
           1,
           1,
           1,
           1,
           1,
           1,
           1,
           1,
           1,
           1,
           1,
           1,
           1,
           1,
           1,
           1,
           1,
           1,
           1,
           1,
           1,
           1,
           1,
           1,
           1,
           1,
           1,
           1,
           1,
           1,
           1,
           1,
           1,
           1,
           1,
           1,
           1,
           1,
           1,
           1,
           1,
           1,
           1,
           1,
           1,
           1,
           1,
           1,
           1,
           1,
           1,
           1,
           1,
           1,
           1,
           1,
           1,
           1,
           1,
           1,
           1,
           1,
           1,
           1,
           1,
           1,
           1,
           1,
           1,
           1,
           1,
           1,
           1,
           1,
           1,
           1,
           1,
           1,
           1,
           1,
           1,
           1,
           1,
           1,
           1,
           1,
           1,
           1,
           1,
           1,
           1,
           1,
           1,
           1,
           1,
           1,
           1,
           1,
           1,
           1,
           1,
           1,
           1,
           1,
           1,
           1,
           1,
           1,
           1,
           1,
           1,
           1,
           1,
           1,
           1,
           1,
           1,
           1,
           1,
           1,
           1,
           1,
           1,
           1,
           1,
           1,
           1,
           1,
           1,
           1,
           1,
           1,
           1,
           1,
           1,
           1,
           1,
           1,
           1,
           1,
           1,
           1,
           1,
           1,
           1,
           1,
           1,
           1,
           1,
           1,
           1,
           1,
           1,
           1,
           1,
           1,
           1,
           1,
           1,
           1,
           1,
           1,
           1,
           1,
           1,
           1,
           1,
           1,
           1,
           1,
           1,
           1,
           1,
           1,
           1,
           1,
           1,
           1,
           1,
           1,
           1,
           1,
           1,
           1,
           1,
           1,
           1,
           1,
           1,
           1
          ],
          "sizemode": "area",
          "sizeref": 2.0768
         },
         "mode": "markers",
         "name": "",
         "showlegend": false,
         "subplot": "mapbox",
         "type": "scattermapbox"
        }
       ],
       "layout": {
        "coloraxis": {
         "colorbar": {
          "title": {
           "text": "Tweet Count"
          }
         },
         "colorscale": [
          [
           0,
           "rgb(150,0,90)"
          ],
          [
           0.125,
           "rgb(0,0,200)"
          ],
          [
           0.25,
           "rgb(0,25,255)"
          ],
          [
           0.375,
           "rgb(0,152,255)"
          ],
          [
           0.5,
           "rgb(44,255,150)"
          ],
          [
           0.625,
           "rgb(151,255,0)"
          ],
          [
           0.75,
           "rgb(255,234,0)"
          ],
          [
           0.875,
           "rgb(255,111,0)"
          ],
          [
           1,
           "rgb(255,0,0)"
          ]
         ]
        },
        "height": 600,
        "legend": {
         "itemsizing": "constant",
         "tracegroupgap": 0
        },
        "mapbox": {
         "center": {
          "lat": 22.30710271350403,
          "lon": 75.55815450229787
         },
         "domain": {
          "x": [
           0,
           1
          ],
          "y": [
           0,
           1
          ]
         },
         "style": "carto-darkmatter",
         "zoom": 4
        },
        "margin": {
         "b": 0,
         "l": 0,
         "r": 0,
         "t": 0
        },
        "template": {
         "data": {
          "bar": [
           {
            "error_x": {
             "color": "#f2f5fa"
            },
            "error_y": {
             "color": "#f2f5fa"
            },
            "marker": {
             "line": {
              "color": "rgb(17,17,17)",
              "width": 0.5
             }
            },
            "type": "bar"
           }
          ],
          "barpolar": [
           {
            "marker": {
             "line": {
              "color": "rgb(17,17,17)",
              "width": 0.5
             }
            },
            "type": "barpolar"
           }
          ],
          "carpet": [
           {
            "aaxis": {
             "endlinecolor": "#A2B1C6",
             "gridcolor": "#506784",
             "linecolor": "#506784",
             "minorgridcolor": "#506784",
             "startlinecolor": "#A2B1C6"
            },
            "baxis": {
             "endlinecolor": "#A2B1C6",
             "gridcolor": "#506784",
             "linecolor": "#506784",
             "minorgridcolor": "#506784",
             "startlinecolor": "#A2B1C6"
            },
            "type": "carpet"
           }
          ],
          "choropleth": [
           {
            "colorbar": {
             "outlinewidth": 0,
             "ticks": ""
            },
            "type": "choropleth"
           }
          ],
          "contour": [
           {
            "colorbar": {
             "outlinewidth": 0,
             "ticks": ""
            },
            "colorscale": [
             [
              0,
              "#0d0887"
             ],
             [
              0.1111111111111111,
              "#46039f"
             ],
             [
              0.2222222222222222,
              "#7201a8"
             ],
             [
              0.3333333333333333,
              "#9c179e"
             ],
             [
              0.4444444444444444,
              "#bd3786"
             ],
             [
              0.5555555555555556,
              "#d8576b"
             ],
             [
              0.6666666666666666,
              "#ed7953"
             ],
             [
              0.7777777777777778,
              "#fb9f3a"
             ],
             [
              0.8888888888888888,
              "#fdca26"
             ],
             [
              1,
              "#f0f921"
             ]
            ],
            "type": "contour"
           }
          ],
          "contourcarpet": [
           {
            "colorbar": {
             "outlinewidth": 0,
             "ticks": ""
            },
            "type": "contourcarpet"
           }
          ],
          "heatmap": [
           {
            "colorbar": {
             "outlinewidth": 0,
             "ticks": ""
            },
            "colorscale": [
             [
              0,
              "#0d0887"
             ],
             [
              0.1111111111111111,
              "#46039f"
             ],
             [
              0.2222222222222222,
              "#7201a8"
             ],
             [
              0.3333333333333333,
              "#9c179e"
             ],
             [
              0.4444444444444444,
              "#bd3786"
             ],
             [
              0.5555555555555556,
              "#d8576b"
             ],
             [
              0.6666666666666666,
              "#ed7953"
             ],
             [
              0.7777777777777778,
              "#fb9f3a"
             ],
             [
              0.8888888888888888,
              "#fdca26"
             ],
             [
              1,
              "#f0f921"
             ]
            ],
            "type": "heatmap"
           }
          ],
          "heatmapgl": [
           {
            "colorbar": {
             "outlinewidth": 0,
             "ticks": ""
            },
            "colorscale": [
             [
              0,
              "#0d0887"
             ],
             [
              0.1111111111111111,
              "#46039f"
             ],
             [
              0.2222222222222222,
              "#7201a8"
             ],
             [
              0.3333333333333333,
              "#9c179e"
             ],
             [
              0.4444444444444444,
              "#bd3786"
             ],
             [
              0.5555555555555556,
              "#d8576b"
             ],
             [
              0.6666666666666666,
              "#ed7953"
             ],
             [
              0.7777777777777778,
              "#fb9f3a"
             ],
             [
              0.8888888888888888,
              "#fdca26"
             ],
             [
              1,
              "#f0f921"
             ]
            ],
            "type": "heatmapgl"
           }
          ],
          "histogram": [
           {
            "marker": {
             "colorbar": {
              "outlinewidth": 0,
              "ticks": ""
             }
            },
            "type": "histogram"
           }
          ],
          "histogram2d": [
           {
            "colorbar": {
             "outlinewidth": 0,
             "ticks": ""
            },
            "colorscale": [
             [
              0,
              "#0d0887"
             ],
             [
              0.1111111111111111,
              "#46039f"
             ],
             [
              0.2222222222222222,
              "#7201a8"
             ],
             [
              0.3333333333333333,
              "#9c179e"
             ],
             [
              0.4444444444444444,
              "#bd3786"
             ],
             [
              0.5555555555555556,
              "#d8576b"
             ],
             [
              0.6666666666666666,
              "#ed7953"
             ],
             [
              0.7777777777777778,
              "#fb9f3a"
             ],
             [
              0.8888888888888888,
              "#fdca26"
             ],
             [
              1,
              "#f0f921"
             ]
            ],
            "type": "histogram2d"
           }
          ],
          "histogram2dcontour": [
           {
            "colorbar": {
             "outlinewidth": 0,
             "ticks": ""
            },
            "colorscale": [
             [
              0,
              "#0d0887"
             ],
             [
              0.1111111111111111,
              "#46039f"
             ],
             [
              0.2222222222222222,
              "#7201a8"
             ],
             [
              0.3333333333333333,
              "#9c179e"
             ],
             [
              0.4444444444444444,
              "#bd3786"
             ],
             [
              0.5555555555555556,
              "#d8576b"
             ],
             [
              0.6666666666666666,
              "#ed7953"
             ],
             [
              0.7777777777777778,
              "#fb9f3a"
             ],
             [
              0.8888888888888888,
              "#fdca26"
             ],
             [
              1,
              "#f0f921"
             ]
            ],
            "type": "histogram2dcontour"
           }
          ],
          "mesh3d": [
           {
            "colorbar": {
             "outlinewidth": 0,
             "ticks": ""
            },
            "type": "mesh3d"
           }
          ],
          "parcoords": [
           {
            "line": {
             "colorbar": {
              "outlinewidth": 0,
              "ticks": ""
             }
            },
            "type": "parcoords"
           }
          ],
          "pie": [
           {
            "automargin": true,
            "type": "pie"
           }
          ],
          "scatter": [
           {
            "marker": {
             "line": {
              "color": "#283442"
             }
            },
            "type": "scatter"
           }
          ],
          "scatter3d": [
           {
            "line": {
             "colorbar": {
              "outlinewidth": 0,
              "ticks": ""
             }
            },
            "marker": {
             "colorbar": {
              "outlinewidth": 0,
              "ticks": ""
             }
            },
            "type": "scatter3d"
           }
          ],
          "scattercarpet": [
           {
            "marker": {
             "colorbar": {
              "outlinewidth": 0,
              "ticks": ""
             }
            },
            "type": "scattercarpet"
           }
          ],
          "scattergeo": [
           {
            "marker": {
             "colorbar": {
              "outlinewidth": 0,
              "ticks": ""
             }
            },
            "type": "scattergeo"
           }
          ],
          "scattergl": [
           {
            "marker": {
             "line": {
              "color": "#283442"
             }
            },
            "type": "scattergl"
           }
          ],
          "scattermapbox": [
           {
            "marker": {
             "colorbar": {
              "outlinewidth": 0,
              "ticks": ""
             }
            },
            "type": "scattermapbox"
           }
          ],
          "scatterpolar": [
           {
            "marker": {
             "colorbar": {
              "outlinewidth": 0,
              "ticks": ""
             }
            },
            "type": "scatterpolar"
           }
          ],
          "scatterpolargl": [
           {
            "marker": {
             "colorbar": {
              "outlinewidth": 0,
              "ticks": ""
             }
            },
            "type": "scatterpolargl"
           }
          ],
          "scatterternary": [
           {
            "marker": {
             "colorbar": {
              "outlinewidth": 0,
              "ticks": ""
             }
            },
            "type": "scatterternary"
           }
          ],
          "surface": [
           {
            "colorbar": {
             "outlinewidth": 0,
             "ticks": ""
            },
            "colorscale": [
             [
              0,
              "#0d0887"
             ],
             [
              0.1111111111111111,
              "#46039f"
             ],
             [
              0.2222222222222222,
              "#7201a8"
             ],
             [
              0.3333333333333333,
              "#9c179e"
             ],
             [
              0.4444444444444444,
              "#bd3786"
             ],
             [
              0.5555555555555556,
              "#d8576b"
             ],
             [
              0.6666666666666666,
              "#ed7953"
             ],
             [
              0.7777777777777778,
              "#fb9f3a"
             ],
             [
              0.8888888888888888,
              "#fdca26"
             ],
             [
              1,
              "#f0f921"
             ]
            ],
            "type": "surface"
           }
          ],
          "table": [
           {
            "cells": {
             "fill": {
              "color": "#506784"
             },
             "line": {
              "color": "rgb(17,17,17)"
             }
            },
            "header": {
             "fill": {
              "color": "#2a3f5f"
             },
             "line": {
              "color": "rgb(17,17,17)"
             }
            },
            "type": "table"
           }
          ]
         },
         "layout": {
          "annotationdefaults": {
           "arrowcolor": "#f2f5fa",
           "arrowhead": 0,
           "arrowwidth": 1
          },
          "autotypenumbers": "strict",
          "coloraxis": {
           "colorbar": {
            "outlinewidth": 0,
            "ticks": ""
           }
          },
          "colorscale": {
           "diverging": [
            [
             0,
             "#8e0152"
            ],
            [
             0.1,
             "#c51b7d"
            ],
            [
             0.2,
             "#de77ae"
            ],
            [
             0.3,
             "#f1b6da"
            ],
            [
             0.4,
             "#fde0ef"
            ],
            [
             0.5,
             "#f7f7f7"
            ],
            [
             0.6,
             "#e6f5d0"
            ],
            [
             0.7,
             "#b8e186"
            ],
            [
             0.8,
             "#7fbc41"
            ],
            [
             0.9,
             "#4d9221"
            ],
            [
             1,
             "#276419"
            ]
           ],
           "sequential": [
            [
             0,
             "#0d0887"
            ],
            [
             0.1111111111111111,
             "#46039f"
            ],
            [
             0.2222222222222222,
             "#7201a8"
            ],
            [
             0.3333333333333333,
             "#9c179e"
            ],
            [
             0.4444444444444444,
             "#bd3786"
            ],
            [
             0.5555555555555556,
             "#d8576b"
            ],
            [
             0.6666666666666666,
             "#ed7953"
            ],
            [
             0.7777777777777778,
             "#fb9f3a"
            ],
            [
             0.8888888888888888,
             "#fdca26"
            ],
            [
             1,
             "#f0f921"
            ]
           ],
           "sequentialminus": [
            [
             0,
             "#0d0887"
            ],
            [
             0.1111111111111111,
             "#46039f"
            ],
            [
             0.2222222222222222,
             "#7201a8"
            ],
            [
             0.3333333333333333,
             "#9c179e"
            ],
            [
             0.4444444444444444,
             "#bd3786"
            ],
            [
             0.5555555555555556,
             "#d8576b"
            ],
            [
             0.6666666666666666,
             "#ed7953"
            ],
            [
             0.7777777777777778,
             "#fb9f3a"
            ],
            [
             0.8888888888888888,
             "#fdca26"
            ],
            [
             1,
             "#f0f921"
            ]
           ]
          },
          "colorway": [
           "#636efa",
           "#EF553B",
           "#00cc96",
           "#ab63fa",
           "#FFA15A",
           "#19d3f3",
           "#FF6692",
           "#B6E880",
           "#FF97FF",
           "#FECB52"
          ],
          "font": {
           "color": "#f2f5fa"
          },
          "geo": {
           "bgcolor": "rgb(17,17,17)",
           "lakecolor": "rgb(17,17,17)",
           "landcolor": "rgb(17,17,17)",
           "showlakes": true,
           "showland": true,
           "subunitcolor": "#506784"
          },
          "hoverlabel": {
           "align": "left"
          },
          "hovermode": "closest",
          "mapbox": {
           "style": "dark"
          },
          "paper_bgcolor": "rgb(17,17,17)",
          "plot_bgcolor": "rgb(17,17,17)",
          "polar": {
           "angularaxis": {
            "gridcolor": "#506784",
            "linecolor": "#506784",
            "ticks": ""
           },
           "bgcolor": "rgb(17,17,17)",
           "radialaxis": {
            "gridcolor": "#506784",
            "linecolor": "#506784",
            "ticks": ""
           }
          },
          "scene": {
           "xaxis": {
            "backgroundcolor": "rgb(17,17,17)",
            "gridcolor": "#506784",
            "gridwidth": 2,
            "linecolor": "#506784",
            "showbackground": true,
            "ticks": "",
            "zerolinecolor": "#C8D4E3"
           },
           "yaxis": {
            "backgroundcolor": "rgb(17,17,17)",
            "gridcolor": "#506784",
            "gridwidth": 2,
            "linecolor": "#506784",
            "showbackground": true,
            "ticks": "",
            "zerolinecolor": "#C8D4E3"
           },
           "zaxis": {
            "backgroundcolor": "rgb(17,17,17)",
            "gridcolor": "#506784",
            "gridwidth": 2,
            "linecolor": "#506784",
            "showbackground": true,
            "ticks": "",
            "zerolinecolor": "#C8D4E3"
           }
          },
          "shapedefaults": {
           "line": {
            "color": "#f2f5fa"
           }
          },
          "sliderdefaults": {
           "bgcolor": "#C8D4E3",
           "bordercolor": "rgb(17,17,17)",
           "borderwidth": 1,
           "tickwidth": 0
          },
          "ternary": {
           "aaxis": {
            "gridcolor": "#506784",
            "linecolor": "#506784",
            "ticks": ""
           },
           "baxis": {
            "gridcolor": "#506784",
            "linecolor": "#506784",
            "ticks": ""
           },
           "bgcolor": "rgb(17,17,17)",
           "caxis": {
            "gridcolor": "#506784",
            "linecolor": "#506784",
            "ticks": ""
           }
          },
          "title": {
           "x": 0.05
          },
          "updatemenudefaults": {
           "bgcolor": "#506784",
           "borderwidth": 0
          },
          "xaxis": {
           "automargin": true,
           "gridcolor": "#283442",
           "linecolor": "#506784",
           "ticks": "",
           "title": {
            "standoff": 15
           },
           "zerolinecolor": "#283442",
           "zerolinewidth": 2
          },
          "yaxis": {
           "automargin": true,
           "gridcolor": "#283442",
           "linecolor": "#506784",
           "ticks": "",
           "title": {
            "standoff": 15
           },
           "zerolinecolor": "#283442",
           "zerolinewidth": 2
          }
         }
        }
       }
      },
      "text/html": [
       "<div>                            <div id=\"25c4e244-1bfc-46f1-9e2f-c5d75294d0be\" class=\"plotly-graph-div\" style=\"height:600px; width:100%;\"></div>            <script type=\"text/javascript\">                require([\"plotly\"], function(Plotly) {                    window.PLOTLYENV=window.PLOTLYENV || {};                                    if (document.getElementById(\"25c4e244-1bfc-46f1-9e2f-c5d75294d0be\")) {                    Plotly.newPlot(                        \"25c4e244-1bfc-46f1-9e2f-c5d75294d0be\",                        [{\"customdata\": [[5192], [4488], [1479], [1034], [897], [875], [835], [777], [696], [676], [602], [574], [520], [503], [426], [408], [399], [365], [358], [343], [340], [331], [330], [313], [311], [310], [306], [291], [277], [273], [265], [261], [260], [260], [250], [249], [245], [228], [225], [221], [220], [216], [194], [191], [191], [190], [185], [183], [182], [168], [166], [154], [154], [149], [143], [140], [136], [135], [133], [132], [130], [126], [123], [119], [119], [117], [113], [107], [107], [93], [93], [92], [92], [92], [91], [86], [86], [81], [80], [79], [78], [77], [75], [74], [70], [67], [66], [66], [65], [65], [64], [64], [63], [63], [61], [61], [59], [58], [57], [57], [57], [57], [56], [55], [52], [51], [51], [50], [49], [47], [47], [47], [44], [43], [42], [42], [41], [41], [41], [40], [39], [39], [39], [38], [37], [37], [37], [37], [37], [37], [37], [37], [36], [36], [36], [36], [35], [35], [35], [34], [34], [34], [34], [34], [34], [33], [33], [32], [32], [31], [31], [31], [31], [30], [30], [29], [29], [29], [28], [28], [28], [28], [28], [28], [28], [27], [27], [27], [27], [27], [27], [27], [27], [27], [27], [27], [26], [26], [26], [26], [26], [26], [25], [25], [25], [25], [24], [24], [24], [24], [24], [24], [24], [23], [23], [22], [22], [22], [22], [22], [21], [21], [21], [21], [20], [20], [20], [20], [20], [19], [19], [18], [18], [18], [18], [18], [18], [18], [18], [18], [18], [17], [17], [17], [17], [17], [17], [17], [17], [16], [16], [16], [16], [16], [16], [16], [16], [16], [16], [16], [16], [15], [15], [15], [15], [15], [15], [15], [15], [15], [15], [15], [15], [15], [15], [15], [15], [14], [14], [14], [14], [14], [14], [13], [13], [13], [13], [13], [13], [13], [13], [13], [13], [13], [13], [13], [12], [12], [12], [12], [12], [12], [12], [12], [12], [12], [12], [12], [12], [12], [12], [11], [11], [11], [11], [11], [11], [11], [11], [11], [11], [11], [11], [11], [11], [11], [11], [11], [11], [11], [11], [11], [11], [10], [10], [10], [10], [10], [10], [10], [10], [10], [10], [10], [10], [10], [10], [9], [9], [9], [9], [9], [9], [9], [9], [9], [9], [9], [9], [9], [9], [9], [9], [9], [9], [9], [8], [8], [8], [8], [8], [8], [8], [8], [8], [8], [8], [8], [8], [8], [8], [8], [8], [8], [7], [7], [7], [7], [7], [7], [7], [7], [7], [7], [7], [7], [7], [7], [7], [7], [7], [7], [7], [7], [7], [7], [7], [7], [7], [7], [7], [7], [7], [7], [7], [7], [7], [7], [7], [7], [7], [7], [7], [7], [7], [7], [7], [6], [6], [6], [6], [6], [6], [6], [6], [6], [6], [6], [6], [6], [6], [6], [6], [6], [6], [6], [6], [6], [6], [6], [6], [6], [6], [6], [6], [6], [6], [6], [6], [6], [6], [6], [6], [6], [6], [6], [6], [6], [6], [6], [5], [5], [5], [5], [5], [5], [5], [5], [5], [5], [5], [5], [5], [5], [5], [5], [5], [5], [5], [5], [5], [5], [5], [5], [5], [5], [5], [5], [5], [5], [5], [5], [5], [5], [5], [5], [5], [5], [5], [5], [5], [5], [5], [5], [5], [5], [4], [4], [4], [4], [4], [4], [4], [4], [4], [4], [4], [4], [4], [4], [4], [4], [4], [4], [4], [4], [4], [4], [4], [4], [4], [4], [4], [4], [4], [4], [4], [4], [4], [4], [4], [4], [4], [4], [4], [4], [4], [4], [4], [4], [4], [4], [4], [4], [4], [4], [4], [4], [4], [4], [4], [4], [4], [4], [4], [4], [4], [4], [4], [4], [4], [4], [4], [4], [4], [4], [4], [4], [4], [4], [4], [4], [4], [4], [4], [4], [4], [4], [4], [4], [4], [4], [4], [4], [4], [4], [4], [4], [3], [3], [3], [3], [3], [3], [3], [3], [3], [3], [3], [3], [3], [3], [3], [3], [3], [3], [3], [3], [3], [3], [3], [3], [3], [3], [3], [3], [3], [3], [3], [3], [3], [3], [3], [3], [3], [3], [3], [3], [3], [3], [3], [3], [3], [3], [3], [3], [3], [3], [3], [3], [3], [3], [3], [3], [3], [3], [3], [3], [3], [3], [3], [3], [3], [3], [3], [3], [3], [3], [3], [3], [3], [3], [3], [3], [3], [3], [3], [3], [3], [3], [3], [3], [3], [3], [3], [3], [3], [3], [3], [3], [3], [3], [3], [3], [3], [3], [3], [3], [3], [3], [3], [3], [3], [3], [3], [3], [3], [3], [3], [3], [3], [3], [3], [3], [3], [3], [3], [3], [3], [3], [2], [2], [2], [2], [2], [2], [2], [2], [2], [2], [2], [2], [2], [2], [2], [2], [2], [2], [2], [2], [2], [2], [2], [2], [2], [2], [2], [2], [2], [2], [2], [2], [2], [2], [2], [2], [2], [2], [2], [2], [2], [2], [2], [2], [2], [2], [2], [2], [2], [2], [2], [2], [2], [2], [2], [2], [2], [2], [2], [2], [2], [2], [2], [2], [2], [2], [2], [2], [2], [2], [2], [2], [2], [2], [2], [2], [2], [2], [2], [2], [2], [2], [2], [2], [2], [2], [2], [2], [2], [2], [2], [2], [2], [2], [2], [2], [2], [2], [2], [2], [2], [2], [2], [2], [2], [2], [2], [2], [2], [2], [2], [2], [2], [2], [2], [2], [2], [2], [2], [2], [2], [2], [2], [2], [2], [2], [2], [2], [2], [2], [2], [2], [2], [2], [2], [2], [2], [2], [2], [2], [2], [2], [2], [2], [2], [2], [2], [2], [2], [2], [2], [2], [2], [2], [2], [2], [2], [2], [2], [2], [2], [2], [2], [2], [2], [2], [2], [2], [2], [2], [2], [2], [2], [2], [2], [2], [2], [2], [2], [2], [2], [2], [2], [2], [2], [2], [2], [2], [2], [2], [2], [2], [2], [2], [2], [2], [2], [2], [2], [2], [2], [2], [2], [2], [2], [2], [2], [2], [2], [2], [2], [2], [2], [2], [2], [2], [2], [2], [2], [2], [2], [2], [2], [2], [2], [2], [2], [2], [2], [2], [2], [2], [2], [2], [2], [2], [2], [2], [2], [2], [2], [2], [2], [2], [2], [2], [2], [2], [2], [2], [2], [2], [2], [2], [2], [2], [2], [2], [2], [2], [2], [2], [2], [2], [2], [2], [2], [2], [2], [2], [2], [2], [2], [2], [2], [2], [2], [2], [2], [2], [2], [2], [2], [2], [2], [2], [2], [2], [2], [2], [2], [2], [2], [2], [2], [2], [2], [2], [2], [2], [2], [2], [2], [2], [2], [2], [1], [1], [1], [1], [1], [1], [1], [1], [1], [1], [1], [1], [1], [1], [1], [1], [1], [1], [1], [1], [1], [1], [1], [1], [1], [1], [1], [1], [1], [1], [1], [1], [1], [1], [1], [1], [1], [1], [1], [1], [1], [1], [1], [1], [1], [1], [1], [1], [1], [1], [1], [1], [1], [1], [1], [1], [1], [1], [1], [1], [1], [1], [1], [1], [1], [1], [1], [1], [1], [1], [1], [1], [1], [1], [1], [1], [1], [1], [1], [1], [1], [1], [1], [1], [1], [1], [1], [1], [1], [1], [1], [1], [1], [1], [1], [1], [1], [1], [1], [1], [1], [1], [1], [1], [1], [1], [1], [1], [1], [1], [1], [1], [1], [1], [1], [1], [1], [1], [1], [1], [1], [1], [1], [1], [1], [1], [1], [1], [1], [1], [1], [1], [1], [1], [1], [1], [1], [1], [1], [1], [1], [1], [1], [1], [1], [1], [1], [1], [1], [1], [1], [1], [1], [1], [1], [1], [1], [1], [1], [1], [1], [1], [1], [1], [1], [1], [1], [1], [1], [1], [1], [1], [1], [1], [1], [1], [1], [1], [1], [1], [1], [1], [1], [1], [1], [1], [1], [1], [1], [1], [1], [1], [1], [1], [1], [1], [1], [1], [1], [1], [1], [1], [1], [1], [1], [1], [1], [1], [1], [1], [1], [1], [1], [1], [1], [1], [1], [1], [1], [1], [1], [1], [1], [1], [1], [1], [1], [1], [1], [1], [1], [1], [1], [1], [1], [1], [1], [1], [1], [1], [1], [1], [1], [1], [1], [1], [1], [1], [1], [1], [1], [1], [1], [1], [1], [1], [1], [1], [1], [1], [1], [1], [1], [1], [1], [1], [1], [1], [1], [1], [1], [1], [1], [1], [1], [1], [1], [1], [1], [1], [1], [1], [1], [1], [1], [1], [1], [1], [1], [1], [1], [1], [1], [1], [1], [1], [1], [1], [1], [1], [1], [1], [1], [1], [1], [1], [1], [1], [1], [1], [1], [1], [1], [1], [1], [1], [1], [1], [1], [1], [1], [1], [1], [1], [1], [1], [1], [1], [1], [1], [1], [1], [1], [1], [1], [1], [1], [1], [1], [1], [1], [1], [1], [1], [1], [1], [1], [1], [1], [1], [1], [1], [1], [1], [1], [1], [1], [1], [1], [1], [1], [1], [1], [1], [1], [1], [1], [1], [1], [1], [1], [1], [1], [1], [1], [1], [1], [1], [1], [1], [1], [1], [1], [1], [1], [1], [1], [1], [1], [1], [1], [1], [1], [1], [1], [1], [1], [1], [1], [1], [1], [1], [1], [1], [1], [1], [1], [1], [1], [1], [1], [1], [1], [1], [1], [1], [1], [1], [1], [1], [1], [1], [1], [1], [1], [1], [1], [1], [1], [1], [1], [1], [1], [1], [1], [1], [1], [1], [1], [1], [1], [1], [1], [1], [1], [1], [1], [1], [1], [1], [1], [1], [1], [1], [1], [1], [1], [1], [1], [1], [1], [1], [1], [1], [1], [1], [1], [1], [1], [1], [1], [1], [1], [1], [1], [1], [1], [1], [1], [1], [1], [1], [1], [1], [1], [1], [1], [1], [1], [1], [1], [1], [1], [1], [1], [1], [1], [1], [1], [1], [1], [1], [1], [1], [1], [1], [1], [1], [1], [1], [1], [1], [1], [1], [1], [1], [1], [1], [1], [1], [1], [1], [1], [1], [1], [1], [1], [1], [1], [1], [1], [1], [1], [1], [1], [1], [1], [1], [1], [1], [1], [1], [1], [1], [1], [1], [1], [1], [1], [1], [1], [1], [1], [1], [1], [1], [1], [1], [1], [1], [1], [1], [1], [1], [1], [1], [1], [1], [1], [1], [1], [1], [1], [1], [1], [1], [1], [1], [1], [1], [1], [1], [1], [1], [1], [1], [1], [1], [1], [1], [1], [1], [1], [1], [1], [1], [1], [1], [1], [1], [1], [1], [1], [1], [1], [1], [1], [1], [1], [1], [1], [1], [1], [1], [1], [1], [1], [1], [1], [1], [1], [1], [1], [1], [1], [1], [1], [1], [1], [1], [1], [1], [1], [1], [1], [1], [1], [1], [1], [1], [1], [1], [1], [1], [1], [1], [1], [1], [1], [1], [1], [1], [1], [1], [1], [1], [1], [1], [1], [1], [1], [1], [1], [1], [1], [1], [1], [1], [1], [1], [1], [1], [1], [1], [1], [1], [1], [1], [1], [1], [1], [1], [1], [1], [1], [1], [1], [1], [1], [1], [1], [1], [1], [1], [1], [1], [1], [1], [1], [1], [1], [1], [1], [1], [1], [1], [1], [1], [1], [1], [1], [1], [1], [1], [1], [1], [1], [1], [1], [1], [1], [1], [1], [1], [1], [1], [1], [1], [1], [1], [1], [1], [1], [1], [1], [1], [1], [1], [1], [1], [1], [1], [1], [1], [1], [1], [1], [1], [1], [1], [1], [1], [1], [1], [1], [1], [1], [1], [1], [1], [1], [1], [1], [1], [1], [1], [1], [1], [1], [1], [1], [1], [1], [1], [1], [1], [1], [1], [1], [1], [1], [1], [1], [1], [1], [1], [1], [1], [1], [1], [1], [1], [1], [1], [1], [1], [1], [1], [1], [1], [1], [1], [1], [1], [1], [1], [1], [1], [1], [1], [1], [1], [1], [1], [1], [1], [1], [1], [1], [1], [1], [1], [1], [1], [1], [1], [1], [1], [1], [1], [1], [1], [1], [1], [1], [1], [1], [1], [1], [1], [1], [1], [1], [1], [1], [1], [1], [1], [1], [1], [1], [1], [1], [1], [1], [1], [1], [1], [1], [1], [1], [1], [1], [1], [1], [1], [1], [1], [1], [1], [1], [1], [1], [1], [1], [1], [1], [1], [1], [1], [1], [1], [1], [1], [1], [1], [1], [1], [1], [1], [1], [1], [1], [1], [1], [1], [1], [1], [1], [1], [1], [1], [1], [1], [1], [1], [1], [1], [1], [1], [1], [1], [1], [1], [1], [1], [1], [1], [1], [1], [1], [1], [1], [1], [1], [1], [1], [1], [1], [1], [1], [1], [1], [1], [1], [1], [1], [1], [1], [1], [1], [1], [1], [1], [1], [1], [1], [1], [1], [1], [1], [1], [1], [1], [1], [1], [1], [1], [1], [1], [1], [1], [1], [1], [1], [1], [1], [1], [1], [1], [1], [1], [1], [1], [1], [1], [1], [1], [1], [1], [1], [1], [1], [1], [1], [1], [1], [1], [1], [1], [1], [1], [1], [1], [1], [1], [1], [1], [1], [1], [1], [1], [1], [1], [1], [1], [1], [1], [1], [1], [1], [1], [1], [1], [1], [1], [1], [1], [1], [1], [1], [1], [1], [1], [1], [1], [1], [1], [1], [1], [1], [1], [1], [1], [1], [1], [1], [1], [1], [1], [1], [1], [1], [1], [1], [1], [1], [1], [1], [1], [1], [1], [1], [1], [1], [1], [1], [1], [1], [1], [1], [1], [1], [1], [1], [1], [1], [1], [1], [1], [1], [1], [1], [1], [1], [1], [1], [1], [1], [1], [1], [1], [1], [1], [1], [1], [1], [1], [1], [1], [1], [1], [1], [1], [1], [1], [1], [1], [1], [1], [1], [1], [1], [1], [1], [1], [1], [1], [1], [1], [1], [1], [1]], \"hovertemplate\": \"<b>%{hovertext}</b><br><br>Tweet Count=%{marker.color}<br>lat=%{lat}<br>lon=%{lon}<extra></extra>\", \"hovertext\": [\"New Delhi, India\", \"Mumbai, India\", \"Bengaluru South, India\", \"Kolkata, India\", \"Noida, India\", \"Gurgaon, India\", \"Ghaziabad, India\", \"Bengaluru, India\", \"Haveli, India\", \"Lucknow, India\", \"Ahmadabad City, India\", \"Hyderabad, India\", \"Rajendra Nagar, India\", \"India\", \"Uttar Pradesh, India\", \"Rajasthan, India\", \"Pune, India\", \"Bhubaneshwar, India\", \"Greater Noida, India\", \"Jaipur, India\", \"Surat, India\", \"Navi Mumbai, India\", \"Patna, India\", \"Maharashtra, India\", \"Nagpur, India\", \"Chandigarh, India\", \"Orissa, India\", \"Guwahati, India\", \"Thane, India\", \"Cuttack, India\", \"Daskroi, India\", \"Indore, India\", \"Sholinganallur, India\", \"Faridabad, India\", \"Hayathnagar, India\", \"Karnataka, India\", \"Bihar, India\", \"Haora, India\", \"Bhopal, India\", \"Ranchi, India\", \"Varanasi, India\", \"Saidapet, India\", \"Jodhpur, India\", \"Kerala, India\", \"Madhya Pradesh, India\", \"Panvel, India\", \"Tamil Nadu, India\", \"Kanpur, India\", \"Nashik, India\", \"Gujarat, India\", \"Kalyan Dombivali, India\", \"Amritsar, India\", \"Dehradun, India\", \"Chennai, India\", \"Chhattisgarh, India\", \"Raipur, India\", \"Andhra Pradesh, India\", \"Coimbatore, India\", \"Bidhan Nagar, India\", \"Trivandrum, India\", \"Meerut, India\", \"Fort Tondiarpet, India\", \"West Bengal, India\", \"Agra, India\", \"Egmore Nungambakkam, India\", \"Mysore, India\", \"Allahabad, India\", \"Jamshedpur, India\", \"Himachal Pradesh, India\", \"Mohali, India\", \"Ludhiana, India\", \"Panchkula, India\", \"Silchar, India\", \"Gorakhpur, India\", \"Mangalore, India\", \"Assam, India\", \"Chengalpattu, India\", \"Udaipur, India\", \"Rajahmundry, India\", \"Moradabad, India\", \"Kota, India\", \"Hisar, India\", \"Danapur, India\", \"Gwalior, India\", \"Aurangabad, India\", \"Rajkot, India\", \"Kanayannur, India\", \"Faizabad, India\", \"Ulhasnagar, India\", \"Mhow, India\", \"Chhapra, India\", \"Haryana, India\", \"Gulbarga, India\", \"Patiala, India\", \"Ujjain, India\", \"Gandhinagar, India\", \"Guntur, India\", \"Aligarh, India\", \"Jharkhand, India\", \"Bareilly, India\", \"Vijayawada, India\", \"Bilaspur, India\", \"Raichur, India\", \"Jalandhar, India\", \"Haldwani-Kathgodam, India\", \"Sanganer, India\", \"Anand, India\", \"Bihar Sharif, India\", \"Sriperumbudur, India\", \"Brahmapur, India\", \"Dibrugarh, India\", \"Medchal, India\", \"Kishangarh, India\", \"Rohtak, India\", \"Kharar, India\", \"Motihari, India\", \"Rajpura, India\", \"Belgaum, India\", \"Eloor, India\", \"Bhavnagar, India\", \"Malegaon, India\", \"Agartala, India\", \"Muzaffarnagar, India\", \"Panaji, India\", \"Uttaranchal, India\", \"Ajmer, India\", \"Sanand, India\", \"Dehra Dun Rural, India\", \"Pondicherry, India\", \"Tiruchirapalli, India\", \"Hubli, India\", \"Bhagalpur, India\", \"Deoghar, India\", \"Puri, India\", \"Sonipat, India\", \"Tezpur, India\", \"Mahbubnagar, India\", \"Gaya, India\", \"karnal, India\", \"Chhindwara, India\", \"sirsa, India\", \"Baleshwar, India\", \"Wardha, India\", \"Mathura, India\", \"Bokaro Steel City, India\", \"Sambalpur, India\", \"Jabalpur, India\", \"Alwar, India\", \"Nellore, India\", \"Tiruvannamalai, India\", \"Phusro, India\", \"Tirupati, India\", \"Jamnagar, India\", \"Bellary, India\", \"Yamunanagar, India\", \"Bhilai, India\", \"Allahabad Outer, India\", \"Delhi, India\", \"Roorkee, India\", \"Salem, India\", \"Valsad, India\", \"Kolhapur, India\", \"Haridwar, India\", \"Silvassa, India\", \"Hassan, India\", \"Gandhidham, India\", \"Kurnool, India\", \"Bhiwandi, India\", \"Saharanpur, India\", \"Bijnor, India\", \"Port Blair, India\", \"Ambala, India\", \"Nalagarh, India\", \"Bhusawal, India\", \"Punjab, India\", \"Bikaner, India\", \"Asansol, India\", \"Azamgarh, India\", \"Hazaribag, India\", \"Panipat, India\", \"Solapur, India\", \"Karimnagar, India\", \"Amravati, India\", \"Durgapur, India\", \"Sagar, India\", \"Anantapur, India\", \"Akola, India\", \"Nadiad, India\", \"Kalyani, India\", \"Rewari, India\", \"Dhanbad, India\", \"Cherthala, India\", \"Bhadrachalam, India\", \"Navsari, India\", \"Malumichampatti, India\", \"Jhansi, India\", \"Darbhanga, India\", \"Khammam, India\", \"Madurai North, India\", \"Davanagere, India\", \"Hajipur, India\", \"Siwan, India\", \"Purnia, India\", \"Rai, India\", \"Kohima, India\", \"Bijapur, India\", \"Siliguri, India\", \"Goa, India\", \"Kolar, India\", \"Amer, India\", \"Barnala, India\", \"Malihabad, India\", \"Pathankot, India\", \"Bettiah, India\", \"Cochin, India\", \"Saraikela Kharsawan, India\", \"Palwal, India\", \"Saharsa, India\", \"Itanagar, India\", \"Satana, India\", \"Hoshiarpur, India\", \"Morbi, India\", \"Shimla, India\", \"Kozhikode, India\", \"Bhiwani, India\", \"Shillong, India\", \"Baldeo, India\", \"Chorwad, India\", \"Shimoga, India\", \"Kaithal, India\", \"Palayankottai, India\", \"Jorhat, India\", \"Madurai South, India\", \"Modinagar, India\", \"Katghora, India\", \"Karchana, India\", \"Mahesana, India\", \"Bharuch, India\", \"Rampur, India\", \"Soraon, India\", \"Unnao, India\", \"Durg, India\", \"Bhadrak, India\", \"Tinsukia, India\", \"Sambhal, India\", \"Cuddapah, India\", \"AIIMS\", \"Vellore, India\", \"Tumkur, India\", \"Baloda Bazar, India\", \"Hapur, India\", \"Vidisha, India\", \"Nagercoil, India\", \"Thanesar, India\", \"Phagwara, India\", \"Phulpur, India\", \"Ankleshwar, India\", \"Bulandshahr, India\", \"Etawah, India\", \"Vapi, India\", \"Risod, India\", \"Bhawanipatna, India\", \"Patan, India\", \"Jaunpur, India\", \"Rajnandgaon, India\", \"Chittaurgarh, India\", \"Jharsuguda, India\", \"Nagaon, India\", \"HUDCO Place\", \"Bhilwara, India\", \"Munger, India\", \"Madhubani, India\", \"Medinipur, India\", \"Dharwad, India\", \"Ratlam, India\", \"Mughalsarai, India\", \"Jalgaon, India\", \"Mirzapur-Vindhyachal, India\", \"Giridih, India\", \"Hospet, India\", \"Orai, India\", \"Sangli, India\", \"Kakinada, India\", \"Sangrur, India\", \"Bhuj, India\", \"Kharagpur, India\", \"Pollachi, India\", \"Jalpaiguri, India\", \"Banda, India\", \"Kalkulam, India\", \"Basti, India\", \"Chittoor, India\", \"Tiruppur, India\", \"Kullu and Manali, India\", \"Bhiwadi, India\", \"Sikar, India\", \"Bhubaneswar,Orissa\", \"Begusarai, India\", \"Bathinda, India\", \"Udupi, India\", \"Dewas, India\", \"Tiruvallur, India\", \"Sasaram, India\", \"Tezpur Rural, India\", \"Tripura, India\", \"Hathras, India\", \"Panruti, India\", \"Palladam, India\", \"Ahmadnagar, India\", \"Panna, India\", \"Beawar, India\", \"Udumalaipettai, India\", \"Chittaranjan, India\", \"Gangtok, India\", \"Gopalganj, India\", \"Adra, India\", \"Rishikesh, India\", \"Dharmsala, India\", \"Latur, India\", \"Jind, India\", \"Firozabad, India\", \"Nizamabad, India\", \"Mapusa, India\", \"Mehdawal, India\", \"Farrukhabad-Fatehgarh, India\", \"Telgaon, India\", \"Sitapur, India\", \"Mahasamund, India\", \"Hugli, India\", \"Khandwa, India\", \"Deoria, India\", \"Mainpuri, India\", \"Cuddalore, India\", \"Hyderabad\", \"Bhiwandi\", \"Shahjahanpur, India\", \"Kadi, India\", \"Hanumangarh, India\", \"Baharagora, India\", \"Suratgarh, India\", \"Abohar, India\", \"Erode, India\", \"Rewa, India\", \"Arrah, India\", \"Farooq Nagar, India\", \"Nimach, India\", \"Kotagiri, India\", \"Perumbavoor, India\", \"Talegaon Dabhade, India\", \"Boisar, India\", \"Paonta Sahib, India\", \"Narayanpet, India\", \"Trissur, India\", \"Aizawl, India\", \"Gondia, India\", \"Alipurduar, India\", \"Karur, India\", \"Thoothukkudi, India\", \"Hamirpur, India\", \"Ghazipur, India\", \"Chikmagalur, India\", \"Samastipur, India\", \"Mussorie, India\", \"Sherghati, India\", \"Naini Tal, India\", \"Diphu, India\", \"Karimganj, India\", \"Mau, India\", \"Bahadurgarh, India\", \"Katihar, India\", \"Karad, India\", \"Sikkim, India\", \"Sultanpur, India\", \"Hingana, India\", \"Murwara, India\", \"Jalna, India\", \"Parur, India\", \"Siddipet, India\", \"Khanna, India\", \"Satara, India\", \"Biswanath Chariali, India\", \"ktr colony\", \"Nanded, India\", \"Dhule, India\", \"Firozpur, India\", \"Bardhaman, India\", \"Gonda, India\", \"Tiruchengode, India\", \"Kalkaji, New Delhi\", \"Jaisalmer, India\", \"Mizoram, India\", \"Kendujhar, India\", \"Bhind, India\", \"Viluppuram, India\", \"Arunachal Pradesh, India\", \"Lonavala, India\", \"Guna, India\", \"Ambikapur, India\", \"Chirayinkil, India\", \"Sri Kalahasti, India\", \"Kishanganj, India\", \"Tamluk, India\", \"Chhatrapur, India\", \"Ranikhet, India\", \"Lumding, India\", \"Fatehabad, India\", \"Nalanda, India\", \"Mandsaur, India\", \"Puttaparthi, India\", \"Bahraich, India\", \"Imphal, India\", \"Ongole, India\", \"Tindivanam, India\", \"Raiganj, India\", \"Pusad, India\", \"Raigarh, India\", \"Vizianagaram, India\", \"Pali, India\", \"Godhra, India\", \"Korba, India\", \"Porbandar, India\", \"Bhimavaram, India\", \"Palanpur, India\", \"Ramanathapuram, India\", \"Kottayam, India\", \"Dimapur, India\", \"Vinukonda, India\", \"Adoni, India\", \"Barabanki, India\", \"Ganganagar, India\", \"Anugul, India\", \"Yavatmal, India\", \"Tenali, India\", \"Vrindavan, India\", \"Chitrakoot Dham, India\", \"Karkal, India\", \"Kanthi, India\", \"chandannagar\", \"Chamba, India\", \"Udgir, India\", \"Nagaur, India\", \"Shrirampur, India\", \"Jagtial, India\", \"Golaghat, India\", \"North Lakhimpur, India\", \"Kollam, India\", \"Dindigul, India\", \"Nilokheri, India\", \"Veraval, India\", \"Tulsipur, India\", \"Amroha, India\", \"Nagda, India\", \"Pakaur, India\", \"Khatima, India\", \"Kanchipuram, India\", \"Kannad, India\", \"Baharampur, India\", \"Loharu, India\", \"Kapurthala, India\", \"Chikhli, India\", \"Uran, India\", \"Amer, Rajasthan\", \"English Bazar, India\", \"Gudiyattam, India\", \"Kalol, India\", \"Burhanpur, India\", \"Kovvur, India\", \"Thyagaraya Nagar\", \"Nandurbar, India\", \"Thangadh, India\", \"Raipur Chattisgarh\", \"Gummidipundi, India\", \"Mandideep, India\", \"Tirupathur, India\", \"Barapali, India\", \"Nedumangad, India\", \"Chandrapur, India\", \"Pulicat, India\", \"Ferozepur Jhirka, India\", \"Dumka, India\", \"Kalameshwar, India\", \"Rishra Station\", \"Nagina, India\", \"Kudchi, India\", \"Sevagram, India\", \"Barasat, India\", \"Rajsamand, India\", \"Anakapalli, India\", \"Sanwer, India\", \"Bharatpur, India\", \"Haveri, India\", \"Aligarh City\", \"Hosur, India\", \"Parli, India\", \"Baripada, India\", \"Etmadpur, India\", \"Imphal West I, India\", \"Khurja, India\", \"Savarkundla, India\", \"Kelambakkam\", \"Satna Railway Stn\", \"Amreli, India\", \"Thanjavur, India\", \"Garhi Harsaru, India\", \"Igatpuri, India\", \"Bid, India\", \"Falna, India\", \"Imphal East II, India\", \"Chandausi, India\", \"Bardoli, India\", \"Saifai, India\", \"Madhepura, India\", \"Ramagundam, India\", \"Madanapalle, India\", \"Prayag Raj\", \"Sardhana, India\", \"Moga, India\", \"Eluru, India\", \"Jamalpur, India\", \"Bundi, India\", \"Khargone, India\", \"Narasaraopet, India\", \"Bandikui, India\", \"Bhatkal, India\", \"Pantnagar, India\", \"Devgarh, India\", \"Sivakasi, India\", \"Narnaul, India\", \"Munnar, India\", \"Shirpur, India\", \"Kashipur, India\", \"Nabadwip, India\", \"Mundra, India\", \"Morena, India\", \"Churachandpur, India\", \"Moranhat, India\", \"Ningthoukhong, India\", \"Basavakalyan, India\", \"New Ashok Nagar Metro Station\", \"Nandyal, India\", \"Jowai, India\", \"Yadgir, India\", \"Malakpur\", \"Nimbahera, India\", \"Bihar Sharif\", \"Jalor, India\", \"Najibabad, India\", \"Anjar, India\", \"Chhatarpur, India\", \"Ramgarh, India\", \"Robertsganj, India\", \"Gokhale Nagar, Pune\", \"Kartarpur, India\", \"Daltonganj, India\", \"Khalilabad, India\", \"Proddatur, India\", \"Bilimora, India\", \"Bankura, India\", \"Gadarwara, India\", \"Karamadai, India\", \"Malappuram (Ernad), India\", \"Tonk, India\", \"Vidyanagar(Karad), India\", \"Sundargarh, India\", \"Raniganj, India\", \"Indirapuram\", \"Bargarh, India\", \"Ballia, India\", \"Lakhimpur, India\", \"Badlapur\", \"Nalgonda, India\", \"Buldhana, India\", \"Paravur, India\", \"Srinagar, India\", \"Jhumri Tilaiya, India\", \"Jagadhri\", \"Dabwali, India\", \"Pardi, India\", \"Budaun, India\", \"Gangawati, India\", \"Rudrapur, India\", \"Dhampur, India\", \"Srikakulam, India\", \"Kasganj, India\", \"Shahdol, India\", \"Sangareddy, India\", \"Botad, India\", \"Machilipatnam, India\", \"Pulgaon, India\", \"Bahalgarh, India\", \"Vikarabad, India\", \"Muktsar, India\", \"Baikunthpur, India\", \"Kandivali East, Mumbai\", \"Unjha, India\", \"Akbarpur, India\", \"Manuguru, India\", \"Bhavani, India\", \"Kharghar, Panvel\", \"KPHB 3rd Phase\", \"Jajapur, India\", \"Kangra, India\", \"Ludhiana\", \"Indi, India\", \"Kandaghat, India\", \"Lakhimpur\", \"Kolaghat, India\", \"Nangal, India\", \"Moirang, India\", \"Shikrapur, India\", \"Mandapeta, India\", \"Uran Islampur, India\", \"Shahkot, India\", \"Udalguri, India\", \"Bandra West, Mumbai\", \"Dwarka, New Delhi\", \"Meghalaya, India\", \"Deesa, India\", \"Vandalur, India\", \"Sikandarabad (Bulandshahr), India\", \"Hosakote, India\", \"Patur, India\", \"Sheikhpura, India\", \"Mirzapur\", \"Bhilad, India\", \"Ghazipur\", \"Bagalkot\", \"Jhunjhunun, India\", \"Rupnagar, India\", \"Ayodhya, India\", \"Chitradurga, India\", \"Mandya, India\", \"Nagarjuna Sagar North, India\", \"Bongaigaon Refinery, India\", \"Ooty, India\", \"Mukundapuram, India\", \"Pudukkottai, India\", \"Karjat, India\", \"shirpur\", \"Dharmanagar, India\", \"Kaij, India\", \"Balasinor, India\", \"Osmanabad, India\", \"Himatnagar, India\", \"Mokameh, India\", \"Laukaha, India\", \"Renukoot, India\", \"Darjeeling, India\", \"Bajna, India\", \"International gym\", \"Fatehpur, India\", \"Chakan, India\", \"Alandi, India\", \"Utnur, India\", \"Nilagiri, India\", \"Vallabh Nagar, India\", \"Koch Bihar, India\", \"Chirala, India\", \"Sajjangarh, India\", \"Kolathur\", \"Madhupur, India\", \"Padrauna, India\", \"Aliganj, India\", \"Tiruvalla, India\", \"Bangaon, India\", \"Maharajganj, India\", \"Soro, India\", \"Malkapur, India\", \"Bongaon Railway Station\", \"Tambaram\", \"Bellampalli, India\", \"Palghar, India\", \"Manglaur, India\", \"Kovilpatti, India\", \"Bopal circle\", \"Talaja, India\", \"Vapi, Gujarat\", \"Wai, India\", \"Baramati, India\", \"Shivpuri, India\", \"Model Town, Sonipat\", \"Rangia, India\", \"Papanasam, India\", \"Ghaziabad\", \"Salepur, India\", \"Nanded, Maharashtra\", \"Hingoli, India\", \"Jatani, India\", \"Panoli, India\", \"Khatauli, India\", \"Urapakkam, India\", \"Chilakaluripet, India\", \"Bangalore\", \"Jhalawar, India\", \"Sojat Road, India\", \"Hindpiri, Ranchi\", \"Daman, India\", \"Gandhi Hospital\", \"Sehore, India\", \"Goraya, India\", \"Bhadohi, India\", \"Damoh, India\", \"Digi, India\", \"Bidar, India\", \"Akorhi Gola, India\", \"Puruliya, India\", \"Thandla, India\", \"Halol, India\", \"Chhibramau, India\", \"Sadabad, India\", \"Barnagar, India\", \"Hardoi, India\", \"C 9 Vasant Kunj\", \"Mashrakh, India\", \"Kallakkurichi, India\", \"Ministry Of External Affairs\", \"Palam Vihar, Gurgaon\", \"Krishnarajanagara, India\", \"Rajasthan\", \"Nalbari, India\", \"Paramakudi, India\", \"Kumbakonam, India\", \"Kanniyakumari, India\", \"Pansemal, India\", \"Rajagangapur, India\", \"Panoor, India\", \"Ganaur Railway Station\", \"Bahadurgarh Bus Stand\", \"Srikalahasti\", \"Ramnagar, Varanasi\", \"Vijay Park, Gurgaon\", \"Kalyan East\", \"Uttam Nagar, New Delhi\", \"Kokrajhar, India\", \"Modhera, India\", \"Kasauli, India\", \"Chandi Mandir, India\", \"C Block, Sushant Lok I\", \"Metpalli, India\", \"Jagdalpur, India\", \"Hasanpur, India\", \"Ganpatipule, India\", \"Vyara, India\", \"Chirawa, India\", \"Mihijam, India\", \"Arakonam, India\", \"Meerut City\", \"Japla Hussainabad, India\", \"Shahabad, India\", \"Shegaon, India\", \"Jangpura\", \"Garhwa, India\", \"Taranagar, India\", \"Churu, India\", \"Tumsar, India\", \"Kurla west Mumbai-70\", \"Samruddhi Park\", \"Tarapur, India\", \"Shimla Urban, India\", \"Sarairanjan, India\", \"Chintamani, India\", \"Mehekar, India\", \"Jalpaiguri\", \"Kukatpally\", \"Pithapuram, India\", \"Nagaur City\", \"KPHB 6th phase\", \"Orattanadu, India\", \"Mahendragarh, India\", \"Naila Janjgir, India\", \"Mahindra, India\", \"Mankachar, India\", \"Nirmal, India\", \"Nalgonda\", \"Mavelikara, India\", \"Komarapalayam Town\", \"Triveni Sangam\", \"Majalgaon, India\", \"Rajauli, India\", \"Kalimpong, India\", \"Pilani, India\", \"Patan,gujarat\", \"Chunar, India\", \"Dhenkanal, India\", \"Deoband, India\", \"Yellapur, India\", \"Dohad, India\", \"Shirdi, India\", \"Deodar, India\", \"Pandharpur, India\", \"Periyanaickenpalayam, India\", \"Bhamian Kalan, Ludhiana\", \"Kekri, India\", \"Kunigal, India\", \"GIDC Metoda, India\", \"Bela Pratapgarh, India\", \"Nawada, India\", \"Savli, India\", \"Gopeshwar, India\", \"Coonoor, India\", \"Barahat, India\", \"Jamwa Ramgarh, India\", \"Mudhol, India\", \"Umarkhed, India\", \"Budhlada, India\", \"Azhoor, India\", \"Bhavnagar Para\", \"Hodal, India\", \"Siliguri Town\", \"Rairangpur, India\", \"Narnaul, Haryana\", \"Balod, India\", \"Honavar, India\", \"Narsapur, India\", \"Calicut International Airport\", \"Digha, India\", \"Samastipur\", \"Kurla East, Mumbai\", \"miyapur\", \"Amalapuram, India\", \"Pernampattu, India\", \"Chinhat Lucknow, Lucknow\", \"Babu Barhi, India\", \"Karmal, India\", \"Asarganj, India\", \"Roha Ashtami, India\", \"Mavli, India\", \"Vejalpur Rd\", \"Aer Four Seasons Hotel\", \"Nabarangapur, India\", \"Dewa, India\", \"Hansi, India\", \"Ratu, India\", \"Obra, India\", \"Karaikal, India\", \"Jamkhandi, India\", \"Kotdwara, India\", \"Ozar, India\", \"Gora Bazar, India\", \"Allen\", \"Narsimhapur, India\", \"Goregaon, India\", \"Mustafabad, India\", \"Khamgaon, India\", \"Desuri, India\", \"Pali Marwar\", \"Dalkhola, India\", \"Challakere, India\", \"Bhita, India\", \"Mayur Vihar Phase 3\", \"The Office Xperts\", \"Bagh Amberpet\", \"Andheri West, Mumbai\", \"Gudivada, India\", \"Aurad, India\", \"Aquem\", \"Rajam, India\", \"Balurghat, India\", \"Radhanpur, India\", \"Theni Allinagaram, India\", \"Sweet Home\", \"Vedasandur\", \"Andaman And Nicobar, India\", \"Boring Road Patna\", \"Tirunelveli, India\", \"Yeola, India\", \"Fortis La Femme\", \"Deshnoke, India\", \"Nahan, India\", \"Dharmapuri, India\", \"Bishnupur, India\", \"Harnaut, India\", \"Debagarh, India\", \"Araria, India\", \"Kanke, India\", \"Mumbai\", \"Jatani, Orissa\", \"Palam Vihar\", \"Baner, Haveli\", \"Tarn Taran, India\", \"Adani Shantigram\", \"Rath, India\", \"Dargah Ajmer Sharif\", \"Nelamangala, India\", \"Pindwara, India\", \"Bongaigaon\", \"Sector 24\", \"Amod, India\", \"Baran, India\", \"Mandu, India\", \"Jhalrapatan, India\", \"Pushkar, India\", \"Maheshwar, India\", \"Pokaran, India\", \"Goregaon West, Mumbai\", \"OTA Area\", \"Ponda, India\", \"Asangaon, India\", \"Noorpur, India\", \"Tufanganj, India\", \"Kosamba, India\", \"Arcot, India\", \"Nagaland\", \"Film City\", \"Rayagada, India\", \"Mahuva, India\", \"Orchid springs\", \"Bailhongal, India\", \"Kharar, Punjab\", \"Bisauli, India\", \"Mansa, India\", \"Attibele, India\", \"Manipur, India\", \"Nehru Nagar\", \"Dausa, India\", \"Sonepur, India\", \"Jafarabad, India\", \"Hatsingimari, India\", \"Dabolim Goa International Airport (GOI)\", \"Chiplun, India\", \"Mansarovar\", \"Jaggayyapeta, India\", \"Kulithalai, India\", \"Vadgam, India\", \"Saligram, India\", \"Bhiloda, India\", \"Ramdurg, India\", \"Dhuri, India\", \"Ambaji, India\", \"Mayiladuthurai, India\", \"South-Bopal\", \"Bhawani Mandi, India\", \"dwarka sector 7\", \"Brajarajnagar, India\", \"Shahpura, India\", \"Amloh, India\", \"Zahirabad, India\", \"Chanpatia, India\", \"Kuttoor, India\", \"Kharsia, India\", \"Chaibasa, India\", \"Shujalpur, India\", \"Balrampur, India\", \"Habra, India\", \"Kosi Kalan, India\", \"Bodhan, India\", \"Malkajgiri\", \"Rahuri, India\", \"Reliance Trends Uppal\", \"k.k.nagar road\", \"Haflong, India\", \"University of Hyderabad\", \"Badlapur, India\", \"Jajpur, India\", \"Sarni, India\", \"Ghanaur, India\", \"Vadakara, India\", \"Akaltara, India\", \"Sawai Madhopur, India\", \"Narkatiaganj, India\", \"Shamli, India\", \"Sangamner, India\", \"Sonamukhi, India\", \"Konch, India\", \"Gadhinglaj, India\", \"Attabira, India\", \"Balaghat, India\", \"Ramnagar, India\", \"Chenari, India\", \"Benipatti, India\", \"Jaspur, India\", \"Fatehgarh Churian, India\", \"Siana, India\", \"Jetpur Navagadh, India\", \"Green Hills Colony\", \"Hinganghat, India\", \"Chabua, India\", \"26 Block, west patel nagar\", \"Basna, India\", \"Bhuna, India\", \"Colonelganj, India\", \"Chandkheda\", \"Kannod, India\", \"Tambaram Sanatorium Railway Station\", \"Seraikela, India\", \"Lalsot, India\", \"Khopoli, India\", \"New C G Road\", \"Abhayapuri, India\", \"Vizag\", \"Murshidabad, India\", \"Budhgaon, India\", \"Sircilla, India\", \"Parbhani, India\", \"Sheopur, India\", \"Titlagarh, India\", \"Nalsarovar, India\", \"Vandiyur, India\", \"Badoda, India\", \"Mayur Vihar Phase 1\", \"Guntakal, India\", \"Pithoragarh, India\", \"Pandua, India\", \"Gharsana, India\", \"Nagaland, India\", \"Kamthi, India\", \"Khariar, India\", \"Kendrapara, India\", \"Ashti, India\", \"New Ranip\", \"Lanka, India\", \"Sector 16, Rohini\", \"Banswara, India\", \"Melur, India\", \"Laxmangarh, India\", \"Ambassa, India\", \"Naugarh, India\", \"Sasni, India\", \"Kaisarganj, India\", \"Katedan\", \"Pipili, India\", \"Parwanoo, India\", \"Waraseoni, India\", \"Katni\", \"Baghpat, India\", \"Doiwala, India\", \"Kottagudem, India\", \"Kothavalasa, India\", \"Behror, India\", \"Jehanabad, India\", \"Vasukamal\", \"Ramganj, Jaipur\", \"Pithampur, India\", \"Loni, Ghaziabad\", \"Gola Gokarannath, India\", \"Jadavpur, Kolkata\", \"Tanda, India\", \"Navalgund, India\", \"Canara Bank (Kanchanbagh)\", \"SV Paradise\", \"Akkalkuva, India\", \"Infinity Square\", \"Prestige Towers\", \"Nakodar, India\", \"Badarpur\", \"Uttarahalli, Bengaluru South\", \"Sri Vighneshwara Temple\", \"mahatma society\", \"Marigold\", \"Malad East, Mumbai\", \"Ichalkaranji\", \"Nerul, Navi Mumbai\", \"Ralegaon, India\", \"Dalli-Rajhara, India\", \"Haldia, India\", \"Hazratganj, Lucknow\", \"Thiruvalam, India\", \"Numaligarh Refinery Township, India\", \"Nirala Eden Park\", \"BTM Layout\", \"Behat, India\", \"Thalainayar, India\", \"laitumkhrah\", \"Alirajpur, India\", \"Hindupur, India\", \"Four Bungalows\", \"peddapalli\", \"As Rao Nagar\", \"Chanakyapuri, New Delhi\", \"Sendhwa, India\", \"Rishabdeo, India\", \"Jadugora, India\", \"Jamia Millia Islamia\", \"Axis Bank ATM\", \"Dharmavaram, India\", \"vijayawada\", \"Mariahu, India\", \"Nuh, India\", \"jaggampeta\", \"Kandivali East\", \"Jora, India\", \"New Rajendra Nagar, Raipur\", \"Dhanera, India\", \"Duliajan, India\", \"V-Mart\", \"Barabanki Railway Station\", \"BudBud\", \"Talwandi Sabo, India\", \"Krishna Nagar\", \"Mendu, India\", \"Mahidpur, India\", \"Saloon\", \"Krishnarajpet, India\", \"Sringeri, India\", \"Balotra, India\", \"Dhaulpur, India\", \"Guraru, India\", \"Sabrum, India\", \"Jhansi Bus Stand\", \"Koratla, India\", \"Kallidaikurichi\", \"Tajpur Khurd Village, New Delhi\", \"Khambhalia\", \"Mahanagar Colony, Lucknow\", \"Palia Kalan, India\", \"Thoothukkudi Railway Station\", \"Shikohabad, India\", \"dehu gaon\", \"badarpur\", \"P K Jewellers\", \"Joura, India\", \"Murtajapur, India\", \"New Agra Colony, Agra\", \"Amalner, India\", \"Galaxy North Avenue- II\", \"Areraj, India\", \"Mahal, Nagpur\", \"IBIS NOVOTEL\", \"Koraput, India\", \"Manwath, India\", \"Achampet, India\", \"Pragathi Nagar, Medchal\", \"Bemetara\", \"Tulsi ghat\", \"Kotpad, India\", \"Bhainsa, India\", \"Addanki, India\", \"Golden chariot building\", \"K Sector Park\", \"Rohini, New Delhi\", \"Madnur, India\", \"Galaxy electronics\", \"Rasoolpura, Hyderabad\", \"Alampur, India\", \"Devanahalli, India\", \"Dhanaura, India\", \"Bamora, India\", \"Nayapalli\", \"Jogindarnagar, India\", \"Perungulathur\", \"Sharda Cinema Hall\", \"JW Marriott Hotel Pune\", \"Tiruvadanai, India\", \"Shastri Nagar\", \"Malout, India\", \"Malgudi Station\", \"People's Plaza\", \"Patiyali, India\", \"Keshorai Patan, India\", \"Bhanjanagar, India\", \"Darbhanga\", \"Dwarka, India\", \"Shaheed Bhagat Singh College\", \"Orlem\", \"prabhas college\", \"Mungaoli, India\", \"hariyali village\", \"BR Hills\", \"Shyampur\", \"Bandra Railway Station\", \"Akot, India\", \"Jagraon, India\", \"Mandla, India\", \"Gangavalli, India\", \"Alappuzha\", \"Kovalam, India\", \"Sector 46\", \"Magadi, India\", \"Choudwar, Orissa\", \"Gomti Nagar, Lucknow\", \"Chakradharpur, India\", \"Aya Nagar, New Delhi\", \"Amit dairy\", \"Kushalgarh, India\", \"Kandhla, India\", \"Airoli, Navi Mumbai\", \"dhurwa\", \"Shekhar Hospital\", \"Royal Tulip\", \"Margin free Super Market\", \"Ghatol, India\", \"Uravakonda, India\", \"Ganesh Sweets\", \"Bhandara, India\", \"Dharwad\", \"Bageshwar, India\", \"Harduaganj, India\", \"Kundrathur, India\", \"Mauganj, India\", \"Jawaharlal Nehru Stadium\", \"Bhagwanpur, India\", \"Jehanabad Railway Station\", \"Patnagarh, India\", \"Sedam, India\", \"manjakuppam\", \"Kolaras, India\", \"Kadodara, India\", \"Chamoli\", \"Kamalpur, India\", \"Dahod\", \"Surajgarh, India\", \"Suryapet, India\", \"Kunda, India\", \"Odhav, Ahmadabad City\", \"Beverly Park\", \"Sujangarh\", \"Vasant Kunj, New Delhi\", \"IRC village\", \"Bhartiya City\", \"Maswasi, India\", \"Hakeempet\", \"Bhadravati, India\", \"Punjab National Bank\", \"Mount Abu, India\", \"Premier Residences\", \"Rambaug Area\", \"Yawal, India\", \"Chalakudy, India\", \"Mairwa, India\", \"Mangalagiri, India\", \"Khambhalia, India\", \"Mahrajganj, India\", \"Mantri Espana\", \"vellore city\", \"Rau, India\", \"Basavana Bagewadi\", \"Fatehpur Sikri, India\", \"Hotel Sai Palace Grand\", \"Kumbi, India\", \"Nangloi Railway Station Metro Station\", \"Piro, India\", \"Dighwara, India\", \"Gumla, India\", \"Mulund West, Mumbai\", \"Vartak Nagar, Thane\", \"Sector 30\", \"Chittaranjan Park\", \"Achalpur, India\", \"Evershine City, Mumbai\", \"Vijayraghavgarh, India\", \"Murlipura, Jaipur\", \"Raghunath Vihar Army Welfare Housing Society\", \"Chikiti, India\", \"Sonari, India\", \"Thakurdwara, India\", \"Link road\", \"Nanded\", \"Mirik, India\", \"Chidambaram, India\", \"Gulzarbagh, Patna\", \"Parsa, India\", \"Dhoolpet\", \"Ramanagaram, India\", \"Bamun, India\", \"Hailakandi, India\", \"Dantewada, India\", \"Yellandu, India\", \"Tiptur, India\", \"24h\", \"Mhaswad, India\", \"Perambur Railway Station\", \"Sahawar, India\", \"Buxar, India\", \"Bhachau, India\", \"Akshardham Metro Station\", \"Perinthalmanna, India\", \"Lingaraj Temple\", \"Cleo County\", \"Nadiad\", \"Ambejogai, India\", \"Sariska, India\", \"Antah, India\", \"Kamrej, India\", \"Jaitu Railway station\", \"Kodungaiyur\", \"Shahpur, India\", \"Gadwal, India\", \"Balapur, India\", \"Hasanganj, India\", \"Pinjore\", \"Maner, India\", \"Fazilka, India\", \"Karaikkudi, India\", \"Deulgaon Raja, India\", \"Maharaja Tower\", \"Lb Nagar\", \"Atarra, India\", \"Sai Nagar, Amravati\", \"Yanam, India\", \"Mahilpur, India\", \"Rutu Estate\", \"Namchi, India\", \"Sowcarpet\", \"Tharad, India\", \"Srirangam\", \"Dhana, India\", \"Chettipalayam, Tamil Nadu\", \"Rameswaram, India\", \"Panthalur, India\", \"Radhika\", \"Uluberiya, India\", \"Mettuguda Metro Station\", \"Veera Desai road\", \"Bhanpur, Bhopal\", \"Fancy Bazar\", \"Meja, India\", \"Nokha, India\", \"PGIMER, Chandigarh\", \"Vijaynagar Metro Station\", \"Kalher, Thane\", \"MIDC\", \"Raisen, India\", \"Saguna, India\", \"Vellore\", \"Valpoi, India\", \"Madukarai\", \"Polasara, India\", \"F V Sagar\", \"Khaga, India\", \"Chanderi, India\", \"Raybag, India\", \"Unnao\", \"Bairgania, India\", \"Raghunathpur, India\", \"Gola, India\", \"Ghatkesar, India\", \"Purquazi, India\", \"Amarpatan, India\", \"Shajapur, India\", \"Turkman Gate\", \"Sitamarhi, India\", \"Ramanathapuram\", \"Bharati Hospital\", \"Kasumpati, Shimla\", \"Wankaner, India\", \"Bhatapara Railway Station\", \"Mohanlalganj, India\", \"Veerapandi, India\", \"Vadodara Gujarat India\", \"Kaghaznagar, India\", \"Kandi, India\", \"ECIL\", \"Abhyasa School\", \"Shillai, India\", \"Kalyan Nagar, Bengaluru\", \"Bicholim, India\", \"Old Passport Office\", \"Sagarpur, New Delhi\", \"Kotturpuram, Chennai\", \"Geeta Colony, New Delhi\", \"Sabarmati, Ahmadabad City\", \"Manasa, India\", \"Gamma, Greater Noida\", \"Padra, India\", \"Talcher, India\", \"Didwana, India\", \"Jamui, India\", \"Gateway Hyderabad\", \"zai beach\", \"Khurda Road Railway Station\", \"APMC Market\", \"Pedana, India\", \"Naya raipur\", \"Gyanpur, India\", \"Malda, English Bazar\", \"Naraina Vihar\", \"aonla\", \"Departure Terminal\", \"Singtam, India\", \"Puttur, India\", \"Hoshiarpur\", \"Jhabua, India\", \"Chembur, Mumbai\", \"Jiribam, India\", \"Shakti Nagar, India\", \"Chandkheda Bus Stop\", \"Tardeo, Mumbai\", \"Kashipur City\", \"Sanand Industrial Area, India\", \"Pupri, India\", \"Kashi Vishwanath Temple\", \"Channarayapatna, India\", \"Karauli, India\", \"Zamania, India\", \"Bhota, India\", \"University\", \"Mandi Dabwali, India\", \"Bobbili, India\", \"Mezbaan Restaurant\", \"Travels Point (Power House)\", \"Aldona, India\", \"Joshimath, India\", \"Nilanga, India\", \"Sector 21b\", \"Marayamuttom\", \"Khurai, India\", \"Shiva Temple, Total Mall\", \"Gaurav Valley\", \"Chinnasalem, India\", \"Sirkali, India\", \"Tharali, India\", \"Sector 49, Noida\", \"Kavaratti, India\", \"Nayagarh, India\", \"Supaul, India\", \"Goa Medical College & Hospital\", \"Arvi, India\", \"Alangayam, India\", \"Bagdogra, India\", \"Anand Vihar ISBT\", \"Sirpur, India\", \"Gonda\", \"Muradnagar\", \"Jobner, India\", \"Sanderao, India\", \"Shell\", \"Eraniel, Tamil Nadu\", \"Karimpur, West Bengal\", \"Chennai, India.\", \"Kedarnath, India\", \"Mandhana (Kanpur), India\", \"Koppal, India\", \"janak puri\", \"Shahbad Dairy\", \"Purani Mandi\", \"Suri, India\", \"Danapur bazar\", \"Ahraura, India\", \"Basirhat, India\", \"Nagari, India\", \"Kanker, India\", \"D Mart\", \"Vastrapur, Ahmadabad City\", \"Khagaria, India\", \"Mudbidri, India\", \"Indapur, India\", \"Peddapuram, India\", \"Agar Bazaar \\u00ac\\u00a7\", \"Bachra, India\", \"Barkagaon, India\", \"Mangaon, India\", \"Nandikotkur, India\", \"Vidhyanagar\", \"Bilasipara, India\", \"Sainthia, India\", \"Dinanath Mangeshkar Hospital\", \"Isnapur, India\", \"Sion, Mumbai\", \"Vengola, India\", \"Patamata\", \"Atmakur, India\", \"Azamgarh\", \"Hospet\", \"Ramapur, India\", \"Dohrighat, India\", \"Barwadih, India\", \"Singrauli, India\", \"Crescent Bay\", \"Bisra\", \"Sagar Gaire\", \"Wadwani, India\", \"Narangi\", \"Karon, India\", \"Ellenabad, India\", \"Sojat, India\", \"Chhatarpur, New Delhi\", \"Kalna, India\", \"Paradise Restaurant\", \"Kadiri, India\", \"Kalka, India\", \"Regent Plaza\", \"Warangal\", \"NALCO Nagar\", \"Vasant Kunj D2\", \"Masjid Bunder Market\", \"Trilokpuri, New Delhi\", \"Pudunagaram, India\", \"Arun Vihar Sector 37, Noida\", \"Raman, India\", \"Trimurti nagar\", \"Puranpur, India\", \"Provident Sunworth\", \"Sonapur, India\", \"Sahibganj, India\", \"Shikarpur, India\", \"Tirupur Old Bus Stand\", \"Chikhali\", \"Sholinghur\", \"Merta, India\", \"Ganga Ghat\", \"Shiv Vihar, New Delhi\", \"Green Park\", \"Rajgarh\", \"Nana chowk\", \"Mannargudi, India\", \"Pukhrayan, India\", \"Gahmar, India\", \"Sapphire Park\", \"Ahwa, India\", \"Aruppukkottai, India\", \"Hatta, India\", \"Belgharia Railway Station\", \"Santiniketan, India\", \"Pimpri, Haveli\", \"Kokila Resort\", \"Ghoga\", \"Aundh, Pune\", \"HDFC Bank ATM\", \"Viceroy court\", \"Jhajhar\", \"khanapur\", \"Dinhata, India\", \"Ranavav, India\", \"Sirathu, India\", \"Ichalkaranji (Shirol), India\", \"Bermo, India\", \"Ganjam, India\", \"Udaipura, India\", \"legend hotel\", \"Pune, Maharashtra\", \"Welcome To Surat\", \"Khategaon, India\", \"Subhash Nagar, Silchar\", \"Jayanagar\", \"Sirsa, India\", \"Haileymandi, India\", \"Chakia, India\", \"Taloja\", \"Taj Lands End\", \"Chandan Nagar, India\", \"Kanak Vihar, Jaipur\", \"Sector 48, Gurgaon\", \"Palamedu, India\", \"Gangapur, India\", \"Niali, Orissa\", \"Gitanjali Metro Station\", \"Patratu, India\", \"NIT, Patna\", \"Suchindram, India\", \"Pochampalli, India\", \"Kolkata\", \"Rajgarh, India\", \"Mansa, Punjab\", \"Hyderabad House\", \"Majitha, India\", \"Silchar Medical College\", \"Ahmedabad\", \"Mahim West, Mumbai\", \"Parvathipuram, India\", \"Buddh International Circuit\", \"Amethi, India\", \"Thoothukudi\", \"Kalyan Complex\", \"Vita, India\", \"Bailhongal\", \"EA\", \"Chandil, India\", \"Matunga East, Mumbai\", \"Ahore, India\", \"Green Field Colony\", \"Perfect 10\", \"Pathanamthitta, India\", \"Fathepur\", \"Palampur, India\", \"Rippon Building\", \"Ravet Bridge\", \"Green Field Apartments\", \"Adarsh Joggers Park\", \"Makhtal, India\", \"Blue City, Jodhpur\", \"Paradip, India\", \"car nicobar islands\", \"The Coffee Bar\", \"Mahoba, India\", \"Bhuban, India\", \"Ghaziabad Railway Station\", \"Akola Railway Station\", \"Keshod, India\", \"Atul\", \"Sector 71 Noida\", \"Ranebennur, India\", \"Ghatshila, India\", \"State Bank, Katpadi, Vellore\", \"Barsana, India\", \"Barbhag, India\", \"Ajnala, India\", \"Pauri Garhwal, India\", \"Ranaghat, India\", \"Amlai, India\", \"Basavanagar\", \"Vikhroli West, Mumbai\", \"Gwalior Fort\", \"President House of India\", \"Pathalgaon, India\", \"Gokhale Nagar\", \"Kolar Gold Fields\", \"Kizhakkambalam, India\", \"ANRAK Aluminium factory\", \"Viva Goa\", \"Ode, India\", \"Vengara, India\", \"Kaal Bhairav Temple\", \"Barbil, India\", \"Golconda Fort\", \"Bodhgaya, India\", \"Chatra, India\", \"Santacruz East, Mumbai\", \"Vanasthalipuram, Hayathnagar\", \"Virar\", \"Gorakhpur, Uttar Pradesh\", \"Byculla, Mumbai\", \"Tikamgarh, India\", \"Thoubal, India\", \"Edaicode\", \"Pasighat, India\", \"Acharya Niketan, Mayur Vihar\", \"Kukshi, India\", \"Kandra, India\", \"Aurai, India\", \"Shahapur, India\", \"Varni\", \"Palani, India\", \"Gadag, India\", \"new delhi\", \"Mansarovar Garden\", \"Amguri, India\", \"Bhavani (Erode), India\", \"vasant vihar\", \"J K Restaurant\", \"Shree Jeewan Hospital\", \"Sector-46\", \"Shastrinagar, Ahmedabad\", \"Kumhari, India\", \"Shree Radha Krishna Mandir\", \"Sector 22 Dwarka\", \"Rajouri Garden, New Delhi\", \"Buxar\", \"Jandiala, India\", \"Warangal Railway Station\", \"Diu, India\", \"Lalitpur, India\", \"Nakhatrana, India\", \"CHL Hospital\", \"Tohana, India\", \"Colaba, Mumbai\", \"Kakatpur, India\", \"Sonpeth, India\", \"Sihora, India\", \"Rohru, India\", \"Tandur, India\", \"Siswa Bazar, India\", \"Marakkanam, India\", \"Bargaon, India\", \"Jintur, India\", \"Miyapur\", \"Chandlodia\", \"Khan Nagar\", \"Chhindwara\", \"Munirabad, India\", \"Tuljapur, India\", \"Agar, India\", \"Daund, India\", \"Muzaffarpur\", \"Junnar, India\", \"Chintamani Town\", \"Raniwara, India\", \"Hydrabad\", \"Khed Brahma, India\", \"Gevrai, India\", \"Haryana Bhavan\", \"Kuchaman City, India\", \"Betul, India\", \"Sibsagar, India\", \"Madras Club\", \"Ramoji Film City\", \"Shreeji Arcade\", \"Mayur Vihar I\", \"Rapur, India\", \"Valasaravakkam\", \"Sola Bhagvat\", \"Jagadishpur Industrial Area, India\", \"Link Road\", \"Adilabad, India\", \"Bangarapet, India\", \"Kolathupalayam, India\", \"Mandvi\", \"Bhubaneswar Golf Club\", \"Lakhipur, India\", \"Perumbaikad, India\", \"Porsa, India\", \"Chhoti Sadri, India\", \"Belpahar, India\", \"Ramgarh\", \"Naranpura, Ahmadabad City\", \"Amgaon, India\", \"Niphad, India\", \"Puranapool\", \"Thana Bhawan, India\", \"Sarita\", \"Kathajodi,Ring Road\", \"Khalsa College\", \"Nanda Nagar\", \"Krishnagiri, India\", \"Dandi olpad\", \"S.N Medical college\", \"Chinnalapatti, India\", \"Falakata, India\", \"Akaltara\", \"Kudra, India\", \"Motala, India\", \"Palacole, India\", \"GRT Grand Hotel\", \"Jhajjar, India\", \"Gobichettipalayam\", \"Kodaikkanal, India\", \"Navsari,Gujarat\", \"Delhi Shahdara Junction railway station\", \"Lunavada, India\", \"Arambag, India\", \"Pilkhuwa, India\", \"Bhongir, India\", \"Gharaunda, India\", \"Sikandarpur, India\", \"Pargi, India\", \"rajarshi shahu maharaj primary school\", \"Sector 19, Noida\", \"Kulti, India\", \"Kasaragod, India\", \"Ghatshila\", \"Jaysingpur, India\", \"Jaiswal Tower\", \"Santosh Hospital\", \"Dadra and Nagar Haveli\", \"Jagatpura\", \"Chrompet\", \"Popular Nagar\", \"Kodinar, India\", \"Manachanallur, India\", \"Max Super Speciality Hospital\", \"Siwan Junction\", \"Richha, India\", \"Ahmadpur, India\", \"Gondal, India\", \"Radhika Movieplex & Mall\", \"Bisalpur, India\", \"Sultanabad, India\", \"Jammikunta Railway Station\", \"Perambur Loco Works Station\", \"udaygiri.\", \"Musiri, India\", \"Lormi, India\", \"Birsinghpur Railway Station\", \"Aashiana\", \"Kundapura, India\", \"Mansi, India\", \"Ramnath, Deoria\", \"Waluj, India\", \"Sir J. J. Hospital\", \"Mohania, India\", \"Kataiya, India\", \"Maisamma Temple\", \"Raver, India\", \"Khairthal\", \"Manduadih Railway Station\", \"Chamrajnagar, India\", \"Kumta, India\", \"Muthangi, India\", \"Chandwa, India\", \"Kaveripattinam, India\", \"Shanti Marg\", \"Jeypore\", \"Sikandrabad, India\", \"Gauribidanur, India\", \"Byndoor\", \"Morinda, India\", \"Shela, Sanand\", \"Dawath\", \"Baraut, India\", \"Sangli-Miraj Kupwad, India\", \"Naduvannur, India\", \"Kerala\", \"South City II\", \"Manipur University, Imphal\", \"Huzurnagar, India\", \"Sanjhauli, India\", \"Anupam Nagar\", \"Juhu, Mumbai\", \"Perambalur, India\", \"Padmanabhapuram, India\", \"sesa goa\", \"Srivilliputhur, India\", \"Barmer, India\", \"Indora, India\", \"Andaz Delhi\", \"Dabra, India\", \"Dumraon, India\", \"Worli, Mumbai\", \"Upleta, India\", \"manikonda\", \"Agumbe, India\", \"Pattukkottai, India\", \"Virajpet, India\", \"Marine Lines, Mumbai\", \"Udupi, Karnataka\", \"venkatagiri\", \"guntakal\", \"Safdarjung hospital\", \"Thenhippalam, India\", \"Khadda, India\", \"Sonia Vihar\", \"pratap nagar\", \"Kichha, India\", \"District Park\", \"Tarakeswar, West Bengal\", \"Mahabaleshwar, India\", \"Deoli, India\", \"Madhoganj, India\", \"sun City\", \"Khandapada, India\", \"Chhatrapati Shivaji International Airport\", \"Kamalpur, Meerut\", \"Kosi\", \"Devasandra Main Road\", \"Hotel Sankam Residency Belgaum\", \"Bilari, India\", \"Baba Nagri\", \"Bansi, India\", \"Manmad, India\", \"Villivakkam Railway Station\", \"Rajegaon, India\", \"Talala, India\", \"Mohol, India\", \"Police station- Udaygiri\", \"Santrampur, India\", \"Jawahar nagar\", \"Sandila, India\", \"Banaras Hindu University\", \"Pallikonda, India\", \"Sai Baba Temple\", \"Mandvi, India\", \"Wai, Maharashtra\", \"Amreli\", \"Sirauli, India\", \"Palam Colony\", \"Aundh District Hospital\", \"Nagarjuna Sagar, India\", \"ISBT Dehradun\", \"Deolali Pravara, India\", \"Phulabani, India\", \"Vemulawada Bus Station\", \"Green Park Market\", \"Barra, Kanpur\", \"Baddi\", \"Nagole, Hayathnagar\", \"Vellore Fort\", \"Bhabha Hospital\", \"Bijnor\", \"Khajuraho, India\", \"Bandel Station\", \"Charkhari, India\", \"Narwana, India\", \"karimnagar\", \"Morbiwala Sweets And Farsan\", \"Jalalabad, India\", \"Kakori, India\", \"Vasant Vihar Metro Station\", \"ESI metro station\", \"Jhalu, India\", \"Nalanda Medical College Hospital\", \"No.1 Tollgate\", \"Ariyalur, India\", \"Jaipur City\", \"Uttam Nagar West Metro Station\", \"kamrej\", \"Kanyakumari\", \"Xiaomi India\", \"Tadali, India\", \"lalaguda gate\", \"Hoshangabad, India\", \"Kailash Vihar\", \"Lansdowne, India\", \"Shipra Sun City\", \"Islampur Bus Station\", \"Kopargaon, India\", \"Solan, India\", \"Pataudi, Haryana\", \"Balachaur, India\", \"Dungla, India\", \"Chaudhary Charan Singh University\", \"Sector 137, Noida\", \"Champawat, India\", \"Thiruvottiyur\", \"Jasola Vihar / Shaheen Bagh Metro Station\", \"Alangudi, India\", \"vattamkulam Junction\", \"Sorab, India\", \"KurukShetra Railway Station\", \"Old Willingdon camp\", \"Lajpat Nagar I\", \"Andrews Ganj, New Delhi\", \"University Of Allahabad\", \"Fatwah, India\", \"Jhalamand Circle\", \"Sector-45\", \"Palanpur\", \"Tondiarpet\", \"Chaurai, India\", \"Kombai, India\", \"Roorkee Railway Station\", \"Chanakyapuri, Daskroi\", \"Rani, Rajasthan\", \"Talbehat, India\", \"Jainagar, India\", \"Devadurga, India\", \"Chitrapuri Colony\", \"chandikhole\", \"Malviya National institute of Technology\", \"Sector 17 C\", \"Nowgong, India\", \"Bhabua, India\", \"Fatima Nagar\", \"Cafe Coffee Day\", \"Sector 56, Noida\", \"Media Centre\", \"Nadbai, India\", \"Lokhandwala Circle\", \"Mehgaon, India\", \"DOME\", \"Kochas, India\", \"Thondi, India\", \"HDFC Bank\", \"Mandoli, New Delhi\", \"Dr. Ram Manohar Lohia Hospital\", \"Topsia\", \"Dharmapuri Railway Station\", \"Dombivli\", \"Gwalior City\", \"Dhubri, India\", \"Bhadrachalam\", \"Hallikhed(B)\", \"Bhinga, India\", \"Nabanna\", \"Melkote park\", \"bhajanpura\", \"Barshi, India\", \"Giddarbaha, India\", \"Sompeta, India\", \"Lotus Park\", \"Vikrant Circle\", \"Digras, India\", \"Dudhi, India\", \"Manchar, India\", \"Maibong, India\", \"Sakti, India\", \"Andhra Bank Atm\", \"Okhla Vihar Metro Station\", \"Baharagora, Jharkhand\", \"Venkatagiri, India\", \"Almora, India\", \"Ameerpet, Hyderabad\", \"Bunts Hostel Circle\", \"Khowai, India\", \"BDA Doddabanahalli 2\", \"Sattenapalli\", \"Rajnagar, Kendrapara, Odisha\", \"Kapashera Border\", \"Jehan Numa Palace Hotel Bhopal\", \"Jaygaon, India\", \"Bhandup West, Mumbai\", \"Vaniyambadi, India\", \"National Handloom\", \"Vasant Vihar\", \"Kotak Mahindra Bank - ATM\", \"Badnawar, India\", \"Karad\", \"Hush Puppies\", \"Nehru Nagar, Ghaziabad\", \"Bhayandar Railway Station\", \"Jambusar\", \"Cochin Bakery\", \"Ek Bar\", \"Valia, India\", \"Wazirabad, Sec-56, Gurgaon,\", \"Sindgi, India\", \"Jhinjhak, India\", \"AAIMS\", \"Sunabeda, India\", \"Kottakkal Arya Vaidya Sala\", \"Ramnagar bihar india\", \"Madurai\", \"Bhatpar Rani, India\", \"IHBAS Hospital\", \"Gumia, India\", \"Panruti Bus Stand\", \"Suratgarh\", \"Gauripur, India\", \"Raja Rajeshwari Nagar, Bengaluru South\", \"Matunga West, Mumbai\", \"Apex Hospital\", \"Cafe Frespresso\", \"Borsad, India\", \"Pavagadh, India\", \"Vasant Vihar, New Delhi\", \"Mangrol, India\", \"Sangareddy\", \"Haidergarh\", \"IIM Ahmedabad\", \"Sitarganj, India\", \"Joda\", \"Jaitu, India\", \"Kaman, India\", \"Rajnagar, India\", \"Santipur, India\", \"Andaman & Nicobar Islands\", \"Sheoganj, India\", \"Saviour Matriculation School\", \"Jaleswar, India\", \"Pleasant Park\", \"Malviya Nagar, New Delhi\", \"Valsad City\", \"Jal Vayu Vihar Bus Stop\", \"Phillaur, India\", \"Shanbhag Hotel\", \"Mithapur Bus Stand\", \"Mirganj, India\", \"Pipra, India\", \"Sector 5\", \"Stewart School\", \"Rania, India\", \"Deoband\", \"Madhira, India\", \"Najafgarh, New Delhi\", \"Sector 43 ISBT\", \"Amar Colony Market\", \"Maulana Azad Medical College\", \"Palakkad\", \"ATS Advantage\", \"Jamtara, India\", \"St. Mary's College\", \"Shyamla Hills\", \"Tambaram Railway Station\", \"Machiwara\", \"Jasidih, India\", \"Dhamtari, India\", \"Ghusiya\", \"Sector-2, Rajendra Nagar\", \"GIDC Jamnagar, India\", \"Rayachoti, India\", \"Borivali national park\", \"Kendrapara\", \"Medical Council Of India\", \"NTR Blood Bank\", \"Rajapalayam, India\", \"Focal Point\", \"Chandrakona, India\", \"Kilapavoor, India\", \"Siliguri\", \"Sri Jaganath Temple\", \"Salempur, India\", \"Maraimalai Nagar, India\", \"Faizabad Airport Area, Faizabad\", \"Kasrawad, India\", \"Kaloor\", \"Kallanai\", \"Budhana, India\", \"Fortis hospital\", \"Satna\", \"Pallipalayam, India\", \"Krishna Park, Khanpur\", \"Sasaram Railway Station\", \"Alipur, India\", \"Thiruvananthapuram\", \"Lingaraj Temple Road Railway Station\", \"shivpuri\", \"rina park\", \"Birpara, India\", \"Aurangabad\", \"joggers park\", \"Ilkal, India\", \"Pandhana\", \"Murgud, India\", \"Goalpara, India\", \"Imphal West II, India\", \"Punnayurkulam, India\", \"Lakhisarai, India\", \"korattur park\", \"Hadgaon, India\", \"office\", \"Ranaghat junction\", \"Bhubaneshwar City\", \"Sadat, India\", \"Parnera, India\", \"Joggers Park : Back Tracks\", \"Nagamangala, India\", \"Mukerian, India\", \"MODEL TOWN\", \"Manawar, India\", \"Chembur Police Station\", \"Batala, India\", \"JNTU\", \"Nashik Airport\", \"Dhar, India\", \"Pragati Nagar Lake\", \"Sector 33, Noida\", \"Ganges River, Patna\", \"Jandaha, India\", \"Sinnar, India\", \"Kamareddy, India\", \"Sector 15  Sonepat Haryana\", \"South Avenue Lane\", \"Sualkuchi, India\", \"Goalpara\", \"Maker, India\", \"Kesinga, India\", \"Annur, India\", \"Gauhati Medical College and Hospital (GMCH)\", \"Tiruchendur, India\", \"Ukhra, India\", \"Vigyan Nagar\", \"Geeta Nagar Phase-3\", \"Vapi\", \"Virudhunagar, India\", \"Andheri East, Mumbai\", \"Shreeji Villa (Residential)\", \"Jalaun, India\", \"Nissing, Karnal, Haryana, India\", \"Rani Sati Temple\", \"Phalodi, India\", \"Dalsingh sarai Railway Station\"], \"lat\": [28.6138954, 19.0759899, 12.9791198, 22.5414185, 28.5707841, 28.42826235, 28.711241, 12.9791198, 18.51051985, 26.8381, 23.0216238, 17.38878595, 25.6030053, 22.3511148, 27.1303344, 26.8105777, 18.521428, 20.2602964, 28.4670734, 26.9154576, 21.1864607, 19.0308262, 25.6093239, 18.9068356, 21.1498134, 30.7334421, 20.5431241, 26.1805978, 19.1943294, 20.4686, 22.95840725, 22.7203616, 12.9174426, 28.4029786, 17.3281147, 14.5203896, 25.6440845, 22.5736296, 23.2584857, 23.3700354, 25.3356491, 13.020817, 26.2967719, 10.3528744, 23.8143419, 18.96558885, 10.9094334, 26.4609135, 20.0112475, 22.3850008, 19.2334875, 31.6343083, 30.3255646, 13.0836939, 21.6637359, 21.2379469, 15.9240905, 11.0018115, 22.5912601, 8.576970549999999, 29.000652549999998, 13.083791399999999, 22.9964948, 27.1752554, 13.072309650000001, 12.3051828, 25.4381302, 22.8015194, 31.81676015, 30.7047049, 30.9090157, 30.616216450000003, 24.817861100000002, 26.67132865, 12.8698101, 26.4073841, 12.6840886, 24.578721, 17.0050454, 28.8638424, 25.1968256, 29.168807, 25.6358901, 26.2037247, 19.877263, 22.3051991, 9.950294750000001, 26.63807555, 19.19714465, 22.55825, 25.7784105, 29.0, 17.166667, 30.2090874, 23.174597, 23.2232877, 16.2915189, 27.87698975, 23.4559809, 28.457876, 16.5087586, 22.383333, 16.083333, 31.29201065, 29.2144604, 25.373848, 22.5584995, 25.193859, 12.9201301, 19.3098134, 27.4844597, 17.6339929, 26.5885585, 28.9010899, 25.8819068, 26.66951195, 30.4776857, 15.8572666, 10.070149950000001, 21.7718836, 20.590250150000003, 23.8312377, 29.44800635, 15.4989946, 30.3409115, 26.4691, 23.0238876, 30.3255646, 10.91564885, 10.76208595, 15.3518378, 25.28669805, 24.4766423, 19.8076083, 29.0033144, 26.61695705, 16.7434538, 24.7964355, 29.6803266, 22.139831049999998, 29.583333, 21.5, 20.82562315, 27.633333, 23.6579595, 21.4, 23.1608938, 27.639077049999997, 14.4493717, 12.22721295, 23.7678684, 13.6316368, 22.4732415, 15.1433952, 30.2112003, 21.2120677, 28.5480885, 28.6517178, 29.8693496, 11.6612012, 20.4324018, 16.7028412, 29.9384473, 20.2736768, 13.0070817, 23.0718743, 15.8309251, 19.362530800000002, 29.9880774, 29.40604895, 11.6645348, 30.3843674, 31.103976, 20.99327605, 30.9293211, 28.0159286, 23.6871297, 26.02269675, 24.0, 29.3912753, 17.84990665, 18.4346438, 21.15454115, 23.5350475, 23.80961225, 14.6546235, 20.7618624, 22.6895073, 22.9749723, 28.1956468, 23.7952809, 9.740204, 17.6688019, 20.952407, 10.9043819, 25.531031149999997, 26.08314325, 17.5, 9.964040149999999, 14.4661266, 25.7205805, 26.1310043, 26.0, 19.2969528, 25.75, 18.7935679, 26.7164127, 15.3004543, 13.1369996, 26.9888269, 30.3704685, 26.992129249999998, 32.301710400000005, 26.791072749999998, 9.931308, 22.7464225, 28.176958900000002, 25.83264165, 27.0979659, 20.5991006, 31.60857425, 22.8176662, 31.1041526, 11.2586082, 28.7931703, 25.5760446, 27.4070522, 20.9105813, 13.9326093, 29.822820749999998, 8.709992, 26.7577925, 9.8696551, 28.8261624, 22.5096189, 25.2840995, 23.666667, 21.75, 28.79406825, 25.6190854, 26.57550365, 21.19903535, 21.0633288, 27.52016575, 28.61875255, 14.416667, 28.5668602, 12.7948109, 13.3400771, 21.572645950000002, 28.740612499999997, 23.916667, 8.1880471, 29.993039500000002, 31.2206734, 25.5377949, 21.6293206, 28.38886085, 26.718324350000003, 20.3735482, 20.038384100000002, 19.9104952, 23.77405735, 25.7955927, 20.9727404, 24.5, 21.87705125, 26.30414915, 28.5621911, 25.48877345, 25.22081165, 26.350071999999997, 25.5724333, 15.4540505, 23.4805919, 25.3015095, 20.84351185, 25.1643804, 24.1608897, 15.266493, 25.9359555, 16.8502534, 16.9437385, 30.2093363, 23.2472446, 25.133173050000003, 10.67047305, 26.626483649999997, 25.5008211, 8.3363641, 26.724789, 13.1601048, 11.1017815, 32.2386317, 28.2039413, 27.662826000000003, 20.2667774, 25.5127194, 30.17911535, 13.3419169, 23.0, 13.1394221, 24.9001003, 26.6229928, 23.7750823, 27.57324325, 11.71597955, 10.9708115, 19.25, 24.5, 26.0992137, 10.433381749999999, 23.8491569, 27.329046, 26.4207265, 23.495768, 30.1086537, 32.25523705, 18.35146855, 29.301826249999998, 27.17736635, 26.055317950000003, 15.5926511, 26.9782949, 27.3802776, 17.5942255, 27.5046392, 21.1882332, 22.910891749999998, 21.9778642, 26.42384715, 27.2098219, 11.7564329, 17.38878595, 19.362530800000002, 27.912633149999998, 23.2969449, 29.367200150000002, 22.317180999999998, 29.3203309, 30.1450543, 11.369204400000001, 24.75926685, 25.62345725, 11.0088206, 24.4624649, 11.468900399999999, 10.1147548, 18.7337107, 19.7984865, 30.48904715, 16.700551750000002, 10.5256264, 23.7435236, 21.455228, 26.4851573, 10.9301522, 8.756745200000001, 25.75, 25.603508400000003, 13.318014, 25.7744929, 30.4569012, 24.593938950000002, 29.3917821, 25.8563368, 24.8483482, 26.0376878, 28.660964800000002, 25.560900349999997, 17.314751700000002, 27.601029, 26.242510850000002, 21.401001, 23.8339621, 19.9182328, 10.1196442, 18.005585099999998, 25.5656914, 17.63612885, 26.72667, 17.3050528, 19.17257215, 21.13050145, 30.885100350000002, 23.244051, 27.1096669, 11.38845225, 28.6419258, 27.02801615, 23.2146169, 21.5892323, 26.5, 11.9137874, 28.0937702, 18.7548563, 24.5, 23.1226343, 8.6495861, 13.7518033, 26.29863795, 22.3028351, 19.41311275, 29.632300700000002, 25.7535433, 29.468830099999998, 25.1364914, 24.2651306, 14.1064568, 27.7336958, 24.8006088, 15.5075545, 12.2131306, 25.680653900000003, 19.88769135, 22.5, 18.1120819, 25.6040908, 22.7785001, 22.51976955, 21.6409, 16.5427689, 24.1709794, 9.3895523, 9.6287383, 25.9135914, 16.022056050000003, 15.6559189, 26.93823105, 23.7497214, 20.8411255, 20.325703750000002, 16.2377735, 27.5753726, 25.2158257, 12.8714107, 21.7884623, 22.861472, 32.518429, 18.43743615, 27.0607859, 19.64228445, 18.82135895, 26.40490095, 27.160901099999997, 8.8879509, 10.3303299, 29.831802500000002, 20.9057, 27.529001700000002, 28.9233969, 23.587548050000002, 24.64788505, 28.90947895, 12.836393, 20.2492934, 24.0891652, 28.56699775, 31.38524095, 20.359434, 18.8553226, 26.9888269, 24.965712250000003, 12.9485676, 22.6103179, 26.2697215, 17.01796845, 13.0339116, 21.365998949999998, 22.5743355, 21.2379469, 13.4167141, 23.0965633, 12.453306399999999, 21.1694053, 8.6052249, 26.21231825, 13.4176606, 27.83295, 24.2538512, 21.2654204, 22.7261414, 29.538422, 16.6295591, 20.7391912, 22.7176238, 25.29131615, 17.6858653, 22.9746445, 27.26521245, 14.7874825, 27.87698975, 12.7328844, 18.914325249999997, 21.9349, 27.29636055, 24.757326, 28.2059068, 21.3394524, 12.7871437, 24.5, 20.866667, 10.7860267, 28.4452309, 19.738783849999997, 18.9918442, 25.2335457, 24.85154025, 28.4883777, 21.1220023, 26.9173251, 25.9259562, 18.7615156, 13.57325965, 13.0409755, 29.148938049999998, 30.7839866, 16.67613485, 25.3297912, 25.5, 21.8187743, 16.2389242, 27.0457102, 13.9873619, 29.0264162, 24.5241285, 9.4669895, 27.997083250000003, 10.0869959, 21.4106564, 29.2117573, 23.3889007, 27.5366189, 26.166667, 24.378704, 27.23650645, 24.571792, 17.8759286, 28.5890885, 15.475377349999999, 25.441116, 16.7689044, 30.2345631, 24.6258698, 25.193859, 25.166667, 29.607202100000002, 23.1194278, 24.75, 23.598775949999997, 24.5977192, 18.502172, 31.4397157, 24.0383082, 26.79947155, 14.752265900000001, 20.7671693, 23.13195425, 22.9236049, 11.2393183, 11.0425345, 26.12214725, 17.3096343, 22.13327195, 25.799292299999998, 28.6423908, 21.347763399999998, 25.877932549999997, 27.985060150000002, 25.895924450000003, 16.8579636, 20.583333, 10.1254156, 34.0747444, 24.4330291, 30.1293258, 29.83275365, 21.291774, 28.06831165, 15.4315062, 28.974744, 29.28319855, 18.32002205, 27.883846050000002, 23.3002343, 17.86859205, 22.1686, 16.1819393, 20.725766, 28.9586835, 17.2702855, 30.283140099999997, 26.280659749999998, 19.2103809, 23.7968484, 26.4398744, 17.9384182, 11.4995804, 19.0525298, 17.4939602, 20.827789199999998, 32.06854705, 30.9090157, 22.3511148, 31.001798450000003, 27.985060150000002, 22.43839665, 31.3837484, 24.599874999999997, 18.695989, 16.896833700000002, 17.0502198, 31.0831064, 26.70472375, 19.0583358, 28.6149362, 25.5379432, 24.268349450000002, 12.8916061, 28.4520179, 14.6423862, 20.421975600000003, 25.12635425, 24.9356347, 20.2754926, 25.603508400000003, 16.1853166, 28.079689549999998, 31.09168085, 26.7990707, 14.2266443, 12.5238888, 16.495012, 26.518718, 11.4126769, 10.3479069, 10.5, 18.57982995, 21.4106564, 24.3734077, 18.72444195, 22.9561711, 18.16984395, 23.5971246, 25.4058043, 26.498767100000002, 24.2159484, 27.0377554, 23.3129861, 56.1434195, 25.8435395, 25.7831685, 18.6772446, 19.369594, 21.4630738, 23.2269594, 26.3223696, 15.8361517, 23.2590965, 13.1241127, 24.287867900000002, 27.03180635, 27.4856358, 9.3867448, 23.0434655, 27.09254225, 21.2997306, 20.892664699999997, 5.5391508, 12.9299028, 19.0639032, 19.68086385, 29.7921496, 9.0653134, 23.02969935, 21.3545788, 20.3735482, 17.9423742, 18.21985375, 25.37524125, 29.0033144, 26.4444441, 10.8604181, 28.711241, 20.5182073, 19.17257215, 19.54140965, 20.17822305, 21.5340622, 29.29320165, 12.8636676, 16.0949502, 12.9791198, 24.3132368, 25.8643593, 23.364644100000003, 20.42000485, 21.1378492, 23.1156882, 31.1208324, 25.422922749999998, 23.75, 22.1269461, 18.083333, 25.0039308, 23.19989585, 23.0101198, 22.5058547, 27.07562, 27.40600445, 26.620413900000003, 27.33857665, 28.5394017, 26.123576900000003, 11.690524, 28.6130344, 28.49833525, 12.438561, 26.8105777, 26.42386165, 9.48671505, 10.9645549, 8.0879641, 21.6590495, 22.182835150000002, 11.7247986, 29.1315256, 28.7012243, 13.7896547, 25.2701522, 28.45352815, 19.2716301, 28.6190739, 26.58687695, 23.581665, 30.85844455, 30.7270873, 28.4545693, 18.8488213, 19.0870758, 28.639748400000002, 17.1466952, 21.1176744, 28.2408, 23.8526044, 13.030084299999999, 28.9789661, 24.5306951, 27.5994338, 20.7756259, 28.5830409, 24.15529035, 28.6707787, 28.2061443, 21.4452249, 19.067551, 19.20604435, 25.1039138, 31.09593035, 25.74084805, 13.3986587, 20.1508476, 26.626483649999997, 17.4930841, 17.1489922, 27.0607859, 17.478142, 10.6386908, 28.25, 22.0229287, 26.6557003, 25.629632649999998, 19.091520950000003, 16.8579636, 9.2504893, 11.4425129, 20.88154835, 29.5302074, 24.6339789, 27.02787695, 28.3622661, 23.77405735, 25.024095350000003, 20.75, 29.7253279, 14.9622518, 19.11273685, 19.7668121, 22.9421833, 17.7255921, 11.1524336, 30.9176842, 25.974212, 13.0260158, 22.2434036, 25.921061, 24.818123999999997, 22.562511, 30.40878, 11.322330950000001, 24.88692315, 27.0228991, 16.3338591, 19.5982171, 29.9255593, 9.2552818, 21.770886, 27.9785769, 26.705524, 22.215745, 27.997083250000003, 20.73218365, 14.2813485, 18.246073, 11.1363042, 21.623077, 25.7744929, 19.0628944, 17.4981608, 16.57950675, 12.9366728, 26.8751435, 26.4582063, 25.5873689, 25.175951599999998, 18.44658, 24.792682, 23.0069372, -34.5905715, 19.60962325, 27.0355897, 29.1352917, 23.42379485, 24.93771665, 10.91571, 16.8100477, 29.7019394, 20.4775218, 22.5896796, 37.8882168, 22.93412525, 19.1648029, 25.9019578, 20.60422595, 25.2787, 25.7909744, 25.8739615, 14.3134476, 29.3260672, 28.6115171, 35.0862391, 17.397892849999998, 19.1172495, 16.4329976, 18.2548557, 15.2722287, 17.5925245, 25.2634866, 23.8315668, 10.0234758, 44.3976247, 10.5990268, 13.51111965, 25.6093243, 8.7012203, 20.0429079, 12.9657452, 27.7986365, 30.56256885, 12.09680475, 24.562463649999998, 25.3822038, 21.5934771, 26.26498795, 23.46139615, 19.0759899, 20.17822305, 28.49833525, 18.566049749999998, 31.32124525, 23.011445, 25.63463955, 26.4563076, 13.0953024, 24.7926, 26.4800126, 28.4944811, 19.13352595, 24.9171512, 23.7978518, 24.5419929, 26.4876472, 22.177435, 26.9262218, 19.1633281, 36.294102, 15.4003968, 19.4409122, 27.2263944, 26.3139208, 21.4666151, 12.7756012, 26.1630556, 19.161697, 19.172095849999998, 21.0914409, 26.24481685, 15.816422, 30.7456311, 28.31040715, 29.8769971, 12.7782588, 24.7208818, 24.8702548, 26.80486585, 25.69692585, 20.1957484, 25.721206, 15.380501500000001, 17.427355499999997, 23.5017219, 16.882983, 10.81545475, 24.0782271, 13.055399, 23.768877, 15.9449549, 30.3708266, 24.3332794, 11.155182199999999, 23.023538549999998, 24.4165267, 28.602684, 21.89274135, 25.625258, 30.6115717, 17.6758253, 26.8955688, 9.3587884, 21.9905525, 22.5483518, 23.3805757, 27.4504805, 22.8446679, 27.7925414, 18.6536941, 17.4483438, 19.40453175, 17.3936076, 11.9290647, 25.182510299999997, 17.4534271, 25.895924450000003, 20.8522696, 29.6477809, 30.3312684, 11.66665, 22.0237482, 26.22914115, 27.096888149999998, 29.5008816, 19.489917050000003, 23.3039507, 25.98774165, 16.14090075, 21.4468176, 21.966667, 29.42483385, 24.890090999999998, 26.4426795, 29.276760250000002, 31.8633905, 28.5730085, 21.7565038, 17.4704259, 20.475194950000002, 27.5595691, 19.1340105, 25.9749011, 29.5235438, 27.10639115, 23.1100643, 22.6662928, 12.9369591, 22.8233693, 26.5630662, 18.787747, 23.1091735, 26.334307, 17.7231276, 24.1745993, 29.756945, 18.393033850000002, 19.29031365, 25.6656611, 20.2985474, 22.8194461, 9.9118707, 25.47823805, 29.209547, 15.11965065, 30.12666775, 23.07026605, 29.0231819, 26.1630556, 21.4592595, 20.2700878, 20.50040085, 21.20565835, 23.092529, 25.91331045, 28.737163250000002, 23.4930788, 10.0858443, 27.8214382, 23.88793835, 27.29466415, 27.7062737, 27.1636868, 17.3026835, 20.08895415, 30.8400088, 21.7646404, 23.8339621, 28.97240405, 30.176359, 16.8370193, 17.907324850000002, 27.8900657, 25.15247135, 19.06345035, 26.92119, 22.6105576, 28.7317295, 28.074659, 22.4951079, 28.98100145, 15.5582208, 17.3395118, 59.1337558, 21.5549576, 37.7894176, 12.9681798, 31.1264364, 24.819964499999998, 12.9055682, 14.1650624, 18.49662515, 34.0777908, 19.1860219, 16.6959348, 19.033611800000003, 20.32847045, 20.5884403, 22.028124, 26.847528500000003, 12.9846634, 26.5801496, 54.7663787, 12.9151772, 30.21259105, 10.5632956, 25.5701975, 22.285939550000002, 13.826383, 19.1287942, 18.62065305, 17.4798689, 28.5946775, 21.6870684, 24.076555, 22.6556344, 28.5630488, 21.1549026, 14.42234715, 16.5087586, 25.553921799999998, 28.097345150000002, 17.202786, 19.2103809, 25.3481372, 21.2379469, 24.5078597, 27.3559134, 50.0852768, 26.93823105, 23.4014159, 29.9838213, 27.51547255, 30.5467923, 23.56010055, 13.3298196, 12.654322, 13.4261724, 25.834763, 26.6533959, 24.7759417, 23.0024587, 25.4502464, 18.8238151, 8.6808989, 28.57637, 22.211235000000002, 26.8829, 28.4312733, 8.756745200000001, 27.0366038, 18.7208189, 24.819964499999998, 52.4868879, 26.3439772, 20.7364495, 27.1569623, 21.075780700000003, 33.9743218, 26.5206089, 21.1430002, 45.9916183, 18.7232023, 19.24358395, 16.3987907, 17.5200154, 21.6783969, 25.29024, 19.0711224, 19.107085, 15.8110285, 25.2900509, -12.21472735, 28.7162092, 18.5021779, 25.3839476, 17.4471569, 15.8799583, 13.2483502, 28.93462735, 24.0534758, 20.2831912, 31.94345, 12.8982276, 18.3910819, 18.53234805, 9.741928349999998, 28.6700885, 30.1902559, 33.0641192, 39.6023373, 27.71558705, 25.3234532, 20.004831199999998, 26.08314325, 22.2471009, 28.53478975, 19.1944819, 11.271286, 24.4089425, 24.8745232, 11.984397, 30.0633372, 19.0550693, 21.0479371, 30.8041704, 22.68536625, 11.44300175, 9.48870715, 8.4004698, 30.7014028, 12.9567353, 20.600761249999998, 26.8528761, 22.701019350000003, 28.47649105, -34.5869063, 23.1990144, 29.3215949, 19.158514699999998, 23.283314, 12.945944, 16.95650685, 12.0371949, 23.7570852, 14.8722142, 31.5560434, 27.7187414, 15.4540505, 30.0086722, 28.016118249999998, 12.9957704, 24.667929, 15.28976205, 25.56638815, 25.2265291, 20.76139095, 17.1772683, 11.7615651, 25.2192061, 21.165461, 30.499632300000002, 26.3349031, 22.8358542, 28.3093933, 17.08001385, 25.758077999999998, 23.0259556, 36.6390268, 27.7011154, 28.5292495, 65.8277862, 13.08233905, 28.0364176, 17.4056634, 20.1666702, 30.8751439, 24.592433, 7.0993325, 22.9999248, 21.22666185, 10.3039878, 26.2386392, 16.4318209, 22.211235000000002, 27.182739650000002, 12.9337658, 12.7948109, 30.6942517, 16.4802988, 27.0911655, 14.6105385, 24.4323128, 28.6822009, 25.33762635, 25.746791350000002, 23.0916741, 19.1719717, 19.2155371, 28.4618719, 28.5387523, 21.241444700000002, 25.5515115, 23.9960338, 27.021972, 19.045794, 19.2014309, 27.055710050000002, 29.1043595, 35.7184306, 19.17257215, 26.836164500000002, 11.41018075, 25.5977248, 25.8902299, 17.3721615, 17.005308, 23.650711649999998, 24.68845365, 18.8640648, 17.5915639, 13.258575, 52.1411048, 17.6637127, 13.10825935, 27.7732536, 25.562071500000002, 23.3040626, 28.61784195, 10.991008, 20.238369, 30.6037957, 22.6895073, 18.70397645, 27.3927313, 25.1557722, 21.2797773, 30.4567545, 13.1327533, 25.66420085, 16.2347032, 20.7326962, 26.78210815, 30.8042411, 25.6603858, 30.336099599999997, 10.04451205, 20.0151691, 51.6119398, 17.3501617, 25.259221099999998, 20.893297, 16.7333666, 31.3618053, 19.2480564, 27.1716157, 13.0884967, 24.3897272, 10.78789595, 29.3591746, 10.9138283, 9.2379249, 11.5279524, 55.7539828, 22.4700318, 17.4355207, 19.1269892, 23.2946448, 23.78644525, 25.1654065, 25.083159950000002, 30.7635373, 12.9737726, 19.2470586, 19.1205119, 23.25, 19.0412732, 12.7948109, 15.530515, 11.7869062, 19.743964249999998, 23.80961225, 25.72482275, 24.7119436, 16.483103, 26.57550365, 26.70214275, 26.01801105, 26.36484145, 17.4510837, 29.65778, 24.3159793, 23.37074105, 28.6422523, 26.5876547, 9.3895523, 19.956005, 31.0761098, 22.6153934, 21.7321358, 26.67277155, 11.5882123, 22.2973142, 19.3551634, 24.00952125, 22.1041221, 17.4116427, 30.6847209, 13.0221416, 15.5553688, 27.2590872, 28.6091456, 13.0193703, 28.64980715, 23.0839931, 24.47632, 28.49049635, 25.3627965, 20.9458183, 27.4029944, 24.967852049999998, 12.9138914, 10.0003823, 20.1617378, 22.99723125, 16.326251300000003, 21.1610268, 25.315651600000002, 25.0057449, 28.6273375, 28.33552945, -20.4332099, 27.2319975, 13.418613950000001, 31.60857425, 22.88585225, 19.0626319, 24.6778472, 24.1229471, 23.107121, 18.9722687, 29.2117573, 23.0238876, 26.49737005, 22.287201099999997, 13.2455918, 26.51668105, 25.45528745, 31.6094514, 51.7520849, 29.9657112, 18.5748202, 10.2335868, 60.0104688, 15.5888252, 30.6718662, 18.084625600000003, 28.41755805, 8.4166055, 24.0422209, 8.338526, 13.0025699, 11.6354866, 11.26590385, 30.147358699999998, 28.5640158, 10.55905, 20.1160666, 26.2768118, 15.46404565, 20.936150050000002, 12.6226672, 26.6988847, 28.6490523, 19.4782361, 27.1096669, 28.7733808, 26.973031, 25.3037455, 49.1984073, 8.213429, 23.9816034, 13.0836939, 30.7345609, 26.5570563, 15.3484144, 30.8989909, 25.2483728, 31.7094519, 23.8902958, 24.528111, 25.0159366, 22.6611962, 13.31217355, 20.1270026, 19.13630435, 23.0400861, 25.4916868, 13.0662337, 18.1125305, 17.09813605, 19.0186865, 23.6905539, 23.8291897, 18.29761345, 15.87160025, 26.673188699999997, 26.2316753, 23.8698858, 19.1007306, 17.5441251, 19.0465213, 10.07574125, 16.4934233, 15.91533865, 26.02269675, 15.266493, 17.1788637, 26.273727, 23.80199435, 24.1974432, 33.5455806, 22.3254054, 23.2143128, 19.00193315, 19.7676704, 24.180309649999998, 29.43216305, 25.9245937, 28.5067242, 15.7603619, -37.7846529, 14.16738855, 30.80482365, 52.77362975, 17.9806094, 17.7158399, 18.51246285, 18.9512183, 28.60564725, 10.6860794, 28.5667914, 27.1577152, 19.0549435, 28.56941825, 12.881681149999999, 20.8466301, 25.2820998, 28.2325472, 11.1671878, 20.9357744, 13.1151921, 24.6354905, 23.4222325, 28.61753755, 51.5066192, 23.87167135, 17.04707845, 10.59041075, 26.2269466, 25.4992028, -1.2832618, 20.7587262, 9.43599075, 24.1302564, 30.3726222, 23.6580081, 18.623185399999997, 26.9750556, 30.7081713, 18.5618834, 13.0662012, 43.2297673, 27.5599876, 15.639879, 26.1238376, 21.6986198, 25.665976, 16.732733, 23.800656850000003, 19.4129711, 23.0745681, 22.6317973, 18.521428, 12.0302663, 22.5951633, 24.8301907, 27.64392675, 29.583333, 28.350751, 24.943320149999998, 19.0614859, 19.043395949999997, 26.5054763, 26.8864371, 28.4104903, 11.4485576, 19.79474965, 20.1454205, 19.052048749999997, 23.6310786, 28.5681409, 8.1561337, 12.34789305, 22.5414185, 23.87167135, 29.8769971, 17.426299, 31.7565085, 24.7751968, 23.0216238, 19.0423145, 18.7649439, 28.3492531, 26.34738315, 8.8052602, 10.516332850000001, 17.271977, 15.816422, 43.3804335, 22.91584775, 19.0261579, 25.3682474, 17.5054829, 51.46565855, 9.27845325, 29.622808, 32.0893012, 11.5390037, 18.643269, 19.077447399999997, 18.9093745, 16.501, 26.2967719, 20.286946049999997, 9.187057, 38.9142677, 25.36176885, 20.913456850000003, 28.678319, 20.7227763, 21.31486295, 20.5472816, 28.59425315, 14.6165795, 22.66459105, 13.0431189, 27.6481353, 26.36903265, 31.8442334, 29.84591115, 23.1738124, 23.1732678, 16.5944698, 19.114541, 26.22359955, 18.914651, 22.5565847, 17.3949126, 12.9545994, 10.0368297, 17.6056315, 15.2759827, 22.6215076, 11.0515646, 28.6894471, 22.06030655, 17.3833665, 24.6962612, 24.20162495, 19.092829350000002, 17.3303179, 19.4553059, 26.67132865, 18.9766219, 24.85450275, 24.624587, 8.3741294, 28.0589676, 28.6083003, 22.2091671, 23.7329085, 25.2958456, 19.5162519, 55.7429028, 10.497812750000001, 15.4263647, 28.6138954, 28.6432658, 26.8357988, 11.4995804, 28.56069055, 16.9971763, 28.6579998, 30.7014028, 23.0623814, 23.8932751, 53.4083548, 28.5579591, 28.6421518, 25.562071500000002, 31.1596218, 17.9806094, 20.7137783, 24.70038485, 23.3495267, 49.61783615, 29.6467786, 18.915091, 19.977351900000002, 18.9800057, 21.4616995, 31.2258578, 19.1519551, 27.1468901, 12.1958304, 22.1662946, 19.610654150000002, 17.4981608, 23.083751900000003, 26.273306650000002, 22.139831049999998, 15.2785018, 17.8773893, 23.7127275, 18.4834351, 26.1486581, 19.20068075, 13.3986587, 25.211775, 47.7798045, 24.0297442, 19.8658474, 19.2214691, 27.0534366, 21.8796162, 26.96388985, 13.0250336, 17.252415300000003, -17.8042825, 28.611755, 14.28175585, 13.0410164, 23.0829395, 26.4602866, 35.7184306, 19.5, 12.9214401, 11.1190592, 21.254926, 20.34509375, 26.074708899999997, 9.6113179, 26.6721388, 24.3829511, 21.823277599999997, 23.598775949999997, 23.0567133, 21.1257301, 20.0848128, 17.3605613, 29.5837, 27.2226579, 20.3846007, 31.63488565, 12.9822166, 12.5188835, 21.3280139, 38.24872205, 10.2767592, 26.599224200000002, 22.0237482, 25.126227999999998, 20.68614105, 16.53137155, 48.15462335, 28.53364155, 11.450099699999999, 10.1786983, 20.952407, 28.6734557, 23.1291709, 22.86004195, 28.7142498, 17.5172789, 29.53141165, 28.4812716, 17.1685198, 18.5349081, 28.5783966, 23.7302149, 12.421713050000001, 22.66459105, 16.7789886, 26.0010455, 21.2092885, 20.2733604, 27.2872533, 12.9394208, 23.7410137, 20.795759, 10.9943512, 30.3736727, 51.619072349999996, 23.8525581, 18.694444, 21.9721823, 17.4771095, 28.31758695, 17.8970438, 18.2900298, 13.1084975, 12.32795, 11.04970175, 22.2715391, 24.7978306, 13.04050125, 13.72409355, 25.54595535, 26.4912664, 19.8459528, -23.5125259, 25.19912635, 25.961768149999997, 17.4122956, 21.22876205, 27.7988498, 25.299243, 11.9269937, 14.4261647, 17.541791, 23.6589217, 12.4207366, 27.6969652, 18.89891745, 28.416503499999997, 13.6134495, 13.8718003, 30.7908462, 23.01003, 25.32517515, 29.154147700000003, 16.8502534, 11.4875132, 10.3528744, 28.41845825, 24.7545772, 16.9003795, 25.1605512, 26.1277011, 19.1070215, 11.2287716, 8.2515242, 15.561649549999998, 9.560136400000001, 25.5819034, 32.1419699, 28.55409925, 25.8818881, 25.5238346, 19.0116962, 21.7466811, 16.449897, 13.5084827, 10.411803299999999, 12.1972711, 18.9456701, 13.3419169, 14.010067750000001, 15.11965065, 28.5773794, 11.12078595, 27.1784019, 28.7199257, 28.6667177, 28.97140915, 28.694786450000002, 22.8546251, 17.893641000000002, 20.631117500000002, 26.0804138, 33.6290111, 20.294250599999998, 19.0901312, 28.9963296, 32.8859288, 13.0042699, 15.8625159, 28.6326008, 34.309642, 27.1450636, 20.2519828, 13.11030995, 21.1134365, 21.0560298, 17.77096095, 12.32795, 23.1927742, 34.0606593, 27.1275258, 25.2662887, 18.6689858, 21.19721165, 21.254926, 17.9423742, 20.866667, 29.8679263, 28.5812691, 18.5618834, 16.495012, 30.28790565, 19.4736501, 20.50756595, 18.46136165, 51.3813663, 26.4294603, 30.9763026, 17.3459184, 12.9204024, 16.8717599, 29.40604895, 24.8515132, 51.2463604, 25.4157375, 29.61447865, 18.4346438, 19.1715446, 27.6768536, 26.883972, 28.557808, 45.52565315, 30.4716378, 25.6028948, 10.8770582, 11.076035950000001, 26.9154576, 28.621757, 21.2797773, 8.079252, 8.427056, 20.0626857, 17.4408124, 22.6001502, 28.6626081, 29.79641045, 28.6359457, 17.046464, 19.837788449999998, 30.92589585, 28.30147985, 31.0634777, 24.5570698, 29.14538425, 28.50863715, 29.23631315, 13.172222099999999, 28.5458279, 10.8288939, 10.7855098, 14.2730326, 18.5452362, 51.1273132, 28.5759226, 28.5645794, 25.4601988, 25.4763264, 26.2708952, 28.4449004, 24.1709794, 13.1277669, 22.0535449, 12.3816499, 29.8520559, 23.086171, 25.3478156, 24.99015355, 26.5810243, 16.4210218, 17.419494, 20.7184142, 26.8618432, 28.4758035, 26.133333, 25.07634815, 18.5045098, 18.5124268, 28.603871650000002, 51.522028649999996, 27.2156849, 19.1431889, 26.8092104, 7.0961616, 25.2212679, 10.09177935, 28.5723309, 28.6927155, 28.6257235, 22.5333783, 12.1258613, 19.2180493, 26.2037247, 26.01894625, 17.6688019, 17.8482481, 27.76878445, 22.5675682, 17.39847415, 28.701012, 18.182991899999998, 30.2051335, 18.9424871, -29.9902564, 19.0751571, 20.09835485, 24.11555865, 19.0033298, 25.49442015, 21.050991, 13.0871248, 28.5613002, 22.317180999999998, 14.010067750000001, 29.703094999999998, 17.4375012, 12.8765673, 24.04673835, 13.0238561, 16.4049995, 20.64595705, 28.5214319, 23.240373, 29.9050229, 19.1462636, 12.610081749999999, 26.914757, 28.56069055, 12.9658366, 23.022235, 17.314751700000002, 4.747507, 28.6600637, 19.3121789, 22.0514367, 12.8875989, 37.4619149, 21.5711115, 28.433762, 16.92, 26.5628589, 34.1555628, 18.734236850000002, 13.0395483, 27.29093925, 9.9261153, 26.33379815, 14.0625398, 23.7978518, 11.7731017, 29.3203309, 26.0865358, 17.4822956, 19.0317259, 28.630311, 26.2793426, 22.4094019, 22.4622075, 28.56069055, 21.575642, 17.86859205, 26.6889726, 23.0346324, 28.959150049999998, 22.03240265, 30.4641278, 27.6526038, 26.3859638, 23.259345949999997, 12.61123865, 25.1388932, 12.9428412, 21.76551815, 45.3927463, 28.5339201, 20.4324018, 28.4466285, 31.018294, 15.27540755, 22.4118882, 26.365964, 26.16134115, 44.404906, 29.3977342, 29.569683599999998, 29.7253279, 16.9229121, 28.612304, 30.716323350000003, 28.5615391, 28.635584950000002, 10.78789845, 49.4418462, 23.9232867, 41.70747445, 23.239184, 12.9257923, 30.9571008, 24.5142513, 20.7083903, 14.1520919, 22.6700186, 22.4149721, 14.062924800000001, 19.215045250000003, 20.50040085, 13.2019269, 17.4238038, 9.403158399999999, 30.88221215, 22.7294813, 8.9155991, 26.7164127, 18.81050785, 26.270789450000002, 12.7959601, 26.75227965, 22.1171, 9.9950189, 10.8329161, 29.318116, 19.1624295, 24.5, 11.3652431, 28.5136834, 24.9001003, 28.7959955, 8.576970549999999, 20.2351133, 25.37524125, 46.715605, 26.711324, 19.877263, 19.2162523, 15.9598085, 21.7285864, 16.427785, 26.1783623, 24.757326, 10.670708099999999, 25.167702900000002, 13.1115392, 19.47861705, 19.188837399999997, 23.1747694, 20.2602964, 26.8536, 20.5591276, 42.3475548, 12.8196077, 31.9519585, 28.7027136, 22.2344084, 19.0639495, 31.8193025, 17.4946328, 19.96670595, 22.5, 17.3995282, 28.58839945, 25.63934715, 25.73677685, 19.808175300000002, 18.316551, 28.99197, -36.3201356, 26.1699793, 26.1783623, 25.965105700000002, 20.2014536, 11.2329709, 26.1595109, 8.5024607, 23.6474107, 12.96613345, 18.9138325, 20.3735482, 9.5208936, 19.1158835, -17.8042825, 26.105546, 29.691133, 21.2460765, 27.1294121, 25.6650421], \"legendgroup\": \"\", \"lon\": [77.2090057, 72.8773928, 77.5912997, 88.35769124388872, 77.3271074, 77.00270014657752, 77.4445372, 77.5912997, 74.0609353177903, 80.9346001, 72.5797068, 78.46106473453146, 85.1623397, 78.6677428, 80.859666, 73.7684549, 73.8544541, 85.8394521, 77.5137649, 75.8189817, 72.8081281, 73.0198537, 85.1235252, 75.6741579, 79.0820556, 76.7797143, 84.6897321, 91.753943, 72.9701779, 85.8792, 72.71852429515411, 75.8681996, 80.21649018230858, 77.3103837, 78.6045399, 75.7223521, 85.906508, 88.3251045, 77.401989, 85.3250132, 83.0076292, 80.2239536, 73.0351433, 76.5120396, 77.5340719, 73.10288130582491, 78.3665347, 80.3217588, 73.7902364, 71.7452633, 73.1182464, 74.8736788, 78.0436813, 80.270186, 81.8406351, 81.6336833, 80.1863809, 76.9628425, 88.3909641, 77.05012463730725, 77.76822875372174, 80.27080124615256, 87.6855882, 78.0098161, 80.25133809992252, 76.6553609, 81.8338005, 86.2029579, 77.34932051968858, 76.7178146, 75.851601, 77.04197804321875, 92.75622075294373, 83.36458284327038, 74.8430082, 93.2551303, 79.9836371, 73.6862571, 81.7804732, 78.80577833091104, 76.00089330885552, 75.7461103, 85.0474045, 78.1573628, 75.3390241, 70.8028335, 76.33123356629031, 82.05902434378625, 73.18986842216808, 75.76073875510204, 84.7514507, 76.0, 77.083333, 76.3398720856221, 75.7851423, 72.6492267, 80.4541588, 78.13729027600994, 85.2557301, 79.40557093743058, 80.6185102, 82.133333, 77.166667, 75.56805772253911, 79.527918, 74.6680641, 72.9625629, 85.5208617, 79.9391056357725, 84.7971562, 94.9019447, 78.4843146, 74.861097, 76.5801935, 76.4192052, 84.95741062485514, 76.5937658, 74.5069343, 76.30710819271715, 72.1416449, 74.5714979275197, 91.2823821, 77.74068502568672, 73.8282141, 77.9543429, 74.639, 72.3851475, 78.0436813, 79.80694879844232, 78.71277098691044, 75.1379848, 87.13225355111148, 86.60673245386945, 85.8252538, 77.0167323, 92.76500717365028, 77.9923191, 85.0079563, 76.9896254, 78.80964495467987, 75.083333, 86.75, 78.61314549522919, 77.583333, 86.0839161, 83.883333, 79.9497702, 76.6144524902045, 79.9873763, 79.07015554906167, 85.9873831, 79.4231711, 70.0552102, 76.9193876, 77.28638972360895, 81.3732849, 77.2510976, 77.2219388, 77.8902124, 78.1602498, 73.1411715553577, 74.2405329, 78.1452985, 73.0045787, 76.0992703, 70.131715, 78.0425373, 73.07847467842203, 77.5081299470512, 78.48087839917878, 92.7390448, 76.770421, 76.65663239262932, 75.83998255383139, 75.5004841, 73.3171367, 86.9746587, 83.02887343114848, 85.25, 76.9771675, 75.27632027348457, 79.1322648, 77.64429617998744, 87.3380425, 78.75911360578634, 77.55625984224562, 77.19217162524623, 72.8715199, 88.4345915, 76.6165179, 86.4309638, 76.33246715541219, 80.8940083, 72.9323831, 76.9988314, 78.65268901605349, 86.03257096612822, 80.333333, 78.15887063830004, 75.9206361, 85.25555961402884, 84.39125660595198, 87.5, 72.821187, 94.166667, 80.815939, 88.4309916, 74.0855134, 78.1339606, 75.8558916, 75.504017418548, 80.65786469863859, 75.65864246622084, 84.56010678772793, 76.2674136, 85.91689291046393, 77.37311203790532, 86.61489283342814, 93.6237291, 74.2021078, 75.84644246890946, 70.8345928, 77.1709729, 75.7788735, 76.1391283, 91.8825282, 77.8222989, 73.9373543, 75.574978, 76.37830986647243, 77.7366822, 94.2079645, 78.08651236944388, 77.54165604660876, 82.5507586, 81.9376326, 72.5, 73.0, 79.1859304458554, 81.78622290963523, 80.61376177782856, 81.3979545573657, 86.5053731, 95.5306347312879, 78.55087405404802, 78.75, 77.2078058, 79.0006410968549, 77.1006208, 82.43670691696435, 77.83542556519009, 78.0, 77.4290492, 76.82922282678291, 75.7696463, 82.0227127120877, 72.9945103, 77.97479772598118, 79.09025375025163, 72.9084376, 76.83418393404364, 83.1678321, 71.68373465668734, 82.48834097504385, 80.69155548263583, 74.5, 84.00905063735019, 92.71605974430346, 77.2264771, 74.69961283584024, 86.51720367235285, 86.22914688962271, 83.6096053, 75.0066516, 74.91778971237613, 83.172958, 75.52592658756026, 82.5043173, 86.25113503301655, 76.3872297, 79.42432768008604, 74.5948885, 82.2350607, 75.8184224340909, 69.668339, 86.52504036339789, 77.00991258704545, 88.73407701468993, 80.499762, 77.32450143883207, 82.79326865024002, 79.15555061803596, 77.345192, 77.1896839, 76.837441, 75.02792628691331, 85.8435592, 86.09057109140021, 75.04710156312628, 74.7473232, 76.166667, 79.9070839, 84.0182110684575, 92.7976082, 91.7025091, 78.11173866751716, 79.52096942061098, 77.28172616917558, 74.75, 80.25, 74.3127044, 77.18551347905883, 86.901887, 88.6122673, 84.37406407415165, 86.6746476, 78.2916193, 76.34810908043565, 76.7551212230513, 76.33847076788838, 78.38991197951182, 82.99313867937335, 73.8119741, 83.06540703462301, 79.5987998, 75.7999699, 80.82946583420815, 82.48484762499999, 88.01063387899092, 76.5688282326971, 83.76273169028727, 79.04813700847944, 79.7634644, 78.46106473453146, 73.07847467842203, 79.74656294869826, 72.3306381, 74.29836365065901, 86.75251827179432, 73.9026728, 74.1956597, 77.67662686841793, 81.65500021078341, 84.59683868653386, 75.9114506, 74.8501137, 76.91941494066896, 76.4778152, 73.6728593, 72.761452, 77.5819610357789, 77.61648447017446, 76.2132542, 92.7382905, 80.1962729, 89.5246926, 78.08485454572889, 78.07975266019861, 80.0, 83.50745404887138, 75.7738743, 85.86626813370123, 78.0782906, 84.84789028985003, 79.455569, 93.46496675590588, 92.33221292310328, 83.49793418499047, 76.83467647083376, 87.64765353997149, 74.16551699168082, 88.45413638680145, 82.29616931685918, 79.7079572, 80.392456, 75.8686246900443, 76.3427385, 78.89611304969961, 80.0634887, 74.29827807601782, 93.147765, 78.5197234, 77.29141237169956, 74.47891180551228, 74.66014081248886, 87.8689422, 81.9183291218813, 77.97079099881387, 77.2217499, 70.7785056232077, 92.8687612, 85.66878413736906, 78.75, 79.50789297942772, 94.5921326, 73.4016729, 77.5, 83.1981886, 76.7917909, 79.7002288, 87.95314810923409, 87.86746237434912, 84.95825966826101, 79.4154141676432, 93.1731676, 75.52107146631747, 85.44365464855682, 75.38718193725012, 77.82227505709898, 81.47732127661058, 93.9369998, 80.06080046754784, 79.6322142471716, 88.12464576019889, 77.48399628090309, 83.5, 83.4052196224888, 73.41560878556902, 73.6245157, 82.62951462416818, 69.611, 81.527344, 72.4366375, 78.85907071521498, 76.64553257124857, 93.7283707, 79.66448439991211, 77.26977367379274, 81.38609761204991, 91.87663495294915, 85.08040066385269, 78.11691396684715, 80.6464219, 77.6938045, 80.9164001, 74.8461484, 87.7339077, 88.3706071, 76.23086565661742, 77.11052147515852, 74.17667537582712, 74.70103607472412, 78.91506632525903, 94.03209112120626, 94.16266801115614, 76.5955013, 78.0673979084697, 76.84851574311033, 70.3781, 82.45503891876294, 78.48831693262684, 75.67567912676502, 87.84290308567452, 79.94991319784158, 79.7053304, 75.19060805839375, 88.2591686, 75.7377146380313, 75.30552273989395, 76.3365538221808, 73.02475367295413, 75.8558916, 88.1277781318015, 78.8705336, 73.4617061, 82.99442536730413, 81.710121083101, 80.22986342908263, 74.28400358178766, 71.2000239, 81.6336833, 80.1270858, 77.5144525, 78.55290857022919, 83.61156992042197, 77.0029782, 91.89620684881584, 80.3166702, 77.02552253668419, 87.30064714192224, 78.8788177272372, 88.343487, 78.51514669104847, 74.8563203, 78.6185535, 88.4889529, 73.8244924740361, 82.9884187, 75.8268976, 77.36912554739122, 75.3996731, 78.13729027600994, 77.8309478, 76.46720713767073, 86.7324, 78.09477925359421, 93.85847858025147, 77.87571443846723, 71.3082758, 80.219987, 81.0, 70.75, 79.1381497, 76.9379442, 73.66954680120193, 75.90978399809711, 73.2354341, 94.00947957721581, 78.73524926436818, 73.1135988, 79.02484202145612, 86.82042961035677, 79.4787848, 78.47914644847344, 80.25115095096996, 77.63763422399805, 75.16057422541162, 81.17086824015968, 86.45677664617543, 75.833333, 75.6064577, 80.0472879, 76.5752695, 74.5544089, 79.4859989, 78.2357454, 77.77597856822051, 76.0757621771358, 77.0600915, 74.93954293541879, 78.9617306, 88.37243900644481, 74.1876343, 77.5, 93.69700149533944, 94.87909205082008, 93.7646197, 76.9504246, 77.3015085, 78.47855756523148, 92.1955478, 77.1380381, 77.5843789, 74.6866837, 85.5208617, 72.25, 78.28537443588678, 70.0363797, 79.75, 85.53691564663127, 83.16261862861202, 73.857062, 75.4989077, 84.0723287, 82.99172907038712, 78.54855180269425, 72.9693451, 87.20739720367507, 78.784917, 76.9600768, 76.078402, 75.66375373932236, 74.2168653, 83.97965279931319, 82.06327942881043, 77.3684892, 83.65768298821486, 84.11995931460379, 80.75384538357649, 82.43771622957613, 79.21749353315548, 76.416667, 76.27159587436634, 74.8204443, 85.5216823, 77.24548334364559, 74.63672922932832, 79.6638122, 79.04607312079293, 76.5327743, 79.3963951, 78.54375146068953, 83.91607719937166, 78.63489003747873, 81.364771, 77.8228199507381, 71.6685, 81.1351299, 78.3176067, 77.0950598, 77.74529700637382, 74.52299719797392, 84.74392584246598, 72.8640837, 72.3818955, 80.01799967566015, 80.817981, 77.64806737595279, 73.0735111, 78.4008412, 86.37983525915192, 76.24336792335127, 75.851601, 78.6677428, 77.09454593693275, 80.75384538357649, 87.8200963562451, 76.3754353, 93.77953003423195, 74.1369009, 81.91817932322371, 74.2661719, 75.3366711, 92.04215071409463, 72.8302669, 77.0227628, 91.2999102, 72.20438696977995, 80.084974, 77.6989831, 76.1024686, 76.86341721605328, 85.81510620944194, 82.64770129811649, 72.887325, 83.50745404887138, 75.6967919, 75.5417679584636, 76.5272673916138, 82.2052321, 76.4005122, 76.8961961, 79.22080866041219, 90.5331630235168, 76.7030504, 76.21175070258738, 78.833333, 75.0015318226267, 74.93954293541879, 92.1655262, 76.04170910863766, 73.3370129, 76.11796321159572, 72.9588273, 85.89155425304008, 86.4655601426886, 83.0345962, 88.263176, 74.6346545, 40.4136246, 80.91800397088501, 76.2848274, 73.8981129, 78.7736687, 86.74436877621918, 77.49061225923586, 89.4592445, 80.3636644, 74.289402, 80.2046276, 86.61050950020086, 83.90103804538502, 79.08266687135878, 76.5762652, 88.8317765, 83.56696261338257, 86.73683730021526, 76.20502740958177, 115.8559891, 80.1118231, 79.4873121, 72.82537342511341, 77.8760645, 77.83047762243062, 72.46557868354866, 72.0368814, 72.9084376, 73.91925349215948, 74.45340540036307, 77.82811932629714, 77.0167323, 91.6172816, 79.23581597341824, 77.4445372, 86.11624551329615, 77.29141237169956, 77.17376601317515, 85.70930157008985, 72.975339, 77.74500681677128, 80.0721616, 80.1658779, 77.5912997, 76.52223626123003, 73.7507988, 85.32946666666666, 72.86376290300566, 79.0784231, 77.06623939176504, 75.7787046, 82.48843708088575, 79.583333, 83.3959883, 77.333333, 84.186464545582, 86.3209472997868, 74.5771286, 73.4715851, 79.58624622873995, 78.03346974335031, 90.96144695986166, 80.0975264641719, 77.1438959, 84.76754017014437, 78.98242156692304, 77.2057403, 77.02030067252973, 76.3836699, 73.7684549, 91.45122754621168, 78.67227177440276, 79.37173036154906, 77.5467414, 74.6964526, 84.62289139548452, 75.58895924928652, 77.0110886, 76.9303569, 79.64707713075806, 83.0299258, 77.08299169669408, 73.23586552517415, 77.0566861, 90.29293105124796, 72.140412, 76.99796611489867, 76.8872227, 77.0826249, 78.6258901, 82.0235715, 78.31002170159351, 73.2697524, 73.3857702, 75.6448, 86.8788101, 79.6087774568195, 77.6756994, 83.9998299, 80.03260243745382, 76.61195368171651, 77.2393165, 83.82522584408349, 75.0361419, 74.69190729963461, 79.66647451458289, 72.87880051277673, 72.84144073459754, 86.64637213838236, 77.15193561722651, 85.73265885703873, 78.0533058, 76.5690168, 88.73407701468993, 78.4054408, 82.23018860075135, 74.17667537582712, 78.3940775112036, 79.2441941, 76.166667, 82.565318, 92.7711164, 89.93159383615063, 78.39660898429065, 79.21749353315548, 76.5402433, 77.6939806, 70.41345675022, 79.408772, 85.56108313057084, 88.64606085772425, 75.6042342, 71.68373465668734, 82.9115973967415, 85.5, 77.67249791858319, 74.7061458, 72.83134622001683, 74.4754386, 72.1639632, 75.30019362933085, 76.9443701, 75.9406476, 75.1545672, 77.0222704, 70.6863972, 82.0023601, 85.5185562336921, 73.2230996, 79.31855, 76.77480204343982, 87.02964487850093, 76.0100376, 75.2870794, 77.91409929687705, 75.549854, 76.7807776, 72.1190125, 77.34360169905864, 88.4310475, 86.23254623043805, 76.0757621771358, 81.14335738365043, 74.4510861, 80.5246567, 75.95411010175508, 87.5082534, 85.86626813370123, 72.8825604, 78.3567628, 81.99732471149382, 78.7187469, 81.0355588, 86.275475, 73.798213, 86.6778916376767, 73.1238722, 73.9745137, 72.5208415, -58.3825741, 82.29876854111501, 81.1672167, 75.97647564346738, 85.19419673278311, 84.43262950302667, 79.8375761, 74.6509734, 78.59027195756889, 73.8630714, 88.374415, -95.3170208, 79.08676592149922, 72.8500454, 81.2780924, 76.54568497656996, 73.5674, 73.3272855, 87.8391252, 76.6497826, 79.6765422, 77.336293, -80.8503431, 78.5175088441159, 72.833968, 80.9937151, 77.4151663, 73.9700286, 83.0173559, 88.78900293567636, 71.6103884, 77.4979845, -122.7361959, 78.00167705280629, 92.91738841784462, 85.1228052, 77.5792694, 74.4880389, 77.60971605, 73.3446504, 77.25728516676574, 78.19304301026716, 93.8012483746545, 85.51980767073773, 84.74330169777767, 87.37162648106798, 85.32749612341135, 72.8773928, 85.70930157008985, 77.02030067252973, 73.79074960668649, 74.84130629340785, 72.5864365, 79.52638693149856, 74.62795673132572, 77.3963586, 73.0469, 90.5580387, 77.1013038, 72.8246581400228, 76.69640322489136, 85.5263324593129, 76.1735064, 74.5578484, 75.5873514, 71.9177503, 72.8411995, 139.3787733, 74.0116095, 73.3065183, 77.6472902, 89.6665579, 72.9518617, 79.37591931362886, 94.5884911, 72.88678, 83.3350308502498, 71.7621979, -80.27027506526535, 74.8568692, 76.6462003, 78.87221065502017, 75.4889866137018, 77.7712834, 93.9229386, 74.6176246, 76.44374569929329, 85.13577199672577, 76.0105856, 89.9047078, 73.8317012646639, 73.5298410406809, 72.044472, 80.07525257456197, 78.48812545340694, 72.4891682, 80.2040134, 73.2479027, 75.2967797, 75.8647369, 72.8496191, 79.62739425974078, 72.47052697610516, 75.833981, 77.0432335, 83.8904312186639, 74.9274576, 76.2316357, 77.6106926, 84.51790402898362, 76.5881013, 83.1042482, 85.81888764651222, 76.7232104, 82.39541774073132, 88.6618466, 77.4367904, 77.8936802, 78.5289727, 74.61005747867654, 78.6204464, 79.4875059, 92.8984045214543, 78.32674059291753, 82.43771622957613, 86.3385714, 74.5732479, 76.6120004, 75.70749351097206, 82.4260255, 76.30453277017932, 84.4585344292079, 77.34838258540861, 74.24637475177133, 87.42319208975196, 79.10636939854669, 74.40369325283643, 83.76717467150976, 80.333333, 79.09663522858392, 83.81778520582411, 85.90676233388595, 78.86655713088385, 74.9565436, 78.07731880324079, 70.6273206, 78.5647875, 78.74239647465441, 95.14679344156609, 72.8122784, 73.7503472, 75.68821683803192, 81.69850209374297, 72.5811205, 76.7436723, 80.1307034, 85.91965399029942, 76.3281328, 73.3438185, 72.5920384, 90.6669044, 83.3012842, 88.2721335, 78.7976575, 78.79588752542026, 76.60290343431203, 76.6954843, 83.17521981867318, 72.0634448, 78.1574156, 76.6249189584008, 79.5027042, 77.45529027323644, 80.48338013734374, 88.25833944146513, 73.0742912, 94.5884911, 79.1752481, 82.74788762720786, 86.43170622796478, 78.18279047195995, 72.561323, 93.02566787197169, 77.12282831043822, 74.34840231310622, 78.35602348202272, 75.0250652, 91.86442303211692, 83.12724836970888, 78.0985687533227, 81.5398977, 78.4398207, 85.82359032799489, 76.9545239, 80.0492523, 80.392456, 77.33315284938224, 78.1246442, 80.6348902, 83.18525101336489, 76.2858227, 85.00687848982191, 72.83216741376339, 75.8349312, 75.6790283, 77.2900919, 80.4720642, 88.3749813, 78.97480687399917, 75.3538481, 78.5019168, 11.2812707, 74.0161784, -122.39107087072858, 77.6018087071464, 75.4761382, 92.49167641087158, 77.5455438, 75.0216664, 73.79747707831484, -117.2414299, 72.8563181, 74.4555755, 73.01813957492513, 78.6033618254918, 81.071724, 88.0632655, 80.94320026638496, 79.2668412, 93.788033748158, -2.6907819, 77.6102821, 77.70969697613324, 79.7732842, 91.8982857, 74.35468608752092, 77.4937723, 72.8255543, 79.49501710882896, 78.5509653, 77.1885212, 75.0920315, 73.69151, 86.349953, 77.2863387, 79.0745382, 77.72006886674166, 80.6185102, 82.5768771757576, 77.05085582101852, 82.02951896910626, 72.8640837, 72.9127406, 81.6336833, 72.0234504, 95.3192307, 14.4436601, 81.38609761204991, 87.5475061, 75.081768, 82.79253303740091, 78.8084872, 75.68730693286243, 74.72494485236446, 76.485068, 75.255369, 72.2410908, 77.62420559295163, 84.77540019865262, 91.7307016, 78.5800085, 78.7205172, 77.4651097, 77.0119969, 69.58860475592358, 80.9469, 80.5810023, 78.07975266019861, 78.6514361805649, 73.76604393512383, 92.49167641087158, -1.911119704814436, 77.8036975, 77.3552754, 77.991183, 75.04286411660418, -80.9242566, 84.6116085620834, 79.1101724, 8.9456579, 82.6081182778727, 76.55916095750428, 78.6398051, 78.3968876, 81.43047622833333, 83.0063426, 82.34443675824079, 77.9635656, 79.9737896, 55.3930315, -76.93500463079458, 77.1170743, 77.6251363, 68.3507224, 78.4786038, 78.1350753, 77.7134377, 78.21552196710519, 78.0823252, 85.8186698, 76.81582330347882, 80.0959014, 81.6573702, 73.82955675, 78.92002013406693, 77.1818589, 74.5001207, -96.7979725, -75.74828004407274, 79.00605201815267, 75.9373779, 84.48256286663585, 86.03257096612822, 68.9742446, 77.22688319247712, 72.8389662, 75.8103099871553, 78.0965907, 71.8294072, 77.144107, 78.2353162, 72.8401435246665, 77.05845282299609, 75.4753645, 80.58150561711888, 78.56659346763493, 76.41521381074048, 76.9788156, 76.7642252, 77.2242281, 85.89120430770397, 80.9988505, 85.63891761805871, 77.13291315925144, -58.7505194, 74.4520656, 77.2697457, 72.99940185331164, 85.2584225, 77.567404, 54.74033392488026, 75.35874656888731, 74.4124702, 77.26206804106354, 75.6412677, 77.2219884, 75.0066516, 79.9302967950447, 78.12993274539582, 80.0973114, 81.8811502, 73.96235327818988, 85.98916956296054, 84.9910577, 83.11094468051526, 77.2823552, 79.7634606, 77.6106473, 72.9604145, 79.61879245944404, 91.71447008208972, 74.2556782, 75.7326441, 79.7925329742427, 81.57557198102174, 72.6487459, -79.3986347, 74.4649358, 77.1541335, -144.0760698, 77.63994597514096, 76.6839695, 78.4178748, 79.17211379657827, 75.83987314999999, 72.7081876, 125.6313498, 72.6006742, 75.69541123568386, 76.3360706, 84.16270657703373, 80.5688069, 69.58860475592358, 83.4908550985302, 77.68341741776283, 79.0006410968549, 77.6419258, 75.8282871, 77.6623984, 75.8496685, 93.8086939, 77.0562463, 84.3540648359066, 84.99536646611469, 84.5738480719802, 72.9511956, 72.9627101, 77.05688, 77.2492493451557, 77.42575731097946, -100.968478, 80.6042917, 75.4150915, 73.07376832591362, 84.614825, 95.12029902214498, 78.81583409295854, -86.5065778, 77.29141237169956, 88.20525673927699, 79.67222017841891, 85.2042559, 84.97347272041792, 78.4605351, 80.7108898, 86.81271841233743, 92.57381528240943, 81.38339468738648, 80.3216885, 76.4737675, 21.0613011, 74.7503113, 80.25151583921578, 78.80670543708459, 84.01567204651289, 70.3507333, 77.27948814325397, 76.22863490292599, 85.83371903751328, -99.8750709, 72.8715199, 76.44764757324253, 76.3763169, 76.296786, 72.948269, 74.8798558068828, 80.2444773, 84.4288669373095, 77.7946371, 76.83632811755979, 80.57408128782225, 76.9149498, 84.90893995030878, 74.11794319222481, 78.7433633227108, 76.0353471, -0.4265369, 78.5510938, 80.61677591160583, 77.7106663, 82.2145164, 76.0389066, 72.97797, 88.41269168642657, 80.2783092, 71.6292685, 78.61240704407285, 79.3169546, 77.0374703, 79.33410523359854, 76.33032632249217, 37.7500019, 88.1011108, 78.5195754, 72.837271, 77.4164232, 90.41064474772078, 82.14151577682391, 84.09316346858087, 76.7747522, 77.5360981, 73.0162096, 72.8646365, 78.083333, 73.3242137, 79.0006410968549, 74.1355585, 79.6313497, 84.87650828796248, 78.75911360578634, 81.10436376215311, 78.1372743, 74.8062103, 80.61376177782856, 85.28971176034909, 84.26732577073194, 83.36089736291659, 78.6843022, 77.84114, 80.9743692, 76.62051527475785, 77.2327285, 85.5056744, 78.85907071521498, 79.294268, 77.1836206, 70.9495617, 81.9458317, 81.06942173734653, 78.0768146, 73.1942567, 79.4877003, 88.11640162351831, -78.6604105, 78.4543627, 77.7046621, 77.6403368, 73.97707290781565, 33.8060277, 77.0995916, 80.2435512, 77.27604869990085, 72.5876185, 75.1429653, 77.50935106167151, 75.9244966, 85.2111736, 74.577845, 86.17351147289283, 77.6099924, 76.2985931, 85.7052429, 72.5360120684165, 81.1516437879902, 81.7864412, 82.38649683606945, 88.1398483, 77.1403175, 79.19123581735647, 57.6779316, 88.4970841, 79.5329474106502, 75.84644246890946, 74.72513368804519, 72.9011399, 93.1549000879473, 82.7045864, 72.5848584, 72.8204976, 78.9617306, 72.3851475, 85.7058027544313, 73.19466915515079, 77.797084, 77.05772976517363, 83.66927939185426, 76.5691897, -1.2516646208312259, 74.702937, 83.3522594, 76.1942968, 30.4043153, 73.8740758, 79.6661155275942, 76.80790172814622, 77.29972257803368, 77.1077296, 78.3296257, 77.0570143, 77.6343328, 78.8809891, 79.74432689119347, 79.5388953279722, 77.36719144528972, 72.63656879807692, 85.11195643843573, 86.79658662614811, 73.8584284277801, 78.28921691830388, 78.7525044, 88.3200303, 77.3182836, 79.5720001, 81.9183291218813, 77.5033582, 75.3869944, 73.1744956, -122.8130073, 77.3076322, 88.6296098, 80.270186, 79.0673204, 80.2227554, 76.1547421, 75.8666482, 77.1558931, 76.9393181, 87.5310132, 84.7384578, 83.0329811, 88.8660215, 79.59793429354428, 80.98109349472911, 72.81061907516474, 72.5290418, 86.69910848212217, 74.9956362, 74.92386542316771, 82.13236972772236, 72.8336046, 85.0711288, 85.2523189212255, 73.29251423010135, 78.23332182803406, 86.36285588572954, 90.2324363, 87.67969840644172, 72.8449115, 78.1978941, 72.8632834, 76.46492896050117, 80.6649883, 78.70840630362592, 83.02887343114848, 76.3872297, 74.4312086, 83.5098005, 84.16616937294015, 82.6661453, -117.8022775, 85.01026224189768, 77.4347955, 76.08904093410098, 81.9212529, 86.69430056383564, 74.74685666535215, 73.6652394, 77.1750019, 73.9279468, 175.27627885, 78.14185565, 76.92892778592639, -1.212945320380705, 79.5982115, 83.311481, 73.81567518859549, 72.8401526, 77.3066482320536, 76.6842465, 77.3402362, 88.0800659, 74.7244921, 80.18107516667288, 77.47039381815051, 83.82393679256941, 87.61850784289338, 78.0636982800424, 77.3472673, 79.7295065, 79.4230848, 73.8583803, 88.38772234436959, 77.03543016986725, -0.1429113, 76.7748902040889, 74.2689351431818, 79.45064301880087, 79.8397679, 83.8088755, 36.77995224477292, 73.6873533, 78.12022647412451, 79.5978601, 75.5520073, 87.698785, 73.80199315, 93.6615479, 76.5551288, 73.8101957, 77.5979099, -79.868249, 74.7804594, 74.5088917, 89.4680986, 69.7268474, 81.31885889020622, 74.4857646, 85.93276678827354, 85.04710406447731, 78.5133515, 120.2958871, 73.8544541, 92.9954702, 76.9062501, 92.7874667, 83.05280519687284, 75.083333, 76.7573547, 83.21263264153296, 73.1161392, 72.81952857572549, 93.9777388, 75.7140556, 77.0394627, 78.0549761, 75.0779220298596, 86.09466276519713, 72.83173994459153, 85.33447132277304, 77.1987107, 77.4659904, 78.37660408493795, 88.35769124388872, 76.7748902040889, 75.4889866137018, 78.4382663, 74.9567976, 92.79714034031554, 72.5797068, 72.8398344, 83.34458762599236, 77.53700501165349, 81.6238783207884, 78.1452745, 76.23945193905976, 74.5372841, 74.8568692, -2.5848533, 86.01534316745128, 72.8520846, 72.7809896, 78.4024394, 0.14629585, 76.97405566422736, 74.4032186, 76.5098926962527, 76.1682829, 73.7450557, 72.85775475573351, 72.8165902541987, 77.5163, 73.0351433, 86.67399790661415, 92.7730136148387, -77.0282722, 79.70499475331877, 85.8058272904394, 77.3818702, 77.0052993, 70.26789366226589, 72.9278239, 77.3761946386738, 75.6341529, 86.5069136563325, 79.24190440551743, 77.3764667, 91.48434876767391, 74.7625233, 78.70766746320547, 88.563677, 81.5917253, 77.0567305, 72.9257184, 78.16653808964526, 72.8239532, 83.4586397, 78.531283, 78.2731252, 76.4069394, 82.74995995303358, 73.9214029, 73.1176169, 75.9857052, 77.2917561, 85.39277997446213, 78.4010990950247, 84.9937642, 84.87817691941733, 72.85696815689101, 78.568278, 72.811816, 83.36458284327038, 72.8327936, 79.04698123882801, 94.04247928402684, 77.2063351, 95.3324944, 77.2947817, 74.7592764, 87.9719066, 82.5804789651259, 73.41900349582019, 22.3707318, 77.50049340214429, 75.6300786, 77.2090057, 77.1322572, 94.55818794594072, 77.64806737595279, 77.16079073168567, 81.7725282, 77.1943948, 76.7642252, 72.5532282, 79.8169959, -2.94499, 77.0580701, 77.11606037769263, 84.01567204651289, 75.617373, 79.5982115, 70.9853635, 78.51866758648347, 69.2653851, 6.099470750082442, 75.81176210960223, 72.8259691, 86.20488563950886, 76.57285896078217, 79.8365441, 77.734076197437, 79.4488599, 83.7578251, 79.9441603, 84.2922247, 76.74356166512683, 78.3567628, 72.5520423700643, 73.00012783875437, 78.80964495467987, 76.3274884, 76.10316542109956, 76.0176929, 74.36216858960698, 85.34001282479626, 73.97681903727381, 78.0533058, 72.4506926, -122.2196593, 73.041523, 75.3250944, 72.83438017067652, 74.8513462, 77.87568124563079, 94.58213344568205, 80.24691797857143, 78.67995706162694, 177.4150654, 77.2888525, 79.5308932892063, 80.1721682, 72.5247699, 81.6327417, -86.5065778, 78.5, 78.22437669466014, 77.8598817, 73.3046407, 85.80620583784037, 90.26486487495686, 76.5340635, 78.3719802, 74.7013558, 83.84995956625058, 85.53691564663127, 72.5508575, 79.734938, 74.10766700836285, 78.46467754990019, 77.4190818, -97.7924549, 85.9456005, 74.83506086885345, 77.6385392, 78.2206536, 72.6257041, -85.7531985750971, 77.9218398, 89.12781656366485, 82.4260255, 83.76324254151297, 76.14757295556964, 81.68553062260926, 4.2090907, 76.68981477716189, 77.44261877550801, 77.9102779, 72.9323831, 77.2922087, 73.6109564, 87.85430095470437, 77.654851, 78.8863383, 76.95018619874644, 77.0930017, 77.8797905, 73.8762582, 77.3247692190847, 86.8396711, 75.19044977266321, 86.5069136563325, 74.5564244, 79.4647579, 72.8566376, 73.0044988, 75.8111787, 80.13661312256016, 90.4123483, 70.7045453, 78.7313324688023, 78.0746863293208, -3.8804349555327233, 74.8775768, 76.88431001561298, 70.7955235, 78.5634096, 79.84256850451851, 77.1737816, 79.4766883, 80.2262155, 76.684033, 78.52803923522667, 81.7022592, 80.9732651, 80.25324534926989, 74.81470185156718, 86.55036799425176, 83.776408, 75.2423572, -47.4568192, 83.67873883995676, 86.5773540329354, 78.56385505818884, 75.99841514447535, 76.6433325, 82.9710513, 76.9424311, 74.4107617, 78.228015, 84.78597324754291, 78.2166353, 85.309859, 82.5590760883135, 77.73534746014593, 77.5131354, 74.6327162, 76.4984505, 72.4440156, 84.2346841839113, 77.30595350833059, 74.5948885, 75.7758865, 76.5120396, 77.05614878779548, 93.92788824871703, 79.8745543, 84.17786288844194, 91.7829093, 72.8275275, 78.8182555496278, 77.3245939, 74.0154054055661, 77.60912867038894, 71.61966242777196, 75.81821203015207, 77.12155434178793, 78.3305079, 84.15995314496914, 72.8180702, 70.2821426, 80.8334595, 75.0962575, 79.33776652736019, 75.8033421, 72.823781, 74.7473232, 79.48507330302013, 77.45529027323644, 77.1774582, 75.89126390932056, 83.8715042, 77.2481823, 77.1988974, 79.49230289850631, 77.14471173091397, 88.01622320020137, 73.61316885788803, 78.39717127244442, 75.5530214, -112.2819337, 85.10152650073252, 72.86370318520977, 77.7061915, 130.7899793, 77.7064261, 74.5293987786138, 78.8290929598491, 74.9262962, 82.95040376080576, 74.4392286, 80.20915605976413, 79.8871647, 70.5303798, 75.64350531586692, 76.684033, 73.8959255, 74.8117017, 80.53906695154278, 82.9927969, 78.4818797, 81.35042197198445, 73.3046407, 73.91925349215948, 70.75, 79.3726373, 77.0957546, 73.8101957, 79.22080866041219, 77.99802991290954, 74.6203891, 84.22731067744127, 78.86801574778755, -2.3673212645161295, 80.2904034, 76.7674000810934, 78.6159351, 79.1286158, 96.1462366, 78.48087839917878, 79.9259786, 5.4768879, 79.7500176550117, 76.09469981777069, 79.1322648, 72.9526298, 79.53978401514607, 80.8001979, 77.1610899, -122.82181668315904, 78.9280862, 85.19863417318592, 78.7104667, 79.11745538182738, 75.8189817, 77.0557122, 72.948269, 77.5499338, 77.041198795285, 79.1706699, 78.5247765, 77.92664521413192, 77.2582142, 78.75147086956142, 77.37379054093662, 74.26080901243427, 74.48278751239164, 77.08200509063624, 76.75007013436556, 76.2959789, 74.34954849299237, 75.70431860267045, 77.41045257513859, 80.10172076512075, 80.30458543267906, 77.2966578, 79.4100683, 76.025822, 75.1092019, 73.79008326693673, 0.8486337, 77.2423389, 77.2280478, 81.85239936375996, 85.2378525745791, 74.252944, 77.0663545, 72.4366375, 80.2895845, 79.2495828, 78.705647, 77.8748206, 72.534872, 73.308225, 78.48127480347702, 86.1365097754067, 76.9330038, 78.3798412, 86.0051969, 75.8099449, 77.0607773, 92.666667, 83.63359775892343, 73.902129, 73.9285386, 77.342572028505, -0.14254756639668653, 77.1982449, 72.824081, 74.7571992, 2.3090413, 83.92052156669496, 76.27978930401714, 77.3219122, 77.3007192, 77.2027212, 88.3856113, 78.154221, 73.0861355, 78.1573628, 89.94188952461522, 80.8940083, 77.277153, 81.8919565184319, 88.31368260494412, 78.48874766686149, 77.2609711, 75.74392483608787, 74.6635003, 84.5839641, 30.9169945, 72.9052784, 77.76326085563512, 83.01334429035244, 73.942711, 93.20453422171673, 82.8205204, 80.2129835, 77.2919304, 86.75251827179432, 79.48507330302013, 79.43317023326716, 78.4482505, 74.8478431, 91.62320953646798, 77.7469162, 80.1529972, 86.84078603427818, 77.0819265, 77.3870086, 78.4939027, 72.9339461, 78.75987014206322, 75.7384555, 77.16079073168567, 77.5368704, 75.2327047, 74.16551699168082, -74.0442862, 77.4385178, 72.8534691, 72.8069758, 74.8606882, -96.2528451, 73.1608821, 77.0877572, 76.23, 79.7340031, 73.22292679633551, 82.83084682181051, 80.2313016, 84.2936148560828, 78.1140983, 84.08305240629664, 121.5729205, 85.75647029537049, 79.5547343, 73.9026728, 89.964662, 78.4784818, 72.8433917, 77.1380878, 73.0371241, 72.905252, 73.5168321, 77.16079073168567, 72.8565391, 77.8228199507381, 81.32411568460869, 72.5360081, 79.72826945827646, 85.45668469827197, 74.88846434458559, 77.2696401, 86.15420075198816, 88.43721205880513, 92.83165406414926, 73.0655263, 80.1502698, 87.24358224629752, -75.6693753, 77.2124474, 73.1411715553577, 77.5148302, 75.7839116, 76.3882959, 69.0088643, 84.3373624, 86.73215330400758, 26.0718655, -98.4311265, 74.7337535170843, 77.67249791858319, 80.3644433, 76.9823908, 76.74465793294425, 77.2431499, 77.23782398699743, 76.47408711165895, 11.0884179, 86.77353493891458, -86.25627359380371, 77.3900841, 80.1179194, 76.2832178, 86.6469648, 81.5485253, 75.8993043, 75.8292229, 70.04636271634615, 78.71843326006439, 72.9122226592809, 86.43170622796478, 77.65773978397755, 78.42576185685064, 77.51826437085998, 75.92203560580441, 87.5142404, 77.3974588, 88.4309916, 82.70944473807006, 83.91146961902328, 80.0271275, 82.15423206335987, 75.6065, 76.2921034, 78.8216793, 77.47133824049835, 72.942351, 81.0, 77.7482633, 77.2352216, 84.0182110684575, 77.1360706, 77.05012463730725, 85.8163773, 77.82811932629714, 11.8796434, 89.1390175, 75.3390241, 72.8177768, 76.11564, 76.2586163, 74.2631132, 90.6226683, 93.85847858025147, 75.99628180484765, 86.05935924304018, 80.1842767, 77.60680417685384, 72.94897226536546, 88.569079, 85.8394521, 80.8899, 72.9434859, -71.0738933, 76.7542189, 75.6139939, 77.1939912, 75.0875548, 72.9008254, 75.1999941, 78.3953281, 73.8104402408845, 75.25, 78.5417093, 77.35633362748496, 85.19213760959596, 85.52166040957998, 74.08914487513019, 78.05393808043348, 77.0342633, 140.7904147, 91.5709202, 90.6226683, 85.01713141619263, 83.30352921921009, 77.103523, 91.7686637, 78.05427595640626, 87.2446639, 77.59630440545266, 72.8085422, 72.9084376, 77.8784563961865, 72.854202, 177.4150654, 79.42765264782076, 76.7606231, 81.64759963875372, 72.3649644, 85.841369], \"marker\": {\"color\": [5192, 4488, 1479, 1034, 897, 875, 835, 777, 696, 676, 602, 574, 520, 503, 426, 408, 399, 365, 358, 343, 340, 331, 330, 313, 311, 310, 306, 291, 277, 273, 265, 261, 260, 260, 250, 249, 245, 228, 225, 221, 220, 216, 194, 191, 191, 190, 185, 183, 182, 168, 166, 154, 154, 149, 143, 140, 136, 135, 133, 132, 130, 126, 123, 119, 119, 117, 113, 107, 107, 93, 93, 92, 92, 92, 91, 86, 86, 81, 80, 79, 78, 77, 75, 74, 70, 67, 66, 66, 65, 65, 64, 64, 63, 63, 61, 61, 59, 58, 57, 57, 57, 57, 56, 55, 52, 51, 51, 50, 49, 47, 47, 47, 44, 43, 42, 42, 41, 41, 41, 40, 39, 39, 39, 38, 37, 37, 37, 37, 37, 37, 37, 37, 36, 36, 36, 36, 35, 35, 35, 34, 34, 34, 34, 34, 34, 33, 33, 32, 32, 31, 31, 31, 31, 30, 30, 29, 29, 29, 28, 28, 28, 28, 28, 28, 28, 27, 27, 27, 27, 27, 27, 27, 27, 27, 27, 27, 26, 26, 26, 26, 26, 26, 25, 25, 25, 25, 24, 24, 24, 24, 24, 24, 24, 23, 23, 22, 22, 22, 22, 22, 21, 21, 21, 21, 20, 20, 20, 20, 20, 19, 19, 18, 18, 18, 18, 18, 18, 18, 18, 18, 18, 17, 17, 17, 17, 17, 17, 17, 17, 16, 16, 16, 16, 16, 16, 16, 16, 16, 16, 16, 16, 15, 15, 15, 15, 15, 15, 15, 15, 15, 15, 15, 15, 15, 15, 15, 15, 14, 14, 14, 14, 14, 14, 13, 13, 13, 13, 13, 13, 13, 13, 13, 13, 13, 13, 13, 12, 12, 12, 12, 12, 12, 12, 12, 12, 12, 12, 12, 12, 12, 12, 11, 11, 11, 11, 11, 11, 11, 11, 11, 11, 11, 11, 11, 11, 11, 11, 11, 11, 11, 11, 11, 11, 10, 10, 10, 10, 10, 10, 10, 10, 10, 10, 10, 10, 10, 10, 9, 9, 9, 9, 9, 9, 9, 9, 9, 9, 9, 9, 9, 9, 9, 9, 9, 9, 9, 8, 8, 8, 8, 8, 8, 8, 8, 8, 8, 8, 8, 8, 8, 8, 8, 8, 8, 7, 7, 7, 7, 7, 7, 7, 7, 7, 7, 7, 7, 7, 7, 7, 7, 7, 7, 7, 7, 7, 7, 7, 7, 7, 7, 7, 7, 7, 7, 7, 7, 7, 7, 7, 7, 7, 7, 7, 7, 7, 7, 7, 6, 6, 6, 6, 6, 6, 6, 6, 6, 6, 6, 6, 6, 6, 6, 6, 6, 6, 6, 6, 6, 6, 6, 6, 6, 6, 6, 6, 6, 6, 6, 6, 6, 6, 6, 6, 6, 6, 6, 6, 6, 6, 6, 5, 5, 5, 5, 5, 5, 5, 5, 5, 5, 5, 5, 5, 5, 5, 5, 5, 5, 5, 5, 5, 5, 5, 5, 5, 5, 5, 5, 5, 5, 5, 5, 5, 5, 5, 5, 5, 5, 5, 5, 5, 5, 5, 5, 5, 5, 4, 4, 4, 4, 4, 4, 4, 4, 4, 4, 4, 4, 4, 4, 4, 4, 4, 4, 4, 4, 4, 4, 4, 4, 4, 4, 4, 4, 4, 4, 4, 4, 4, 4, 4, 4, 4, 4, 4, 4, 4, 4, 4, 4, 4, 4, 4, 4, 4, 4, 4, 4, 4, 4, 4, 4, 4, 4, 4, 4, 4, 4, 4, 4, 4, 4, 4, 4, 4, 4, 4, 4, 4, 4, 4, 4, 4, 4, 4, 4, 4, 4, 4, 4, 4, 4, 4, 4, 4, 4, 4, 4, 3, 3, 3, 3, 3, 3, 3, 3, 3, 3, 3, 3, 3, 3, 3, 3, 3, 3, 3, 3, 3, 3, 3, 3, 3, 3, 3, 3, 3, 3, 3, 3, 3, 3, 3, 3, 3, 3, 3, 3, 3, 3, 3, 3, 3, 3, 3, 3, 3, 3, 3, 3, 3, 3, 3, 3, 3, 3, 3, 3, 3, 3, 3, 3, 3, 3, 3, 3, 3, 3, 3, 3, 3, 3, 3, 3, 3, 3, 3, 3, 3, 3, 3, 3, 3, 3, 3, 3, 3, 3, 3, 3, 3, 3, 3, 3, 3, 3, 3, 3, 3, 3, 3, 3, 3, 3, 3, 3, 3, 3, 3, 3, 3, 3, 3, 3, 3, 3, 3, 3, 3, 3, 2, 2, 2, 2, 2, 2, 2, 2, 2, 2, 2, 2, 2, 2, 2, 2, 2, 2, 2, 2, 2, 2, 2, 2, 2, 2, 2, 2, 2, 2, 2, 2, 2, 2, 2, 2, 2, 2, 2, 2, 2, 2, 2, 2, 2, 2, 2, 2, 2, 2, 2, 2, 2, 2, 2, 2, 2, 2, 2, 2, 2, 2, 2, 2, 2, 2, 2, 2, 2, 2, 2, 2, 2, 2, 2, 2, 2, 2, 2, 2, 2, 2, 2, 2, 2, 2, 2, 2, 2, 2, 2, 2, 2, 2, 2, 2, 2, 2, 2, 2, 2, 2, 2, 2, 2, 2, 2, 2, 2, 2, 2, 2, 2, 2, 2, 2, 2, 2, 2, 2, 2, 2, 2, 2, 2, 2, 2, 2, 2, 2, 2, 2, 2, 2, 2, 2, 2, 2, 2, 2, 2, 2, 2, 2, 2, 2, 2, 2, 2, 2, 2, 2, 2, 2, 2, 2, 2, 2, 2, 2, 2, 2, 2, 2, 2, 2, 2, 2, 2, 2, 2, 2, 2, 2, 2, 2, 2, 2, 2, 2, 2, 2, 2, 2, 2, 2, 2, 2, 2, 2, 2, 2, 2, 2, 2, 2, 2, 2, 2, 2, 2, 2, 2, 2, 2, 2, 2, 2, 2, 2, 2, 2, 2, 2, 2, 2, 2, 2, 2, 2, 2, 2, 2, 2, 2, 2, 2, 2, 2, 2, 2, 2, 2, 2, 2, 2, 2, 2, 2, 2, 2, 2, 2, 2, 2, 2, 2, 2, 2, 2, 2, 2, 2, 2, 2, 2, 2, 2, 2, 2, 2, 2, 2, 2, 2, 2, 2, 2, 2, 2, 2, 2, 2, 2, 2, 2, 2, 2, 2, 2, 2, 2, 2, 2, 2, 2, 2, 2, 2, 2, 2, 2, 2, 2, 2, 2, 2, 2, 2, 2, 2, 2, 2, 2, 2, 2, 1, 1, 1, 1, 1, 1, 1, 1, 1, 1, 1, 1, 1, 1, 1, 1, 1, 1, 1, 1, 1, 1, 1, 1, 1, 1, 1, 1, 1, 1, 1, 1, 1, 1, 1, 1, 1, 1, 1, 1, 1, 1, 1, 1, 1, 1, 1, 1, 1, 1, 1, 1, 1, 1, 1, 1, 1, 1, 1, 1, 1, 1, 1, 1, 1, 1, 1, 1, 1, 1, 1, 1, 1, 1, 1, 1, 1, 1, 1, 1, 1, 1, 1, 1, 1, 1, 1, 1, 1, 1, 1, 1, 1, 1, 1, 1, 1, 1, 1, 1, 1, 1, 1, 1, 1, 1, 1, 1, 1, 1, 1, 1, 1, 1, 1, 1, 1, 1, 1, 1, 1, 1, 1, 1, 1, 1, 1, 1, 1, 1, 1, 1, 1, 1, 1, 1, 1, 1, 1, 1, 1, 1, 1, 1, 1, 1, 1, 1, 1, 1, 1, 1, 1, 1, 1, 1, 1, 1, 1, 1, 1, 1, 1, 1, 1, 1, 1, 1, 1, 1, 1, 1, 1, 1, 1, 1, 1, 1, 1, 1, 1, 1, 1, 1, 1, 1, 1, 1, 1, 1, 1, 1, 1, 1, 1, 1, 1, 1, 1, 1, 1, 1, 1, 1, 1, 1, 1, 1, 1, 1, 1, 1, 1, 1, 1, 1, 1, 1, 1, 1, 1, 1, 1, 1, 1, 1, 1, 1, 1, 1, 1, 1, 1, 1, 1, 1, 1, 1, 1, 1, 1, 1, 1, 1, 1, 1, 1, 1, 1, 1, 1, 1, 1, 1, 1, 1, 1, 1, 1, 1, 1, 1, 1, 1, 1, 1, 1, 1, 1, 1, 1, 1, 1, 1, 1, 1, 1, 1, 1, 1, 1, 1, 1, 1, 1, 1, 1, 1, 1, 1, 1, 1, 1, 1, 1, 1, 1, 1, 1, 1, 1, 1, 1, 1, 1, 1, 1, 1, 1, 1, 1, 1, 1, 1, 1, 1, 1, 1, 1, 1, 1, 1, 1, 1, 1, 1, 1, 1, 1, 1, 1, 1, 1, 1, 1, 1, 1, 1, 1, 1, 1, 1, 1, 1, 1, 1, 1, 1, 1, 1, 1, 1, 1, 1, 1, 1, 1, 1, 1, 1, 1, 1, 1, 1, 1, 1, 1, 1, 1, 1, 1, 1, 1, 1, 1, 1, 1, 1, 1, 1, 1, 1, 1, 1, 1, 1, 1, 1, 1, 1, 1, 1, 1, 1, 1, 1, 1, 1, 1, 1, 1, 1, 1, 1, 1, 1, 1, 1, 1, 1, 1, 1, 1, 1, 1, 1, 1, 1, 1, 1, 1, 1, 1, 1, 1, 1, 1, 1, 1, 1, 1, 1, 1, 1, 1, 1, 1, 1, 1, 1, 1, 1, 1, 1, 1, 1, 1, 1, 1, 1, 1, 1, 1, 1, 1, 1, 1, 1, 1, 1, 1, 1, 1, 1, 1, 1, 1, 1, 1, 1, 1, 1, 1, 1, 1, 1, 1, 1, 1, 1, 1, 1, 1, 1, 1, 1, 1, 1, 1, 1, 1, 1, 1, 1, 1, 1, 1, 1, 1, 1, 1, 1, 1, 1, 1, 1, 1, 1, 1, 1, 1, 1, 1, 1, 1, 1, 1, 1, 1, 1, 1, 1, 1, 1, 1, 1, 1, 1, 1, 1, 1, 1, 1, 1, 1, 1, 1, 1, 1, 1, 1, 1, 1, 1, 1, 1, 1, 1, 1, 1, 1, 1, 1, 1, 1, 1, 1, 1, 1, 1, 1, 1, 1, 1, 1, 1, 1, 1, 1, 1, 1, 1, 1, 1, 1, 1, 1, 1, 1, 1, 1, 1, 1, 1, 1, 1, 1, 1, 1, 1, 1, 1, 1, 1, 1, 1, 1, 1, 1, 1, 1, 1, 1, 1, 1, 1, 1, 1, 1, 1, 1, 1, 1, 1, 1, 1, 1, 1, 1, 1, 1, 1, 1, 1, 1, 1, 1, 1, 1, 1, 1, 1, 1, 1, 1, 1, 1, 1, 1, 1, 1, 1, 1, 1, 1, 1, 1, 1, 1, 1, 1, 1, 1, 1, 1, 1, 1, 1, 1, 1, 1, 1, 1, 1, 1, 1, 1, 1, 1, 1, 1, 1, 1, 1, 1, 1, 1, 1, 1, 1, 1, 1, 1, 1, 1, 1, 1, 1, 1, 1, 1, 1, 1, 1, 1, 1, 1, 1, 1, 1, 1, 1, 1, 1, 1, 1, 1, 1, 1, 1, 1, 1, 1, 1, 1, 1, 1, 1, 1, 1, 1, 1, 1, 1, 1, 1, 1, 1, 1, 1, 1, 1, 1, 1, 1, 1, 1, 1, 1, 1, 1, 1, 1, 1, 1, 1, 1, 1, 1, 1, 1, 1, 1, 1, 1, 1, 1, 1, 1, 1, 1, 1, 1, 1, 1, 1, 1, 1, 1, 1, 1, 1, 1, 1, 1, 1, 1, 1, 1, 1, 1, 1, 1, 1, 1, 1, 1, 1, 1, 1, 1, 1, 1, 1, 1, 1, 1, 1, 1, 1, 1, 1, 1, 1, 1, 1, 1, 1, 1, 1, 1, 1, 1, 1, 1, 1, 1, 1, 1, 1, 1, 1, 1, 1, 1, 1, 1, 1, 1, 1, 1, 1, 1, 1, 1, 1, 1, 1, 1, 1, 1, 1, 1, 1, 1, 1, 1, 1, 1, 1, 1, 1, 1, 1, 1, 1, 1, 1, 1, 1, 1, 1, 1, 1, 1, 1, 1, 1, 1, 1, 1, 1, 1, 1, 1, 1, 1, 1, 1, 1, 1, 1, 1, 1, 1, 1, 1, 1, 1, 1, 1, 1, 1, 1, 1, 1, 1, 1, 1, 1, 1, 1, 1, 1, 1, 1, 1, 1, 1, 1, 1, 1, 1, 1, 1, 1, 1, 1, 1, 1, 1, 1, 1, 1, 1, 1, 1, 1, 1, 1, 1, 1, 1, 1, 1, 1, 1, 1, 1, 1, 1, 1, 1, 1, 1, 1, 1, 1, 1, 1, 1, 1, 1, 1, 1, 1, 1, 1, 1, 1, 1, 1, 1, 1, 1, 1, 1, 1, 1, 1, 1, 1, 1, 1, 1, 1, 1, 1, 1, 1, 1, 1, 1, 1, 1, 1, 1, 1, 1, 1, 1, 1, 1, 1, 1, 1, 1, 1, 1, 1, 1, 1, 1, 1, 1, 1, 1, 1, 1, 1, 1, 1, 1, 1, 1, 1, 1, 1, 1, 1, 1, 1, 1, 1, 1, 1, 1, 1, 1, 1, 1, 1, 1, 1, 1, 1, 1, 1, 1, 1, 1, 1, 1, 1, 1, 1, 1, 1, 1, 1, 1, 1, 1, 1, 1, 1, 1, 1, 1, 1, 1, 1, 1, 1, 1, 1, 1, 1, 1, 1, 1, 1, 1, 1, 1, 1, 1, 1, 1, 1, 1, 1, 1, 1, 1, 1, 1, 1, 1, 1, 1, 1, 1, 1, 1, 1, 1, 1, 1, 1, 1, 1, 1, 1, 1, 1, 1, 1, 1, 1, 1, 1, 1], \"coloraxis\": \"coloraxis\", \"size\": [5192, 4488, 1479, 1034, 897, 875, 835, 777, 696, 676, 602, 574, 520, 503, 426, 408, 399, 365, 358, 343, 340, 331, 330, 313, 311, 310, 306, 291, 277, 273, 265, 261, 260, 260, 250, 249, 245, 228, 225, 221, 220, 216, 194, 191, 191, 190, 185, 183, 182, 168, 166, 154, 154, 149, 143, 140, 136, 135, 133, 132, 130, 126, 123, 119, 119, 117, 113, 107, 107, 93, 93, 92, 92, 92, 91, 86, 86, 81, 80, 79, 78, 77, 75, 74, 70, 67, 66, 66, 65, 65, 64, 64, 63, 63, 61, 61, 59, 58, 57, 57, 57, 57, 56, 55, 52, 51, 51, 50, 49, 47, 47, 47, 44, 43, 42, 42, 41, 41, 41, 40, 39, 39, 39, 38, 37, 37, 37, 37, 37, 37, 37, 37, 36, 36, 36, 36, 35, 35, 35, 34, 34, 34, 34, 34, 34, 33, 33, 32, 32, 31, 31, 31, 31, 30, 30, 29, 29, 29, 28, 28, 28, 28, 28, 28, 28, 27, 27, 27, 27, 27, 27, 27, 27, 27, 27, 27, 26, 26, 26, 26, 26, 26, 25, 25, 25, 25, 24, 24, 24, 24, 24, 24, 24, 23, 23, 22, 22, 22, 22, 22, 21, 21, 21, 21, 20, 20, 20, 20, 20, 19, 19, 18, 18, 18, 18, 18, 18, 18, 18, 18, 18, 17, 17, 17, 17, 17, 17, 17, 17, 16, 16, 16, 16, 16, 16, 16, 16, 16, 16, 16, 16, 15, 15, 15, 15, 15, 15, 15, 15, 15, 15, 15, 15, 15, 15, 15, 15, 14, 14, 14, 14, 14, 14, 13, 13, 13, 13, 13, 13, 13, 13, 13, 13, 13, 13, 13, 12, 12, 12, 12, 12, 12, 12, 12, 12, 12, 12, 12, 12, 12, 12, 11, 11, 11, 11, 11, 11, 11, 11, 11, 11, 11, 11, 11, 11, 11, 11, 11, 11, 11, 11, 11, 11, 10, 10, 10, 10, 10, 10, 10, 10, 10, 10, 10, 10, 10, 10, 9, 9, 9, 9, 9, 9, 9, 9, 9, 9, 9, 9, 9, 9, 9, 9, 9, 9, 9, 8, 8, 8, 8, 8, 8, 8, 8, 8, 8, 8, 8, 8, 8, 8, 8, 8, 8, 7, 7, 7, 7, 7, 7, 7, 7, 7, 7, 7, 7, 7, 7, 7, 7, 7, 7, 7, 7, 7, 7, 7, 7, 7, 7, 7, 7, 7, 7, 7, 7, 7, 7, 7, 7, 7, 7, 7, 7, 7, 7, 7, 6, 6, 6, 6, 6, 6, 6, 6, 6, 6, 6, 6, 6, 6, 6, 6, 6, 6, 6, 6, 6, 6, 6, 6, 6, 6, 6, 6, 6, 6, 6, 6, 6, 6, 6, 6, 6, 6, 6, 6, 6, 6, 6, 5, 5, 5, 5, 5, 5, 5, 5, 5, 5, 5, 5, 5, 5, 5, 5, 5, 5, 5, 5, 5, 5, 5, 5, 5, 5, 5, 5, 5, 5, 5, 5, 5, 5, 5, 5, 5, 5, 5, 5, 5, 5, 5, 5, 5, 5, 4, 4, 4, 4, 4, 4, 4, 4, 4, 4, 4, 4, 4, 4, 4, 4, 4, 4, 4, 4, 4, 4, 4, 4, 4, 4, 4, 4, 4, 4, 4, 4, 4, 4, 4, 4, 4, 4, 4, 4, 4, 4, 4, 4, 4, 4, 4, 4, 4, 4, 4, 4, 4, 4, 4, 4, 4, 4, 4, 4, 4, 4, 4, 4, 4, 4, 4, 4, 4, 4, 4, 4, 4, 4, 4, 4, 4, 4, 4, 4, 4, 4, 4, 4, 4, 4, 4, 4, 4, 4, 4, 4, 3, 3, 3, 3, 3, 3, 3, 3, 3, 3, 3, 3, 3, 3, 3, 3, 3, 3, 3, 3, 3, 3, 3, 3, 3, 3, 3, 3, 3, 3, 3, 3, 3, 3, 3, 3, 3, 3, 3, 3, 3, 3, 3, 3, 3, 3, 3, 3, 3, 3, 3, 3, 3, 3, 3, 3, 3, 3, 3, 3, 3, 3, 3, 3, 3, 3, 3, 3, 3, 3, 3, 3, 3, 3, 3, 3, 3, 3, 3, 3, 3, 3, 3, 3, 3, 3, 3, 3, 3, 3, 3, 3, 3, 3, 3, 3, 3, 3, 3, 3, 3, 3, 3, 3, 3, 3, 3, 3, 3, 3, 3, 3, 3, 3, 3, 3, 3, 3, 3, 3, 3, 3, 2, 2, 2, 2, 2, 2, 2, 2, 2, 2, 2, 2, 2, 2, 2, 2, 2, 2, 2, 2, 2, 2, 2, 2, 2, 2, 2, 2, 2, 2, 2, 2, 2, 2, 2, 2, 2, 2, 2, 2, 2, 2, 2, 2, 2, 2, 2, 2, 2, 2, 2, 2, 2, 2, 2, 2, 2, 2, 2, 2, 2, 2, 2, 2, 2, 2, 2, 2, 2, 2, 2, 2, 2, 2, 2, 2, 2, 2, 2, 2, 2, 2, 2, 2, 2, 2, 2, 2, 2, 2, 2, 2, 2, 2, 2, 2, 2, 2, 2, 2, 2, 2, 2, 2, 2, 2, 2, 2, 2, 2, 2, 2, 2, 2, 2, 2, 2, 2, 2, 2, 2, 2, 2, 2, 2, 2, 2, 2, 2, 2, 2, 2, 2, 2, 2, 2, 2, 2, 2, 2, 2, 2, 2, 2, 2, 2, 2, 2, 2, 2, 2, 2, 2, 2, 2, 2, 2, 2, 2, 2, 2, 2, 2, 2, 2, 2, 2, 2, 2, 2, 2, 2, 2, 2, 2, 2, 2, 2, 2, 2, 2, 2, 2, 2, 2, 2, 2, 2, 2, 2, 2, 2, 2, 2, 2, 2, 2, 2, 2, 2, 2, 2, 2, 2, 2, 2, 2, 2, 2, 2, 2, 2, 2, 2, 2, 2, 2, 2, 2, 2, 2, 2, 2, 2, 2, 2, 2, 2, 2, 2, 2, 2, 2, 2, 2, 2, 2, 2, 2, 2, 2, 2, 2, 2, 2, 2, 2, 2, 2, 2, 2, 2, 2, 2, 2, 2, 2, 2, 2, 2, 2, 2, 2, 2, 2, 2, 2, 2, 2, 2, 2, 2, 2, 2, 2, 2, 2, 2, 2, 2, 2, 2, 2, 2, 2, 2, 2, 2, 2, 2, 2, 2, 2, 2, 2, 2, 2, 2, 2, 2, 2, 2, 2, 2, 2, 2, 1, 1, 1, 1, 1, 1, 1, 1, 1, 1, 1, 1, 1, 1, 1, 1, 1, 1, 1, 1, 1, 1, 1, 1, 1, 1, 1, 1, 1, 1, 1, 1, 1, 1, 1, 1, 1, 1, 1, 1, 1, 1, 1, 1, 1, 1, 1, 1, 1, 1, 1, 1, 1, 1, 1, 1, 1, 1, 1, 1, 1, 1, 1, 1, 1, 1, 1, 1, 1, 1, 1, 1, 1, 1, 1, 1, 1, 1, 1, 1, 1, 1, 1, 1, 1, 1, 1, 1, 1, 1, 1, 1, 1, 1, 1, 1, 1, 1, 1, 1, 1, 1, 1, 1, 1, 1, 1, 1, 1, 1, 1, 1, 1, 1, 1, 1, 1, 1, 1, 1, 1, 1, 1, 1, 1, 1, 1, 1, 1, 1, 1, 1, 1, 1, 1, 1, 1, 1, 1, 1, 1, 1, 1, 1, 1, 1, 1, 1, 1, 1, 1, 1, 1, 1, 1, 1, 1, 1, 1, 1, 1, 1, 1, 1, 1, 1, 1, 1, 1, 1, 1, 1, 1, 1, 1, 1, 1, 1, 1, 1, 1, 1, 1, 1, 1, 1, 1, 1, 1, 1, 1, 1, 1, 1, 1, 1, 1, 1, 1, 1, 1, 1, 1, 1, 1, 1, 1, 1, 1, 1, 1, 1, 1, 1, 1, 1, 1, 1, 1, 1, 1, 1, 1, 1, 1, 1, 1, 1, 1, 1, 1, 1, 1, 1, 1, 1, 1, 1, 1, 1, 1, 1, 1, 1, 1, 1, 1, 1, 1, 1, 1, 1, 1, 1, 1, 1, 1, 1, 1, 1, 1, 1, 1, 1, 1, 1, 1, 1, 1, 1, 1, 1, 1, 1, 1, 1, 1, 1, 1, 1, 1, 1, 1, 1, 1, 1, 1, 1, 1, 1, 1, 1, 1, 1, 1, 1, 1, 1, 1, 1, 1, 1, 1, 1, 1, 1, 1, 1, 1, 1, 1, 1, 1, 1, 1, 1, 1, 1, 1, 1, 1, 1, 1, 1, 1, 1, 1, 1, 1, 1, 1, 1, 1, 1, 1, 1, 1, 1, 1, 1, 1, 1, 1, 1, 1, 1, 1, 1, 1, 1, 1, 1, 1, 1, 1, 1, 1, 1, 1, 1, 1, 1, 1, 1, 1, 1, 1, 1, 1, 1, 1, 1, 1, 1, 1, 1, 1, 1, 1, 1, 1, 1, 1, 1, 1, 1, 1, 1, 1, 1, 1, 1, 1, 1, 1, 1, 1, 1, 1, 1, 1, 1, 1, 1, 1, 1, 1, 1, 1, 1, 1, 1, 1, 1, 1, 1, 1, 1, 1, 1, 1, 1, 1, 1, 1, 1, 1, 1, 1, 1, 1, 1, 1, 1, 1, 1, 1, 1, 1, 1, 1, 1, 1, 1, 1, 1, 1, 1, 1, 1, 1, 1, 1, 1, 1, 1, 1, 1, 1, 1, 1, 1, 1, 1, 1, 1, 1, 1, 1, 1, 1, 1, 1, 1, 1, 1, 1, 1, 1, 1, 1, 1, 1, 1, 1, 1, 1, 1, 1, 1, 1, 1, 1, 1, 1, 1, 1, 1, 1, 1, 1, 1, 1, 1, 1, 1, 1, 1, 1, 1, 1, 1, 1, 1, 1, 1, 1, 1, 1, 1, 1, 1, 1, 1, 1, 1, 1, 1, 1, 1, 1, 1, 1, 1, 1, 1, 1, 1, 1, 1, 1, 1, 1, 1, 1, 1, 1, 1, 1, 1, 1, 1, 1, 1, 1, 1, 1, 1, 1, 1, 1, 1, 1, 1, 1, 1, 1, 1, 1, 1, 1, 1, 1, 1, 1, 1, 1, 1, 1, 1, 1, 1, 1, 1, 1, 1, 1, 1, 1, 1, 1, 1, 1, 1, 1, 1, 1, 1, 1, 1, 1, 1, 1, 1, 1, 1, 1, 1, 1, 1, 1, 1, 1, 1, 1, 1, 1, 1, 1, 1, 1, 1, 1, 1, 1, 1, 1, 1, 1, 1, 1, 1, 1, 1, 1, 1, 1, 1, 1, 1, 1, 1, 1, 1, 1, 1, 1, 1, 1, 1, 1, 1, 1, 1, 1, 1, 1, 1, 1, 1, 1, 1, 1, 1, 1, 1, 1, 1, 1, 1, 1, 1, 1, 1, 1, 1, 1, 1, 1, 1, 1, 1, 1, 1, 1, 1, 1, 1, 1, 1, 1, 1, 1, 1, 1, 1, 1, 1, 1, 1, 1, 1, 1, 1, 1, 1, 1, 1, 1, 1, 1, 1, 1, 1, 1, 1, 1, 1, 1, 1, 1, 1, 1, 1, 1, 1, 1, 1, 1, 1, 1, 1, 1, 1, 1, 1, 1, 1, 1, 1, 1, 1, 1, 1, 1, 1, 1, 1, 1, 1, 1, 1, 1, 1, 1, 1, 1, 1, 1, 1, 1, 1, 1, 1, 1, 1, 1, 1, 1, 1, 1, 1, 1, 1, 1, 1, 1, 1, 1, 1, 1, 1, 1, 1, 1, 1, 1, 1, 1, 1, 1, 1, 1, 1, 1, 1, 1, 1, 1, 1, 1, 1, 1, 1, 1, 1, 1, 1, 1, 1, 1, 1, 1, 1, 1, 1, 1, 1, 1, 1, 1, 1, 1, 1, 1, 1, 1, 1, 1, 1, 1, 1, 1, 1, 1, 1, 1, 1, 1, 1, 1, 1, 1, 1, 1, 1, 1, 1, 1, 1, 1, 1, 1, 1, 1, 1, 1, 1, 1, 1, 1, 1, 1, 1, 1, 1, 1, 1, 1, 1, 1, 1, 1, 1, 1, 1, 1, 1, 1, 1, 1, 1, 1, 1, 1, 1, 1, 1, 1, 1, 1, 1, 1, 1, 1, 1, 1, 1, 1, 1, 1, 1, 1, 1, 1, 1, 1, 1, 1, 1, 1, 1, 1, 1, 1, 1, 1, 1, 1, 1, 1, 1, 1, 1, 1, 1, 1, 1, 1, 1, 1, 1, 1, 1, 1, 1, 1, 1, 1, 1, 1, 1, 1, 1, 1, 1, 1, 1, 1, 1, 1, 1, 1, 1, 1, 1, 1, 1, 1, 1, 1, 1, 1, 1, 1, 1, 1, 1, 1, 1, 1, 1, 1, 1, 1, 1, 1, 1, 1, 1, 1, 1, 1, 1, 1, 1, 1, 1, 1, 1, 1, 1, 1, 1, 1, 1, 1, 1, 1, 1, 1, 1, 1, 1, 1, 1, 1, 1, 1, 1, 1, 1, 1, 1, 1, 1, 1, 1, 1, 1, 1, 1, 1, 1, 1, 1, 1, 1, 1, 1, 1, 1, 1, 1, 1, 1, 1, 1, 1, 1, 1, 1, 1, 1, 1, 1, 1, 1, 1, 1, 1, 1, 1, 1, 1, 1, 1, 1, 1, 1, 1, 1, 1, 1, 1, 1, 1, 1, 1, 1, 1, 1, 1, 1, 1, 1, 1, 1, 1, 1, 1, 1, 1, 1, 1, 1, 1, 1, 1, 1, 1, 1, 1, 1, 1, 1, 1, 1, 1, 1, 1, 1, 1, 1, 1, 1, 1, 1, 1, 1, 1, 1, 1], \"sizemode\": \"area\", \"sizeref\": 2.0768}, \"mode\": \"markers\", \"name\": \"\", \"showlegend\": false, \"subplot\": \"mapbox\", \"type\": \"scattermapbox\"}],                        {\"coloraxis\": {\"colorbar\": {\"title\": {\"text\": \"Tweet Count\"}}, \"colorscale\": [[0.0, \"rgb(150,0,90)\"], [0.125, \"rgb(0,0,200)\"], [0.25, \"rgb(0,25,255)\"], [0.375, \"rgb(0,152,255)\"], [0.5, \"rgb(44,255,150)\"], [0.625, \"rgb(151,255,0)\"], [0.75, \"rgb(255,234,0)\"], [0.875, \"rgb(255,111,0)\"], [1.0, \"rgb(255,0,0)\"]]}, \"height\": 600, \"legend\": {\"itemsizing\": \"constant\", \"tracegroupgap\": 0}, \"mapbox\": {\"center\": {\"lat\": 22.30710271350403, \"lon\": 75.55815450229787}, \"domain\": {\"x\": [0.0, 1.0], \"y\": [0.0, 1.0]}, \"style\": \"carto-darkmatter\", \"zoom\": 4}, \"margin\": {\"b\": 0, \"l\": 0, \"r\": 0, \"t\": 0}, \"template\": {\"data\": {\"bar\": [{\"error_x\": {\"color\": \"#f2f5fa\"}, \"error_y\": {\"color\": \"#f2f5fa\"}, \"marker\": {\"line\": {\"color\": \"rgb(17,17,17)\", \"width\": 0.5}}, \"type\": \"bar\"}], \"barpolar\": [{\"marker\": {\"line\": {\"color\": \"rgb(17,17,17)\", \"width\": 0.5}}, \"type\": \"barpolar\"}], \"carpet\": [{\"aaxis\": {\"endlinecolor\": \"#A2B1C6\", \"gridcolor\": \"#506784\", \"linecolor\": \"#506784\", \"minorgridcolor\": \"#506784\", \"startlinecolor\": \"#A2B1C6\"}, \"baxis\": {\"endlinecolor\": \"#A2B1C6\", \"gridcolor\": \"#506784\", \"linecolor\": \"#506784\", \"minorgridcolor\": \"#506784\", \"startlinecolor\": \"#A2B1C6\"}, \"type\": \"carpet\"}], \"choropleth\": [{\"colorbar\": {\"outlinewidth\": 0, \"ticks\": \"\"}, \"type\": \"choropleth\"}], \"contour\": [{\"colorbar\": {\"outlinewidth\": 0, \"ticks\": \"\"}, \"colorscale\": [[0.0, \"#0d0887\"], [0.1111111111111111, \"#46039f\"], [0.2222222222222222, \"#7201a8\"], [0.3333333333333333, \"#9c179e\"], [0.4444444444444444, \"#bd3786\"], [0.5555555555555556, \"#d8576b\"], [0.6666666666666666, \"#ed7953\"], [0.7777777777777778, \"#fb9f3a\"], [0.8888888888888888, \"#fdca26\"], [1.0, \"#f0f921\"]], \"type\": \"contour\"}], \"contourcarpet\": [{\"colorbar\": {\"outlinewidth\": 0, \"ticks\": \"\"}, \"type\": \"contourcarpet\"}], \"heatmap\": [{\"colorbar\": {\"outlinewidth\": 0, \"ticks\": \"\"}, \"colorscale\": [[0.0, \"#0d0887\"], [0.1111111111111111, \"#46039f\"], [0.2222222222222222, \"#7201a8\"], [0.3333333333333333, \"#9c179e\"], [0.4444444444444444, \"#bd3786\"], [0.5555555555555556, \"#d8576b\"], [0.6666666666666666, \"#ed7953\"], [0.7777777777777778, \"#fb9f3a\"], [0.8888888888888888, \"#fdca26\"], [1.0, \"#f0f921\"]], \"type\": \"heatmap\"}], \"heatmapgl\": [{\"colorbar\": {\"outlinewidth\": 0, \"ticks\": \"\"}, \"colorscale\": [[0.0, \"#0d0887\"], [0.1111111111111111, \"#46039f\"], [0.2222222222222222, \"#7201a8\"], [0.3333333333333333, \"#9c179e\"], [0.4444444444444444, \"#bd3786\"], [0.5555555555555556, \"#d8576b\"], [0.6666666666666666, \"#ed7953\"], [0.7777777777777778, \"#fb9f3a\"], [0.8888888888888888, \"#fdca26\"], [1.0, \"#f0f921\"]], \"type\": \"heatmapgl\"}], \"histogram\": [{\"marker\": {\"colorbar\": {\"outlinewidth\": 0, \"ticks\": \"\"}}, \"type\": \"histogram\"}], \"histogram2d\": [{\"colorbar\": {\"outlinewidth\": 0, \"ticks\": \"\"}, \"colorscale\": [[0.0, \"#0d0887\"], [0.1111111111111111, \"#46039f\"], [0.2222222222222222, \"#7201a8\"], [0.3333333333333333, \"#9c179e\"], [0.4444444444444444, \"#bd3786\"], [0.5555555555555556, \"#d8576b\"], [0.6666666666666666, \"#ed7953\"], [0.7777777777777778, \"#fb9f3a\"], [0.8888888888888888, \"#fdca26\"], [1.0, \"#f0f921\"]], \"type\": \"histogram2d\"}], \"histogram2dcontour\": [{\"colorbar\": {\"outlinewidth\": 0, \"ticks\": \"\"}, \"colorscale\": [[0.0, \"#0d0887\"], [0.1111111111111111, \"#46039f\"], [0.2222222222222222, \"#7201a8\"], [0.3333333333333333, \"#9c179e\"], [0.4444444444444444, \"#bd3786\"], [0.5555555555555556, \"#d8576b\"], [0.6666666666666666, \"#ed7953\"], [0.7777777777777778, \"#fb9f3a\"], [0.8888888888888888, \"#fdca26\"], [1.0, \"#f0f921\"]], \"type\": \"histogram2dcontour\"}], \"mesh3d\": [{\"colorbar\": {\"outlinewidth\": 0, \"ticks\": \"\"}, \"type\": \"mesh3d\"}], \"parcoords\": [{\"line\": {\"colorbar\": {\"outlinewidth\": 0, \"ticks\": \"\"}}, \"type\": \"parcoords\"}], \"pie\": [{\"automargin\": true, \"type\": \"pie\"}], \"scatter\": [{\"marker\": {\"line\": {\"color\": \"#283442\"}}, \"type\": \"scatter\"}], \"scatter3d\": [{\"line\": {\"colorbar\": {\"outlinewidth\": 0, \"ticks\": \"\"}}, \"marker\": {\"colorbar\": {\"outlinewidth\": 0, \"ticks\": \"\"}}, \"type\": \"scatter3d\"}], \"scattercarpet\": [{\"marker\": {\"colorbar\": {\"outlinewidth\": 0, \"ticks\": \"\"}}, \"type\": \"scattercarpet\"}], \"scattergeo\": [{\"marker\": {\"colorbar\": {\"outlinewidth\": 0, \"ticks\": \"\"}}, \"type\": \"scattergeo\"}], \"scattergl\": [{\"marker\": {\"line\": {\"color\": \"#283442\"}}, \"type\": \"scattergl\"}], \"scattermapbox\": [{\"marker\": {\"colorbar\": {\"outlinewidth\": 0, \"ticks\": \"\"}}, \"type\": \"scattermapbox\"}], \"scatterpolar\": [{\"marker\": {\"colorbar\": {\"outlinewidth\": 0, \"ticks\": \"\"}}, \"type\": \"scatterpolar\"}], \"scatterpolargl\": [{\"marker\": {\"colorbar\": {\"outlinewidth\": 0, \"ticks\": \"\"}}, \"type\": \"scatterpolargl\"}], \"scatterternary\": [{\"marker\": {\"colorbar\": {\"outlinewidth\": 0, \"ticks\": \"\"}}, \"type\": \"scatterternary\"}], \"surface\": [{\"colorbar\": {\"outlinewidth\": 0, \"ticks\": \"\"}, \"colorscale\": [[0.0, \"#0d0887\"], [0.1111111111111111, \"#46039f\"], [0.2222222222222222, \"#7201a8\"], [0.3333333333333333, \"#9c179e\"], [0.4444444444444444, \"#bd3786\"], [0.5555555555555556, \"#d8576b\"], [0.6666666666666666, \"#ed7953\"], [0.7777777777777778, \"#fb9f3a\"], [0.8888888888888888, \"#fdca26\"], [1.0, \"#f0f921\"]], \"type\": \"surface\"}], \"table\": [{\"cells\": {\"fill\": {\"color\": \"#506784\"}, \"line\": {\"color\": \"rgb(17,17,17)\"}}, \"header\": {\"fill\": {\"color\": \"#2a3f5f\"}, \"line\": {\"color\": \"rgb(17,17,17)\"}}, \"type\": \"table\"}]}, \"layout\": {\"annotationdefaults\": {\"arrowcolor\": \"#f2f5fa\", \"arrowhead\": 0, \"arrowwidth\": 1}, \"autotypenumbers\": \"strict\", \"coloraxis\": {\"colorbar\": {\"outlinewidth\": 0, \"ticks\": \"\"}}, \"colorscale\": {\"diverging\": [[0, \"#8e0152\"], [0.1, \"#c51b7d\"], [0.2, \"#de77ae\"], [0.3, \"#f1b6da\"], [0.4, \"#fde0ef\"], [0.5, \"#f7f7f7\"], [0.6, \"#e6f5d0\"], [0.7, \"#b8e186\"], [0.8, \"#7fbc41\"], [0.9, \"#4d9221\"], [1, \"#276419\"]], \"sequential\": [[0.0, \"#0d0887\"], [0.1111111111111111, \"#46039f\"], [0.2222222222222222, \"#7201a8\"], [0.3333333333333333, \"#9c179e\"], [0.4444444444444444, \"#bd3786\"], [0.5555555555555556, \"#d8576b\"], [0.6666666666666666, \"#ed7953\"], [0.7777777777777778, \"#fb9f3a\"], [0.8888888888888888, \"#fdca26\"], [1.0, \"#f0f921\"]], \"sequentialminus\": [[0.0, \"#0d0887\"], [0.1111111111111111, \"#46039f\"], [0.2222222222222222, \"#7201a8\"], [0.3333333333333333, \"#9c179e\"], [0.4444444444444444, \"#bd3786\"], [0.5555555555555556, \"#d8576b\"], [0.6666666666666666, \"#ed7953\"], [0.7777777777777778, \"#fb9f3a\"], [0.8888888888888888, \"#fdca26\"], [1.0, \"#f0f921\"]]}, \"colorway\": [\"#636efa\", \"#EF553B\", \"#00cc96\", \"#ab63fa\", \"#FFA15A\", \"#19d3f3\", \"#FF6692\", \"#B6E880\", \"#FF97FF\", \"#FECB52\"], \"font\": {\"color\": \"#f2f5fa\"}, \"geo\": {\"bgcolor\": \"rgb(17,17,17)\", \"lakecolor\": \"rgb(17,17,17)\", \"landcolor\": \"rgb(17,17,17)\", \"showlakes\": true, \"showland\": true, \"subunitcolor\": \"#506784\"}, \"hoverlabel\": {\"align\": \"left\"}, \"hovermode\": \"closest\", \"mapbox\": {\"style\": \"dark\"}, \"paper_bgcolor\": \"rgb(17,17,17)\", \"plot_bgcolor\": \"rgb(17,17,17)\", \"polar\": {\"angularaxis\": {\"gridcolor\": \"#506784\", \"linecolor\": \"#506784\", \"ticks\": \"\"}, \"bgcolor\": \"rgb(17,17,17)\", \"radialaxis\": {\"gridcolor\": \"#506784\", \"linecolor\": \"#506784\", \"ticks\": \"\"}}, \"scene\": {\"xaxis\": {\"backgroundcolor\": \"rgb(17,17,17)\", \"gridcolor\": \"#506784\", \"gridwidth\": 2, \"linecolor\": \"#506784\", \"showbackground\": true, \"ticks\": \"\", \"zerolinecolor\": \"#C8D4E3\"}, \"yaxis\": {\"backgroundcolor\": \"rgb(17,17,17)\", \"gridcolor\": \"#506784\", \"gridwidth\": 2, \"linecolor\": \"#506784\", \"showbackground\": true, \"ticks\": \"\", \"zerolinecolor\": \"#C8D4E3\"}, \"zaxis\": {\"backgroundcolor\": \"rgb(17,17,17)\", \"gridcolor\": \"#506784\", \"gridwidth\": 2, \"linecolor\": \"#506784\", \"showbackground\": true, \"ticks\": \"\", \"zerolinecolor\": \"#C8D4E3\"}}, \"shapedefaults\": {\"line\": {\"color\": \"#f2f5fa\"}}, \"sliderdefaults\": {\"bgcolor\": \"#C8D4E3\", \"bordercolor\": \"rgb(17,17,17)\", \"borderwidth\": 1, \"tickwidth\": 0}, \"ternary\": {\"aaxis\": {\"gridcolor\": \"#506784\", \"linecolor\": \"#506784\", \"ticks\": \"\"}, \"baxis\": {\"gridcolor\": \"#506784\", \"linecolor\": \"#506784\", \"ticks\": \"\"}, \"bgcolor\": \"rgb(17,17,17)\", \"caxis\": {\"gridcolor\": \"#506784\", \"linecolor\": \"#506784\", \"ticks\": \"\"}}, \"title\": {\"x\": 0.05}, \"updatemenudefaults\": {\"bgcolor\": \"#506784\", \"borderwidth\": 0}, \"xaxis\": {\"automargin\": true, \"gridcolor\": \"#283442\", \"linecolor\": \"#506784\", \"ticks\": \"\", \"title\": {\"standoff\": 15}, \"zerolinecolor\": \"#283442\", \"zerolinewidth\": 2}, \"yaxis\": {\"automargin\": true, \"gridcolor\": \"#283442\", \"linecolor\": \"#506784\", \"ticks\": \"\", \"title\": {\"standoff\": 15}, \"zerolinecolor\": \"#283442\", \"zerolinewidth\": 2}}}},                        {\"responsive\": true}                    ).then(function(){\n",
       "                            \n",
       "var gd = document.getElementById('25c4e244-1bfc-46f1-9e2f-c5d75294d0be');\n",
       "var x = new MutationObserver(function (mutations, observer) {{\n",
       "        var display = window.getComputedStyle(gd).display;\n",
       "        if (!display || display === 'none') {{\n",
       "            console.log([gd, 'removed!']);\n",
       "            Plotly.purge(gd);\n",
       "            observer.disconnect();\n",
       "        }}\n",
       "}});\n",
       "\n",
       "// Listen for the removal of the full notebook cells\n",
       "var notebookContainer = gd.closest('#notebook-container');\n",
       "if (notebookContainer) {{\n",
       "    x.observe(notebookContainer, {childList: true});\n",
       "}}\n",
       "\n",
       "// Listen for the clearing of the current output cell\n",
       "var outputEl = gd.closest('.output');\n",
       "if (outputEl) {{\n",
       "    x.observe(outputEl, {childList: true});\n",
       "}}\n",
       "\n",
       "                        })                };                });            </script>        </div>"
      ]
     },
     "metadata": {},
     "output_type": "display_data"
    }
   ],
   "source": [
    "places_with_cordinates = pd.read_json('Cities_map_coordinates.json')\n",
    "\n",
    "filtered_locations = places_with_cordinates[places_with_cordinates.map_locations != 'Not Found']\n",
    "\n",
    "coordinates = tuple(zip(*filtered_locations.map_locations))\n",
    "\n",
    "coordinates_lat = tuple(float(i) for i in coordinates[0])\n",
    "coordinates_long = tuple(float(i) for i in coordinates[1])\n",
    "\n",
    "filtered_locations = filtered_locations.rename(columns={'0': 'Place', '1': 'Tweet Count'}) \n",
    "\n",
    "fig = px.scatter_mapbox(filtered_locations,\n",
    "                        lat=coordinates_lat,\n",
    "                        lon=coordinates_long,\n",
    "                        hover_name=\"Place\",\n",
    "                        hover_data=[\"Tweet Count\"],\n",
    "                        color_continuous_scale=\"Rainbow\",\n",
    "                        color=filtered_locations[\"Tweet Count\"],\n",
    "                        size=filtered_locations[\"Tweet Count\"],\n",
    "                        size_max=50,\n",
    "                        zoom=4,\n",
    "                        height=600,\n",
    "                        template='plotly_dark',\n",
    "                       )\n",
    "fig.update_layout(\n",
    "    mapbox_style=\"carto-darkmatter\",)\n",
    "\n",
    "fig.update_layout(margin={\"r\":0,\"t\":0,\"l\":0,\"b\":0})\n",
    "fig.show()"
   ]
  },
  {
   "cell_type": "markdown",
   "metadata": {},
   "source": [
    "## Most Tagged Person in Tweets"
   ]
  },
  {
   "cell_type": "code",
   "execution_count": 13,
   "metadata": {},
   "outputs": [
    {
     "data": {
      "application/vnd.jupyter.widget-view+json": {
       "model_id": "6e320dafadd34731b5688d3c69dce12b",
       "version_major": 2,
       "version_minor": 0
      },
      "text/plain": [
       "interactive(children=(IntSlider(value=10, description='Top', max=30), Output()), _dom_classes=('widget-interac…"
      ]
     },
     "metadata": {},
     "output_type": "display_data"
    }
   ],
   "source": [
    "taggedPersons = df.text.str.findall(r\"@[\\w]+\").values\n",
    "\n",
    "mergedListPersons = tuple(itertools.chain.from_iterable([i for i in taggedPersons if len(i)!=0]))\n",
    "\n",
    "tagsCount = {}\n",
    "\n",
    "for i in mergedListPersons:\n",
    "    if i not in tagsCount:\n",
    "        tagsCount[i] = 1\n",
    "    else:\n",
    "        tagsCount[i] += 1\n",
    "\n",
    "ana9 = pd.DataFrame(sorted(tagsCount.items(), key=lambda x: x[1])[::-1], columns=['Person', 'Count'])\n",
    "\n",
    "def displayMostTagged(Top):\n",
    "\n",
    "    fig = px.bar(ana9[:Top],\n",
    "                 x='Person',\n",
    "                 y='Count',\n",
    "                 color='Count',\n",
    "                 labels={'Count':'Number of Tweets'},\n",
    "                 template='plotly_dark',\n",
    "                 text='Count',\n",
    "                 color_continuous_scale='Turbo',\n",
    "                )\n",
    "\n",
    "    fig.update_layout(xaxis_tickangle=-45,\n",
    "                      yaxis={'visible': False, 'showticklabels': False},\n",
    "                      font=dict(size=15),\n",
    "                     )\n",
    "    \n",
    "    fig.update_traces(showlegend=False)\n",
    "\n",
    "    fig.show();\n",
    "\n",
    "interact(displayMostTagged, Top=widgets.IntSlider(min=0, max=30, step=1, value=10));"
   ]
  },
  {
   "cell_type": "markdown",
   "metadata": {},
   "source": [
    "## Trending Hashtags of Every Place"
   ]
  },
  {
   "cell_type": "code",
   "execution_count": 14,
   "metadata": {},
   "outputs": [
    {
     "data": {
      "application/vnd.jupyter.widget-view+json": {
       "model_id": "f624aa36391f4e839524b835ab17073c",
       "version_major": 2,
       "version_minor": 0
      },
      "text/plain": [
       "interactive(children=(Dropdown(description='place', options=('26 Block, west patel nagar', 'AAIMS', 'AIIMS', '…"
      ]
     },
     "metadata": {},
     "output_type": "display_data"
    }
   ],
   "source": [
    "ana10 = df[['hashtags', 'place']]\n",
    "\n",
    "ana10 = ana10[~ana10.hashtags.isnull()]\n",
    "\n",
    "placesTags = ana10.groupby('place').sum()\n",
    "\n",
    "def splitCountTags(row):\n",
    "    tags = row.split()\n",
    "    counts = {}\n",
    "    for i in tags:\n",
    "        if i not in counts:\n",
    "            counts[i] = 1\n",
    "        else:\n",
    "            counts[i] += 1\n",
    "    counts = sorted(counts.items(), key=lambda x: x[1])[::-1]\n",
    "    return counts\n",
    "\n",
    "placesTagsWithCount = placesTags.hashtags.apply(splitCountTags)\n",
    "dropDownLocation = placesTagsWithCount.index\n",
    "\n",
    "def displayLocationTags(place, count):\n",
    "    \n",
    "    temp = pd.DataFrame(placesTagsWithCount[place], columns=['Hash Tags', 'Count'])[:count]\n",
    "    fig = px.bar(temp,\n",
    "                 x='Hash Tags',\n",
    "                 y='Count',\n",
    "                 color='Count',\n",
    "                 title = f\"{place}'s Trending Hash Tags\",\n",
    "#                  labels={'place': \"Location of Tweet\", 'count':'Number of Tweets'},\n",
    "                 template='plotly_dark',\n",
    "                 text='Count',\n",
    "                 color_continuous_scale='Turbo',\n",
    "                )\n",
    "\n",
    "    fig.update_layout(xaxis_tickangle=-45,\n",
    "                      yaxis={'visible': True, 'showticklabels': False, 'showgrid': False},\n",
    "                      font=dict(size=15),\n",
    "                     )\n",
    "    \n",
    "    fig.update_traces(showlegend=False)\n",
    "\n",
    "    fig.show();\n",
    "\n",
    "\n",
    "interact(displayLocationTags, place=dropDownLocation, count=widgets.IntSlider(min=0, max=30, step=1, value=10));"
   ]
  },
  {
   "cell_type": "markdown",
   "metadata": {},
   "source": [
    "## Most Engaged User on Twitter"
   ]
  },
  {
   "cell_type": "code",
   "execution_count": 15,
   "metadata": {},
   "outputs": [
    {
     "data": {
      "application/vnd.jupyter.widget-view+json": {
       "model_id": "3e25ebf5b16e45b99bb0a1b23874ab40",
       "version_major": 2,
       "version_minor": 0
      },
      "text/plain": [
       "interactive(children=(IntSlider(value=10, description='Top', max=30), Output()), _dom_classes=('widget-interac…"
      ]
     },
     "metadata": {},
     "output_type": "display_data"
    }
   ],
   "source": [
    "ana11 = pd.DataFrame(df.user_screen_name.value_counts())\n",
    "\n",
    "ana11 = ana11.rename(columns={'user_screen_name': 'Tweets Count'})\n",
    "\n",
    "def displayMostEngagedUsers(Top):\n",
    "\n",
    "    fig = px.bar(ana11[:Top],\n",
    "                 x=ana11[:Top].index,\n",
    "                 y='Tweets Count',\n",
    "                 color='Tweets Count',\n",
    "                 labels={'x':'Twitter Handle'},\n",
    "                 template='plotly_dark',\n",
    "                 text='Tweets Count',\n",
    "                 color_continuous_scale='Rainbow',\n",
    "                )\n",
    "\n",
    "    fig.update_layout(xaxis_tickangle=-45,\n",
    "                      yaxis={'visible': False, 'showticklabels': False},\n",
    "                      font=dict(size=15),\n",
    "                     )\n",
    "    \n",
    "    fig.update_traces(showlegend=False)\n",
    "\n",
    "    fig.show();\n",
    "\n",
    "interact(displayMostEngagedUsers, Top=widgets.IntSlider(min=0, max=30, step=1, value=10));"
   ]
  },
  {
   "cell_type": "markdown",
   "metadata": {},
   "source": [
    "## Word Cloud"
   ]
  },
  {
   "cell_type": "code",
   "execution_count": 16,
   "metadata": {},
   "outputs": [],
   "source": [
    "stopWordsTofollow = set(stopwords.words('english'))\n",
    "\n",
    "def removePunctuation(row):\n",
    "    cleaned = ''.join([w for w in row if w not in string.punctuation])\n",
    "    return cleaned\n",
    "\n",
    "def removeExtras(column):\n",
    "    patterns = ['@[\\w+]', '#[\\w+]', 'http\\S+', '\\n', '@']\n",
    "    for pattern in patterns:\n",
    "        column = column.str.replace(pattern, '')\n",
    "    return column.str.lower()\n",
    "\n",
    "def tokenizeSentence(row):\n",
    "    return word_tokenize(row)\n",
    "\n",
    "def removeStopWords(row):\n",
    "    cleanedSentence = [w for w in row if w not in stopWordsTofollow]\n",
    "    return ' '.join(cleanedSentence)"
   ]
  },
  {
   "cell_type": "code",
   "execution_count": 17,
   "metadata": {},
   "outputs": [],
   "source": [
    "userFiltered = df.copy()"
   ]
  },
  {
   "cell_type": "code",
   "execution_count": 18,
   "metadata": {},
   "outputs": [],
   "source": [
    "userFiltered = userFiltered[~userFiltered.user_description.isnull()]"
   ]
  },
  {
   "cell_type": "code",
   "execution_count": 19,
   "metadata": {},
   "outputs": [],
   "source": [
    "userFiltered['cleaned_user_description'] = removeExtras(userFiltered.user_description)\n",
    "userFiltered['cleaned_user_description'] = userFiltered.cleaned_user_description.apply(tokenizeSentence)\n",
    "userFiltered['cleaned_user_description'] = userFiltered.cleaned_user_description.apply(removeStopWords)"
   ]
  },
  {
   "cell_type": "code",
   "execution_count": 20,
   "metadata": {},
   "outputs": [],
   "source": [
    "corpusText = ''.join(df.cleaned_text.astype(str).values.tolist())"
   ]
  },
  {
   "cell_type": "code",
   "execution_count": 21,
   "metadata": {},
   "outputs": [],
   "source": [
    "corpusUser = ' '.join(userFiltered.cleaned_user_description.values.tolist())"
   ]
  },
  {
   "cell_type": "code",
   "execution_count": 22,
   "metadata": {},
   "outputs": [],
   "source": [
    "def generateWordCloud(Masking, corpus):\n",
    "    \n",
    "    mask = np.array(Image.open(f'./masks/{Masking}.png'))\n",
    "    wc = WordCloud(width=800, \n",
    "               height=500, \n",
    "               random_state=0, \n",
    "               colormap='tab20c',  \n",
    "               mask=mask, \n",
    "               contour_width=1,\n",
    "               stopwords=['amp'],\n",
    "               contour_color='orange').generate_from_text(corpus)\n",
    "\n",
    "    plt.figure(figsize=(12, 7))\n",
    "    plt.imshow(wc, interpolation=\"bilinear\")\n",
    "    plt.style.use('dark_background')\n",
    "    plt.axis('off')\n",
    "    plt.show()"
   ]
  },
  {
   "cell_type": "code",
   "execution_count": 23,
   "metadata": {},
   "outputs": [
    {
     "data": {
      "application/vnd.jupyter.widget-view+json": {
       "model_id": "48309195ea1643cea37e0ab2db5a2e0b",
       "version_major": 2,
       "version_minor": 0
      },
      "text/plain": [
       "interactive(children=(Dropdown(description='Masking', options=('Modiji', 'Trump', 'India Map'), value='Modiji'…"
      ]
     },
     "metadata": {},
     "output_type": "display_data"
    }
   ],
   "source": [
    "interact(generateWordCloud, Masking=['Modiji', 'Trump', 'India Map'], corpus=[('All Tweets', corpusText), ('User Description', corpusUser)]);"
   ]
  },
  {
   "cell_type": "markdown",
   "metadata": {},
   "source": [
    "## Sentiments Over Weeks and Days"
   ]
  },
  {
   "cell_type": "code",
   "execution_count": 24,
   "metadata": {},
   "outputs": [
    {
     "data": {
      "application/vnd.plotly.v1+json": {
       "config": {
        "plotlyServerURL": "https://plot.ly"
       },
       "data": [
        {
         "hoverinfo": "label+value",
         "labels": [
          "Positive",
          "Neutral",
          "Negative"
         ],
         "marker": {
          "line": {
           "color": "#eff542",
           "width": 2
          }
         },
         "pull": [
          0,
          0,
          0.2
         ],
         "showlegend": false,
         "textfont": {
          "size": 15
         },
         "textinfo": "label+percent",
         "title": {
          "text": "Total Sentiments in all Tweets"
         },
         "type": "pie",
         "values": [
          19514,
          16311,
          8354
         ]
        }
       ],
       "layout": {
        "font": {
         "size": 15
        },
        "template": {
         "data": {
          "bar": [
           {
            "error_x": {
             "color": "#f2f5fa"
            },
            "error_y": {
             "color": "#f2f5fa"
            },
            "marker": {
             "line": {
              "color": "rgb(17,17,17)",
              "width": 0.5
             }
            },
            "type": "bar"
           }
          ],
          "barpolar": [
           {
            "marker": {
             "line": {
              "color": "rgb(17,17,17)",
              "width": 0.5
             }
            },
            "type": "barpolar"
           }
          ],
          "carpet": [
           {
            "aaxis": {
             "endlinecolor": "#A2B1C6",
             "gridcolor": "#506784",
             "linecolor": "#506784",
             "minorgridcolor": "#506784",
             "startlinecolor": "#A2B1C6"
            },
            "baxis": {
             "endlinecolor": "#A2B1C6",
             "gridcolor": "#506784",
             "linecolor": "#506784",
             "minorgridcolor": "#506784",
             "startlinecolor": "#A2B1C6"
            },
            "type": "carpet"
           }
          ],
          "choropleth": [
           {
            "colorbar": {
             "outlinewidth": 0,
             "ticks": ""
            },
            "type": "choropleth"
           }
          ],
          "contour": [
           {
            "colorbar": {
             "outlinewidth": 0,
             "ticks": ""
            },
            "colorscale": [
             [
              0,
              "#0d0887"
             ],
             [
              0.1111111111111111,
              "#46039f"
             ],
             [
              0.2222222222222222,
              "#7201a8"
             ],
             [
              0.3333333333333333,
              "#9c179e"
             ],
             [
              0.4444444444444444,
              "#bd3786"
             ],
             [
              0.5555555555555556,
              "#d8576b"
             ],
             [
              0.6666666666666666,
              "#ed7953"
             ],
             [
              0.7777777777777778,
              "#fb9f3a"
             ],
             [
              0.8888888888888888,
              "#fdca26"
             ],
             [
              1,
              "#f0f921"
             ]
            ],
            "type": "contour"
           }
          ],
          "contourcarpet": [
           {
            "colorbar": {
             "outlinewidth": 0,
             "ticks": ""
            },
            "type": "contourcarpet"
           }
          ],
          "heatmap": [
           {
            "colorbar": {
             "outlinewidth": 0,
             "ticks": ""
            },
            "colorscale": [
             [
              0,
              "#0d0887"
             ],
             [
              0.1111111111111111,
              "#46039f"
             ],
             [
              0.2222222222222222,
              "#7201a8"
             ],
             [
              0.3333333333333333,
              "#9c179e"
             ],
             [
              0.4444444444444444,
              "#bd3786"
             ],
             [
              0.5555555555555556,
              "#d8576b"
             ],
             [
              0.6666666666666666,
              "#ed7953"
             ],
             [
              0.7777777777777778,
              "#fb9f3a"
             ],
             [
              0.8888888888888888,
              "#fdca26"
             ],
             [
              1,
              "#f0f921"
             ]
            ],
            "type": "heatmap"
           }
          ],
          "heatmapgl": [
           {
            "colorbar": {
             "outlinewidth": 0,
             "ticks": ""
            },
            "colorscale": [
             [
              0,
              "#0d0887"
             ],
             [
              0.1111111111111111,
              "#46039f"
             ],
             [
              0.2222222222222222,
              "#7201a8"
             ],
             [
              0.3333333333333333,
              "#9c179e"
             ],
             [
              0.4444444444444444,
              "#bd3786"
             ],
             [
              0.5555555555555556,
              "#d8576b"
             ],
             [
              0.6666666666666666,
              "#ed7953"
             ],
             [
              0.7777777777777778,
              "#fb9f3a"
             ],
             [
              0.8888888888888888,
              "#fdca26"
             ],
             [
              1,
              "#f0f921"
             ]
            ],
            "type": "heatmapgl"
           }
          ],
          "histogram": [
           {
            "marker": {
             "colorbar": {
              "outlinewidth": 0,
              "ticks": ""
             }
            },
            "type": "histogram"
           }
          ],
          "histogram2d": [
           {
            "colorbar": {
             "outlinewidth": 0,
             "ticks": ""
            },
            "colorscale": [
             [
              0,
              "#0d0887"
             ],
             [
              0.1111111111111111,
              "#46039f"
             ],
             [
              0.2222222222222222,
              "#7201a8"
             ],
             [
              0.3333333333333333,
              "#9c179e"
             ],
             [
              0.4444444444444444,
              "#bd3786"
             ],
             [
              0.5555555555555556,
              "#d8576b"
             ],
             [
              0.6666666666666666,
              "#ed7953"
             ],
             [
              0.7777777777777778,
              "#fb9f3a"
             ],
             [
              0.8888888888888888,
              "#fdca26"
             ],
             [
              1,
              "#f0f921"
             ]
            ],
            "type": "histogram2d"
           }
          ],
          "histogram2dcontour": [
           {
            "colorbar": {
             "outlinewidth": 0,
             "ticks": ""
            },
            "colorscale": [
             [
              0,
              "#0d0887"
             ],
             [
              0.1111111111111111,
              "#46039f"
             ],
             [
              0.2222222222222222,
              "#7201a8"
             ],
             [
              0.3333333333333333,
              "#9c179e"
             ],
             [
              0.4444444444444444,
              "#bd3786"
             ],
             [
              0.5555555555555556,
              "#d8576b"
             ],
             [
              0.6666666666666666,
              "#ed7953"
             ],
             [
              0.7777777777777778,
              "#fb9f3a"
             ],
             [
              0.8888888888888888,
              "#fdca26"
             ],
             [
              1,
              "#f0f921"
             ]
            ],
            "type": "histogram2dcontour"
           }
          ],
          "mesh3d": [
           {
            "colorbar": {
             "outlinewidth": 0,
             "ticks": ""
            },
            "type": "mesh3d"
           }
          ],
          "parcoords": [
           {
            "line": {
             "colorbar": {
              "outlinewidth": 0,
              "ticks": ""
             }
            },
            "type": "parcoords"
           }
          ],
          "pie": [
           {
            "automargin": true,
            "type": "pie"
           }
          ],
          "scatter": [
           {
            "marker": {
             "line": {
              "color": "#283442"
             }
            },
            "type": "scatter"
           }
          ],
          "scatter3d": [
           {
            "line": {
             "colorbar": {
              "outlinewidth": 0,
              "ticks": ""
             }
            },
            "marker": {
             "colorbar": {
              "outlinewidth": 0,
              "ticks": ""
             }
            },
            "type": "scatter3d"
           }
          ],
          "scattercarpet": [
           {
            "marker": {
             "colorbar": {
              "outlinewidth": 0,
              "ticks": ""
             }
            },
            "type": "scattercarpet"
           }
          ],
          "scattergeo": [
           {
            "marker": {
             "colorbar": {
              "outlinewidth": 0,
              "ticks": ""
             }
            },
            "type": "scattergeo"
           }
          ],
          "scattergl": [
           {
            "marker": {
             "line": {
              "color": "#283442"
             }
            },
            "type": "scattergl"
           }
          ],
          "scattermapbox": [
           {
            "marker": {
             "colorbar": {
              "outlinewidth": 0,
              "ticks": ""
             }
            },
            "type": "scattermapbox"
           }
          ],
          "scatterpolar": [
           {
            "marker": {
             "colorbar": {
              "outlinewidth": 0,
              "ticks": ""
             }
            },
            "type": "scatterpolar"
           }
          ],
          "scatterpolargl": [
           {
            "marker": {
             "colorbar": {
              "outlinewidth": 0,
              "ticks": ""
             }
            },
            "type": "scatterpolargl"
           }
          ],
          "scatterternary": [
           {
            "marker": {
             "colorbar": {
              "outlinewidth": 0,
              "ticks": ""
             }
            },
            "type": "scatterternary"
           }
          ],
          "surface": [
           {
            "colorbar": {
             "outlinewidth": 0,
             "ticks": ""
            },
            "colorscale": [
             [
              0,
              "#0d0887"
             ],
             [
              0.1111111111111111,
              "#46039f"
             ],
             [
              0.2222222222222222,
              "#7201a8"
             ],
             [
              0.3333333333333333,
              "#9c179e"
             ],
             [
              0.4444444444444444,
              "#bd3786"
             ],
             [
              0.5555555555555556,
              "#d8576b"
             ],
             [
              0.6666666666666666,
              "#ed7953"
             ],
             [
              0.7777777777777778,
              "#fb9f3a"
             ],
             [
              0.8888888888888888,
              "#fdca26"
             ],
             [
              1,
              "#f0f921"
             ]
            ],
            "type": "surface"
           }
          ],
          "table": [
           {
            "cells": {
             "fill": {
              "color": "#506784"
             },
             "line": {
              "color": "rgb(17,17,17)"
             }
            },
            "header": {
             "fill": {
              "color": "#2a3f5f"
             },
             "line": {
              "color": "rgb(17,17,17)"
             }
            },
            "type": "table"
           }
          ]
         },
         "layout": {
          "annotationdefaults": {
           "arrowcolor": "#f2f5fa",
           "arrowhead": 0,
           "arrowwidth": 1
          },
          "autotypenumbers": "strict",
          "coloraxis": {
           "colorbar": {
            "outlinewidth": 0,
            "ticks": ""
           }
          },
          "colorscale": {
           "diverging": [
            [
             0,
             "#8e0152"
            ],
            [
             0.1,
             "#c51b7d"
            ],
            [
             0.2,
             "#de77ae"
            ],
            [
             0.3,
             "#f1b6da"
            ],
            [
             0.4,
             "#fde0ef"
            ],
            [
             0.5,
             "#f7f7f7"
            ],
            [
             0.6,
             "#e6f5d0"
            ],
            [
             0.7,
             "#b8e186"
            ],
            [
             0.8,
             "#7fbc41"
            ],
            [
             0.9,
             "#4d9221"
            ],
            [
             1,
             "#276419"
            ]
           ],
           "sequential": [
            [
             0,
             "#0d0887"
            ],
            [
             0.1111111111111111,
             "#46039f"
            ],
            [
             0.2222222222222222,
             "#7201a8"
            ],
            [
             0.3333333333333333,
             "#9c179e"
            ],
            [
             0.4444444444444444,
             "#bd3786"
            ],
            [
             0.5555555555555556,
             "#d8576b"
            ],
            [
             0.6666666666666666,
             "#ed7953"
            ],
            [
             0.7777777777777778,
             "#fb9f3a"
            ],
            [
             0.8888888888888888,
             "#fdca26"
            ],
            [
             1,
             "#f0f921"
            ]
           ],
           "sequentialminus": [
            [
             0,
             "#0d0887"
            ],
            [
             0.1111111111111111,
             "#46039f"
            ],
            [
             0.2222222222222222,
             "#7201a8"
            ],
            [
             0.3333333333333333,
             "#9c179e"
            ],
            [
             0.4444444444444444,
             "#bd3786"
            ],
            [
             0.5555555555555556,
             "#d8576b"
            ],
            [
             0.6666666666666666,
             "#ed7953"
            ],
            [
             0.7777777777777778,
             "#fb9f3a"
            ],
            [
             0.8888888888888888,
             "#fdca26"
            ],
            [
             1,
             "#f0f921"
            ]
           ]
          },
          "colorway": [
           "#636efa",
           "#EF553B",
           "#00cc96",
           "#ab63fa",
           "#FFA15A",
           "#19d3f3",
           "#FF6692",
           "#B6E880",
           "#FF97FF",
           "#FECB52"
          ],
          "font": {
           "color": "#f2f5fa"
          },
          "geo": {
           "bgcolor": "rgb(17,17,17)",
           "lakecolor": "rgb(17,17,17)",
           "landcolor": "rgb(17,17,17)",
           "showlakes": true,
           "showland": true,
           "subunitcolor": "#506784"
          },
          "hoverlabel": {
           "align": "left"
          },
          "hovermode": "closest",
          "mapbox": {
           "style": "dark"
          },
          "paper_bgcolor": "rgb(17,17,17)",
          "plot_bgcolor": "rgb(17,17,17)",
          "polar": {
           "angularaxis": {
            "gridcolor": "#506784",
            "linecolor": "#506784",
            "ticks": ""
           },
           "bgcolor": "rgb(17,17,17)",
           "radialaxis": {
            "gridcolor": "#506784",
            "linecolor": "#506784",
            "ticks": ""
           }
          },
          "scene": {
           "xaxis": {
            "backgroundcolor": "rgb(17,17,17)",
            "gridcolor": "#506784",
            "gridwidth": 2,
            "linecolor": "#506784",
            "showbackground": true,
            "ticks": "",
            "zerolinecolor": "#C8D4E3"
           },
           "yaxis": {
            "backgroundcolor": "rgb(17,17,17)",
            "gridcolor": "#506784",
            "gridwidth": 2,
            "linecolor": "#506784",
            "showbackground": true,
            "ticks": "",
            "zerolinecolor": "#C8D4E3"
           },
           "zaxis": {
            "backgroundcolor": "rgb(17,17,17)",
            "gridcolor": "#506784",
            "gridwidth": 2,
            "linecolor": "#506784",
            "showbackground": true,
            "ticks": "",
            "zerolinecolor": "#C8D4E3"
           }
          },
          "shapedefaults": {
           "line": {
            "color": "#f2f5fa"
           }
          },
          "sliderdefaults": {
           "bgcolor": "#C8D4E3",
           "bordercolor": "rgb(17,17,17)",
           "borderwidth": 1,
           "tickwidth": 0
          },
          "ternary": {
           "aaxis": {
            "gridcolor": "#506784",
            "linecolor": "#506784",
            "ticks": ""
           },
           "baxis": {
            "gridcolor": "#506784",
            "linecolor": "#506784",
            "ticks": ""
           },
           "bgcolor": "rgb(17,17,17)",
           "caxis": {
            "gridcolor": "#506784",
            "linecolor": "#506784",
            "ticks": ""
           }
          },
          "title": {
           "x": 0.05
          },
          "updatemenudefaults": {
           "bgcolor": "#506784",
           "borderwidth": 0
          },
          "xaxis": {
           "automargin": true,
           "gridcolor": "#283442",
           "linecolor": "#506784",
           "ticks": "",
           "title": {
            "standoff": 15
           },
           "zerolinecolor": "#283442",
           "zerolinewidth": 2
          },
          "yaxis": {
           "automargin": true,
           "gridcolor": "#283442",
           "linecolor": "#506784",
           "ticks": "",
           "title": {
            "standoff": 15
           },
           "zerolinecolor": "#283442",
           "zerolinewidth": 2
          }
         }
        }
       }
      },
      "text/html": [
       "<div>                            <div id=\"771fadb0-cde0-44ff-886d-7b87b2f47238\" class=\"plotly-graph-div\" style=\"height:525px; width:100%;\"></div>            <script type=\"text/javascript\">                require([\"plotly\"], function(Plotly) {                    window.PLOTLYENV=window.PLOTLYENV || {};                                    if (document.getElementById(\"771fadb0-cde0-44ff-886d-7b87b2f47238\")) {                    Plotly.newPlot(                        \"771fadb0-cde0-44ff-886d-7b87b2f47238\",                        [{\"hoverinfo\": \"label+value\", \"labels\": [\"Positive\", \"Neutral\", \"Negative\"], \"marker\": {\"line\": {\"color\": \"#eff542\", \"width\": 2}}, \"pull\": [0, 0, 0.2], \"showlegend\": false, \"textfont\": {\"size\": 15}, \"textinfo\": \"label+percent\", \"title\": {\"text\": \"Total Sentiments in all Tweets\"}, \"type\": \"pie\", \"values\": [19514, 16311, 8354]}],                        {\"font\": {\"size\": 15}, \"template\": {\"data\": {\"bar\": [{\"error_x\": {\"color\": \"#f2f5fa\"}, \"error_y\": {\"color\": \"#f2f5fa\"}, \"marker\": {\"line\": {\"color\": \"rgb(17,17,17)\", \"width\": 0.5}}, \"type\": \"bar\"}], \"barpolar\": [{\"marker\": {\"line\": {\"color\": \"rgb(17,17,17)\", \"width\": 0.5}}, \"type\": \"barpolar\"}], \"carpet\": [{\"aaxis\": {\"endlinecolor\": \"#A2B1C6\", \"gridcolor\": \"#506784\", \"linecolor\": \"#506784\", \"minorgridcolor\": \"#506784\", \"startlinecolor\": \"#A2B1C6\"}, \"baxis\": {\"endlinecolor\": \"#A2B1C6\", \"gridcolor\": \"#506784\", \"linecolor\": \"#506784\", \"minorgridcolor\": \"#506784\", \"startlinecolor\": \"#A2B1C6\"}, \"type\": \"carpet\"}], \"choropleth\": [{\"colorbar\": {\"outlinewidth\": 0, \"ticks\": \"\"}, \"type\": \"choropleth\"}], \"contour\": [{\"colorbar\": {\"outlinewidth\": 0, \"ticks\": \"\"}, \"colorscale\": [[0.0, \"#0d0887\"], [0.1111111111111111, \"#46039f\"], [0.2222222222222222, \"#7201a8\"], [0.3333333333333333, \"#9c179e\"], [0.4444444444444444, \"#bd3786\"], [0.5555555555555556, \"#d8576b\"], [0.6666666666666666, \"#ed7953\"], [0.7777777777777778, \"#fb9f3a\"], [0.8888888888888888, \"#fdca26\"], [1.0, \"#f0f921\"]], \"type\": \"contour\"}], \"contourcarpet\": [{\"colorbar\": {\"outlinewidth\": 0, \"ticks\": \"\"}, \"type\": \"contourcarpet\"}], \"heatmap\": [{\"colorbar\": {\"outlinewidth\": 0, \"ticks\": \"\"}, \"colorscale\": [[0.0, \"#0d0887\"], [0.1111111111111111, \"#46039f\"], [0.2222222222222222, \"#7201a8\"], [0.3333333333333333, \"#9c179e\"], [0.4444444444444444, \"#bd3786\"], [0.5555555555555556, \"#d8576b\"], [0.6666666666666666, \"#ed7953\"], [0.7777777777777778, \"#fb9f3a\"], [0.8888888888888888, \"#fdca26\"], [1.0, \"#f0f921\"]], \"type\": \"heatmap\"}], \"heatmapgl\": [{\"colorbar\": {\"outlinewidth\": 0, \"ticks\": \"\"}, \"colorscale\": [[0.0, \"#0d0887\"], [0.1111111111111111, \"#46039f\"], [0.2222222222222222, \"#7201a8\"], [0.3333333333333333, \"#9c179e\"], [0.4444444444444444, \"#bd3786\"], [0.5555555555555556, \"#d8576b\"], [0.6666666666666666, \"#ed7953\"], [0.7777777777777778, \"#fb9f3a\"], [0.8888888888888888, \"#fdca26\"], [1.0, \"#f0f921\"]], \"type\": \"heatmapgl\"}], \"histogram\": [{\"marker\": {\"colorbar\": {\"outlinewidth\": 0, \"ticks\": \"\"}}, \"type\": \"histogram\"}], \"histogram2d\": [{\"colorbar\": {\"outlinewidth\": 0, \"ticks\": \"\"}, \"colorscale\": [[0.0, \"#0d0887\"], [0.1111111111111111, \"#46039f\"], [0.2222222222222222, \"#7201a8\"], [0.3333333333333333, \"#9c179e\"], [0.4444444444444444, \"#bd3786\"], [0.5555555555555556, \"#d8576b\"], [0.6666666666666666, \"#ed7953\"], [0.7777777777777778, \"#fb9f3a\"], [0.8888888888888888, \"#fdca26\"], [1.0, \"#f0f921\"]], \"type\": \"histogram2d\"}], \"histogram2dcontour\": [{\"colorbar\": {\"outlinewidth\": 0, \"ticks\": \"\"}, \"colorscale\": [[0.0, \"#0d0887\"], [0.1111111111111111, \"#46039f\"], [0.2222222222222222, \"#7201a8\"], [0.3333333333333333, \"#9c179e\"], [0.4444444444444444, \"#bd3786\"], [0.5555555555555556, \"#d8576b\"], [0.6666666666666666, \"#ed7953\"], [0.7777777777777778, \"#fb9f3a\"], [0.8888888888888888, \"#fdca26\"], [1.0, \"#f0f921\"]], \"type\": \"histogram2dcontour\"}], \"mesh3d\": [{\"colorbar\": {\"outlinewidth\": 0, \"ticks\": \"\"}, \"type\": \"mesh3d\"}], \"parcoords\": [{\"line\": {\"colorbar\": {\"outlinewidth\": 0, \"ticks\": \"\"}}, \"type\": \"parcoords\"}], \"pie\": [{\"automargin\": true, \"type\": \"pie\"}], \"scatter\": [{\"marker\": {\"line\": {\"color\": \"#283442\"}}, \"type\": \"scatter\"}], \"scatter3d\": [{\"line\": {\"colorbar\": {\"outlinewidth\": 0, \"ticks\": \"\"}}, \"marker\": {\"colorbar\": {\"outlinewidth\": 0, \"ticks\": \"\"}}, \"type\": \"scatter3d\"}], \"scattercarpet\": [{\"marker\": {\"colorbar\": {\"outlinewidth\": 0, \"ticks\": \"\"}}, \"type\": \"scattercarpet\"}], \"scattergeo\": [{\"marker\": {\"colorbar\": {\"outlinewidth\": 0, \"ticks\": \"\"}}, \"type\": \"scattergeo\"}], \"scattergl\": [{\"marker\": {\"line\": {\"color\": \"#283442\"}}, \"type\": \"scattergl\"}], \"scattermapbox\": [{\"marker\": {\"colorbar\": {\"outlinewidth\": 0, \"ticks\": \"\"}}, \"type\": \"scattermapbox\"}], \"scatterpolar\": [{\"marker\": {\"colorbar\": {\"outlinewidth\": 0, \"ticks\": \"\"}}, \"type\": \"scatterpolar\"}], \"scatterpolargl\": [{\"marker\": {\"colorbar\": {\"outlinewidth\": 0, \"ticks\": \"\"}}, \"type\": \"scatterpolargl\"}], \"scatterternary\": [{\"marker\": {\"colorbar\": {\"outlinewidth\": 0, \"ticks\": \"\"}}, \"type\": \"scatterternary\"}], \"surface\": [{\"colorbar\": {\"outlinewidth\": 0, \"ticks\": \"\"}, \"colorscale\": [[0.0, \"#0d0887\"], [0.1111111111111111, \"#46039f\"], [0.2222222222222222, \"#7201a8\"], [0.3333333333333333, \"#9c179e\"], [0.4444444444444444, \"#bd3786\"], [0.5555555555555556, \"#d8576b\"], [0.6666666666666666, \"#ed7953\"], [0.7777777777777778, \"#fb9f3a\"], [0.8888888888888888, \"#fdca26\"], [1.0, \"#f0f921\"]], \"type\": \"surface\"}], \"table\": [{\"cells\": {\"fill\": {\"color\": \"#506784\"}, \"line\": {\"color\": \"rgb(17,17,17)\"}}, \"header\": {\"fill\": {\"color\": \"#2a3f5f\"}, \"line\": {\"color\": \"rgb(17,17,17)\"}}, \"type\": \"table\"}]}, \"layout\": {\"annotationdefaults\": {\"arrowcolor\": \"#f2f5fa\", \"arrowhead\": 0, \"arrowwidth\": 1}, \"autotypenumbers\": \"strict\", \"coloraxis\": {\"colorbar\": {\"outlinewidth\": 0, \"ticks\": \"\"}}, \"colorscale\": {\"diverging\": [[0, \"#8e0152\"], [0.1, \"#c51b7d\"], [0.2, \"#de77ae\"], [0.3, \"#f1b6da\"], [0.4, \"#fde0ef\"], [0.5, \"#f7f7f7\"], [0.6, \"#e6f5d0\"], [0.7, \"#b8e186\"], [0.8, \"#7fbc41\"], [0.9, \"#4d9221\"], [1, \"#276419\"]], \"sequential\": [[0.0, \"#0d0887\"], [0.1111111111111111, \"#46039f\"], [0.2222222222222222, \"#7201a8\"], [0.3333333333333333, \"#9c179e\"], [0.4444444444444444, \"#bd3786\"], [0.5555555555555556, \"#d8576b\"], [0.6666666666666666, \"#ed7953\"], [0.7777777777777778, \"#fb9f3a\"], [0.8888888888888888, \"#fdca26\"], [1.0, \"#f0f921\"]], \"sequentialminus\": [[0.0, \"#0d0887\"], [0.1111111111111111, \"#46039f\"], [0.2222222222222222, \"#7201a8\"], [0.3333333333333333, \"#9c179e\"], [0.4444444444444444, \"#bd3786\"], [0.5555555555555556, \"#d8576b\"], [0.6666666666666666, \"#ed7953\"], [0.7777777777777778, \"#fb9f3a\"], [0.8888888888888888, \"#fdca26\"], [1.0, \"#f0f921\"]]}, \"colorway\": [\"#636efa\", \"#EF553B\", \"#00cc96\", \"#ab63fa\", \"#FFA15A\", \"#19d3f3\", \"#FF6692\", \"#B6E880\", \"#FF97FF\", \"#FECB52\"], \"font\": {\"color\": \"#f2f5fa\"}, \"geo\": {\"bgcolor\": \"rgb(17,17,17)\", \"lakecolor\": \"rgb(17,17,17)\", \"landcolor\": \"rgb(17,17,17)\", \"showlakes\": true, \"showland\": true, \"subunitcolor\": \"#506784\"}, \"hoverlabel\": {\"align\": \"left\"}, \"hovermode\": \"closest\", \"mapbox\": {\"style\": \"dark\"}, \"paper_bgcolor\": \"rgb(17,17,17)\", \"plot_bgcolor\": \"rgb(17,17,17)\", \"polar\": {\"angularaxis\": {\"gridcolor\": \"#506784\", \"linecolor\": \"#506784\", \"ticks\": \"\"}, \"bgcolor\": \"rgb(17,17,17)\", \"radialaxis\": {\"gridcolor\": \"#506784\", \"linecolor\": \"#506784\", \"ticks\": \"\"}}, \"scene\": {\"xaxis\": {\"backgroundcolor\": \"rgb(17,17,17)\", \"gridcolor\": \"#506784\", \"gridwidth\": 2, \"linecolor\": \"#506784\", \"showbackground\": true, \"ticks\": \"\", \"zerolinecolor\": \"#C8D4E3\"}, \"yaxis\": {\"backgroundcolor\": \"rgb(17,17,17)\", \"gridcolor\": \"#506784\", \"gridwidth\": 2, \"linecolor\": \"#506784\", \"showbackground\": true, \"ticks\": \"\", \"zerolinecolor\": \"#C8D4E3\"}, \"zaxis\": {\"backgroundcolor\": \"rgb(17,17,17)\", \"gridcolor\": \"#506784\", \"gridwidth\": 2, \"linecolor\": \"#506784\", \"showbackground\": true, \"ticks\": \"\", \"zerolinecolor\": \"#C8D4E3\"}}, \"shapedefaults\": {\"line\": {\"color\": \"#f2f5fa\"}}, \"sliderdefaults\": {\"bgcolor\": \"#C8D4E3\", \"bordercolor\": \"rgb(17,17,17)\", \"borderwidth\": 1, \"tickwidth\": 0}, \"ternary\": {\"aaxis\": {\"gridcolor\": \"#506784\", \"linecolor\": \"#506784\", \"ticks\": \"\"}, \"baxis\": {\"gridcolor\": \"#506784\", \"linecolor\": \"#506784\", \"ticks\": \"\"}, \"bgcolor\": \"rgb(17,17,17)\", \"caxis\": {\"gridcolor\": \"#506784\", \"linecolor\": \"#506784\", \"ticks\": \"\"}}, \"title\": {\"x\": 0.05}, \"updatemenudefaults\": {\"bgcolor\": \"#506784\", \"borderwidth\": 0}, \"xaxis\": {\"automargin\": true, \"gridcolor\": \"#283442\", \"linecolor\": \"#506784\", \"ticks\": \"\", \"title\": {\"standoff\": 15}, \"zerolinecolor\": \"#283442\", \"zerolinewidth\": 2}, \"yaxis\": {\"automargin\": true, \"gridcolor\": \"#283442\", \"linecolor\": \"#506784\", \"ticks\": \"\", \"title\": {\"standoff\": 15}, \"zerolinecolor\": \"#283442\", \"zerolinewidth\": 2}}}},                        {\"responsive\": true}                    ).then(function(){\n",
       "                            \n",
       "var gd = document.getElementById('771fadb0-cde0-44ff-886d-7b87b2f47238');\n",
       "var x = new MutationObserver(function (mutations, observer) {{\n",
       "        var display = window.getComputedStyle(gd).display;\n",
       "        if (!display || display === 'none') {{\n",
       "            console.log([gd, 'removed!']);\n",
       "            Plotly.purge(gd);\n",
       "            observer.disconnect();\n",
       "        }}\n",
       "}});\n",
       "\n",
       "// Listen for the removal of the full notebook cells\n",
       "var notebookContainer = gd.closest('#notebook-container');\n",
       "if (notebookContainer) {{\n",
       "    x.observe(notebookContainer, {childList: true});\n",
       "}}\n",
       "\n",
       "// Listen for the clearing of the current output cell\n",
       "var outputEl = gd.closest('.output');\n",
       "if (outputEl) {{\n",
       "    x.observe(outputEl, {childList: true});\n",
       "}}\n",
       "\n",
       "                        })                };                });            </script>        </div>"
      ]
     },
     "metadata": {},
     "output_type": "display_data"
    }
   ],
   "source": [
    "ana12 = df.text_sentiment.value_counts()\n",
    "\n",
    "fig = go.Figure(data=[go.Pie(labels=ana12.index,\n",
    "                             values=ana12.values,\n",
    "                             textinfo='label+percent',\n",
    "                             pull=[0, 0, 0.2],\n",
    "                             title='Total Sentiments in all Tweets'\n",
    "                             )])\n",
    "\n",
    "fig.update_traces(hoverinfo='label+value',  textfont_size=15, \n",
    "                  marker=dict(line=dict(color='#eff542', width=2)), showlegend=False)\n",
    "\n",
    "fig.update_layout(template='plotly_dark',\n",
    "                  font=dict(size=15))\n",
    "\n",
    "fig.show();"
   ]
  },
  {
   "cell_type": "code",
   "execution_count": 25,
   "metadata": {},
   "outputs": [],
   "source": [
    "positive = df[df.text_sentiment == 'Positive']\n",
    "negative = df[df.text_sentiment == 'Negative']\n",
    "neutral = df[df.text_sentiment == 'Neutral']"
   ]
  },
  {
   "cell_type": "code",
   "execution_count": 26,
   "metadata": {},
   "outputs": [],
   "source": [
    "temp1 = positive.groupby(positive.index.day_name()).count()['text_sentiment']\n",
    "temp2 = negative.groupby(negative.index.day_name()).count()['text_sentiment']\n",
    "temp3 = neutral.groupby(neutral.index.day_name()).count()['text_sentiment']"
   ]
  },
  {
   "cell_type": "code",
   "execution_count": 27,
   "metadata": {},
   "outputs": [],
   "source": [
    "days = ('Monday', 'Tuesday', 'Wednesday', 'Thursday', 'Friday', 'Saturday', 'Sunday')\n",
    "values_pos = tuple(temp1[i] for i in days)\n",
    "values_neg = tuple(temp2[i] for i in days)\n",
    "values_neu = tuple(temp3[i] for i in days)"
   ]
  },
  {
   "cell_type": "code",
   "execution_count": 28,
   "metadata": {},
   "outputs": [
    {
     "data": {
      "application/vnd.plotly.v1+json": {
       "config": {
        "plotlyServerURL": "https://plot.ly"
       },
       "data": [
        {
         "mode": "lines",
         "name": "Positive Sentiment",
         "type": "scatter",
         "x": [
          "Monday",
          "Tuesday",
          "Wednesday",
          "Thursday",
          "Friday",
          "Saturday",
          "Sunday"
         ],
         "y": [
          2334,
          2768,
          3247,
          2625,
          2392,
          3370,
          2778
         ]
        },
        {
         "mode": "lines",
         "name": "Negative Sentiment",
         "type": "scatter",
         "x": [
          "Monday",
          "Tuesday",
          "Wednesday",
          "Thursday",
          "Friday",
          "Saturday",
          "Sunday"
         ],
         "y": [
          1055,
          1415,
          1420,
          1081,
          970,
          1337,
          1076
         ]
        },
        {
         "mode": "lines",
         "name": "Neutral Sentiment",
         "type": "scatter",
         "x": [
          "Monday",
          "Tuesday",
          "Wednesday",
          "Thursday",
          "Friday",
          "Saturday",
          "Sunday"
         ],
         "y": [
          1954,
          2393,
          2642,
          2134,
          2053,
          2759,
          2376
         ]
        }
       ],
       "layout": {
        "font": {
         "size": 15
        },
        "template": {
         "data": {
          "bar": [
           {
            "error_x": {
             "color": "#f2f5fa"
            },
            "error_y": {
             "color": "#f2f5fa"
            },
            "marker": {
             "line": {
              "color": "rgb(17,17,17)",
              "width": 0.5
             }
            },
            "type": "bar"
           }
          ],
          "barpolar": [
           {
            "marker": {
             "line": {
              "color": "rgb(17,17,17)",
              "width": 0.5
             }
            },
            "type": "barpolar"
           }
          ],
          "carpet": [
           {
            "aaxis": {
             "endlinecolor": "#A2B1C6",
             "gridcolor": "#506784",
             "linecolor": "#506784",
             "minorgridcolor": "#506784",
             "startlinecolor": "#A2B1C6"
            },
            "baxis": {
             "endlinecolor": "#A2B1C6",
             "gridcolor": "#506784",
             "linecolor": "#506784",
             "minorgridcolor": "#506784",
             "startlinecolor": "#A2B1C6"
            },
            "type": "carpet"
           }
          ],
          "choropleth": [
           {
            "colorbar": {
             "outlinewidth": 0,
             "ticks": ""
            },
            "type": "choropleth"
           }
          ],
          "contour": [
           {
            "colorbar": {
             "outlinewidth": 0,
             "ticks": ""
            },
            "colorscale": [
             [
              0,
              "#0d0887"
             ],
             [
              0.1111111111111111,
              "#46039f"
             ],
             [
              0.2222222222222222,
              "#7201a8"
             ],
             [
              0.3333333333333333,
              "#9c179e"
             ],
             [
              0.4444444444444444,
              "#bd3786"
             ],
             [
              0.5555555555555556,
              "#d8576b"
             ],
             [
              0.6666666666666666,
              "#ed7953"
             ],
             [
              0.7777777777777778,
              "#fb9f3a"
             ],
             [
              0.8888888888888888,
              "#fdca26"
             ],
             [
              1,
              "#f0f921"
             ]
            ],
            "type": "contour"
           }
          ],
          "contourcarpet": [
           {
            "colorbar": {
             "outlinewidth": 0,
             "ticks": ""
            },
            "type": "contourcarpet"
           }
          ],
          "heatmap": [
           {
            "colorbar": {
             "outlinewidth": 0,
             "ticks": ""
            },
            "colorscale": [
             [
              0,
              "#0d0887"
             ],
             [
              0.1111111111111111,
              "#46039f"
             ],
             [
              0.2222222222222222,
              "#7201a8"
             ],
             [
              0.3333333333333333,
              "#9c179e"
             ],
             [
              0.4444444444444444,
              "#bd3786"
             ],
             [
              0.5555555555555556,
              "#d8576b"
             ],
             [
              0.6666666666666666,
              "#ed7953"
             ],
             [
              0.7777777777777778,
              "#fb9f3a"
             ],
             [
              0.8888888888888888,
              "#fdca26"
             ],
             [
              1,
              "#f0f921"
             ]
            ],
            "type": "heatmap"
           }
          ],
          "heatmapgl": [
           {
            "colorbar": {
             "outlinewidth": 0,
             "ticks": ""
            },
            "colorscale": [
             [
              0,
              "#0d0887"
             ],
             [
              0.1111111111111111,
              "#46039f"
             ],
             [
              0.2222222222222222,
              "#7201a8"
             ],
             [
              0.3333333333333333,
              "#9c179e"
             ],
             [
              0.4444444444444444,
              "#bd3786"
             ],
             [
              0.5555555555555556,
              "#d8576b"
             ],
             [
              0.6666666666666666,
              "#ed7953"
             ],
             [
              0.7777777777777778,
              "#fb9f3a"
             ],
             [
              0.8888888888888888,
              "#fdca26"
             ],
             [
              1,
              "#f0f921"
             ]
            ],
            "type": "heatmapgl"
           }
          ],
          "histogram": [
           {
            "marker": {
             "colorbar": {
              "outlinewidth": 0,
              "ticks": ""
             }
            },
            "type": "histogram"
           }
          ],
          "histogram2d": [
           {
            "colorbar": {
             "outlinewidth": 0,
             "ticks": ""
            },
            "colorscale": [
             [
              0,
              "#0d0887"
             ],
             [
              0.1111111111111111,
              "#46039f"
             ],
             [
              0.2222222222222222,
              "#7201a8"
             ],
             [
              0.3333333333333333,
              "#9c179e"
             ],
             [
              0.4444444444444444,
              "#bd3786"
             ],
             [
              0.5555555555555556,
              "#d8576b"
             ],
             [
              0.6666666666666666,
              "#ed7953"
             ],
             [
              0.7777777777777778,
              "#fb9f3a"
             ],
             [
              0.8888888888888888,
              "#fdca26"
             ],
             [
              1,
              "#f0f921"
             ]
            ],
            "type": "histogram2d"
           }
          ],
          "histogram2dcontour": [
           {
            "colorbar": {
             "outlinewidth": 0,
             "ticks": ""
            },
            "colorscale": [
             [
              0,
              "#0d0887"
             ],
             [
              0.1111111111111111,
              "#46039f"
             ],
             [
              0.2222222222222222,
              "#7201a8"
             ],
             [
              0.3333333333333333,
              "#9c179e"
             ],
             [
              0.4444444444444444,
              "#bd3786"
             ],
             [
              0.5555555555555556,
              "#d8576b"
             ],
             [
              0.6666666666666666,
              "#ed7953"
             ],
             [
              0.7777777777777778,
              "#fb9f3a"
             ],
             [
              0.8888888888888888,
              "#fdca26"
             ],
             [
              1,
              "#f0f921"
             ]
            ],
            "type": "histogram2dcontour"
           }
          ],
          "mesh3d": [
           {
            "colorbar": {
             "outlinewidth": 0,
             "ticks": ""
            },
            "type": "mesh3d"
           }
          ],
          "parcoords": [
           {
            "line": {
             "colorbar": {
              "outlinewidth": 0,
              "ticks": ""
             }
            },
            "type": "parcoords"
           }
          ],
          "pie": [
           {
            "automargin": true,
            "type": "pie"
           }
          ],
          "scatter": [
           {
            "marker": {
             "line": {
              "color": "#283442"
             }
            },
            "type": "scatter"
           }
          ],
          "scatter3d": [
           {
            "line": {
             "colorbar": {
              "outlinewidth": 0,
              "ticks": ""
             }
            },
            "marker": {
             "colorbar": {
              "outlinewidth": 0,
              "ticks": ""
             }
            },
            "type": "scatter3d"
           }
          ],
          "scattercarpet": [
           {
            "marker": {
             "colorbar": {
              "outlinewidth": 0,
              "ticks": ""
             }
            },
            "type": "scattercarpet"
           }
          ],
          "scattergeo": [
           {
            "marker": {
             "colorbar": {
              "outlinewidth": 0,
              "ticks": ""
             }
            },
            "type": "scattergeo"
           }
          ],
          "scattergl": [
           {
            "marker": {
             "line": {
              "color": "#283442"
             }
            },
            "type": "scattergl"
           }
          ],
          "scattermapbox": [
           {
            "marker": {
             "colorbar": {
              "outlinewidth": 0,
              "ticks": ""
             }
            },
            "type": "scattermapbox"
           }
          ],
          "scatterpolar": [
           {
            "marker": {
             "colorbar": {
              "outlinewidth": 0,
              "ticks": ""
             }
            },
            "type": "scatterpolar"
           }
          ],
          "scatterpolargl": [
           {
            "marker": {
             "colorbar": {
              "outlinewidth": 0,
              "ticks": ""
             }
            },
            "type": "scatterpolargl"
           }
          ],
          "scatterternary": [
           {
            "marker": {
             "colorbar": {
              "outlinewidth": 0,
              "ticks": ""
             }
            },
            "type": "scatterternary"
           }
          ],
          "surface": [
           {
            "colorbar": {
             "outlinewidth": 0,
             "ticks": ""
            },
            "colorscale": [
             [
              0,
              "#0d0887"
             ],
             [
              0.1111111111111111,
              "#46039f"
             ],
             [
              0.2222222222222222,
              "#7201a8"
             ],
             [
              0.3333333333333333,
              "#9c179e"
             ],
             [
              0.4444444444444444,
              "#bd3786"
             ],
             [
              0.5555555555555556,
              "#d8576b"
             ],
             [
              0.6666666666666666,
              "#ed7953"
             ],
             [
              0.7777777777777778,
              "#fb9f3a"
             ],
             [
              0.8888888888888888,
              "#fdca26"
             ],
             [
              1,
              "#f0f921"
             ]
            ],
            "type": "surface"
           }
          ],
          "table": [
           {
            "cells": {
             "fill": {
              "color": "#506784"
             },
             "line": {
              "color": "rgb(17,17,17)"
             }
            },
            "header": {
             "fill": {
              "color": "#2a3f5f"
             },
             "line": {
              "color": "rgb(17,17,17)"
             }
            },
            "type": "table"
           }
          ]
         },
         "layout": {
          "annotationdefaults": {
           "arrowcolor": "#f2f5fa",
           "arrowhead": 0,
           "arrowwidth": 1
          },
          "autotypenumbers": "strict",
          "coloraxis": {
           "colorbar": {
            "outlinewidth": 0,
            "ticks": ""
           }
          },
          "colorscale": {
           "diverging": [
            [
             0,
             "#8e0152"
            ],
            [
             0.1,
             "#c51b7d"
            ],
            [
             0.2,
             "#de77ae"
            ],
            [
             0.3,
             "#f1b6da"
            ],
            [
             0.4,
             "#fde0ef"
            ],
            [
             0.5,
             "#f7f7f7"
            ],
            [
             0.6,
             "#e6f5d0"
            ],
            [
             0.7,
             "#b8e186"
            ],
            [
             0.8,
             "#7fbc41"
            ],
            [
             0.9,
             "#4d9221"
            ],
            [
             1,
             "#276419"
            ]
           ],
           "sequential": [
            [
             0,
             "#0d0887"
            ],
            [
             0.1111111111111111,
             "#46039f"
            ],
            [
             0.2222222222222222,
             "#7201a8"
            ],
            [
             0.3333333333333333,
             "#9c179e"
            ],
            [
             0.4444444444444444,
             "#bd3786"
            ],
            [
             0.5555555555555556,
             "#d8576b"
            ],
            [
             0.6666666666666666,
             "#ed7953"
            ],
            [
             0.7777777777777778,
             "#fb9f3a"
            ],
            [
             0.8888888888888888,
             "#fdca26"
            ],
            [
             1,
             "#f0f921"
            ]
           ],
           "sequentialminus": [
            [
             0,
             "#0d0887"
            ],
            [
             0.1111111111111111,
             "#46039f"
            ],
            [
             0.2222222222222222,
             "#7201a8"
            ],
            [
             0.3333333333333333,
             "#9c179e"
            ],
            [
             0.4444444444444444,
             "#bd3786"
            ],
            [
             0.5555555555555556,
             "#d8576b"
            ],
            [
             0.6666666666666666,
             "#ed7953"
            ],
            [
             0.7777777777777778,
             "#fb9f3a"
            ],
            [
             0.8888888888888888,
             "#fdca26"
            ],
            [
             1,
             "#f0f921"
            ]
           ]
          },
          "colorway": [
           "#636efa",
           "#EF553B",
           "#00cc96",
           "#ab63fa",
           "#FFA15A",
           "#19d3f3",
           "#FF6692",
           "#B6E880",
           "#FF97FF",
           "#FECB52"
          ],
          "font": {
           "color": "#f2f5fa"
          },
          "geo": {
           "bgcolor": "rgb(17,17,17)",
           "lakecolor": "rgb(17,17,17)",
           "landcolor": "rgb(17,17,17)",
           "showlakes": true,
           "showland": true,
           "subunitcolor": "#506784"
          },
          "hoverlabel": {
           "align": "left"
          },
          "hovermode": "closest",
          "mapbox": {
           "style": "dark"
          },
          "paper_bgcolor": "rgb(17,17,17)",
          "plot_bgcolor": "rgb(17,17,17)",
          "polar": {
           "angularaxis": {
            "gridcolor": "#506784",
            "linecolor": "#506784",
            "ticks": ""
           },
           "bgcolor": "rgb(17,17,17)",
           "radialaxis": {
            "gridcolor": "#506784",
            "linecolor": "#506784",
            "ticks": ""
           }
          },
          "scene": {
           "xaxis": {
            "backgroundcolor": "rgb(17,17,17)",
            "gridcolor": "#506784",
            "gridwidth": 2,
            "linecolor": "#506784",
            "showbackground": true,
            "ticks": "",
            "zerolinecolor": "#C8D4E3"
           },
           "yaxis": {
            "backgroundcolor": "rgb(17,17,17)",
            "gridcolor": "#506784",
            "gridwidth": 2,
            "linecolor": "#506784",
            "showbackground": true,
            "ticks": "",
            "zerolinecolor": "#C8D4E3"
           },
           "zaxis": {
            "backgroundcolor": "rgb(17,17,17)",
            "gridcolor": "#506784",
            "gridwidth": 2,
            "linecolor": "#506784",
            "showbackground": true,
            "ticks": "",
            "zerolinecolor": "#C8D4E3"
           }
          },
          "shapedefaults": {
           "line": {
            "color": "#f2f5fa"
           }
          },
          "sliderdefaults": {
           "bgcolor": "#C8D4E3",
           "bordercolor": "rgb(17,17,17)",
           "borderwidth": 1,
           "tickwidth": 0
          },
          "ternary": {
           "aaxis": {
            "gridcolor": "#506784",
            "linecolor": "#506784",
            "ticks": ""
           },
           "baxis": {
            "gridcolor": "#506784",
            "linecolor": "#506784",
            "ticks": ""
           },
           "bgcolor": "rgb(17,17,17)",
           "caxis": {
            "gridcolor": "#506784",
            "linecolor": "#506784",
            "ticks": ""
           }
          },
          "title": {
           "x": 0.05
          },
          "updatemenudefaults": {
           "bgcolor": "#506784",
           "borderwidth": 0
          },
          "xaxis": {
           "automargin": true,
           "gridcolor": "#283442",
           "linecolor": "#506784",
           "ticks": "",
           "title": {
            "standoff": 15
           },
           "zerolinecolor": "#283442",
           "zerolinewidth": 2
          },
          "yaxis": {
           "automargin": true,
           "gridcolor": "#283442",
           "linecolor": "#506784",
           "ticks": "",
           "title": {
            "standoff": 15
           },
           "zerolinecolor": "#283442",
           "zerolinewidth": 2
          }
         }
        },
        "title": {
         "text": "Sentiment over Week"
        },
        "xaxis": {
         "tickangle": -45,
         "title": {
          "text": "Week Days"
         }
        },
        "yaxis": {
         "showgrid": false,
         "showticklabels": true,
         "title": {
          "text": "Number of Tweets"
         },
         "visible": true
        }
       }
      },
      "text/html": [
       "<div>                            <div id=\"95609ab8-bd3b-407f-a474-0134f5be8846\" class=\"plotly-graph-div\" style=\"height:525px; width:100%;\"></div>            <script type=\"text/javascript\">                require([\"plotly\"], function(Plotly) {                    window.PLOTLYENV=window.PLOTLYENV || {};                                    if (document.getElementById(\"95609ab8-bd3b-407f-a474-0134f5be8846\")) {                    Plotly.newPlot(                        \"95609ab8-bd3b-407f-a474-0134f5be8846\",                        [{\"mode\": \"lines\", \"name\": \"Positive Sentiment\", \"type\": \"scatter\", \"x\": [\"Monday\", \"Tuesday\", \"Wednesday\", \"Thursday\", \"Friday\", \"Saturday\", \"Sunday\"], \"y\": [2334, 2768, 3247, 2625, 2392, 3370, 2778]}, {\"mode\": \"lines\", \"name\": \"Negative Sentiment\", \"type\": \"scatter\", \"x\": [\"Monday\", \"Tuesday\", \"Wednesday\", \"Thursday\", \"Friday\", \"Saturday\", \"Sunday\"], \"y\": [1055, 1415, 1420, 1081, 970, 1337, 1076]}, {\"mode\": \"lines\", \"name\": \"Neutral Sentiment\", \"type\": \"scatter\", \"x\": [\"Monday\", \"Tuesday\", \"Wednesday\", \"Thursday\", \"Friday\", \"Saturday\", \"Sunday\"], \"y\": [1954, 2393, 2642, 2134, 2053, 2759, 2376]}],                        {\"font\": {\"size\": 15}, \"template\": {\"data\": {\"bar\": [{\"error_x\": {\"color\": \"#f2f5fa\"}, \"error_y\": {\"color\": \"#f2f5fa\"}, \"marker\": {\"line\": {\"color\": \"rgb(17,17,17)\", \"width\": 0.5}}, \"type\": \"bar\"}], \"barpolar\": [{\"marker\": {\"line\": {\"color\": \"rgb(17,17,17)\", \"width\": 0.5}}, \"type\": \"barpolar\"}], \"carpet\": [{\"aaxis\": {\"endlinecolor\": \"#A2B1C6\", \"gridcolor\": \"#506784\", \"linecolor\": \"#506784\", \"minorgridcolor\": \"#506784\", \"startlinecolor\": \"#A2B1C6\"}, \"baxis\": {\"endlinecolor\": \"#A2B1C6\", \"gridcolor\": \"#506784\", \"linecolor\": \"#506784\", \"minorgridcolor\": \"#506784\", \"startlinecolor\": \"#A2B1C6\"}, \"type\": \"carpet\"}], \"choropleth\": [{\"colorbar\": {\"outlinewidth\": 0, \"ticks\": \"\"}, \"type\": \"choropleth\"}], \"contour\": [{\"colorbar\": {\"outlinewidth\": 0, \"ticks\": \"\"}, \"colorscale\": [[0.0, \"#0d0887\"], [0.1111111111111111, \"#46039f\"], [0.2222222222222222, \"#7201a8\"], [0.3333333333333333, \"#9c179e\"], [0.4444444444444444, \"#bd3786\"], [0.5555555555555556, \"#d8576b\"], [0.6666666666666666, \"#ed7953\"], [0.7777777777777778, \"#fb9f3a\"], [0.8888888888888888, \"#fdca26\"], [1.0, \"#f0f921\"]], \"type\": \"contour\"}], \"contourcarpet\": [{\"colorbar\": {\"outlinewidth\": 0, \"ticks\": \"\"}, \"type\": \"contourcarpet\"}], \"heatmap\": [{\"colorbar\": {\"outlinewidth\": 0, \"ticks\": \"\"}, \"colorscale\": [[0.0, \"#0d0887\"], [0.1111111111111111, \"#46039f\"], [0.2222222222222222, \"#7201a8\"], [0.3333333333333333, \"#9c179e\"], [0.4444444444444444, \"#bd3786\"], [0.5555555555555556, \"#d8576b\"], [0.6666666666666666, \"#ed7953\"], [0.7777777777777778, \"#fb9f3a\"], [0.8888888888888888, \"#fdca26\"], [1.0, \"#f0f921\"]], \"type\": \"heatmap\"}], \"heatmapgl\": [{\"colorbar\": {\"outlinewidth\": 0, \"ticks\": \"\"}, \"colorscale\": [[0.0, \"#0d0887\"], [0.1111111111111111, \"#46039f\"], [0.2222222222222222, \"#7201a8\"], [0.3333333333333333, \"#9c179e\"], [0.4444444444444444, \"#bd3786\"], [0.5555555555555556, \"#d8576b\"], [0.6666666666666666, \"#ed7953\"], [0.7777777777777778, \"#fb9f3a\"], [0.8888888888888888, \"#fdca26\"], [1.0, \"#f0f921\"]], \"type\": \"heatmapgl\"}], \"histogram\": [{\"marker\": {\"colorbar\": {\"outlinewidth\": 0, \"ticks\": \"\"}}, \"type\": \"histogram\"}], \"histogram2d\": [{\"colorbar\": {\"outlinewidth\": 0, \"ticks\": \"\"}, \"colorscale\": [[0.0, \"#0d0887\"], [0.1111111111111111, \"#46039f\"], [0.2222222222222222, \"#7201a8\"], [0.3333333333333333, \"#9c179e\"], [0.4444444444444444, \"#bd3786\"], [0.5555555555555556, \"#d8576b\"], [0.6666666666666666, \"#ed7953\"], [0.7777777777777778, \"#fb9f3a\"], [0.8888888888888888, \"#fdca26\"], [1.0, \"#f0f921\"]], \"type\": \"histogram2d\"}], \"histogram2dcontour\": [{\"colorbar\": {\"outlinewidth\": 0, \"ticks\": \"\"}, \"colorscale\": [[0.0, \"#0d0887\"], [0.1111111111111111, \"#46039f\"], [0.2222222222222222, \"#7201a8\"], [0.3333333333333333, \"#9c179e\"], [0.4444444444444444, \"#bd3786\"], [0.5555555555555556, \"#d8576b\"], [0.6666666666666666, \"#ed7953\"], [0.7777777777777778, \"#fb9f3a\"], [0.8888888888888888, \"#fdca26\"], [1.0, \"#f0f921\"]], \"type\": \"histogram2dcontour\"}], \"mesh3d\": [{\"colorbar\": {\"outlinewidth\": 0, \"ticks\": \"\"}, \"type\": \"mesh3d\"}], \"parcoords\": [{\"line\": {\"colorbar\": {\"outlinewidth\": 0, \"ticks\": \"\"}}, \"type\": \"parcoords\"}], \"pie\": [{\"automargin\": true, \"type\": \"pie\"}], \"scatter\": [{\"marker\": {\"line\": {\"color\": \"#283442\"}}, \"type\": \"scatter\"}], \"scatter3d\": [{\"line\": {\"colorbar\": {\"outlinewidth\": 0, \"ticks\": \"\"}}, \"marker\": {\"colorbar\": {\"outlinewidth\": 0, \"ticks\": \"\"}}, \"type\": \"scatter3d\"}], \"scattercarpet\": [{\"marker\": {\"colorbar\": {\"outlinewidth\": 0, \"ticks\": \"\"}}, \"type\": \"scattercarpet\"}], \"scattergeo\": [{\"marker\": {\"colorbar\": {\"outlinewidth\": 0, \"ticks\": \"\"}}, \"type\": \"scattergeo\"}], \"scattergl\": [{\"marker\": {\"line\": {\"color\": \"#283442\"}}, \"type\": \"scattergl\"}], \"scattermapbox\": [{\"marker\": {\"colorbar\": {\"outlinewidth\": 0, \"ticks\": \"\"}}, \"type\": \"scattermapbox\"}], \"scatterpolar\": [{\"marker\": {\"colorbar\": {\"outlinewidth\": 0, \"ticks\": \"\"}}, \"type\": \"scatterpolar\"}], \"scatterpolargl\": [{\"marker\": {\"colorbar\": {\"outlinewidth\": 0, \"ticks\": \"\"}}, \"type\": \"scatterpolargl\"}], \"scatterternary\": [{\"marker\": {\"colorbar\": {\"outlinewidth\": 0, \"ticks\": \"\"}}, \"type\": \"scatterternary\"}], \"surface\": [{\"colorbar\": {\"outlinewidth\": 0, \"ticks\": \"\"}, \"colorscale\": [[0.0, \"#0d0887\"], [0.1111111111111111, \"#46039f\"], [0.2222222222222222, \"#7201a8\"], [0.3333333333333333, \"#9c179e\"], [0.4444444444444444, \"#bd3786\"], [0.5555555555555556, \"#d8576b\"], [0.6666666666666666, \"#ed7953\"], [0.7777777777777778, \"#fb9f3a\"], [0.8888888888888888, \"#fdca26\"], [1.0, \"#f0f921\"]], \"type\": \"surface\"}], \"table\": [{\"cells\": {\"fill\": {\"color\": \"#506784\"}, \"line\": {\"color\": \"rgb(17,17,17)\"}}, \"header\": {\"fill\": {\"color\": \"#2a3f5f\"}, \"line\": {\"color\": \"rgb(17,17,17)\"}}, \"type\": \"table\"}]}, \"layout\": {\"annotationdefaults\": {\"arrowcolor\": \"#f2f5fa\", \"arrowhead\": 0, \"arrowwidth\": 1}, \"autotypenumbers\": \"strict\", \"coloraxis\": {\"colorbar\": {\"outlinewidth\": 0, \"ticks\": \"\"}}, \"colorscale\": {\"diverging\": [[0, \"#8e0152\"], [0.1, \"#c51b7d\"], [0.2, \"#de77ae\"], [0.3, \"#f1b6da\"], [0.4, \"#fde0ef\"], [0.5, \"#f7f7f7\"], [0.6, \"#e6f5d0\"], [0.7, \"#b8e186\"], [0.8, \"#7fbc41\"], [0.9, \"#4d9221\"], [1, \"#276419\"]], \"sequential\": [[0.0, \"#0d0887\"], [0.1111111111111111, \"#46039f\"], [0.2222222222222222, \"#7201a8\"], [0.3333333333333333, \"#9c179e\"], [0.4444444444444444, \"#bd3786\"], [0.5555555555555556, \"#d8576b\"], [0.6666666666666666, \"#ed7953\"], [0.7777777777777778, \"#fb9f3a\"], [0.8888888888888888, \"#fdca26\"], [1.0, \"#f0f921\"]], \"sequentialminus\": [[0.0, \"#0d0887\"], [0.1111111111111111, \"#46039f\"], [0.2222222222222222, \"#7201a8\"], [0.3333333333333333, \"#9c179e\"], [0.4444444444444444, \"#bd3786\"], [0.5555555555555556, \"#d8576b\"], [0.6666666666666666, \"#ed7953\"], [0.7777777777777778, \"#fb9f3a\"], [0.8888888888888888, \"#fdca26\"], [1.0, \"#f0f921\"]]}, \"colorway\": [\"#636efa\", \"#EF553B\", \"#00cc96\", \"#ab63fa\", \"#FFA15A\", \"#19d3f3\", \"#FF6692\", \"#B6E880\", \"#FF97FF\", \"#FECB52\"], \"font\": {\"color\": \"#f2f5fa\"}, \"geo\": {\"bgcolor\": \"rgb(17,17,17)\", \"lakecolor\": \"rgb(17,17,17)\", \"landcolor\": \"rgb(17,17,17)\", \"showlakes\": true, \"showland\": true, \"subunitcolor\": \"#506784\"}, \"hoverlabel\": {\"align\": \"left\"}, \"hovermode\": \"closest\", \"mapbox\": {\"style\": \"dark\"}, \"paper_bgcolor\": \"rgb(17,17,17)\", \"plot_bgcolor\": \"rgb(17,17,17)\", \"polar\": {\"angularaxis\": {\"gridcolor\": \"#506784\", \"linecolor\": \"#506784\", \"ticks\": \"\"}, \"bgcolor\": \"rgb(17,17,17)\", \"radialaxis\": {\"gridcolor\": \"#506784\", \"linecolor\": \"#506784\", \"ticks\": \"\"}}, \"scene\": {\"xaxis\": {\"backgroundcolor\": \"rgb(17,17,17)\", \"gridcolor\": \"#506784\", \"gridwidth\": 2, \"linecolor\": \"#506784\", \"showbackground\": true, \"ticks\": \"\", \"zerolinecolor\": \"#C8D4E3\"}, \"yaxis\": {\"backgroundcolor\": \"rgb(17,17,17)\", \"gridcolor\": \"#506784\", \"gridwidth\": 2, \"linecolor\": \"#506784\", \"showbackground\": true, \"ticks\": \"\", \"zerolinecolor\": \"#C8D4E3\"}, \"zaxis\": {\"backgroundcolor\": \"rgb(17,17,17)\", \"gridcolor\": \"#506784\", \"gridwidth\": 2, \"linecolor\": \"#506784\", \"showbackground\": true, \"ticks\": \"\", \"zerolinecolor\": \"#C8D4E3\"}}, \"shapedefaults\": {\"line\": {\"color\": \"#f2f5fa\"}}, \"sliderdefaults\": {\"bgcolor\": \"#C8D4E3\", \"bordercolor\": \"rgb(17,17,17)\", \"borderwidth\": 1, \"tickwidth\": 0}, \"ternary\": {\"aaxis\": {\"gridcolor\": \"#506784\", \"linecolor\": \"#506784\", \"ticks\": \"\"}, \"baxis\": {\"gridcolor\": \"#506784\", \"linecolor\": \"#506784\", \"ticks\": \"\"}, \"bgcolor\": \"rgb(17,17,17)\", \"caxis\": {\"gridcolor\": \"#506784\", \"linecolor\": \"#506784\", \"ticks\": \"\"}}, \"title\": {\"x\": 0.05}, \"updatemenudefaults\": {\"bgcolor\": \"#506784\", \"borderwidth\": 0}, \"xaxis\": {\"automargin\": true, \"gridcolor\": \"#283442\", \"linecolor\": \"#506784\", \"ticks\": \"\", \"title\": {\"standoff\": 15}, \"zerolinecolor\": \"#283442\", \"zerolinewidth\": 2}, \"yaxis\": {\"automargin\": true, \"gridcolor\": \"#283442\", \"linecolor\": \"#506784\", \"ticks\": \"\", \"title\": {\"standoff\": 15}, \"zerolinecolor\": \"#283442\", \"zerolinewidth\": 2}}}, \"title\": {\"text\": \"Sentiment over Week\"}, \"xaxis\": {\"tickangle\": -45, \"title\": {\"text\": \"Week Days\"}}, \"yaxis\": {\"showgrid\": false, \"showticklabels\": true, \"title\": {\"text\": \"Number of Tweets\"}, \"visible\": true}},                        {\"responsive\": true}                    ).then(function(){\n",
       "                            \n",
       "var gd = document.getElementById('95609ab8-bd3b-407f-a474-0134f5be8846');\n",
       "var x = new MutationObserver(function (mutations, observer) {{\n",
       "        var display = window.getComputedStyle(gd).display;\n",
       "        if (!display || display === 'none') {{\n",
       "            console.log([gd, 'removed!']);\n",
       "            Plotly.purge(gd);\n",
       "            observer.disconnect();\n",
       "        }}\n",
       "}});\n",
       "\n",
       "// Listen for the removal of the full notebook cells\n",
       "var notebookContainer = gd.closest('#notebook-container');\n",
       "if (notebookContainer) {{\n",
       "    x.observe(notebookContainer, {childList: true});\n",
       "}}\n",
       "\n",
       "// Listen for the clearing of the current output cell\n",
       "var outputEl = gd.closest('.output');\n",
       "if (outputEl) {{\n",
       "    x.observe(outputEl, {childList: true});\n",
       "}}\n",
       "\n",
       "                        })                };                });            </script>        </div>"
      ]
     },
     "metadata": {},
     "output_type": "display_data"
    }
   ],
   "source": [
    "fig = go.Figure()\n",
    "fig.add_trace(go.Scatter(x=days, \n",
    "                         y=values_pos,\n",
    "                         mode='lines',\n",
    "                         name='Positive Sentiment'\n",
    "                    ))\n",
    "\n",
    "fig.add_trace(go.Scatter(x=days, \n",
    "                         y=values_neg,\n",
    "                         mode='lines',\n",
    "                         name='Negative Sentiment'\n",
    "                    ))\n",
    "\n",
    "fig.add_trace(go.Scatter(x=days, \n",
    "                         y=values_neu,\n",
    "                         mode='lines',\n",
    "                         name='Neutral Sentiment'\n",
    "                    ))\n",
    "\n",
    "fig.update_layout(xaxis_tickangle=-45,\n",
    "                  font=dict(size=15),\n",
    "                  yaxis={'visible': True, 'showticklabels': True, 'showgrid': False},\n",
    "                  xaxis_title='Week Days',\n",
    "                  yaxis_title='Number of Tweets',\n",
    "                  template='plotly_dark', \n",
    "                  title='Sentiment over Week'\n",
    "                 )"
   ]
  },
  {
   "cell_type": "code",
   "execution_count": 29,
   "metadata": {},
   "outputs": [],
   "source": [
    "temp4 = positive.groupby(positive.index.day).count()['text_sentiment']\n",
    "temp5 = negative.groupby(negative.index.day).count()['text_sentiment']\n",
    "temp6 = neutral.groupby(neutral.index.day).count()['text_sentiment']"
   ]
  },
  {
   "cell_type": "code",
   "execution_count": 61,
   "metadata": {},
   "outputs": [
    {
     "data": {
      "application/vnd.plotly.v1+json": {
       "config": {
        "plotlyServerURL": "https://plot.ly"
       },
       "data": [
        {
         "mode": "lines",
         "name": "Positive Sentiment",
         "type": "scatter",
         "x": [
          1,
          2,
          3,
          4,
          5,
          6,
          7,
          14,
          15,
          16,
          17,
          18,
          19,
          20,
          21,
          25,
          26,
          27,
          28,
          29,
          30,
          31
         ],
         "y": [
          1732,
          1444,
          1172,
          1002,
          833,
          769,
          144,
          632,
          632,
          778,
          591,
          1043,
          946,
          770,
          212,
          805,
          1281,
          1110,
          1305,
          660,
          562,
          1091
         ]
        },
        {
         "mode": "lines",
         "name": "Negative Sentiment",
         "type": "scatter",
         "x": [
          1,
          2,
          3,
          4,
          5,
          6,
          7,
          14,
          15,
          16,
          17,
          18,
          19,
          20,
          21,
          25,
          26,
          27,
          28,
          29,
          30,
          31
         ],
         "y": [
          749,
          548,
          375,
          458,
          364,
          292,
          54,
          305,
          312,
          315,
          258,
          363,
          350,
          308,
          93,
          310,
          537,
          469,
          601,
          351,
          289,
          653
         ]
        },
        {
         "mode": "lines",
         "name": "Neutral Sentiment",
         "type": "scatter",
         "x": [
          1,
          2,
          3,
          4,
          5,
          6,
          7,
          14,
          15,
          16,
          17,
          18,
          19,
          20,
          21,
          25,
          26,
          27,
          28,
          29,
          30,
          31
         ],
         "y": [
          1472,
          1176,
          1013,
          844,
          724,
          614,
          100,
          447,
          475,
          594,
          428,
          874,
          838,
          633,
          168,
          674,
          1070,
          1032,
          1079,
          525,
          477,
          1054
         ]
        }
       ],
       "layout": {
        "font": {
         "size": 15
        },
        "hovermode": "x",
        "template": {
         "data": {
          "bar": [
           {
            "error_x": {
             "color": "#f2f5fa"
            },
            "error_y": {
             "color": "#f2f5fa"
            },
            "marker": {
             "line": {
              "color": "rgb(17,17,17)",
              "width": 0.5
             }
            },
            "type": "bar"
           }
          ],
          "barpolar": [
           {
            "marker": {
             "line": {
              "color": "rgb(17,17,17)",
              "width": 0.5
             }
            },
            "type": "barpolar"
           }
          ],
          "carpet": [
           {
            "aaxis": {
             "endlinecolor": "#A2B1C6",
             "gridcolor": "#506784",
             "linecolor": "#506784",
             "minorgridcolor": "#506784",
             "startlinecolor": "#A2B1C6"
            },
            "baxis": {
             "endlinecolor": "#A2B1C6",
             "gridcolor": "#506784",
             "linecolor": "#506784",
             "minorgridcolor": "#506784",
             "startlinecolor": "#A2B1C6"
            },
            "type": "carpet"
           }
          ],
          "choropleth": [
           {
            "colorbar": {
             "outlinewidth": 0,
             "ticks": ""
            },
            "type": "choropleth"
           }
          ],
          "contour": [
           {
            "colorbar": {
             "outlinewidth": 0,
             "ticks": ""
            },
            "colorscale": [
             [
              0,
              "#0d0887"
             ],
             [
              0.1111111111111111,
              "#46039f"
             ],
             [
              0.2222222222222222,
              "#7201a8"
             ],
             [
              0.3333333333333333,
              "#9c179e"
             ],
             [
              0.4444444444444444,
              "#bd3786"
             ],
             [
              0.5555555555555556,
              "#d8576b"
             ],
             [
              0.6666666666666666,
              "#ed7953"
             ],
             [
              0.7777777777777778,
              "#fb9f3a"
             ],
             [
              0.8888888888888888,
              "#fdca26"
             ],
             [
              1,
              "#f0f921"
             ]
            ],
            "type": "contour"
           }
          ],
          "contourcarpet": [
           {
            "colorbar": {
             "outlinewidth": 0,
             "ticks": ""
            },
            "type": "contourcarpet"
           }
          ],
          "heatmap": [
           {
            "colorbar": {
             "outlinewidth": 0,
             "ticks": ""
            },
            "colorscale": [
             [
              0,
              "#0d0887"
             ],
             [
              0.1111111111111111,
              "#46039f"
             ],
             [
              0.2222222222222222,
              "#7201a8"
             ],
             [
              0.3333333333333333,
              "#9c179e"
             ],
             [
              0.4444444444444444,
              "#bd3786"
             ],
             [
              0.5555555555555556,
              "#d8576b"
             ],
             [
              0.6666666666666666,
              "#ed7953"
             ],
             [
              0.7777777777777778,
              "#fb9f3a"
             ],
             [
              0.8888888888888888,
              "#fdca26"
             ],
             [
              1,
              "#f0f921"
             ]
            ],
            "type": "heatmap"
           }
          ],
          "heatmapgl": [
           {
            "colorbar": {
             "outlinewidth": 0,
             "ticks": ""
            },
            "colorscale": [
             [
              0,
              "#0d0887"
             ],
             [
              0.1111111111111111,
              "#46039f"
             ],
             [
              0.2222222222222222,
              "#7201a8"
             ],
             [
              0.3333333333333333,
              "#9c179e"
             ],
             [
              0.4444444444444444,
              "#bd3786"
             ],
             [
              0.5555555555555556,
              "#d8576b"
             ],
             [
              0.6666666666666666,
              "#ed7953"
             ],
             [
              0.7777777777777778,
              "#fb9f3a"
             ],
             [
              0.8888888888888888,
              "#fdca26"
             ],
             [
              1,
              "#f0f921"
             ]
            ],
            "type": "heatmapgl"
           }
          ],
          "histogram": [
           {
            "marker": {
             "colorbar": {
              "outlinewidth": 0,
              "ticks": ""
             }
            },
            "type": "histogram"
           }
          ],
          "histogram2d": [
           {
            "colorbar": {
             "outlinewidth": 0,
             "ticks": ""
            },
            "colorscale": [
             [
              0,
              "#0d0887"
             ],
             [
              0.1111111111111111,
              "#46039f"
             ],
             [
              0.2222222222222222,
              "#7201a8"
             ],
             [
              0.3333333333333333,
              "#9c179e"
             ],
             [
              0.4444444444444444,
              "#bd3786"
             ],
             [
              0.5555555555555556,
              "#d8576b"
             ],
             [
              0.6666666666666666,
              "#ed7953"
             ],
             [
              0.7777777777777778,
              "#fb9f3a"
             ],
             [
              0.8888888888888888,
              "#fdca26"
             ],
             [
              1,
              "#f0f921"
             ]
            ],
            "type": "histogram2d"
           }
          ],
          "histogram2dcontour": [
           {
            "colorbar": {
             "outlinewidth": 0,
             "ticks": ""
            },
            "colorscale": [
             [
              0,
              "#0d0887"
             ],
             [
              0.1111111111111111,
              "#46039f"
             ],
             [
              0.2222222222222222,
              "#7201a8"
             ],
             [
              0.3333333333333333,
              "#9c179e"
             ],
             [
              0.4444444444444444,
              "#bd3786"
             ],
             [
              0.5555555555555556,
              "#d8576b"
             ],
             [
              0.6666666666666666,
              "#ed7953"
             ],
             [
              0.7777777777777778,
              "#fb9f3a"
             ],
             [
              0.8888888888888888,
              "#fdca26"
             ],
             [
              1,
              "#f0f921"
             ]
            ],
            "type": "histogram2dcontour"
           }
          ],
          "mesh3d": [
           {
            "colorbar": {
             "outlinewidth": 0,
             "ticks": ""
            },
            "type": "mesh3d"
           }
          ],
          "parcoords": [
           {
            "line": {
             "colorbar": {
              "outlinewidth": 0,
              "ticks": ""
             }
            },
            "type": "parcoords"
           }
          ],
          "pie": [
           {
            "automargin": true,
            "type": "pie"
           }
          ],
          "scatter": [
           {
            "marker": {
             "line": {
              "color": "#283442"
             }
            },
            "type": "scatter"
           }
          ],
          "scatter3d": [
           {
            "line": {
             "colorbar": {
              "outlinewidth": 0,
              "ticks": ""
             }
            },
            "marker": {
             "colorbar": {
              "outlinewidth": 0,
              "ticks": ""
             }
            },
            "type": "scatter3d"
           }
          ],
          "scattercarpet": [
           {
            "marker": {
             "colorbar": {
              "outlinewidth": 0,
              "ticks": ""
             }
            },
            "type": "scattercarpet"
           }
          ],
          "scattergeo": [
           {
            "marker": {
             "colorbar": {
              "outlinewidth": 0,
              "ticks": ""
             }
            },
            "type": "scattergeo"
           }
          ],
          "scattergl": [
           {
            "marker": {
             "line": {
              "color": "#283442"
             }
            },
            "type": "scattergl"
           }
          ],
          "scattermapbox": [
           {
            "marker": {
             "colorbar": {
              "outlinewidth": 0,
              "ticks": ""
             }
            },
            "type": "scattermapbox"
           }
          ],
          "scatterpolar": [
           {
            "marker": {
             "colorbar": {
              "outlinewidth": 0,
              "ticks": ""
             }
            },
            "type": "scatterpolar"
           }
          ],
          "scatterpolargl": [
           {
            "marker": {
             "colorbar": {
              "outlinewidth": 0,
              "ticks": ""
             }
            },
            "type": "scatterpolargl"
           }
          ],
          "scatterternary": [
           {
            "marker": {
             "colorbar": {
              "outlinewidth": 0,
              "ticks": ""
             }
            },
            "type": "scatterternary"
           }
          ],
          "surface": [
           {
            "colorbar": {
             "outlinewidth": 0,
             "ticks": ""
            },
            "colorscale": [
             [
              0,
              "#0d0887"
             ],
             [
              0.1111111111111111,
              "#46039f"
             ],
             [
              0.2222222222222222,
              "#7201a8"
             ],
             [
              0.3333333333333333,
              "#9c179e"
             ],
             [
              0.4444444444444444,
              "#bd3786"
             ],
             [
              0.5555555555555556,
              "#d8576b"
             ],
             [
              0.6666666666666666,
              "#ed7953"
             ],
             [
              0.7777777777777778,
              "#fb9f3a"
             ],
             [
              0.8888888888888888,
              "#fdca26"
             ],
             [
              1,
              "#f0f921"
             ]
            ],
            "type": "surface"
           }
          ],
          "table": [
           {
            "cells": {
             "fill": {
              "color": "#506784"
             },
             "line": {
              "color": "rgb(17,17,17)"
             }
            },
            "header": {
             "fill": {
              "color": "#2a3f5f"
             },
             "line": {
              "color": "rgb(17,17,17)"
             }
            },
            "type": "table"
           }
          ]
         },
         "layout": {
          "annotationdefaults": {
           "arrowcolor": "#f2f5fa",
           "arrowhead": 0,
           "arrowwidth": 1
          },
          "autotypenumbers": "strict",
          "coloraxis": {
           "colorbar": {
            "outlinewidth": 0,
            "ticks": ""
           }
          },
          "colorscale": {
           "diverging": [
            [
             0,
             "#8e0152"
            ],
            [
             0.1,
             "#c51b7d"
            ],
            [
             0.2,
             "#de77ae"
            ],
            [
             0.3,
             "#f1b6da"
            ],
            [
             0.4,
             "#fde0ef"
            ],
            [
             0.5,
             "#f7f7f7"
            ],
            [
             0.6,
             "#e6f5d0"
            ],
            [
             0.7,
             "#b8e186"
            ],
            [
             0.8,
             "#7fbc41"
            ],
            [
             0.9,
             "#4d9221"
            ],
            [
             1,
             "#276419"
            ]
           ],
           "sequential": [
            [
             0,
             "#0d0887"
            ],
            [
             0.1111111111111111,
             "#46039f"
            ],
            [
             0.2222222222222222,
             "#7201a8"
            ],
            [
             0.3333333333333333,
             "#9c179e"
            ],
            [
             0.4444444444444444,
             "#bd3786"
            ],
            [
             0.5555555555555556,
             "#d8576b"
            ],
            [
             0.6666666666666666,
             "#ed7953"
            ],
            [
             0.7777777777777778,
             "#fb9f3a"
            ],
            [
             0.8888888888888888,
             "#fdca26"
            ],
            [
             1,
             "#f0f921"
            ]
           ],
           "sequentialminus": [
            [
             0,
             "#0d0887"
            ],
            [
             0.1111111111111111,
             "#46039f"
            ],
            [
             0.2222222222222222,
             "#7201a8"
            ],
            [
             0.3333333333333333,
             "#9c179e"
            ],
            [
             0.4444444444444444,
             "#bd3786"
            ],
            [
             0.5555555555555556,
             "#d8576b"
            ],
            [
             0.6666666666666666,
             "#ed7953"
            ],
            [
             0.7777777777777778,
             "#fb9f3a"
            ],
            [
             0.8888888888888888,
             "#fdca26"
            ],
            [
             1,
             "#f0f921"
            ]
           ]
          },
          "colorway": [
           "#636efa",
           "#EF553B",
           "#00cc96",
           "#ab63fa",
           "#FFA15A",
           "#19d3f3",
           "#FF6692",
           "#B6E880",
           "#FF97FF",
           "#FECB52"
          ],
          "font": {
           "color": "#f2f5fa"
          },
          "geo": {
           "bgcolor": "rgb(17,17,17)",
           "lakecolor": "rgb(17,17,17)",
           "landcolor": "rgb(17,17,17)",
           "showlakes": true,
           "showland": true,
           "subunitcolor": "#506784"
          },
          "hoverlabel": {
           "align": "left"
          },
          "hovermode": "closest",
          "mapbox": {
           "style": "dark"
          },
          "paper_bgcolor": "rgb(17,17,17)",
          "plot_bgcolor": "rgb(17,17,17)",
          "polar": {
           "angularaxis": {
            "gridcolor": "#506784",
            "linecolor": "#506784",
            "ticks": ""
           },
           "bgcolor": "rgb(17,17,17)",
           "radialaxis": {
            "gridcolor": "#506784",
            "linecolor": "#506784",
            "ticks": ""
           }
          },
          "scene": {
           "xaxis": {
            "backgroundcolor": "rgb(17,17,17)",
            "gridcolor": "#506784",
            "gridwidth": 2,
            "linecolor": "#506784",
            "showbackground": true,
            "ticks": "",
            "zerolinecolor": "#C8D4E3"
           },
           "yaxis": {
            "backgroundcolor": "rgb(17,17,17)",
            "gridcolor": "#506784",
            "gridwidth": 2,
            "linecolor": "#506784",
            "showbackground": true,
            "ticks": "",
            "zerolinecolor": "#C8D4E3"
           },
           "zaxis": {
            "backgroundcolor": "rgb(17,17,17)",
            "gridcolor": "#506784",
            "gridwidth": 2,
            "linecolor": "#506784",
            "showbackground": true,
            "ticks": "",
            "zerolinecolor": "#C8D4E3"
           }
          },
          "shapedefaults": {
           "line": {
            "color": "#f2f5fa"
           }
          },
          "sliderdefaults": {
           "bgcolor": "#C8D4E3",
           "bordercolor": "rgb(17,17,17)",
           "borderwidth": 1,
           "tickwidth": 0
          },
          "ternary": {
           "aaxis": {
            "gridcolor": "#506784",
            "linecolor": "#506784",
            "ticks": ""
           },
           "baxis": {
            "gridcolor": "#506784",
            "linecolor": "#506784",
            "ticks": ""
           },
           "bgcolor": "rgb(17,17,17)",
           "caxis": {
            "gridcolor": "#506784",
            "linecolor": "#506784",
            "ticks": ""
           }
          },
          "title": {
           "x": 0.05
          },
          "updatemenudefaults": {
           "bgcolor": "#506784",
           "borderwidth": 0
          },
          "xaxis": {
           "automargin": true,
           "gridcolor": "#283442",
           "linecolor": "#506784",
           "ticks": "",
           "title": {
            "standoff": 15
           },
           "zerolinecolor": "#283442",
           "zerolinewidth": 2
          },
          "yaxis": {
           "automargin": true,
           "gridcolor": "#283442",
           "linecolor": "#506784",
           "ticks": "",
           "title": {
            "standoff": 15
           },
           "zerolinecolor": "#283442",
           "zerolinewidth": 2
          }
         }
        },
        "title": {
         "text": "Sentiment over Days"
        },
        "xaxis": {
         "tickangle": -45,
         "title": {
          "text": "Days"
         }
        },
        "yaxis": {
         "showgrid": false,
         "showticklabels": true,
         "title": {
          "text": "Number of Tweets"
         },
         "visible": true
        }
       }
      },
      "text/html": [
       "<div>                            <div id=\"9e9cb728-2c79-4592-8439-c2d9e710e678\" class=\"plotly-graph-div\" style=\"height:525px; width:100%;\"></div>            <script type=\"text/javascript\">                require([\"plotly\"], function(Plotly) {                    window.PLOTLYENV=window.PLOTLYENV || {};                                    if (document.getElementById(\"9e9cb728-2c79-4592-8439-c2d9e710e678\")) {                    Plotly.newPlot(                        \"9e9cb728-2c79-4592-8439-c2d9e710e678\",                        [{\"mode\": \"lines\", \"name\": \"Positive Sentiment\", \"type\": \"scatter\", \"x\": [1, 2, 3, 4, 5, 6, 7, 14, 15, 16, 17, 18, 19, 20, 21, 25, 26, 27, 28, 29, 30, 31], \"y\": [1732, 1444, 1172, 1002, 833, 769, 144, 632, 632, 778, 591, 1043, 946, 770, 212, 805, 1281, 1110, 1305, 660, 562, 1091]}, {\"mode\": \"lines\", \"name\": \"Negative Sentiment\", \"type\": \"scatter\", \"x\": [1, 2, 3, 4, 5, 6, 7, 14, 15, 16, 17, 18, 19, 20, 21, 25, 26, 27, 28, 29, 30, 31], \"y\": [749, 548, 375, 458, 364, 292, 54, 305, 312, 315, 258, 363, 350, 308, 93, 310, 537, 469, 601, 351, 289, 653]}, {\"mode\": \"lines\", \"name\": \"Neutral Sentiment\", \"type\": \"scatter\", \"x\": [1, 2, 3, 4, 5, 6, 7, 14, 15, 16, 17, 18, 19, 20, 21, 25, 26, 27, 28, 29, 30, 31], \"y\": [1472, 1176, 1013, 844, 724, 614, 100, 447, 475, 594, 428, 874, 838, 633, 168, 674, 1070, 1032, 1079, 525, 477, 1054]}],                        {\"font\": {\"size\": 15}, \"hovermode\": \"x\", \"template\": {\"data\": {\"bar\": [{\"error_x\": {\"color\": \"#f2f5fa\"}, \"error_y\": {\"color\": \"#f2f5fa\"}, \"marker\": {\"line\": {\"color\": \"rgb(17,17,17)\", \"width\": 0.5}}, \"type\": \"bar\"}], \"barpolar\": [{\"marker\": {\"line\": {\"color\": \"rgb(17,17,17)\", \"width\": 0.5}}, \"type\": \"barpolar\"}], \"carpet\": [{\"aaxis\": {\"endlinecolor\": \"#A2B1C6\", \"gridcolor\": \"#506784\", \"linecolor\": \"#506784\", \"minorgridcolor\": \"#506784\", \"startlinecolor\": \"#A2B1C6\"}, \"baxis\": {\"endlinecolor\": \"#A2B1C6\", \"gridcolor\": \"#506784\", \"linecolor\": \"#506784\", \"minorgridcolor\": \"#506784\", \"startlinecolor\": \"#A2B1C6\"}, \"type\": \"carpet\"}], \"choropleth\": [{\"colorbar\": {\"outlinewidth\": 0, \"ticks\": \"\"}, \"type\": \"choropleth\"}], \"contour\": [{\"colorbar\": {\"outlinewidth\": 0, \"ticks\": \"\"}, \"colorscale\": [[0.0, \"#0d0887\"], [0.1111111111111111, \"#46039f\"], [0.2222222222222222, \"#7201a8\"], [0.3333333333333333, \"#9c179e\"], [0.4444444444444444, \"#bd3786\"], [0.5555555555555556, \"#d8576b\"], [0.6666666666666666, \"#ed7953\"], [0.7777777777777778, \"#fb9f3a\"], [0.8888888888888888, \"#fdca26\"], [1.0, \"#f0f921\"]], \"type\": \"contour\"}], \"contourcarpet\": [{\"colorbar\": {\"outlinewidth\": 0, \"ticks\": \"\"}, \"type\": \"contourcarpet\"}], \"heatmap\": [{\"colorbar\": {\"outlinewidth\": 0, \"ticks\": \"\"}, \"colorscale\": [[0.0, \"#0d0887\"], [0.1111111111111111, \"#46039f\"], [0.2222222222222222, \"#7201a8\"], [0.3333333333333333, \"#9c179e\"], [0.4444444444444444, \"#bd3786\"], [0.5555555555555556, \"#d8576b\"], [0.6666666666666666, \"#ed7953\"], [0.7777777777777778, \"#fb9f3a\"], [0.8888888888888888, \"#fdca26\"], [1.0, \"#f0f921\"]], \"type\": \"heatmap\"}], \"heatmapgl\": [{\"colorbar\": {\"outlinewidth\": 0, \"ticks\": \"\"}, \"colorscale\": [[0.0, \"#0d0887\"], [0.1111111111111111, \"#46039f\"], [0.2222222222222222, \"#7201a8\"], [0.3333333333333333, \"#9c179e\"], [0.4444444444444444, \"#bd3786\"], [0.5555555555555556, \"#d8576b\"], [0.6666666666666666, \"#ed7953\"], [0.7777777777777778, \"#fb9f3a\"], [0.8888888888888888, \"#fdca26\"], [1.0, \"#f0f921\"]], \"type\": \"heatmapgl\"}], \"histogram\": [{\"marker\": {\"colorbar\": {\"outlinewidth\": 0, \"ticks\": \"\"}}, \"type\": \"histogram\"}], \"histogram2d\": [{\"colorbar\": {\"outlinewidth\": 0, \"ticks\": \"\"}, \"colorscale\": [[0.0, \"#0d0887\"], [0.1111111111111111, \"#46039f\"], [0.2222222222222222, \"#7201a8\"], [0.3333333333333333, \"#9c179e\"], [0.4444444444444444, \"#bd3786\"], [0.5555555555555556, \"#d8576b\"], [0.6666666666666666, \"#ed7953\"], [0.7777777777777778, \"#fb9f3a\"], [0.8888888888888888, \"#fdca26\"], [1.0, \"#f0f921\"]], \"type\": \"histogram2d\"}], \"histogram2dcontour\": [{\"colorbar\": {\"outlinewidth\": 0, \"ticks\": \"\"}, \"colorscale\": [[0.0, \"#0d0887\"], [0.1111111111111111, \"#46039f\"], [0.2222222222222222, \"#7201a8\"], [0.3333333333333333, \"#9c179e\"], [0.4444444444444444, \"#bd3786\"], [0.5555555555555556, \"#d8576b\"], [0.6666666666666666, \"#ed7953\"], [0.7777777777777778, \"#fb9f3a\"], [0.8888888888888888, \"#fdca26\"], [1.0, \"#f0f921\"]], \"type\": \"histogram2dcontour\"}], \"mesh3d\": [{\"colorbar\": {\"outlinewidth\": 0, \"ticks\": \"\"}, \"type\": \"mesh3d\"}], \"parcoords\": [{\"line\": {\"colorbar\": {\"outlinewidth\": 0, \"ticks\": \"\"}}, \"type\": \"parcoords\"}], \"pie\": [{\"automargin\": true, \"type\": \"pie\"}], \"scatter\": [{\"marker\": {\"line\": {\"color\": \"#283442\"}}, \"type\": \"scatter\"}], \"scatter3d\": [{\"line\": {\"colorbar\": {\"outlinewidth\": 0, \"ticks\": \"\"}}, \"marker\": {\"colorbar\": {\"outlinewidth\": 0, \"ticks\": \"\"}}, \"type\": \"scatter3d\"}], \"scattercarpet\": [{\"marker\": {\"colorbar\": {\"outlinewidth\": 0, \"ticks\": \"\"}}, \"type\": \"scattercarpet\"}], \"scattergeo\": [{\"marker\": {\"colorbar\": {\"outlinewidth\": 0, \"ticks\": \"\"}}, \"type\": \"scattergeo\"}], \"scattergl\": [{\"marker\": {\"line\": {\"color\": \"#283442\"}}, \"type\": \"scattergl\"}], \"scattermapbox\": [{\"marker\": {\"colorbar\": {\"outlinewidth\": 0, \"ticks\": \"\"}}, \"type\": \"scattermapbox\"}], \"scatterpolar\": [{\"marker\": {\"colorbar\": {\"outlinewidth\": 0, \"ticks\": \"\"}}, \"type\": \"scatterpolar\"}], \"scatterpolargl\": [{\"marker\": {\"colorbar\": {\"outlinewidth\": 0, \"ticks\": \"\"}}, \"type\": \"scatterpolargl\"}], \"scatterternary\": [{\"marker\": {\"colorbar\": {\"outlinewidth\": 0, \"ticks\": \"\"}}, \"type\": \"scatterternary\"}], \"surface\": [{\"colorbar\": {\"outlinewidth\": 0, \"ticks\": \"\"}, \"colorscale\": [[0.0, \"#0d0887\"], [0.1111111111111111, \"#46039f\"], [0.2222222222222222, \"#7201a8\"], [0.3333333333333333, \"#9c179e\"], [0.4444444444444444, \"#bd3786\"], [0.5555555555555556, \"#d8576b\"], [0.6666666666666666, \"#ed7953\"], [0.7777777777777778, \"#fb9f3a\"], [0.8888888888888888, \"#fdca26\"], [1.0, \"#f0f921\"]], \"type\": \"surface\"}], \"table\": [{\"cells\": {\"fill\": {\"color\": \"#506784\"}, \"line\": {\"color\": \"rgb(17,17,17)\"}}, \"header\": {\"fill\": {\"color\": \"#2a3f5f\"}, \"line\": {\"color\": \"rgb(17,17,17)\"}}, \"type\": \"table\"}]}, \"layout\": {\"annotationdefaults\": {\"arrowcolor\": \"#f2f5fa\", \"arrowhead\": 0, \"arrowwidth\": 1}, \"autotypenumbers\": \"strict\", \"coloraxis\": {\"colorbar\": {\"outlinewidth\": 0, \"ticks\": \"\"}}, \"colorscale\": {\"diverging\": [[0, \"#8e0152\"], [0.1, \"#c51b7d\"], [0.2, \"#de77ae\"], [0.3, \"#f1b6da\"], [0.4, \"#fde0ef\"], [0.5, \"#f7f7f7\"], [0.6, \"#e6f5d0\"], [0.7, \"#b8e186\"], [0.8, \"#7fbc41\"], [0.9, \"#4d9221\"], [1, \"#276419\"]], \"sequential\": [[0.0, \"#0d0887\"], [0.1111111111111111, \"#46039f\"], [0.2222222222222222, \"#7201a8\"], [0.3333333333333333, \"#9c179e\"], [0.4444444444444444, \"#bd3786\"], [0.5555555555555556, \"#d8576b\"], [0.6666666666666666, \"#ed7953\"], [0.7777777777777778, \"#fb9f3a\"], [0.8888888888888888, \"#fdca26\"], [1.0, \"#f0f921\"]], \"sequentialminus\": [[0.0, \"#0d0887\"], [0.1111111111111111, \"#46039f\"], [0.2222222222222222, \"#7201a8\"], [0.3333333333333333, \"#9c179e\"], [0.4444444444444444, \"#bd3786\"], [0.5555555555555556, \"#d8576b\"], [0.6666666666666666, \"#ed7953\"], [0.7777777777777778, \"#fb9f3a\"], [0.8888888888888888, \"#fdca26\"], [1.0, \"#f0f921\"]]}, \"colorway\": [\"#636efa\", \"#EF553B\", \"#00cc96\", \"#ab63fa\", \"#FFA15A\", \"#19d3f3\", \"#FF6692\", \"#B6E880\", \"#FF97FF\", \"#FECB52\"], \"font\": {\"color\": \"#f2f5fa\"}, \"geo\": {\"bgcolor\": \"rgb(17,17,17)\", \"lakecolor\": \"rgb(17,17,17)\", \"landcolor\": \"rgb(17,17,17)\", \"showlakes\": true, \"showland\": true, \"subunitcolor\": \"#506784\"}, \"hoverlabel\": {\"align\": \"left\"}, \"hovermode\": \"closest\", \"mapbox\": {\"style\": \"dark\"}, \"paper_bgcolor\": \"rgb(17,17,17)\", \"plot_bgcolor\": \"rgb(17,17,17)\", \"polar\": {\"angularaxis\": {\"gridcolor\": \"#506784\", \"linecolor\": \"#506784\", \"ticks\": \"\"}, \"bgcolor\": \"rgb(17,17,17)\", \"radialaxis\": {\"gridcolor\": \"#506784\", \"linecolor\": \"#506784\", \"ticks\": \"\"}}, \"scene\": {\"xaxis\": {\"backgroundcolor\": \"rgb(17,17,17)\", \"gridcolor\": \"#506784\", \"gridwidth\": 2, \"linecolor\": \"#506784\", \"showbackground\": true, \"ticks\": \"\", \"zerolinecolor\": \"#C8D4E3\"}, \"yaxis\": {\"backgroundcolor\": \"rgb(17,17,17)\", \"gridcolor\": \"#506784\", \"gridwidth\": 2, \"linecolor\": \"#506784\", \"showbackground\": true, \"ticks\": \"\", \"zerolinecolor\": \"#C8D4E3\"}, \"zaxis\": {\"backgroundcolor\": \"rgb(17,17,17)\", \"gridcolor\": \"#506784\", \"gridwidth\": 2, \"linecolor\": \"#506784\", \"showbackground\": true, \"ticks\": \"\", \"zerolinecolor\": \"#C8D4E3\"}}, \"shapedefaults\": {\"line\": {\"color\": \"#f2f5fa\"}}, \"sliderdefaults\": {\"bgcolor\": \"#C8D4E3\", \"bordercolor\": \"rgb(17,17,17)\", \"borderwidth\": 1, \"tickwidth\": 0}, \"ternary\": {\"aaxis\": {\"gridcolor\": \"#506784\", \"linecolor\": \"#506784\", \"ticks\": \"\"}, \"baxis\": {\"gridcolor\": \"#506784\", \"linecolor\": \"#506784\", \"ticks\": \"\"}, \"bgcolor\": \"rgb(17,17,17)\", \"caxis\": {\"gridcolor\": \"#506784\", \"linecolor\": \"#506784\", \"ticks\": \"\"}}, \"title\": {\"x\": 0.05}, \"updatemenudefaults\": {\"bgcolor\": \"#506784\", \"borderwidth\": 0}, \"xaxis\": {\"automargin\": true, \"gridcolor\": \"#283442\", \"linecolor\": \"#506784\", \"ticks\": \"\", \"title\": {\"standoff\": 15}, \"zerolinecolor\": \"#283442\", \"zerolinewidth\": 2}, \"yaxis\": {\"automargin\": true, \"gridcolor\": \"#283442\", \"linecolor\": \"#506784\", \"ticks\": \"\", \"title\": {\"standoff\": 15}, \"zerolinecolor\": \"#283442\", \"zerolinewidth\": 2}}}, \"title\": {\"text\": \"Sentiment over Days\"}, \"xaxis\": {\"tickangle\": -45, \"title\": {\"text\": \"Days\"}}, \"yaxis\": {\"showgrid\": false, \"showticklabels\": true, \"title\": {\"text\": \"Number of Tweets\"}, \"visible\": true}},                        {\"responsive\": true}                    ).then(function(){\n",
       "                            \n",
       "var gd = document.getElementById('9e9cb728-2c79-4592-8439-c2d9e710e678');\n",
       "var x = new MutationObserver(function (mutations, observer) {{\n",
       "        var display = window.getComputedStyle(gd).display;\n",
       "        if (!display || display === 'none') {{\n",
       "            console.log([gd, 'removed!']);\n",
       "            Plotly.purge(gd);\n",
       "            observer.disconnect();\n",
       "        }}\n",
       "}});\n",
       "\n",
       "// Listen for the removal of the full notebook cells\n",
       "var notebookContainer = gd.closest('#notebook-container');\n",
       "if (notebookContainer) {{\n",
       "    x.observe(notebookContainer, {childList: true});\n",
       "}}\n",
       "\n",
       "// Listen for the clearing of the current output cell\n",
       "var outputEl = gd.closest('.output');\n",
       "if (outputEl) {{\n",
       "    x.observe(outputEl, {childList: true});\n",
       "}}\n",
       "\n",
       "                        })                };                });            </script>        </div>"
      ]
     },
     "metadata": {},
     "output_type": "display_data"
    }
   ],
   "source": [
    "fig = go.Figure()\n",
    "fig.add_trace(go.Scatter(x=temp4.index, \n",
    "                         y=temp4.values,\n",
    "                         mode='lines',\n",
    "                         name='Positive Sentiment'\n",
    "                    ))\n",
    "\n",
    "fig.add_trace(go.Scatter(x=temp5.index, \n",
    "                         y=temp5.values,\n",
    "                         mode='lines',\n",
    "                         name='Negative Sentiment'\n",
    "                    ))\n",
    "\n",
    "fig.add_trace(go.Scatter(x=temp6.index, \n",
    "                         y=temp6.values,\n",
    "                         mode='lines',\n",
    "                         name='Neutral Sentiment'\n",
    "                    ))\n",
    "\n",
    "fig.update_layout(xaxis_tickangle=-45,\n",
    "                  font=dict(size=15),\n",
    "                  yaxis={'visible': True, 'showticklabels': True, 'showgrid': False},\n",
    "                  xaxis_title='Days',\n",
    "                  yaxis_title='Number of Tweets',\n",
    "                  template='plotly_dark', \n",
    "                  title='Sentiment over Days'\n",
    "                 )\n",
    "\n",
    "fig.update_layout(hovermode=\"x\")\n"
   ]
  },
  {
   "cell_type": "markdown",
   "metadata": {},
   "source": [
    "## Tweets Made by Huge Follower Handles"
   ]
  },
  {
   "cell_type": "code",
   "execution_count": 31,
   "metadata": {},
   "outputs": [],
   "source": [
    "celebrities = df.groupby('user_screen_name').max('user_followers_count').sort_values(by='user_followers_count', ascending=False)"
   ]
  },
  {
   "cell_type": "code",
   "execution_count": 32,
   "metadata": {},
   "outputs": [
    {
     "data": {
      "application/vnd.jupyter.widget-view+json": {
       "model_id": "f63a08c530174eb8bd7e9d8fd7abbe6b",
       "version_major": 2,
       "version_minor": 0
      },
      "text/plain": [
       "interactive(children=(IntSlider(value=10, description='Top', max=30), Output()), _dom_classes=('widget-interac…"
      ]
     },
     "metadata": {},
     "output_type": "display_data"
    }
   ],
   "source": [
    "def displayCelebrities(Top):\n",
    "\n",
    "    fig = px.bar(celebrities[:Top],\n",
    "                 x=celebrities[:Top].index,\n",
    "                 y='user_followers_count',\n",
    "                 color='user_followers_count',\n",
    "                 labels={'x':'Twitter Handle', 'user_followers_count': 'Followers'},\n",
    "                 template='plotly_dark',\n",
    "                 text='user_followers_count',\n",
    "                 color_continuous_scale='Rainbow',\n",
    "                )\n",
    "\n",
    "    fig.update_layout(xaxis_tickangle=-45,\n",
    "                      yaxis={'visible': False, 'showticklabels': False},\n",
    "                      font=dict(size=15),\n",
    "                     )\n",
    "    \n",
    "    fig.update_traces(showlegend=False)\n",
    "\n",
    "    fig.show();\n",
    "\n",
    "interact(displayCelebrities, Top=widgets.IntSlider(min=0, max=30, step=1, value=10));"
   ]
  },
  {
   "cell_type": "markdown",
   "metadata": {},
   "source": [
    "# Concluding Points (Summary)"
   ]
  },
  {
   "cell_type": "markdown",
   "metadata": {},
   "source": [
    "<div style = 'background-color: #504e4e; padding: 30px '>\n",
    "    <span style='font-size:18px;'>\n",
    "    This was the analysis from my side. I have tried to analyze every feature present in the dataset that can give meaningful insight. Here are some of the concluding points which can be inferred from the charts:\n",
    "<ol>\n",
    "<li>Mondays and Fridays were the most stressful days as there was less activity as compared to other days meaning that even if the work was done via homes, the working population was round the clock. This can be proved by the fact that the maximum of tweets was made on Saturdays!</li>\n",
    "<li>March's last one-week tweets were greater than April's 10 days. This implies that when a country-wide lockdown was imposed on the 24th Midnight, there was panic among people and it is evident from the number of tweets made this week.</li>\n",
    "<li>11:00 am was the peak time for the users followed by 10:00 am and 12 pm.</li>\n",
    "<li>#Corona was trending with #Coronavirus and #covid19. These are the obvious hashtags present in almost every tweet.</li>\n",
    "<li>Most of the tweets were made from the top metropolitan cities such as New Delhi, Mumbai, Kolkata.</li>\n",
    "<li>The most tagged person in tweets was the prime minister of India, Narendra Modi. People may want to show their concerns and problems directly with him. Arvind Kejriwal and Amit Shah also made it to the list</li>\n",
    "<li>Most of the people on Twitter positively took the lockdown and around 44% of tweets were positive.</li>\n",
    "<li>As the maximum number of tweets were made on Saturday, there was a slight peak in the number of negative tweets on Saturdays</li>\n",
    "    </span>\n",
    "    </div>"
   ]
  }
 ],
 "metadata": {
  "kernelspec": {
   "display_name": "Python 3",
   "language": "python",
   "name": "python3"
  },
  "language_info": {
   "codemirror_mode": {
    "name": "ipython",
    "version": 3
   },
   "file_extension": ".py",
   "mimetype": "text/x-python",
   "name": "python",
   "nbconvert_exporter": "python",
   "pygments_lexer": "ipython3",
   "version": "3.7.6"
  }
 },
 "nbformat": 4,
 "nbformat_minor": 4
}